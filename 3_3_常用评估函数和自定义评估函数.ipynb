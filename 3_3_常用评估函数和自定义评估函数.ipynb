{
 "cells": [
  {
   "cell_type": "code",
   "execution_count": 4,
   "metadata": {
    "ExecuteTime": {
     "end_time": "2021-02-19T07:36:17.683497Z",
     "start_time": "2021-02-19T07:36:17.673860Z"
    }
   },
   "outputs": [],
   "source": [
    "import tensorflow as tf\n",
    "import numpy as np\n",
    "# 查询系统可用的 GPU\n",
    "physical_devices = tf.config.experimental.list_physical_devices('GPU')\n",
    "# 确保有可用的 GPU 如果没有, 则会报错\n",
    "assert len(physical_devices) > 0, \"Not enough GPU hardware devices available\"\n",
    "# 设置参数,该段务必在运行jupyter的第一段代码执行，否则会无法初始化成功\n",
    "# 仅在需要时申请显存空间（程序初始运行时消耗很少的显存，随着程序的运行而动态申请显存）\n",
    "tf.config.experimental.set_memory_growth(physical_devices[0], True)"
   ]
  },
  {
   "cell_type": "markdown",
   "metadata": {},
   "source": [
    "### 常用评估函数\n",
    "- 回归\n",
    "- 分类"
   ]
  },
  {
   "cell_type": "markdown",
   "metadata": {},
   "source": [
    "tf.keras.metrics 是统一接口，同样有两种实现方式，一种是类，一种是函数\n",
    "- tf.keras.metrics.BinaryAccuracy 类的实现\n",
    "- tf.keras.metrics.binary_accuracy 函数实现"
   ]
  },
  {
   "cell_type": "markdown",
   "metadata": {},
   "source": [
    "#### 用于回归类的评估函数\n",
    " - tf.keras.metrics.MeanSquaredError (平方差误差，用于回归，可以简写为MSE，函数形式为mse)\n",
    " - tf.keras.metrics.MeanAbsoluteError(绝对值误差，用于回归，可以简写为MAE，函数形式为mae)\n",
    " - tf.keras.metrics.MeanAbsolutePercentageError(平均百分比误差，用于回归，可以简写为MAPE，函数形式为mape)\n",
    " - tf.keras.metrics.RootMeanSquaredError(均方根误差，用于回归)"
   ]
  },
  {
   "cell_type": "markdown",
   "metadata": {},
   "source": [
    "#### 用于分类的评估函数\n",
    "- tf.keras.metrics.Accuracy(准确率，用于分类，Accuracy = （TP+TN)/all，要求真实值和预测值都是类别序号编码\n",
    "- tf.keras.metrics.AUC(用于二分类，直观解释是，随机抽取一个正样本和一个负样本，正样本的预测值大于负样本的概率)\n",
    "- tf.keras.metrics.Precision(查准率)\n",
    "- tf.keras.metrics.Recall(召回率)\n",
    "- tf.keras.metrics.TopCategoricalAccruacy(多分类的TopK准确率，要求y_true为onehot编码格式)"
   ]
  },
  {
   "cell_type": "markdown",
   "metadata": {},
   "source": [
    "##### tf.keras.metrics.CategoricalAccuracy 分类准确率\n",
    "- 与Accruacy含义相同，要求y_true（label)为one_hot编码格式"
   ]
  },
  {
   "cell_type": "code",
   "execution_count": null,
   "metadata": {
    "ExecuteTime": {
     "start_time": "2021-02-19T07:34:53.370Z"
    },
    "tags": []
   },
   "outputs": [],
   "source": [
    "y_true= tf.constant([0,1,2,3,4,5,3])\n",
    "y_pred= tf.random.uniform(shape = (7,6))\n",
    "acc = tf.keras.metrics.SparseCategoricalAccuracy()\n",
    "acc.update_state(y_true,y_pred)\n",
    "tf.print(acc.result().numpy())\n",
    "acc.reset_states()"
   ]
  },
  {
   "cell_type": "code",
   "execution_count": 4,
   "metadata": {
    "ExecuteTime": {
     "end_time": "2021-02-19T07:35:25.957099Z",
     "start_time": "2021-02-19T07:35:25.768861Z"
    }
   },
   "outputs": [
    {
     "ename": "NameError",
     "evalue": "name 'y_pred' is not defined",
     "output_type": "error",
     "traceback": [
      "\u001b[0;31m---------------------------------------------------------------------------\u001b[0m",
      "\u001b[0;31mNameError\u001b[0m                                 Traceback (most recent call last)",
      "\u001b[0;32m<ipython-input-4-3aaf935e6aec>\u001b[0m in \u001b[0;36m<module>\u001b[0;34m\u001b[0m\n\u001b[0;32m----> 1\u001b[0;31m \u001b[0my_pred\u001b[0m\u001b[0;34m\u001b[0m\u001b[0;34m\u001b[0m\u001b[0m\n\u001b[0m",
      "\u001b[0;31mNameError\u001b[0m: name 'y_pred' is not defined"
     ]
    }
   ],
   "source": [
    "y_pred"
   ]
  },
  {
   "cell_type": "markdown",
   "metadata": {},
   "source": [
    "##### tf.keras.metrics.SparseCategoricalAccuracy 稀疏分类准确率\n",
    "- 与Accuracy含义相同，要求y_true(label)为序号编码形式"
   ]
  },
  {
   "cell_type": "code",
   "execution_count": null,
   "metadata": {
    "ExecuteTime": {
     "start_time": "2021-02-19T07:35:23.688Z"
    },
    "tags": []
   },
   "outputs": [],
   "source": [
    "y_true= tf.constant([0,1,2,3,4,5,3])\n",
    "y_pred= tf.random.uniform(shape = (7,6))\n",
    "y_true = tf.one_hot(y_true,depth = 6, dtype = tf.int32)\n",
    "acc = tf.keras.metrics.CategoricalAccuracy()\n",
    "acc.update_state(y_true,y_pred)\n",
    "tf.print(acc.result().numpy())\n",
    "acc.reset_states()"
   ]
  },
  {
   "cell_type": "markdown",
   "metadata": {},
   "source": [
    "##### 评估函数试用原理——案例"
   ]
  },
  {
   "cell_type": "code",
   "execution_count": 5,
   "metadata": {
    "ExecuteTime": {
     "end_time": "2021-02-19T07:36:25.113251Z",
     "start_time": "2021-02-19T07:36:25.054014Z"
    }
   },
   "outputs": [
    {
     "ename": "InvalidArgumentError",
     "evalue": "assertion failed: [0] [Op:Assert] name: EagerVariableNameReuse",
     "output_type": "error",
     "traceback": [
      "\u001b[0;31m---------------------------------------------------------------------------\u001b[0m",
      "\u001b[0;31mInvalidArgumentError\u001b[0m                      Traceback (most recent call last)",
      "\u001b[0;32m<ipython-input-5-4051bf3dd6fd>\u001b[0m in \u001b[0;36m<module>\u001b[0;34m\u001b[0m\n\u001b[0;32m----> 1\u001b[0;31m \u001b[0mm\u001b[0m \u001b[0;34m=\u001b[0m \u001b[0mtf\u001b[0m\u001b[0;34m.\u001b[0m\u001b[0mkeras\u001b[0m\u001b[0;34m.\u001b[0m\u001b[0mmetrics\u001b[0m\u001b[0;34m.\u001b[0m\u001b[0mAccuracy\u001b[0m\u001b[0;34m(\u001b[0m\u001b[0;34m)\u001b[0m\u001b[0;34m\u001b[0m\u001b[0;34m\u001b[0m\u001b[0m\n\u001b[0m\u001b[1;32m      2\u001b[0m \u001b[0mm\u001b[0m\u001b[0;34m.\u001b[0m\u001b[0mupdate_state\u001b[0m\u001b[0;34m(\u001b[0m\u001b[0;34m[\u001b[0m\u001b[0;36m1\u001b[0m\u001b[0;34m,\u001b[0m\u001b[0;36m2\u001b[0m\u001b[0;34m,\u001b[0m\u001b[0;36m3\u001b[0m\u001b[0;34m,\u001b[0m\u001b[0;36m4\u001b[0m\u001b[0;34m]\u001b[0m\u001b[0;34m,\u001b[0m\u001b[0;34m[\u001b[0m\u001b[0;36m0\u001b[0m\u001b[0;34m,\u001b[0m\u001b[0;36m2\u001b[0m\u001b[0;34m,\u001b[0m\u001b[0;36m3\u001b[0m\u001b[0;34m,\u001b[0m\u001b[0;36m4\u001b[0m\u001b[0;34m]\u001b[0m\u001b[0;34m)\u001b[0m\u001b[0;34m\u001b[0m\u001b[0;34m\u001b[0m\u001b[0m\n",
      "\u001b[0;32m~/.local/lib/python3.8/site-packages/tensorflow/python/keras/metrics.py\u001b[0m in \u001b[0;36m__init__\u001b[0;34m(self, name, dtype)\u001b[0m\n\u001b[1;32m    663\u001b[0m \u001b[0;34m\u001b[0m\u001b[0m\n\u001b[1;32m    664\u001b[0m   \u001b[0;32mdef\u001b[0m \u001b[0m__init__\u001b[0m\u001b[0;34m(\u001b[0m\u001b[0mself\u001b[0m\u001b[0;34m,\u001b[0m \u001b[0mname\u001b[0m\u001b[0;34m=\u001b[0m\u001b[0;34m'accuracy'\u001b[0m\u001b[0;34m,\u001b[0m \u001b[0mdtype\u001b[0m\u001b[0;34m=\u001b[0m\u001b[0;32mNone\u001b[0m\u001b[0;34m)\u001b[0m\u001b[0;34m:\u001b[0m\u001b[0;34m\u001b[0m\u001b[0;34m\u001b[0m\u001b[0m\n\u001b[0;32m--> 665\u001b[0;31m     \u001b[0msuper\u001b[0m\u001b[0;34m(\u001b[0m\u001b[0mAccuracy\u001b[0m\u001b[0;34m,\u001b[0m \u001b[0mself\u001b[0m\u001b[0;34m)\u001b[0m\u001b[0;34m.\u001b[0m\u001b[0m__init__\u001b[0m\u001b[0;34m(\u001b[0m\u001b[0maccuracy\u001b[0m\u001b[0;34m,\u001b[0m \u001b[0mname\u001b[0m\u001b[0;34m,\u001b[0m \u001b[0mdtype\u001b[0m\u001b[0;34m=\u001b[0m\u001b[0mdtype\u001b[0m\u001b[0;34m)\u001b[0m\u001b[0;34m\u001b[0m\u001b[0;34m\u001b[0m\u001b[0m\n\u001b[0m\u001b[1;32m    666\u001b[0m \u001b[0;34m\u001b[0m\u001b[0m\n\u001b[1;32m    667\u001b[0m \u001b[0;34m\u001b[0m\u001b[0m\n",
      "\u001b[0;32m~/.local/lib/python3.8/site-packages/tensorflow/python/keras/metrics.py\u001b[0m in \u001b[0;36m__init__\u001b[0;34m(self, fn, name, dtype, **kwargs)\u001b[0m\n\u001b[1;32m    568\u001b[0m       \u001b[0;34m**\u001b[0m\u001b[0mkwargs\u001b[0m\u001b[0;34m:\u001b[0m \u001b[0mThe\u001b[0m \u001b[0mkeyword\u001b[0m \u001b[0marguments\u001b[0m \u001b[0mthat\u001b[0m \u001b[0mare\u001b[0m \u001b[0mpassed\u001b[0m \u001b[0mon\u001b[0m \u001b[0mto\u001b[0m\u001b[0;31m \u001b[0m\u001b[0;31m`\u001b[0m\u001b[0mfn\u001b[0m\u001b[0;31m`\u001b[0m\u001b[0;34m.\u001b[0m\u001b[0;34m\u001b[0m\u001b[0;34m\u001b[0m\u001b[0m\n\u001b[1;32m    569\u001b[0m     \"\"\"\n\u001b[0;32m--> 570\u001b[0;31m     \u001b[0msuper\u001b[0m\u001b[0;34m(\u001b[0m\u001b[0mMeanMetricWrapper\u001b[0m\u001b[0;34m,\u001b[0m \u001b[0mself\u001b[0m\u001b[0;34m)\u001b[0m\u001b[0;34m.\u001b[0m\u001b[0m__init__\u001b[0m\u001b[0;34m(\u001b[0m\u001b[0mname\u001b[0m\u001b[0;34m=\u001b[0m\u001b[0mname\u001b[0m\u001b[0;34m,\u001b[0m \u001b[0mdtype\u001b[0m\u001b[0;34m=\u001b[0m\u001b[0mdtype\u001b[0m\u001b[0;34m)\u001b[0m\u001b[0;34m\u001b[0m\u001b[0;34m\u001b[0m\u001b[0m\n\u001b[0m\u001b[1;32m    571\u001b[0m     \u001b[0mself\u001b[0m\u001b[0;34m.\u001b[0m\u001b[0m_fn\u001b[0m \u001b[0;34m=\u001b[0m \u001b[0mfn\u001b[0m\u001b[0;34m\u001b[0m\u001b[0;34m\u001b[0m\u001b[0m\n\u001b[1;32m    572\u001b[0m     \u001b[0mself\u001b[0m\u001b[0;34m.\u001b[0m\u001b[0m_fn_kwargs\u001b[0m \u001b[0;34m=\u001b[0m \u001b[0mkwargs\u001b[0m\u001b[0;34m\u001b[0m\u001b[0;34m\u001b[0m\u001b[0m\n",
      "\u001b[0;32m~/.local/lib/python3.8/site-packages/tensorflow/python/keras/metrics.py\u001b[0m in \u001b[0;36m__init__\u001b[0;34m(self, name, dtype)\u001b[0m\n\u001b[1;32m    468\u001b[0m       \u001b[0mdtype\u001b[0m\u001b[0;34m:\u001b[0m \u001b[0;34m(\u001b[0m\u001b[0mOptional\u001b[0m\u001b[0;34m)\u001b[0m \u001b[0mdata\u001b[0m \u001b[0mtype\u001b[0m \u001b[0mof\u001b[0m \u001b[0mthe\u001b[0m \u001b[0mmetric\u001b[0m \u001b[0mresult\u001b[0m\u001b[0;34m.\u001b[0m\u001b[0;34m\u001b[0m\u001b[0;34m\u001b[0m\u001b[0m\n\u001b[1;32m    469\u001b[0m     \"\"\"\n\u001b[0;32m--> 470\u001b[0;31m     super(Mean, self).__init__(\n\u001b[0m\u001b[1;32m    471\u001b[0m         reduction=metrics_utils.Reduction.WEIGHTED_MEAN, name=name, dtype=dtype)\n\u001b[1;32m    472\u001b[0m \u001b[0;34m\u001b[0m\u001b[0m\n",
      "\u001b[0;32m~/.local/lib/python3.8/site-packages/tensorflow/python/keras/metrics.py\u001b[0m in \u001b[0;36m__init__\u001b[0;34m(self, reduction, name, dtype)\u001b[0m\n\u001b[1;32m    305\u001b[0m     \u001b[0mself\u001b[0m\u001b[0;34m.\u001b[0m\u001b[0mreduction\u001b[0m \u001b[0;34m=\u001b[0m \u001b[0mreduction\u001b[0m\u001b[0;34m\u001b[0m\u001b[0;34m\u001b[0m\u001b[0m\n\u001b[1;32m    306\u001b[0m     \u001b[0;32mwith\u001b[0m \u001b[0mops\u001b[0m\u001b[0;34m.\u001b[0m\u001b[0minit_scope\u001b[0m\u001b[0;34m(\u001b[0m\u001b[0;34m)\u001b[0m\u001b[0;34m:\u001b[0m\u001b[0;34m\u001b[0m\u001b[0;34m\u001b[0m\u001b[0m\n\u001b[0;32m--> 307\u001b[0;31m       self.total = self.add_weight(\n\u001b[0m\u001b[1;32m    308\u001b[0m           'total', initializer=init_ops.zeros_initializer)\n\u001b[1;32m    309\u001b[0m       if reduction in [metrics_utils.Reduction.SUM_OVER_BATCH_SIZE,\n",
      "\u001b[0;32m~/.local/lib/python3.8/site-packages/tensorflow/python/keras/metrics.py\u001b[0m in \u001b[0;36madd_weight\u001b[0;34m(self, name, shape, aggregation, synchronization, initializer, dtype)\u001b[0m\n\u001b[1;32m    274\u001b[0m       \u001b[0msynchronization\u001b[0m \u001b[0;34m=\u001b[0m \u001b[0mtf_variables\u001b[0m\u001b[0;34m.\u001b[0m\u001b[0mVariableSynchronization\u001b[0m\u001b[0;34m.\u001b[0m\u001b[0mON_WRITE\u001b[0m\u001b[0;34m\u001b[0m\u001b[0;34m\u001b[0m\u001b[0m\n\u001b[1;32m    275\u001b[0m \u001b[0;34m\u001b[0m\u001b[0m\n\u001b[0;32m--> 276\u001b[0;31m     return super(Metric, self).add_weight(\n\u001b[0m\u001b[1;32m    277\u001b[0m         \u001b[0mname\u001b[0m\u001b[0;34m=\u001b[0m\u001b[0mname\u001b[0m\u001b[0;34m,\u001b[0m\u001b[0;34m\u001b[0m\u001b[0;34m\u001b[0m\u001b[0m\n\u001b[1;32m    278\u001b[0m         \u001b[0mshape\u001b[0m\u001b[0;34m=\u001b[0m\u001b[0mshape\u001b[0m\u001b[0;34m,\u001b[0m\u001b[0;34m\u001b[0m\u001b[0;34m\u001b[0m\u001b[0m\n",
      "\u001b[0;32m~/.local/lib/python3.8/site-packages/tensorflow/python/keras/engine/base_layer.py\u001b[0m in \u001b[0;36madd_weight\u001b[0;34m(self, name, shape, dtype, initializer, regularizer, trainable, constraint, partitioner, use_resource, synchronization, aggregation, **kwargs)\u001b[0m\n\u001b[1;32m    558\u001b[0m         \u001b[0mcaching_device\u001b[0m \u001b[0;34m=\u001b[0m \u001b[0;32mNone\u001b[0m\u001b[0;34m\u001b[0m\u001b[0;34m\u001b[0m\u001b[0m\n\u001b[1;32m    559\u001b[0m \u001b[0;34m\u001b[0m\u001b[0m\n\u001b[0;32m--> 560\u001b[0;31m     variable = self._add_variable_with_custom_getter(\n\u001b[0m\u001b[1;32m    561\u001b[0m         \u001b[0mname\u001b[0m\u001b[0;34m=\u001b[0m\u001b[0mname\u001b[0m\u001b[0;34m,\u001b[0m\u001b[0;34m\u001b[0m\u001b[0;34m\u001b[0m\u001b[0m\n\u001b[1;32m    562\u001b[0m         \u001b[0mshape\u001b[0m\u001b[0;34m=\u001b[0m\u001b[0mshape\u001b[0m\u001b[0;34m,\u001b[0m\u001b[0;34m\u001b[0m\u001b[0;34m\u001b[0m\u001b[0m\n",
      "\u001b[0;32m~/.local/lib/python3.8/site-packages/tensorflow/python/training/tracking/base.py\u001b[0m in \u001b[0;36m_add_variable_with_custom_getter\u001b[0;34m(self, name, shape, dtype, initializer, getter, overwrite, **kwargs_for_getter)\u001b[0m\n\u001b[1;32m    736\u001b[0m         \u001b[0minitializer\u001b[0m \u001b[0;34m=\u001b[0m \u001b[0mcheckpoint_initializer\u001b[0m\u001b[0;34m\u001b[0m\u001b[0;34m\u001b[0m\u001b[0m\n\u001b[1;32m    737\u001b[0m         \u001b[0mshape\u001b[0m \u001b[0;34m=\u001b[0m \u001b[0;32mNone\u001b[0m\u001b[0;34m\u001b[0m\u001b[0;34m\u001b[0m\u001b[0m\n\u001b[0;32m--> 738\u001b[0;31m     new_variable = getter(\n\u001b[0m\u001b[1;32m    739\u001b[0m         \u001b[0mname\u001b[0m\u001b[0;34m=\u001b[0m\u001b[0mname\u001b[0m\u001b[0;34m,\u001b[0m\u001b[0;34m\u001b[0m\u001b[0;34m\u001b[0m\u001b[0m\n\u001b[1;32m    740\u001b[0m         \u001b[0mshape\u001b[0m\u001b[0;34m=\u001b[0m\u001b[0mshape\u001b[0m\u001b[0;34m,\u001b[0m\u001b[0;34m\u001b[0m\u001b[0;34m\u001b[0m\u001b[0m\n",
      "\u001b[0;32m~/.local/lib/python3.8/site-packages/tensorflow/python/keras/engine/base_layer_utils.py\u001b[0m in \u001b[0;36mmake_variable\u001b[0;34m(name, shape, dtype, initializer, trainable, caching_device, validate_shape, constraint, use_resource, collections, synchronization, aggregation, partitioner)\u001b[0m\n\u001b[1;32m    127\u001b[0m   \u001b[0;31m# can remove the V1.\u001b[0m\u001b[0;34m\u001b[0m\u001b[0;34m\u001b[0m\u001b[0;34m\u001b[0m\u001b[0m\n\u001b[1;32m    128\u001b[0m   \u001b[0mvariable_shape\u001b[0m \u001b[0;34m=\u001b[0m \u001b[0mtensor_shape\u001b[0m\u001b[0;34m.\u001b[0m\u001b[0mTensorShape\u001b[0m\u001b[0;34m(\u001b[0m\u001b[0mshape\u001b[0m\u001b[0;34m)\u001b[0m\u001b[0;34m\u001b[0m\u001b[0;34m\u001b[0m\u001b[0m\n\u001b[0;32m--> 129\u001b[0;31m   return tf_variables.VariableV1(\n\u001b[0m\u001b[1;32m    130\u001b[0m       \u001b[0minitial_value\u001b[0m\u001b[0;34m=\u001b[0m\u001b[0minit_val\u001b[0m\u001b[0;34m,\u001b[0m\u001b[0;34m\u001b[0m\u001b[0;34m\u001b[0m\u001b[0m\n\u001b[1;32m    131\u001b[0m       \u001b[0mname\u001b[0m\u001b[0;34m=\u001b[0m\u001b[0mname\u001b[0m\u001b[0;34m,\u001b[0m\u001b[0;34m\u001b[0m\u001b[0;34m\u001b[0m\u001b[0m\n",
      "\u001b[0;32m~/.local/lib/python3.8/site-packages/tensorflow/python/ops/variables.py\u001b[0m in \u001b[0;36m__call__\u001b[0;34m(cls, *args, **kwargs)\u001b[0m\n\u001b[1;32m    257\u001b[0m   \u001b[0;32mdef\u001b[0m \u001b[0m__call__\u001b[0m\u001b[0;34m(\u001b[0m\u001b[0mcls\u001b[0m\u001b[0;34m,\u001b[0m \u001b[0;34m*\u001b[0m\u001b[0margs\u001b[0m\u001b[0;34m,\u001b[0m \u001b[0;34m**\u001b[0m\u001b[0mkwargs\u001b[0m\u001b[0;34m)\u001b[0m\u001b[0;34m:\u001b[0m\u001b[0;34m\u001b[0m\u001b[0;34m\u001b[0m\u001b[0m\n\u001b[1;32m    258\u001b[0m     \u001b[0;32mif\u001b[0m \u001b[0mcls\u001b[0m \u001b[0;32mis\u001b[0m \u001b[0mVariableV1\u001b[0m\u001b[0;34m:\u001b[0m\u001b[0;34m\u001b[0m\u001b[0;34m\u001b[0m\u001b[0m\n\u001b[0;32m--> 259\u001b[0;31m       \u001b[0;32mreturn\u001b[0m \u001b[0mcls\u001b[0m\u001b[0;34m.\u001b[0m\u001b[0m_variable_v1_call\u001b[0m\u001b[0;34m(\u001b[0m\u001b[0;34m*\u001b[0m\u001b[0margs\u001b[0m\u001b[0;34m,\u001b[0m \u001b[0;34m**\u001b[0m\u001b[0mkwargs\u001b[0m\u001b[0;34m)\u001b[0m\u001b[0;34m\u001b[0m\u001b[0;34m\u001b[0m\u001b[0m\n\u001b[0m\u001b[1;32m    260\u001b[0m     \u001b[0;32melif\u001b[0m \u001b[0mcls\u001b[0m \u001b[0;32mis\u001b[0m \u001b[0mVariable\u001b[0m\u001b[0;34m:\u001b[0m\u001b[0;34m\u001b[0m\u001b[0;34m\u001b[0m\u001b[0m\n\u001b[1;32m    261\u001b[0m       \u001b[0;32mreturn\u001b[0m \u001b[0mcls\u001b[0m\u001b[0;34m.\u001b[0m\u001b[0m_variable_v2_call\u001b[0m\u001b[0;34m(\u001b[0m\u001b[0;34m*\u001b[0m\u001b[0margs\u001b[0m\u001b[0;34m,\u001b[0m \u001b[0;34m**\u001b[0m\u001b[0mkwargs\u001b[0m\u001b[0;34m)\u001b[0m\u001b[0;34m\u001b[0m\u001b[0;34m\u001b[0m\u001b[0m\n",
      "\u001b[0;32m~/.local/lib/python3.8/site-packages/tensorflow/python/ops/variables.py\u001b[0m in \u001b[0;36m_variable_v1_call\u001b[0;34m(cls, initial_value, trainable, collections, validate_shape, caching_device, name, variable_def, dtype, expected_shape, import_scope, constraint, use_resource, synchronization, aggregation, shape)\u001b[0m\n\u001b[1;32m    203\u001b[0m     \u001b[0;32mif\u001b[0m \u001b[0maggregation\u001b[0m \u001b[0;32mis\u001b[0m \u001b[0;32mNone\u001b[0m\u001b[0;34m:\u001b[0m\u001b[0;34m\u001b[0m\u001b[0;34m\u001b[0m\u001b[0m\n\u001b[1;32m    204\u001b[0m       \u001b[0maggregation\u001b[0m \u001b[0;34m=\u001b[0m \u001b[0mVariableAggregation\u001b[0m\u001b[0;34m.\u001b[0m\u001b[0mNONE\u001b[0m\u001b[0;34m\u001b[0m\u001b[0;34m\u001b[0m\u001b[0m\n\u001b[0;32m--> 205\u001b[0;31m     return previous_getter(\n\u001b[0m\u001b[1;32m    206\u001b[0m         \u001b[0minitial_value\u001b[0m\u001b[0;34m=\u001b[0m\u001b[0minitial_value\u001b[0m\u001b[0;34m,\u001b[0m\u001b[0;34m\u001b[0m\u001b[0;34m\u001b[0m\u001b[0m\n\u001b[1;32m    207\u001b[0m         \u001b[0mtrainable\u001b[0m\u001b[0;34m=\u001b[0m\u001b[0mtrainable\u001b[0m\u001b[0;34m,\u001b[0m\u001b[0;34m\u001b[0m\u001b[0;34m\u001b[0m\u001b[0m\n",
      "\u001b[0;32m~/.local/lib/python3.8/site-packages/tensorflow/python/ops/variables.py\u001b[0m in \u001b[0;36m<lambda>\u001b[0;34m(**kwargs)\u001b[0m\n\u001b[1;32m    196\u001b[0m                         shape=None):\n\u001b[1;32m    197\u001b[0m     \u001b[0;34m\"\"\"Call on Variable class. Useful to force the signature.\"\"\"\u001b[0m\u001b[0;34m\u001b[0m\u001b[0;34m\u001b[0m\u001b[0m\n\u001b[0;32m--> 198\u001b[0;31m     \u001b[0mprevious_getter\u001b[0m \u001b[0;34m=\u001b[0m \u001b[0;32mlambda\u001b[0m \u001b[0;34m**\u001b[0m\u001b[0mkwargs\u001b[0m\u001b[0;34m:\u001b[0m \u001b[0mdefault_variable_creator\u001b[0m\u001b[0;34m(\u001b[0m\u001b[0;32mNone\u001b[0m\u001b[0;34m,\u001b[0m \u001b[0;34m**\u001b[0m\u001b[0mkwargs\u001b[0m\u001b[0;34m)\u001b[0m\u001b[0;34m\u001b[0m\u001b[0;34m\u001b[0m\u001b[0m\n\u001b[0m\u001b[1;32m    199\u001b[0m     \u001b[0;32mfor\u001b[0m \u001b[0m_\u001b[0m\u001b[0;34m,\u001b[0m \u001b[0mgetter\u001b[0m \u001b[0;32min\u001b[0m \u001b[0mops\u001b[0m\u001b[0;34m.\u001b[0m\u001b[0mget_default_graph\u001b[0m\u001b[0;34m(\u001b[0m\u001b[0;34m)\u001b[0m\u001b[0;34m.\u001b[0m\u001b[0m_variable_creator_stack\u001b[0m\u001b[0;34m:\u001b[0m  \u001b[0;31m# pylint: disable=protected-access\u001b[0m\u001b[0;34m\u001b[0m\u001b[0;34m\u001b[0m\u001b[0m\n\u001b[1;32m    200\u001b[0m       \u001b[0mprevious_getter\u001b[0m \u001b[0;34m=\u001b[0m \u001b[0m_make_getter\u001b[0m\u001b[0;34m(\u001b[0m\u001b[0mgetter\u001b[0m\u001b[0;34m,\u001b[0m \u001b[0mprevious_getter\u001b[0m\u001b[0;34m)\u001b[0m\u001b[0;34m\u001b[0m\u001b[0;34m\u001b[0m\u001b[0m\n",
      "\u001b[0;32m~/.local/lib/python3.8/site-packages/tensorflow/python/ops/variable_scope.py\u001b[0m in \u001b[0;36mdefault_variable_creator\u001b[0;34m(next_creator, **kwargs)\u001b[0m\n\u001b[1;32m   2582\u001b[0m   \u001b[0;32mif\u001b[0m \u001b[0muse_resource\u001b[0m\u001b[0;34m:\u001b[0m\u001b[0;34m\u001b[0m\u001b[0;34m\u001b[0m\u001b[0m\n\u001b[1;32m   2583\u001b[0m     \u001b[0mdistribute_strategy\u001b[0m \u001b[0;34m=\u001b[0m \u001b[0mkwargs\u001b[0m\u001b[0;34m.\u001b[0m\u001b[0mget\u001b[0m\u001b[0;34m(\u001b[0m\u001b[0;34m\"distribute_strategy\"\u001b[0m\u001b[0;34m,\u001b[0m \u001b[0;32mNone\u001b[0m\u001b[0;34m)\u001b[0m\u001b[0;34m\u001b[0m\u001b[0;34m\u001b[0m\u001b[0m\n\u001b[0;32m-> 2584\u001b[0;31m     return resource_variable_ops.ResourceVariable(\n\u001b[0m\u001b[1;32m   2585\u001b[0m         \u001b[0minitial_value\u001b[0m\u001b[0;34m=\u001b[0m\u001b[0minitial_value\u001b[0m\u001b[0;34m,\u001b[0m\u001b[0;34m\u001b[0m\u001b[0;34m\u001b[0m\u001b[0m\n\u001b[1;32m   2586\u001b[0m         \u001b[0mtrainable\u001b[0m\u001b[0;34m=\u001b[0m\u001b[0mtrainable\u001b[0m\u001b[0;34m,\u001b[0m\u001b[0;34m\u001b[0m\u001b[0;34m\u001b[0m\u001b[0m\n",
      "\u001b[0;32m~/.local/lib/python3.8/site-packages/tensorflow/python/ops/variables.py\u001b[0m in \u001b[0;36m__call__\u001b[0;34m(cls, *args, **kwargs)\u001b[0m\n\u001b[1;32m    261\u001b[0m       \u001b[0;32mreturn\u001b[0m \u001b[0mcls\u001b[0m\u001b[0;34m.\u001b[0m\u001b[0m_variable_v2_call\u001b[0m\u001b[0;34m(\u001b[0m\u001b[0;34m*\u001b[0m\u001b[0margs\u001b[0m\u001b[0;34m,\u001b[0m \u001b[0;34m**\u001b[0m\u001b[0mkwargs\u001b[0m\u001b[0;34m)\u001b[0m\u001b[0;34m\u001b[0m\u001b[0;34m\u001b[0m\u001b[0m\n\u001b[1;32m    262\u001b[0m     \u001b[0;32melse\u001b[0m\u001b[0;34m:\u001b[0m\u001b[0;34m\u001b[0m\u001b[0;34m\u001b[0m\u001b[0m\n\u001b[0;32m--> 263\u001b[0;31m       \u001b[0;32mreturn\u001b[0m \u001b[0msuper\u001b[0m\u001b[0;34m(\u001b[0m\u001b[0mVariableMetaclass\u001b[0m\u001b[0;34m,\u001b[0m \u001b[0mcls\u001b[0m\u001b[0;34m)\u001b[0m\u001b[0;34m.\u001b[0m\u001b[0m__call__\u001b[0m\u001b[0;34m(\u001b[0m\u001b[0;34m*\u001b[0m\u001b[0margs\u001b[0m\u001b[0;34m,\u001b[0m \u001b[0;34m**\u001b[0m\u001b[0mkwargs\u001b[0m\u001b[0;34m)\u001b[0m\u001b[0;34m\u001b[0m\u001b[0;34m\u001b[0m\u001b[0m\n\u001b[0m\u001b[1;32m    264\u001b[0m \u001b[0;34m\u001b[0m\u001b[0m\n\u001b[1;32m    265\u001b[0m \u001b[0;34m\u001b[0m\u001b[0m\n",
      "\u001b[0;32m~/.local/lib/python3.8/site-packages/tensorflow/python/ops/resource_variable_ops.py\u001b[0m in \u001b[0;36m__init__\u001b[0;34m(self, initial_value, trainable, collections, validate_shape, caching_device, name, dtype, variable_def, import_scope, constraint, distribute_strategy, synchronization, aggregation, shape)\u001b[0m\n\u001b[1;32m   1421\u001b[0m       \u001b[0mself\u001b[0m\u001b[0;34m.\u001b[0m\u001b[0m_init_from_proto\u001b[0m\u001b[0;34m(\u001b[0m\u001b[0mvariable_def\u001b[0m\u001b[0;34m,\u001b[0m \u001b[0mimport_scope\u001b[0m\u001b[0;34m=\u001b[0m\u001b[0mimport_scope\u001b[0m\u001b[0;34m)\u001b[0m\u001b[0;34m\u001b[0m\u001b[0;34m\u001b[0m\u001b[0m\n\u001b[1;32m   1422\u001b[0m     \u001b[0;32melse\u001b[0m\u001b[0;34m:\u001b[0m\u001b[0;34m\u001b[0m\u001b[0;34m\u001b[0m\u001b[0m\n\u001b[0;32m-> 1423\u001b[0;31m       self._init_from_args(\n\u001b[0m\u001b[1;32m   1424\u001b[0m           \u001b[0minitial_value\u001b[0m\u001b[0;34m=\u001b[0m\u001b[0minitial_value\u001b[0m\u001b[0;34m,\u001b[0m\u001b[0;34m\u001b[0m\u001b[0;34m\u001b[0m\u001b[0m\n\u001b[1;32m   1425\u001b[0m           \u001b[0mtrainable\u001b[0m\u001b[0;34m=\u001b[0m\u001b[0mtrainable\u001b[0m\u001b[0;34m,\u001b[0m\u001b[0;34m\u001b[0m\u001b[0;34m\u001b[0m\u001b[0m\n",
      "\u001b[0;32m~/.local/lib/python3.8/site-packages/tensorflow/python/ops/resource_variable_ops.py\u001b[0m in \u001b[0;36m_init_from_args\u001b[0;34m(self, initial_value, trainable, collections, caching_device, name, dtype, constraint, synchronization, aggregation, distribute_strategy, shape)\u001b[0m\n\u001b[1;32m   1575\u001b[0m           \u001b[0;32melse\u001b[0m\u001b[0;34m:\u001b[0m\u001b[0;34m\u001b[0m\u001b[0;34m\u001b[0m\u001b[0m\n\u001b[1;32m   1576\u001b[0m             \u001b[0mshape\u001b[0m \u001b[0;34m=\u001b[0m \u001b[0minitial_value\u001b[0m\u001b[0;34m.\u001b[0m\u001b[0mshape\u001b[0m\u001b[0;34m\u001b[0m\u001b[0;34m\u001b[0m\u001b[0m\n\u001b[0;32m-> 1577\u001b[0;31m           handle = eager_safe_variable_handle(\n\u001b[0m\u001b[1;32m   1578\u001b[0m               \u001b[0minitial_value\u001b[0m\u001b[0;34m=\u001b[0m\u001b[0minitial_value\u001b[0m\u001b[0;34m,\u001b[0m\u001b[0;34m\u001b[0m\u001b[0;34m\u001b[0m\u001b[0m\n\u001b[1;32m   1579\u001b[0m               \u001b[0mshape\u001b[0m\u001b[0;34m=\u001b[0m\u001b[0mshape\u001b[0m\u001b[0;34m,\u001b[0m\u001b[0;34m\u001b[0m\u001b[0;34m\u001b[0m\u001b[0m\n",
      "\u001b[0;32m~/.local/lib/python3.8/site-packages/tensorflow/python/ops/resource_variable_ops.py\u001b[0m in \u001b[0;36meager_safe_variable_handle\u001b[0;34m(initial_value, shape, shared_name, name, graph_mode)\u001b[0m\n\u001b[1;32m    240\u001b[0m   \"\"\"\n\u001b[1;32m    241\u001b[0m   \u001b[0mdtype\u001b[0m \u001b[0;34m=\u001b[0m \u001b[0minitial_value\u001b[0m\u001b[0;34m.\u001b[0m\u001b[0mdtype\u001b[0m\u001b[0;34m.\u001b[0m\u001b[0mbase_dtype\u001b[0m\u001b[0;34m\u001b[0m\u001b[0;34m\u001b[0m\u001b[0m\n\u001b[0;32m--> 242\u001b[0;31m   return _variable_handle_from_shape_and_dtype(\n\u001b[0m\u001b[1;32m    243\u001b[0m       shape, dtype, shared_name, name, graph_mode, initial_value)\n\u001b[1;32m    244\u001b[0m \u001b[0;34m\u001b[0m\u001b[0m\n",
      "\u001b[0;32m~/.local/lib/python3.8/site-packages/tensorflow/python/ops/resource_variable_ops.py\u001b[0m in \u001b[0;36m_variable_handle_from_shape_and_dtype\u001b[0;34m(shape, dtype, shared_name, name, graph_mode, initial_value)\u001b[0m\n\u001b[1;32m    172\u001b[0m     \u001b[0;31m# compatible with ASYNC execution mode. Further, since not all devices\u001b[0m\u001b[0;34m\u001b[0m\u001b[0;34m\u001b[0m\u001b[0;34m\u001b[0m\u001b[0m\n\u001b[1;32m    173\u001b[0m     \u001b[0;31m# support string tensors, we encode the assertion string in the Op name\u001b[0m\u001b[0;34m\u001b[0m\u001b[0;34m\u001b[0m\u001b[0;34m\u001b[0m\u001b[0m\n\u001b[0;32m--> 174\u001b[0;31m     gen_logging_ops._assert(  # pylint: disable=protected-access\n\u001b[0m\u001b[1;32m    175\u001b[0m         math_ops.logical_not(exists), [exists], name=\"EagerVariableNameReuse\")\n\u001b[1;32m    176\u001b[0m \u001b[0;34m\u001b[0m\u001b[0m\n",
      "\u001b[0;32m~/.local/lib/python3.8/site-packages/tensorflow/python/ops/gen_logging_ops.py\u001b[0m in \u001b[0;36m_assert\u001b[0;34m(condition, data, summarize, name)\u001b[0m\n\u001b[1;32m     53\u001b[0m         \u001b[0;32mpass\u001b[0m  \u001b[0;31m# Add nodes to the TensorFlow graph.\u001b[0m\u001b[0;34m\u001b[0m\u001b[0;34m\u001b[0m\u001b[0m\n\u001b[1;32m     54\u001b[0m     \u001b[0;32mexcept\u001b[0m \u001b[0m_core\u001b[0m\u001b[0;34m.\u001b[0m\u001b[0m_NotOkStatusException\u001b[0m \u001b[0;32mas\u001b[0m \u001b[0me\u001b[0m\u001b[0;34m:\u001b[0m\u001b[0;34m\u001b[0m\u001b[0;34m\u001b[0m\u001b[0m\n\u001b[0;32m---> 55\u001b[0;31m       \u001b[0m_ops\u001b[0m\u001b[0;34m.\u001b[0m\u001b[0mraise_from_not_ok_status\u001b[0m\u001b[0;34m(\u001b[0m\u001b[0me\u001b[0m\u001b[0;34m,\u001b[0m \u001b[0mname\u001b[0m\u001b[0;34m)\u001b[0m\u001b[0;34m\u001b[0m\u001b[0;34m\u001b[0m\u001b[0m\n\u001b[0m\u001b[1;32m     56\u001b[0m   \u001b[0;31m# Add nodes to the TensorFlow graph.\u001b[0m\u001b[0;34m\u001b[0m\u001b[0;34m\u001b[0m\u001b[0;34m\u001b[0m\u001b[0m\n\u001b[1;32m     57\u001b[0m   \u001b[0;32mif\u001b[0m \u001b[0msummarize\u001b[0m \u001b[0;32mis\u001b[0m \u001b[0;32mNone\u001b[0m\u001b[0;34m:\u001b[0m\u001b[0;34m\u001b[0m\u001b[0;34m\u001b[0m\u001b[0m\n",
      "\u001b[0;32m~/.local/lib/python3.8/site-packages/tensorflow/python/framework/ops.py\u001b[0m in \u001b[0;36mraise_from_not_ok_status\u001b[0;34m(e, name)\u001b[0m\n\u001b[1;32m   6651\u001b[0m   \u001b[0mmessage\u001b[0m \u001b[0;34m=\u001b[0m \u001b[0me\u001b[0m\u001b[0;34m.\u001b[0m\u001b[0mmessage\u001b[0m \u001b[0;34m+\u001b[0m \u001b[0;34m(\u001b[0m\u001b[0;34m\" name: \"\u001b[0m \u001b[0;34m+\u001b[0m \u001b[0mname\u001b[0m \u001b[0;32mif\u001b[0m \u001b[0mname\u001b[0m \u001b[0;32mis\u001b[0m \u001b[0;32mnot\u001b[0m \u001b[0;32mNone\u001b[0m \u001b[0;32melse\u001b[0m \u001b[0;34m\"\"\u001b[0m\u001b[0;34m)\u001b[0m\u001b[0;34m\u001b[0m\u001b[0;34m\u001b[0m\u001b[0m\n\u001b[1;32m   6652\u001b[0m   \u001b[0;31m# pylint: disable=protected-access\u001b[0m\u001b[0;34m\u001b[0m\u001b[0;34m\u001b[0m\u001b[0;34m\u001b[0m\u001b[0m\n\u001b[0;32m-> 6653\u001b[0;31m   \u001b[0msix\u001b[0m\u001b[0;34m.\u001b[0m\u001b[0mraise_from\u001b[0m\u001b[0;34m(\u001b[0m\u001b[0mcore\u001b[0m\u001b[0;34m.\u001b[0m\u001b[0m_status_to_exception\u001b[0m\u001b[0;34m(\u001b[0m\u001b[0me\u001b[0m\u001b[0;34m.\u001b[0m\u001b[0mcode\u001b[0m\u001b[0;34m,\u001b[0m \u001b[0mmessage\u001b[0m\u001b[0;34m)\u001b[0m\u001b[0;34m,\u001b[0m \u001b[0;32mNone\u001b[0m\u001b[0;34m)\u001b[0m\u001b[0;34m\u001b[0m\u001b[0;34m\u001b[0m\u001b[0m\n\u001b[0m\u001b[1;32m   6654\u001b[0m   \u001b[0;31m# pylint: enable=protected-access\u001b[0m\u001b[0;34m\u001b[0m\u001b[0;34m\u001b[0m\u001b[0;34m\u001b[0m\u001b[0m\n\u001b[1;32m   6655\u001b[0m \u001b[0;34m\u001b[0m\u001b[0m\n",
      "\u001b[0;32m/usr/local/lib/python3.8/site-packages/six.py\u001b[0m in \u001b[0;36mraise_from\u001b[0;34m(value, from_value)\u001b[0m\n",
      "\u001b[0;31mInvalidArgumentError\u001b[0m: assertion failed: [0] [Op:Assert] name: EagerVariableNameReuse"
     ]
    }
   ],
   "source": [
    "m = tf.keras.metrics.Accuracy()\n",
    "m.update_state([1,2,3,4],[0,2,3,4])"
   ]
  },
  {
   "cell_type": "code",
   "execution_count": 6,
   "metadata": {},
   "outputs": [],
   "source": [
    "#### tensor 也可以这样简写  m([1,2,3,4],[0,2,3,4])  "
   ]
  },
  {
   "cell_type": "code",
   "execution_count": 6,
   "metadata": {
    "ExecuteTime": {
     "end_time": "2021-02-19T07:36:33.695437Z",
     "start_time": "2021-02-19T07:36:33.675723Z"
    },
    "tags": []
   },
   "outputs": [
    {
     "ename": "NameError",
     "evalue": "name 'm' is not defined",
     "output_type": "error",
     "traceback": [
      "\u001b[0;31m---------------------------------------------------------------------------\u001b[0m",
      "\u001b[0;31mNameError\u001b[0m                                 Traceback (most recent call last)",
      "\u001b[0;32m<ipython-input-6-a9165f666c33>\u001b[0m in \u001b[0;36m<module>\u001b[0;34m\u001b[0m\n\u001b[0;32m----> 1\u001b[0;31m \u001b[0mprint\u001b[0m\u001b[0;34m(\u001b[0m\u001b[0;34m'final result:'\u001b[0m\u001b[0;34m,\u001b[0m\u001b[0mm\u001b[0m\u001b[0;34m.\u001b[0m\u001b[0mresult\u001b[0m\u001b[0;34m(\u001b[0m\u001b[0;34m)\u001b[0m\u001b[0;34m.\u001b[0m\u001b[0mnumpy\u001b[0m\u001b[0;34m(\u001b[0m\u001b[0;34m)\u001b[0m\u001b[0;34m)\u001b[0m\u001b[0;34m\u001b[0m\u001b[0;34m\u001b[0m\u001b[0m\n\u001b[0m",
      "\u001b[0;31mNameError\u001b[0m: name 'm' is not defined"
     ]
    }
   ],
   "source": [
    " print('final result:',m.result().numpy())"
   ]
  },
  {
   "cell_type": "code",
   "execution_count": 8,
   "metadata": {},
   "outputs": [
    {
     "data": {
      "text/plain": [
       "<tf.Variable 'UnreadVariable' shape=() dtype=float32, numpy=8.0>"
      ]
     },
     "execution_count": 8,
     "metadata": {},
     "output_type": "execute_result"
    }
   ],
   "source": [
    "# 相当于增加了一批数据合并做结果评估\n",
    "m.update_state([1,2,3,4],[0,2,3,1])  "
   ]
  },
  {
   "cell_type": "code",
   "execution_count": 9,
   "metadata": {
    "tags": []
   },
   "outputs": [
    {
     "name": "stdout",
     "output_type": "stream",
     "text": [
      "final result: 0.625\n"
     ]
    }
   ],
   "source": [
    " print('final result:',m.result().numpy())"
   ]
  },
  {
   "cell_type": "code",
   "execution_count": 10,
   "metadata": {
    "tags": []
   },
   "outputs": [
    {
     "name": "stdout",
     "output_type": "stream",
     "text": [
      "final result: 0.75\n"
     ]
    }
   ],
   "source": [
    "# 运行到这一步的时候被重置了，那么又开始计算初始的结果\n",
    "m.reset_states()\n",
    "m.update_state([1,2,3,4],[0,2,3,4])  \n",
    "print('final result:',m.result().numpy())"
   ]
  },
  {
   "cell_type": "markdown",
   "metadata": {},
   "source": [
    "### 自定义评估函数\n",
    "- 基于类实现方式，大部分都采用这种方式来实现\n",
    "- 自定义评估指标需要继承tf.keras.metrics.Metric类，并重写__init__、update_state和result三个方法\n",
    "\n",
    "1. __init__():所有状态变量都应该通过以下方法在此方法中创建self.add_weight()\n",
    "2. update_state():对状态变量进行所有更新\n",
    "3. result():根据状态变量计算并返回指标值\n",
    "在notebook中看如何自定义评估函数\n"
   ]
  },
  {
   "cell_type": "markdown",
   "metadata": {},
   "source": [
    "##### 自定义实现tf.keras.SparseCategoricalAccuracy()"
   ]
  },
  {
   "cell_type": "code",
   "execution_count": 11,
   "metadata": {},
   "outputs": [],
   "source": [
    "class SparseCategoricalAccuracy_(tf.keras.metrics.Metric):\n",
    "    def __init__(self, name = 'SparseCategoricalAccuracy',**kwargs):\n",
    "        super(SparseCategoricalAccuracy_,self).__init__(name = name , **kwargs)\n",
    "        self.total = self.add_weight(name = 'total', dtype = tf.int32, initializer= tf.zeros_initializer())\n",
    "        self.count = self.add_weight(name = 'count', dtype = tf.int32, initializer= tf.zeros_initializer())\n",
    "    \n",
    "    def update_state(self,y_true, y_pred, sample_weight = None):\n",
    "        values = tf.cast(tf.equal(y_true, tf.argmax(y_pred, axis = -1, output_type = tf.int32)),tf.int32)\n",
    "        self.total.assign_add(tf.shape(y_true)[0])\n",
    "        self.count.assign_add(tf.reduce_sum(values))\n",
    "    \n",
    "    def result(self):\n",
    "        return self.count/ self.total\n",
    "\n",
    "    def reset_states(self):\n",
    "        # 在每一个epoch的开始的时候，metric的状态将被重置\n",
    "        self.total.assign(0)\n",
    "        self.count.assign(0)"
   ]
  },
  {
   "cell_type": "code",
   "execution_count": 12,
   "metadata": {
    "tags": []
   },
   "outputs": [
    {
     "name": "stdout",
     "output_type": "stream",
     "text": [
      "Final result: 0.5\n"
     ]
    }
   ],
   "source": [
    "# 调用刚刚使用定义的函数查看计算结果\n",
    "s = SparseCategoricalAccuracy_()\n",
    "#　s.reset_states()\n",
    "s.update_state(tf.constant([2,1]),tf.constant([[0.1,0.9,0.8],[0.05,0.95,0]]))\n",
    "print('Final result:', s.result().numpy()) # Final result : 0.5"
   ]
  },
  {
   "cell_type": "code",
   "execution_count": 13,
   "metadata": {
    "tags": []
   },
   "outputs": [
    {
     "name": "stdout",
     "output_type": "stream",
     "text": [
      "Final result:  0.5\n"
     ]
    }
   ],
   "source": [
    "# 调用官方API的函数查看是否计算结果一致\n",
    "m = tf.keras.metrics.SparseCategoricalAccuracy()\n",
    "m.update_state([2,1], [[0.1,0.9,0.8],[0.05,0.95,0]])\n",
    "print('Final result: ', m.result().numpy()) # Final result:0.5 结果是一致的"
   ]
  },
  {
   "cell_type": "markdown",
   "metadata": {},
   "source": [
    "##### 第二个示例自定义评估函数 CatgoricalTruePositives"
   ]
  },
  {
   "cell_type": "markdown",
   "metadata": {},
   "source": []
  },
  {
   "cell_type": "code",
   "execution_count": 14,
   "metadata": {},
   "outputs": [],
   "source": [
    "class CatgoricalTruePositives(tf.keras.metrics.Metric):\n",
    "    def __init__(self, name = 'categorical_true_positives', **kwargs):\n",
    "        super(CatgoricalTruePositives,self).__init__(name = name, **kwargs)\n",
    "        self.true_positives = self.add_weight(name = 'tp', initializer = 'zeros')\n",
    "\n",
    "    def update_state(self, y_true, y_pred, sample_weight = None):\n",
    "        y_pred = tf.argmax(y_pred, axis = -1)\n",
    "        values = tf.equal(tf.cast(y_true, 'int32'),tf.cast(y_pred, 'int32'))\n",
    "        values = tf.cast(values, 'float32')\n",
    "        if sample_weight is not None:\n",
    "            sample_weight = tf.cast(sample_weight, 'float32')\n",
    "            values = tf.multiply(values, sample_weight)\n",
    "        self.true_positives.assign_add(tf.reduce_sum(values))\n",
    "    \n",
    "    def result(self):\n",
    "        return self.true_positives\n",
    "    \n",
    "    def reset_states(self):\n",
    "        self.true_positives.assign(0.)"
   ]
  },
  {
   "cell_type": "code",
   "execution_count": 15,
   "metadata": {},
   "outputs": [],
   "source": [
    "y_pred = tf.nn.softmax(tf.random.uniform((4,3)))"
   ]
  },
  {
   "cell_type": "code",
   "execution_count": 16,
   "metadata": {},
   "outputs": [
    {
     "data": {
      "text/plain": [
       "<tf.Tensor: shape=(4,), dtype=int64, numpy=array([0, 1, 0, 2])>"
      ]
     },
     "execution_count": 16,
     "metadata": {},
     "output_type": "execute_result"
    }
   ],
   "source": [
    "tf.argmax(y_pred,axis= -1)"
   ]
  },
  {
   "cell_type": "code",
   "execution_count": 17,
   "metadata": {},
   "outputs": [],
   "source": [
    "y_true = tf.constant([2,0,0,0])"
   ]
  },
  {
   "cell_type": "code",
   "execution_count": 18,
   "metadata": {},
   "outputs": [],
   "source": [
    "m = CatgoricalTruePositives()"
   ]
  },
  {
   "cell_type": "code",
   "execution_count": 19,
   "metadata": {
    "tags": []
   },
   "outputs": [
    {
     "name": "stdout",
     "output_type": "stream",
     "text": [
      "Final result: 1.0\n"
     ]
    }
   ],
   "source": [
    "m.update_state(y_true, y_pred)\n",
    "print('Final result:', m.result().numpy())"
   ]
  },
  {
   "cell_type": "code",
   "execution_count": 20,
   "metadata": {},
   "outputs": [],
   "source": [
    "m.reset_states()"
   ]
  },
  {
   "cell_type": "markdown",
   "metadata": {},
   "source": [
    "#### 基于函数的实现方式\n",
    "- 实际并未展示"
   ]
  },
  {
   "cell_type": "markdown",
   "metadata": {},
   "source": [
    "### 案例讲解"
   ]
  },
  {
   "cell_type": "code",
   "execution_count": 21,
   "metadata": {},
   "outputs": [],
   "source": [
    "from tensorflow.keras.layers import Dense, Flatten, Conv2D\n",
    "from tensorflow.keras import Model"
   ]
  },
  {
   "cell_type": "code",
   "execution_count": 22,
   "metadata": {
    "tags": []
   },
   "outputs": [
    {
     "name": "stdout",
     "output_type": "stream",
     "text": [
      "boston_housing\tfashion_mnist  imdb_word_index.json  mnist.npz\n",
      "cifar10\t\timdb\t       __init__.py\t     __pycache__\n",
      "cifar100\timdb.npz       mnist\t\t     reuters\n"
     ]
    }
   ],
   "source": [
    "!ls /home/hp/.local/lib/python3.8/site-packages/tensorflow/keras/datasets/"
   ]
  },
  {
   "cell_type": "code",
   "execution_count": 23,
   "metadata": {},
   "outputs": [],
   "source": [
    "# 定义数据的本地导入\n",
    "path_tmp = '/home/hp/.local/lib/python3.8/site-packages/tensorflow/keras/datasets/'\n",
    "mnist = np.load(path_tmp+'mnist.npz')\n",
    "x_train, y_train, x_test, y_test = mnist['x_train'],mnist['y_train'],mnist['x_test'],mnist['y_test']    "
   ]
  },
  {
   "cell_type": "code",
   "execution_count": 24,
   "metadata": {},
   "outputs": [],
   "source": [
    "x_train, x_test = x_train/255.0, x_test/255.0"
   ]
  },
  {
   "cell_type": "code",
   "execution_count": 25,
   "metadata": {},
   "outputs": [
    {
     "data": {
      "image/png": "[encoded data removed]",
      "image/svg+xml": [
       "<?xml version=\"1.0\" encoding=\"utf-8\" standalone=\"no\"?>\n",
       "<!DOCTYPE svg PUBLIC \"-//W3C//DTD SVG 1.1//EN\"\n",
       "  \"http://www.w3.org/Graphics/SVG/1.1/DTD/svg11.dtd\">\n",
       "<!-- Created with matplotlib (https://matplotlib.org/) -->\n",
       "<svg height=\"207.633887pt\" version=\"1.1\" viewBox=\"0 0 424.8 207.633887\" width=\"424.8pt\" xmlns=\"http://www.w3.org/2000/svg\" xmlns:xlink=\"http://www.w3.org/1999/xlink\">\n",
       " <defs>\n",
       "  <style type=\"text/css\">\n",
       "*{stroke-linecap:butt;stroke-linejoin:round;}\n",
       "  </style>\n",
       " </defs>\n",
       " <g id=\"figure_1\">\n",
       "  <g id=\"patch_1\">\n",
       "   <path d=\"M 0 207.633887 \n",
       "L 424.8 207.633887 \n",
       "L 424.8 0 \n",
       "L 0 0 \n",
       "z\n",
       "\" style=\"fill:none;\"/>\n",
       "  </g>\n",
       "  <g id=\"axes_1\">\n",
       "   <g id=\"patch_2\">\n",
       "    <path d=\"M 10.7 77.14 \n",
       "L 80.64 77.14 \n",
       "L 80.64 7.2 \n",
       "L 10.7 7.2 \n",
       "z\n",
       "\" style=\"fill:#ffffff;\"/>\n",
       "   </g>\n",
       "   <g clip-path=\"url(#pbbc77702a5)\">\n",
       "    <image height=\"70\" id=\"image1e5f9b5efa\" transform=\"scale(1 -1)translate(0 -70)\" width=\"70\" x=\"10.7\" xlink:href=\"data:image/png;base64,\n",
       "iVBORw0KGgoAAAANSUhEUgAAAEYAAABGCAYAAABxLuKEAAAABHNCSVQICAgIfAhkiAAABBFJREFUeJztmksodl0Ux39eolxDmcg1mUkGysBtxlTKJQZKBuSSZIQyYCAkIWQmMjBgpmQixUQM5JJS7gMGJAMivtFezhPL+3rOeb362r/R6u84Z7ee/95nrb1PwOvr6yuWd/z61wP4qdjEKNjEKNjEKNjEKNjEKNjEKNjEKNjEKAR5cZP7+3uJp6enAWhubhbNFNcBAQGi9fT0AFBXVydabGysF8PxBOsYBZsYhQA3TeTd3R0AZWVloq2srLy77qOpZIiLi5O4vr4egK6uLn+H5BnWMQquHLOxsQFAXl7ep9fFx8cDEBMTI9rOzo56fXFx8bu4sbHR32H6hXWMgk2Mgid1jJPAwEAAOjo6RKutrQUgIiJCtN3dXQAmJydFW1tbA2BpaUm0w8NDAA4ODkRra2sDICUlxdOxO7GOUXC1+K6vrwO+i29ycjIAR0dHfg9qbm5O4qamJgBubm5EM1X10NCQ38/4HdYxCjYxCq4WX1PJOivampoaVwMCqKyslDg/Px+Avr4+0UZGRgDf5nVqasr1c51Yxyh4XvmmpqYCb69Zr3h+fpZ4fHwcgNbWVtGSkpIAWFxcFC0jI8Pv51nHKNjEKHhe+T48PAC+C2N4eLjr+wYFvQ3VbE88PT2J1t7eDkBvb69oZjcxODj4y8+zjlFwtfhub28DkJubK9rj4yMAs7OzopWXl/v7iD/G9GjO0qGzsxOA7u7uL9/POkbBJkbB1eKblZUFvFWnAMvLywDMz8+L9h1T6eXlBYBfv95+683NTb/vZx2j4MnremxsTOL09HTAtwI1VbD529/AOMW5+H50KvHH93M9ov8pNjEKnkylxMREiaurqwGYmZkRLScnB4DV1VXR0tLSAN/qNTIy0ovheIJ1jIInjnH2MQMDA4Dvr28W56KiItHMDv/g4KBoxlle4eYUwTpGwSZGwVUT+RkXFxcSZ2ZmAnB7e/vuuqqqKonNvu3e3p5oW1tbAFRUVIgWGhr67j6miQwLCxPNHOolJCR8efzWMQp/zTFOzs7OgLfeCnwP0AwlJSUAlJaWimZe/85f3Rz0XV5eipadnQ1AQ0ODaM6K/KtYxyjYxCh4vuf7EWYamGkBMDo6+u4603guLCyIZhrB8/Nz0fb39wGYmJgQ7aMm0g3WMQrf4hhDf3+/xObTMednZcfHx+r/FhQUSGxeyU5nGZwLvBusYxRsYhS+pY75jJOTE4kLCwsBOD09Fc0splFRUaKFhIQAcHV1JZrZJTRn2PBWDfuDdYzCP3eME9Nfmd4KPu6vDNHR0RJfX197OhbrGAWbGIUfNZUMpukEGB4eBny/0DQfDLW0tIjmz9bCZ1jHKPxIx/wErGMUbGIUbGIUbGIUbGIUbGIUbGIUbGIUbGIU/gOBxCZf39zyKwAAAABJRU5ErkJggg==\" y=\"-7.14\"/>\n",
       "   </g>\n",
       "   <g id=\"matplotlib.axis_1\"/>\n",
       "   <g id=\"matplotlib.axis_2\"/>\n",
       "   <g id=\"patch_3\">\n",
       "    <path d=\"M 10.7 77.14 \n",
       "L 10.7 7.2 \n",
       "\" style=\"fill:none;stroke:#000000;stroke-linecap:square;stroke-linejoin:miter;stroke-width:0.8;\"/>\n",
       "   </g>\n",
       "   <g id=\"patch_4\">\n",
       "    <path d=\"M 80.64 77.14 \n",
       "L 80.64 7.2 \n",
       "\" style=\"fill:none;stroke:#000000;stroke-linecap:square;stroke-linejoin:miter;stroke-width:0.8;\"/>\n",
       "   </g>\n",
       "   <g id=\"patch_5\">\n",
       "    <path d=\"M 10.7 77.14 \n",
       "L 80.64 77.14 \n",
       "\" style=\"fill:none;stroke:#000000;stroke-linecap:square;stroke-linejoin:miter;stroke-width:0.8;\"/>\n",
       "   </g>\n",
       "   <g id=\"patch_6\">\n",
       "    <path d=\"M 10.7 7.2 \n",
       "L 80.64 7.2 \n",
       "\" style=\"fill:none;stroke:#000000;stroke-linecap:square;stroke-linejoin:miter;stroke-width:0.8;\"/>\n",
       "   </g>\n",
       "  </g>\n",
       "  <g id=\"axes_2\">\n",
       "   <g id=\"patch_7\">\n",
       "    <path d=\"M 94.94 77.14 \n",
       "L 164.88 77.14 \n",
       "L 164.88 7.2 \n",
       "L 94.94 7.2 \n",
       "z\n",
       "\" style=\"fill:#ffffff;\"/>\n",
       "   </g>\n",
       "   <g clip-path=\"url(#p487cc44104)\">\n",
       "    <image height=\"70\" id=\"image5123b0b642\" transform=\"scale(1 -1)translate(0 -70)\" width=\"70\" x=\"94.94\" xlink:href=\"data:image/png;base64,\n",
       "iVBORw0KGgoAAAANSUhEUgAAAEYAAABGCAYAAABxLuKEAAAABHNCSVQICAgIfAhkiAAAAsNJREFUeJztmr9LemEUxp9+EEFKQTREc+rs7hAEjUFLi4ubkxA6uLQn6uQgFPQPBC3R0hAODv4FkuAgRE4RQT9oyqb3fG/YQ9+v3/veDJ7PdDj3cu/h8Tkvr+e+M6PRaAQxxuxPFzCtSBiChCFIGIKEIUgYgoQhzIf9wOfnZwBANpu13MXFBQAgmUxartvthv3qUJFjCKE75u7uDgBweXkZ9qMjRY4hSBiChCFIGELoi28sFgMAbGxsWO729hYAMBgMLFepVAAAxWLxTzHzoZczMXIMQcIQZnxN8EqlksX1eh0AMDs7/js8PDxYvLy87KOUiZBjCN4cE2Rubg7A1465vr62OJPJ+C7lr5FjCBKGEEkrra+vAwDu7+/Hru3s7Fh8fn4OAFhYWPBd0rfIMYRIHONGEdvb25br9/tj9+VyOQDA8fGx75K+RY4hSBhCJK3kODw8tPjo6IjeNxwOLV5bW/NaE0OOIUTqmMfHR4tXV1fpfQcHBxbXajWvNTHkGIKEIUQ6MltZWbG40+kA+LzzfXp6AvB5j/Py8gIAWFpaiqJEQ44hRLr4foX7fAsAe3t7AID393fL7e/vAwBOT08tt7i46L0uOYYgYQg/3krBvc3u7i4AoN1uW85N/RqNhuXy+bz3uuQYwo87Jsjr6ysAIB6PW845JrhTbrVaAIBUKuWtFjmGIGEIU9VKjnK5bHG1Wh277vY7Z2dn3mqQYwhT6ZjgfyU3J3Zz4yBXV1cWb21thVqDHEOQMISpbKUg7jxwsFXcCYl0Om0511bB8cT/HESSYwhT7xhHs9m0uFAojF13o4qbmxvLbW5uTvw+OYYgYQjTc0zyGxKJhMVugvf29ubtfXIM4dcsvkFOTk4AfB5YucW31+tZLuiyf0WOIUgYwq9spSiQYwgShiBhCBKGIGEIEoYgYQgShiBhCBKGIGEIH+7ozA+FNlQgAAAAAElFTkSuQmCC\" y=\"-7.14\"/>\n",
       "   </g>\n",
       "   <g id=\"matplotlib.axis_3\"/>\n",
       "   <g id=\"matplotlib.axis_4\"/>\n",
       "   <g id=\"patch_8\">\n",
       "    <path d=\"M 94.94 77.14 \n",
       "L 94.94 7.2 \n",
       "\" style=\"fill:none;stroke:#000000;stroke-linecap:square;stroke-linejoin:miter;stroke-width:0.8;\"/>\n",
       "   </g>\n",
       "   <g id=\"patch_9\">\n",
       "    <path d=\"M 164.88 77.14 \n",
       "L 164.88 7.2 \n",
       "\" style=\"fill:none;stroke:#000000;stroke-linecap:square;stroke-linejoin:miter;stroke-width:0.8;\"/>\n",
       "   </g>\n",
       "   <g id=\"patch_10\">\n",
       "    <path d=\"M 94.94 77.14 \n",
       "L 164.88 77.14 \n",
       "\" style=\"fill:none;stroke:#000000;stroke-linecap:square;stroke-linejoin:miter;stroke-width:0.8;\"/>\n",
       "   </g>\n",
       "   <g id=\"patch_11\">\n",
       "    <path d=\"M 94.94 7.2 \n",
       "L 164.88 7.2 \n",
       "\" style=\"fill:none;stroke:#000000;stroke-linecap:square;stroke-linejoin:miter;stroke-width:0.8;\"/>\n",
       "   </g>\n",
       "  </g>\n",
       "  <g id=\"axes_3\">\n",
       "   <g id=\"patch_12\">\n",
       "    <path d=\"M 179.18 77.14 \n",
       "L 249.12 77.14 \n",
       "L 249.12 7.2 \n",
       "L 179.18 7.2 \n",
       "z\n",
       "\" style=\"fill:#ffffff;\"/>\n",
       "   </g>\n",
       "   <g clip-path=\"url(#p2ba36affee)\">\n",
       "    <image height=\"70\" id=\"image1f8788c45a\" transform=\"scale(1 -1)translate(0 -70)\" width=\"70\" x=\"179.18\" xlink:href=\"data:image/png;base64,\n",
       "iVBORw0KGgoAAAANSUhEUgAAAEYAAABGCAYAAABxLuKEAAAABHNCSVQICAgIfAhkiAAAA/1JREFUeJztmssrbWEYxn8ORe6RWzFwSZKZgYmBXEKMDCgpA5n4A5gZkYGQEqJcQgyUkiklhAEZGGAml5SUWy65ndH3Ws7en2Ofs9l78P5Gb89ee6+vZz/vWt/6vhXw9vb2huLCL18PwF9RYyyoMRbUGAtqjAU1xoIaY0GNsaDGWFBjLKgxFtQYC0GefuHx8VHq9fV1ANbW1kRLSkoCoKamRrSQkBAAAgMD/22UPkATYyHA02WH/Px8qTc2Nr70nbq6OgBKSkpEKy8vByA6Olq0X7/853/yn5H4GWqMBY9bKTk5WeqzszPg/eIKkJubC8DV1ZVou7u71t8bGBiQuqGhAfCPlvL9CPwUjxMzPz8vdVVVFQDh4eGiLSwsAO/JATg4OABgcHBQtMnJSQDu7+9F6+vrA6C2tla0yMhIT4bHysqK1MPDwy6f9/T0ABAbG/vp72hiLKgxFjxupdfXV6lNLFtaWkSLiIgAYGxsTLTS0lLg40X68PAQgMbGRtGWlpYAyMnJEW1mZgaArKws0czse39/X7SRkREAxsfHRbu5uXEZf1paGvDe3jY0MRY8ToyTl5cXAHp7e0Vrbm52Oc5cTIeGhkQz6bm7uxOtsrISgOXlZdGCg4MB6OzsFG1nZweA0dFRl3NVV1dL3draCny8ORic0w53aGIsqDEW/quVDKal4D3meXl5Lsf19/dLXVRUBEB6erpoZk5TXFws2ubm5pfGYNrPed6gII9XVQRNjAWvJMaJSc/x8bFoBQUFABwdHYkWGhoKQExMjGhmKWJ6elq029tbl3MkJiYC0NHRIZq5wHtrMUwTY0GNseD1VnLH09MTAKenp6KZOYZ5mHTinF27W4JISUkBYHt7WzRnS3oDTYyFH0nMZ8zOzkp9fX0NgHNIAQEBAExNTYlmbs0VFRWizc3NAd5b5NLEWFBjLPi8lb6K8+G0u7vb5fO9vT0AMjIyvHI+TYyFf3+Y+AvORaKJiQkAysrKREtISAAgLCzsS79XWFgotbvEeBtNjAU1xsK3tVJTU5PUzodCQ2ZmJvCxRdrb2wGIiopyOT4+Pt7bQ/wUTYyFb7tdLy4uSm12Cf5GdnY2AKurq6KZDbeLiwvRzIXbid6ufwg1xsK3tdLDw4PUbW1twMc3G5xvQ/yJc8PNPDA+Pz+Lpq3kQ370Wen8/Fxqs0nn3KwzuwTOIaWmpgIf307Y2toCPibH7E7ExcV5ZayaGAtqjAWfLztcXl5K3dXVBby/9QCfb7iZdeM/a2+gibHg88S4w/n2udlhcM6GT05OAKivrxftf7Zj3aGJsaDGWPDLVvIHNDEW1BgLaowFNcaCGmNBjbGgxlhQYyyoMRbUGAtqjIXfSBNPJtQzwQ4AAAAASUVORK5CYII=\" y=\"-7.14\"/>\n",
       "   </g>\n",
       "   <g id=\"matplotlib.axis_5\"/>\n",
       "   <g id=\"matplotlib.axis_6\"/>\n",
       "   <g id=\"patch_13\">\n",
       "    <path d=\"M 179.18 77.14 \n",
       "L 179.18 7.2 \n",
       "\" style=\"fill:none;stroke:#000000;stroke-linecap:square;stroke-linejoin:miter;stroke-width:0.8;\"/>\n",
       "   </g>\n",
       "   <g id=\"patch_14\">\n",
       "    <path d=\"M 249.12 77.14 \n",
       "L 249.12 7.2 \n",
       "\" style=\"fill:none;stroke:#000000;stroke-linecap:square;stroke-linejoin:miter;stroke-width:0.8;\"/>\n",
       "   </g>\n",
       "   <g id=\"patch_15\">\n",
       "    <path d=\"M 179.18 77.14 \n",
       "L 249.12 77.14 \n",
       "\" style=\"fill:none;stroke:#000000;stroke-linecap:square;stroke-linejoin:miter;stroke-width:0.8;\"/>\n",
       "   </g>\n",
       "   <g id=\"patch_16\">\n",
       "    <path d=\"M 179.18 7.2 \n",
       "L 249.12 7.2 \n",
       "\" style=\"fill:none;stroke:#000000;stroke-linecap:square;stroke-linejoin:miter;stroke-width:0.8;\"/>\n",
       "   </g>\n",
       "  </g>\n",
       "  <g id=\"axes_4\">\n",
       "   <g id=\"patch_17\">\n",
       "    <path d=\"M 263.42 77.14 \n",
       "L 333.36 77.14 \n",
       "L 333.36 7.2 \n",
       "L 263.42 7.2 \n",
       "z\n",
       "\" style=\"fill:#ffffff;\"/>\n",
       "   </g>\n",
       "   <g clip-path=\"url(#pd8986c6e28)\">\n",
       "    <image height=\"70\" id=\"imageb6076a4683\" transform=\"scale(1 -1)translate(0 -70)\" width=\"70\" x=\"263.42\" xlink:href=\"data:image/png;base64,\n",
       "iVBORw0KGgoAAAANSUhEUgAAAEYAAABGCAYAAABxLuKEAAAABHNCSVQICAgIfAhkiAAAA4BJREFUeJztm8srfVEUxz/XsyQZmHjMTMREJgaeI0NKyciA+AM8hhQzUooZZWKGZKDkMfJIkZkMJBOJiUR5lHB/o7Mc3buOc++5x72/Wp/Rat29z95973efu886+0ai0WgUI4asdE8gUzFhFEwYBRNGwYRRMGEUTBiFnCCdPz4+ANja2pJcf38/APf395Lr6+sDoL29XXKtra0AFBYWBplCaJhjFCKJ7nxvbm4knpubA2BmZibhgaurqwEoKiqSXFtbGwADAwOSKy0tTfjaqcAco2DCKCS8lBoaGiQ+Pj5O6WScqZSXl0uup6cHgImJCcnl5AT6zfCFOUYh5dKPjY0BP2+qXmxsbEi8t7cHwO3treSmpqYAuLy8lNzw8DAA9fX1wSbrgTlGwYRRSPjm67b0+Pg4AMvLy5J7eHgA/C+lt7c3iU9OTgDo7OyU3NPTU0yfgoKCH+0BqqqqfI3nF3OMQsKOcfP5+QnA2dmZ5GpqagDIzc1NelK7u7sSd3V1AfD8/BzT7vT0VOLa2tqkx4uHOUbBhFEItJT+gqOjIwCam5tjPrOllAbCf+gISF1dXVrGNccomDAKoS0l9451dXUV+K7QAeTl5fm6zuLiYmon5hNzjELKHXN3dwdAS0uL5K6urnz1/fr6AiArK/3fV/pnkKGYMAqh3XwjkUjc2AtnCf3W3qkDp3q3+2MuoV35Pye0Z6XHx0eJV1ZWANjc3PTs49R/f3NMcXExAEtLS5JrbGwE/BfIfsMco2DCKGRU2WF/fx/4fj0CcH5+DsD7+7tn36amJgB2dnYkF6SKaI5RyCjHxOPw8BCA2dlZya2vr6vtX15eJM7Pz096XHOMggmjkPEVPGd/kp2dLbnt7W0AXl9fY9pPT09LPDo6mvS45hiF0BzjlBAg/ssy57nI7+FEd+23pKQEgOvr65h27pxzeDKZ8zTmGAUTRiG0fcza2prE3d3dMZ+XlZUBMDIyIjmvCt7BwYHEXvsYNxcXFwBUVlb6au/GHKMQ2s3XfYQsHs5xsqGhIck55vVb2AoTc4yCCaMQ2lKanJyU2Dkev7CwIDnnRhtvLxKEwcFBiSsqKpK+jjlG4U/LDu6/6ji7UvcBw46ODiC5F269vb0AzM/PS879fJUo5hgFE0Yh4yt46cIco2DCKJgwCiaMggmjYMIomDAKJoyCCaNgwiiYMAr/AAVEAnqgyEysAAAAAElFTkSuQmCC\" y=\"-7.14\"/>\n",
       "   </g>\n",
       "   <g id=\"matplotlib.axis_7\"/>\n",
       "   <g id=\"matplotlib.axis_8\"/>\n",
       "   <g id=\"patch_18\">\n",
       "    <path d=\"M 263.42 77.14 \n",
       "L 263.42 7.2 \n",
       "\" style=\"fill:none;stroke:#000000;stroke-linecap:square;stroke-linejoin:miter;stroke-width:0.8;\"/>\n",
       "   </g>\n",
       "   <g id=\"patch_19\">\n",
       "    <path d=\"M 333.36 77.14 \n",
       "L 333.36 7.2 \n",
       "\" style=\"fill:none;stroke:#000000;stroke-linecap:square;stroke-linejoin:miter;stroke-width:0.8;\"/>\n",
       "   </g>\n",
       "   <g id=\"patch_20\">\n",
       "    <path d=\"M 263.42 77.14 \n",
       "L 333.36 77.14 \n",
       "\" style=\"fill:none;stroke:#000000;stroke-linecap:square;stroke-linejoin:miter;stroke-width:0.8;\"/>\n",
       "   </g>\n",
       "   <g id=\"patch_21\">\n",
       "    <path d=\"M 263.42 7.2 \n",
       "L 333.36 7.2 \n",
       "\" style=\"fill:none;stroke:#000000;stroke-linecap:square;stroke-linejoin:miter;stroke-width:0.8;\"/>\n",
       "   </g>\n",
       "  </g>\n",
       "  <g id=\"axes_5\">\n",
       "   <g id=\"patch_22\">\n",
       "    <path d=\"M 347.66 77.14 \n",
       "L 417.6 77.14 \n",
       "L 417.6 7.2 \n",
       "L 347.66 7.2 \n",
       "z\n",
       "\" style=\"fill:#ffffff;\"/>\n",
       "   </g>\n",
       "   <g clip-path=\"url(#p09cbdc362a)\">\n",
       "    <image height=\"70\" id=\"image1f54b5d496\" transform=\"scale(1 -1)translate(0 -70)\" width=\"70\" x=\"347.66\" xlink:href=\"data:image/png;base64,\n",
       "iVBORw0KGgoAAAANSUhEUgAAAEYAAABGCAYAAABxLuKEAAAABHNCSVQICAgIfAhkiAAAAwpJREFUeJztmr0vbFEUxX+DhCAiEg0RkRAkJKIRQuOr8hfQK1UajUKikKhUolNpUCg0IqFCIREFOoVEg9ZXYV519sxE9s29Y+7z5mX9mtlZMedsa9a598yZm8lms1nENyp+u4F/FRnjIGMcZIyDjHGQMQ4yxqHqtxuIy/HxsdVTU1MALC0tmba6ulrS+ZQYh7JJzN7entV/Y7OuxDjIGIeyWUr5ZDKZ1OdQYhzKMjGB8fHx1MZWYhxkjENZLqWwj6moSO9zVWIcyjIx4Xbd3t6e2hxKjIOMcZAxDjLGoSwvvoH9/X2rFxcXSzq2EuMgYxwycX+73t7eBuDk5CTxJLOzswB0dnaa1tHRkWiMw8NDq2dmZgDo6ekx7ebmJnFfUSgxDpGJWV5etjqcwjc1NZnW3d3tDnx2dmZ1mKKqKnetr6+vB2BoaMi00dFRAMbGxkwbGBgAoK6uzrS2tjYAnp+fTfv8/HR7KQYlxkHGOETuY15fX60Oy+Hg4MC04eFh972Pj49Wf319AXB6emra/f09ULgE1tfXAVhbWzMtLKHp6WnT3t7eCsYFeHp6AqC5uTnqX4qNEuOQeOfb2NgY6+9aWlq+aXNzc5HvWVlZAeDj48O0y8tLALa2tkx7f38HChNze3sLKDGpI2McEi+li4sLq3t7e0vaTKC6utrqkZGRglfILeeNjQ3TFhYWADg/Pzetpqam6B6UGIfIxPT19X3Trq6uUmsmLmEXvru7a9r19TVQePtXYlJAxjhELqX83WZtbW3qzcQl7Ib7+/tNCzvtl5cX0xoaGoqeQ4lxiExM/u61tbU19WaSkn8EEjg6OrJ6fn6+6LGVGAcZ4xB751tZWZlmH0Wxublp9c7ODpD7MvlTlBiH2IkJ30Xu7u5SayYp4dwYck+J5z9B/pPDKyXGQcY4xF5KExMTAAwODqbWTFLyn/ft6uoC4OHhoSRjKzEOsX+i/dcJt+nJyUnTwhGJLr4lRMY4/DdLqdQoMQ4yxkHGOMgYBxnjIGMcZIyDjHGQMQ4yxkHGOPwBwM636qLDffYAAAAASUVORK5CYII=\" y=\"-7.14\"/>\n",
       "   </g>\n",
       "   <g id=\"matplotlib.axis_9\"/>\n",
       "   <g id=\"matplotlib.axis_10\"/>\n",
       "   <g id=\"patch_23\">\n",
       "    <path d=\"M 347.66 77.14 \n",
       "L 347.66 7.2 \n",
       "\" style=\"fill:none;stroke:#000000;stroke-linecap:square;stroke-linejoin:miter;stroke-width:0.8;\"/>\n",
       "   </g>\n",
       "   <g id=\"patch_24\">\n",
       "    <path d=\"M 417.6 77.14 \n",
       "L 417.6 7.2 \n",
       "\" style=\"fill:none;stroke:#000000;stroke-linecap:square;stroke-linejoin:miter;stroke-width:0.8;\"/>\n",
       "   </g>\n",
       "   <g id=\"patch_25\">\n",
       "    <path d=\"M 347.66 77.14 \n",
       "L 417.6 77.14 \n",
       "\" style=\"fill:none;stroke:#000000;stroke-linecap:square;stroke-linejoin:miter;stroke-width:0.8;\"/>\n",
       "   </g>\n",
       "   <g id=\"patch_26\">\n",
       "    <path d=\"M 347.66 7.2 \n",
       "L 417.6 7.2 \n",
       "\" style=\"fill:none;stroke:#000000;stroke-linecap:square;stroke-linejoin:miter;stroke-width:0.8;\"/>\n",
       "   </g>\n",
       "  </g>\n",
       "  <g id=\"axes_6\">\n",
       "   <g id=\"patch_27\">\n",
       "    <path d=\"M 10.7 196.933887 \n",
       "L 80.64 196.933887 \n",
       "L 80.64 126.993887 \n",
       "L 10.7 126.993887 \n",
       "z\n",
       "\" style=\"fill:#ffffff;\"/>\n",
       "   </g>\n",
       "   <g clip-path=\"url(#p2da77616fc)\">\n",
       "    <image height=\"70\" id=\"image36f6a1c75d\" transform=\"scale(1 -1)translate(0 -70)\" width=\"70\" x=\"10.7\" xlink:href=\"data:image/png;base64,\n",
       "iVBORw0KGgoAAAANSUhEUgAAAEYAAABGCAYAAABxLuKEAAAABHNCSVQICAgIfAhkiAAAA7FJREFUeJztm00ofWsUxn+Hv8+YEGNlYMBAPgbChJKMSCllrBiIAQNKoTCgKCYKKQNFDMwwo4iBGEhGRCjlK/KRjzu47YXOWe52bee43fUbrZ7es9/Vc5532+fdL9/r6+srhh9hoW7gt2LGKJgxCmaMghmjYMYomDEKf9wO7O/vB6ClpeXTcVlZWQBUV1e/TfLn72lqa2tFi46Odt9lCLDEKPjcPvnu7+8D0N3dLdrS0hIABwcHriaLjY2VuqurC4D6+nrRIiMjXV0nGFhiFMwYBddLKRB3d3cANDY2iraysgLA7u6uq2uUlZVJ3d7eDkBmZqZoERER/7a9b2GJUfhWYgJxe3sLwOHhoWg1NTUAbG5uurpGSUmJ1B0dHQDk5uaK5vP5vt3nP2GJUTBjFDxfSoG4ubkBYH5+XrTOzk4A9vb2XF2jqKhI6t7eXgCys7O9atEPS4xCUBITiLOzMwCGh4dFGx8fB+Do6OjTz4aHhwNQVVUl2uTkpKf9WWIUzBiFkC2lQBwfHwMwOzsr2urqKgBTU1N+4/Py8qReXl4GvHvGscQo/KrEfEZUVJTUT09PwNsGGMD29jYAaWlpnsxniVEwYxRc7/kGk/v7e6nX1tYAeH5+9htXXl4utVdLyMESo/CrEnNycgJAU1OTaNPT037j2traAGhubv6xXiwxCmaMQsiX0vr6utSlpaUAXF1d+Y0bGxuTurKyEoC4uLgf68sSoxCyJ9/z83MAUlNTRUtISAA+/hnOz88HoKKiQjTb8w0hZoxCUG++j4+PUjsnH66vr0Vztg4yMjKC2VZALDEKQU3MwMCA1HNzc8DHm2p6enow2/kUS4yCGaPwY0vp4eFBaudA0MXFhd+4hoYGqYPxfOIWS4yC50++GxsbAMzMzIjm7OY7v3HeU1BQIPXi4iLw8cjZ6ekpAIODg6L19PR42HFgLDEKZoyCJ0vJOXIGkJOTA7g/avYe58BQYmKiaM7Lt/evTwLdxL3GEqPgSWLen05wDhZ6/a2Ghb19h85NOiYmxm9ccnKy1M5GVlJS0tfn+/In/ieYMQqeP8c4+7XvX5BtbW0BsLCwINrl5SUAIyMjX54jJSUFgOLiYtFGR0cBiI+PF62wsBCAvr4+0dy+mLPEKIRsz/fl5QX4+JsqEBMTE8Db+WGAnZ0d4OM2RmtrKwBDQ0OiOTdn51+KAOrq6lz1Z4lRMGMU/jMHh4KNJUbBjFEwYxTMGAUzRsGMUTBjFMwYBTNGwYxRMGMU/gLdTBXf4klRuAAAAABJRU5ErkJggg==\" y=\"-126.933887\"/>\n",
       "   </g>\n",
       "   <g id=\"matplotlib.axis_11\"/>\n",
       "   <g id=\"matplotlib.axis_12\"/>\n",
       "   <g id=\"patch_28\">\n",
       "    <path d=\"M 10.7 196.933887 \n",
       "L 10.7 126.993887 \n",
       "\" style=\"fill:none;stroke:#000000;stroke-linecap:square;stroke-linejoin:miter;stroke-width:0.8;\"/>\n",
       "   </g>\n",
       "   <g id=\"patch_29\">\n",
       "    <path d=\"M 80.64 196.933887 \n",
       "L 80.64 126.993887 \n",
       "\" style=\"fill:none;stroke:#000000;stroke-linecap:square;stroke-linejoin:miter;stroke-width:0.8;\"/>\n",
       "   </g>\n",
       "   <g id=\"patch_30\">\n",
       "    <path d=\"M 10.7 196.933887 \n",
       "L 80.64 196.933887 \n",
       "\" style=\"fill:none;stroke:#000000;stroke-linecap:square;stroke-linejoin:miter;stroke-width:0.8;\"/>\n",
       "   </g>\n",
       "   <g id=\"patch_31\">\n",
       "    <path d=\"M 10.7 126.993887 \n",
       "L 80.64 126.993887 \n",
       "\" style=\"fill:none;stroke:#000000;stroke-linecap:square;stroke-linejoin:miter;stroke-width:0.8;\"/>\n",
       "   </g>\n",
       "  </g>\n",
       "  <g id=\"axes_7\">\n",
       "   <g id=\"patch_32\">\n",
       "    <path d=\"M 94.94 196.933887 \n",
       "L 164.88 196.933887 \n",
       "L 164.88 126.993887 \n",
       "L 94.94 126.993887 \n",
       "z\n",
       "\" style=\"fill:#ffffff;\"/>\n",
       "   </g>\n",
       "   <g clip-path=\"url(#p40a0e33fbc)\">\n",
       "    <image height=\"70\" id=\"image986ba7735a\" transform=\"scale(1 -1)translate(0 -70)\" width=\"70\" x=\"94.94\" xlink:href=\"data:image/png;base64,\n",
       "iVBORw0KGgoAAAANSUhEUgAAAEYAAABGCAYAAABxLuKEAAAABHNCSVQICAgIfAhkiAAAA/RJREFUeJztmksodW0Ux3+HL5dyK8lECSUGQm4DGcmAueQSyUSRIjJRLmVkiDISJTIgAylSxEBGGDAQIhkxkktKfJP3WWf79n5efLbDYP1Gq//Zzl5n+T/PWevZJ/D6+vqK4iLspxP4rWhhLGhhLGhhLGhhLGhhLGhhLGhhLGhhLGhhLGhhLGhhLGhhLGhhLPzj9xvu7+8DMDw8LNri4iIAgUDAdX1XV5fEBQUFAOTn54uWmZnpd4ofQh1jQQtjIeDHCd7l5aXEOTk5ANzd3YlmbuG1lLyIi4uTuKOjA4CBgYGvpvkp1DEWfHHM2dmZxF6b5fHxMQCHh4eiNTU1AXB7e+u63plScnIyACsrK6Ll5eV9MeP3UcdY0MJY8KWPWVpacmnNzc0Sp6enAxAZGSlafHw88HYpdXZ2ArCwsCDa4+MjAD09PaKZvsj5fhEREf//A3igjrHge+drNs739vSXlxfXdYWFhQCMjIyIdnNzA0BpaaloCQkJAMzOzopWU1PzlbRdqGMsaGEs+NLHTE9PS9zS0uJ6/fn52aVVVVUBsLa25nrt6OhIYtMXvdcrmaG1t7f3o2n/FXWMBV8cc3BwILE5OnAyNjYGQGtrq2j39/cAtLW1iTYzMwN4z0p9fX2imQ25srJStIuLizfXw9fmK3WMBS2MBV+W0tPTk8TLy8vA274iJSUFgO7ubtHa29uB4LIAGBoaAmB8fFw0M0RWV1eLZrrgh4cH0bKzswHIzc0VbWNjAwh22Z9BHWPBF8c42dvbA6CoqEg0c4uMjAzRdnZ2AEhMTBTt6uoKgP7+ftGmpqZc94iJiQGCMxgEvwAqKipEm5+fB9QxvqKFseD7UjIbcV1dnWjmmCAsLPh/ODk5ASAtLc31HnNzc8EE/5wTO5eX+VsnZih1HmPExsZ+/gP8QR1j4duOHYqLi0UzB1nOpwTb29uAt2Nqa2tdWnh4uMTOucng14xkUMdY0MJY8H0pRUVFAVBeXv7X60zH69wsncPjf3F2vqFAHWPB969rL8zxwNbWlmipqalAcBOGt13wT6OOsaCFsRCSpWQYHR2V2Dxcq6+vF82c9H2lY/ULdYyFkDrGeShlHqB5zT27u7sSm4dwoUYdY0ELYyGkS8mJGQS9Hp45U9rc3ASgrKwsJHkZ1DEWfJ+VPoqZixoaGkQzD9ycnJ+fA5CUlCRaVlbW9yaHOsaKFsbCj22+BvMMG4JHC6urq6KZU7+SkhLR1tfXAYiOjv62vNQxFn7cMV4MDg5KPDExAcD19bVojY2NAExOTn5bDuoYC1oYC79yKTnx+tWm+ena6enpt91XHWPh1zvmp1DHWNDCWNDCWNDCWPgX2QxNOHKsDdEAAAAASUVORK5CYII=\" y=\"-126.933887\"/>\n",
       "   </g>\n",
       "   <g id=\"matplotlib.axis_13\"/>\n",
       "   <g id=\"matplotlib.axis_14\"/>\n",
       "   <g id=\"patch_33\">\n",
       "    <path d=\"M 94.94 196.933887 \n",
       "L 94.94 126.993887 \n",
       "\" style=\"fill:none;stroke:#000000;stroke-linecap:square;stroke-linejoin:miter;stroke-width:0.8;\"/>\n",
       "   </g>\n",
       "   <g id=\"patch_34\">\n",
       "    <path d=\"M 164.88 196.933887 \n",
       "L 164.88 126.993887 \n",
       "\" style=\"fill:none;stroke:#000000;stroke-linecap:square;stroke-linejoin:miter;stroke-width:0.8;\"/>\n",
       "   </g>\n",
       "   <g id=\"patch_35\">\n",
       "    <path d=\"M 94.94 196.933887 \n",
       "L 164.88 196.933887 \n",
       "\" style=\"fill:none;stroke:#000000;stroke-linecap:square;stroke-linejoin:miter;stroke-width:0.8;\"/>\n",
       "   </g>\n",
       "   <g id=\"patch_36\">\n",
       "    <path d=\"M 94.94 126.993887 \n",
       "L 164.88 126.993887 \n",
       "\" style=\"fill:none;stroke:#000000;stroke-linecap:square;stroke-linejoin:miter;stroke-width:0.8;\"/>\n",
       "   </g>\n",
       "  </g>\n",
       "  <g id=\"axes_8\">\n",
       "   <g id=\"patch_37\">\n",
       "    <path d=\"M 179.18 196.933887 \n",
       "L 249.12 196.933887 \n",
       "L 249.12 126.993887 \n",
       "L 179.18 126.993887 \n",
       "z\n",
       "\" style=\"fill:#ffffff;\"/>\n",
       "   </g>\n",
       "   <g clip-path=\"url(#pfcc72ba24b)\">\n",
       "    <image height=\"70\" id=\"imagee2edbb0790\" transform=\"scale(1 -1)translate(0 -70)\" width=\"70\" x=\"179.18\" xlink:href=\"data:image/png;base64,\n",
       "iVBORw0KGgoAAAANSUhEUgAAAEYAAABGCAYAAABxLuKEAAAABHNCSVQICAgIfAhkiAAAA4dJREFUeJztms0rfFEYxz/DT0nKSsmChRV5SdhZWAqhLKSQlR0LC/kDJAs2rJQkIcVKUbIQKyTlJUqRHZEUFl6S3+o8M9P1MC93xiyez+r0vXfOefre7zlz77k38PX19YXhIe2vC0hVzBiFf353eH5+DkBZWZlou7u7AFRXV/s9XMKwxCj4npi1tTWP1tXVBcDOzo5oubm5fg/tK5YYBTNGwfep1NnZCcDJyYloCwsLAExOTorW19cHpO6UssQo+J6YvLw8AHJycjzHRkZGpF1VVQVAS0uL3yX4giVGwYxRCCTqIfL+/l7a4+PjAIyNjYlWXl4OwNbWlmjfTb+/whKjkLDEhHJ3dwdAfn6+51hJSYm0j4+PE11KxFhiFMwYhaRMpbe3NwAGBgZEm5qa8py3tLQEQFtbm2iBQCDB1X2PJUYhKYlxfHx8SHtzcxOA5uZm0Vwp7jkKYHR0FIDMzMxklChYYhTMGIWkTqVQPj8/Aeju7hbNLb6hC+7KygoQ/rCZjAXZEqPg+7ZDpKSnpwPhbw4WFxcBSEsLXi/31317eytaMja3LDEKZozCny2+3+Gm13eL6+rqqrQbGhoSXoslRiGlEnN4eAhAbW2taO/v7wBkZGSI5v7WE7lfbIlRMGMU4ppKe3t7AAwODorm7jFmZ2dFy87OjqrfmZkZaff29nqO19TUAMEH0VjG+A1LjEJcieno6ABgeXnZc6yxsVHabuuguLg4on5fX1+lvb+/D0Bra6toT09PcY/xG5YYBTNGIa6pdHp6CoTfd7y8vHjOKyoqAmB9fd2jRUpPT4+05+fnPceHh4cBGBoaiqpfDUuMQlzbDqWlpQDU19eL5jaWQrm8vASgoqJCtLm5OSD41QNAYWGhOlZBQcGPtbj++vv7RcvKyvrxNz9hiVEwYxR8eYg8OzuTtrvfuLq6irqfm5sbIPwu1i3mDw8PojU1NQFwfX3t6aO9vV3a7hO3WLDEKPi+7eCusPu2F+Do6Mhz3uPjIwDPz8+iuVLq6upE297ejmr80AXcLfqxYIlRMGMU/mwH7+LiAghfuDc2NgCYnp4WLdLy3CsXd28FwR3BWLDEKKTUnq/DvXiD4BZE6JfmExMTnt9UVlYCcHBw4EsNlhgFM0YhJadSKmCJUTBjFMwYBTNGwYxRMGMUzBgFM0bBjFEwYxTMGAUzRsGMUTBjFMwYBTNG4T+KbBbwsyKEFAAAAABJRU5ErkJggg==\" y=\"-126.933887\"/>\n",
       "   </g>\n",
       "   <g id=\"matplotlib.axis_15\"/>\n",
       "   <g id=\"matplotlib.axis_16\"/>\n",
       "   <g id=\"patch_38\">\n",
       "    <path d=\"M 179.18 196.933887 \n",
       "L 179.18 126.993887 \n",
       "\" style=\"fill:none;stroke:#000000;stroke-linecap:square;stroke-linejoin:miter;stroke-width:0.8;\"/>\n",
       "   </g>\n",
       "   <g id=\"patch_39\">\n",
       "    <path d=\"M 249.12 196.933887 \n",
       "L 249.12 126.993887 \n",
       "\" style=\"fill:none;stroke:#000000;stroke-linecap:square;stroke-linejoin:miter;stroke-width:0.8;\"/>\n",
       "   </g>\n",
       "   <g id=\"patch_40\">\n",
       "    <path d=\"M 179.18 196.933887 \n",
       "L 249.12 196.933887 \n",
       "\" style=\"fill:none;stroke:#000000;stroke-linecap:square;stroke-linejoin:miter;stroke-width:0.8;\"/>\n",
       "   </g>\n",
       "   <g id=\"patch_41\">\n",
       "    <path d=\"M 179.18 126.993887 \n",
       "L 249.12 126.993887 \n",
       "\" style=\"fill:none;stroke:#000000;stroke-linecap:square;stroke-linejoin:miter;stroke-width:0.8;\"/>\n",
       "   </g>\n",
       "  </g>\n",
       "  <g id=\"axes_9\">\n",
       "   <g id=\"patch_42\">\n",
       "    <path d=\"M 263.42 196.933887 \n",
       "L 333.36 196.933887 \n",
       "L 333.36 126.993887 \n",
       "L 263.42 126.993887 \n",
       "z\n",
       "\" style=\"fill:#ffffff;\"/>\n",
       "   </g>\n",
       "   <g clip-path=\"url(#pb57280741c)\">\n",
       "    <image height=\"70\" id=\"imageb44d5996d3\" transform=\"scale(1 -1)translate(0 -70)\" width=\"70\" x=\"263.42\" xlink:href=\"data:image/png;base64,\n",
       "iVBORw0KGgoAAAANSUhEUgAAAEYAAABGCAYAAABxLuKEAAAABHNCSVQICAgIfAhkiAAAA8lJREFUeJztmksodV0Yx3+v+6UkkVJmykjKLUopl2KkSEQmCuU2MFAmBgxEMVBIJGLimsxlKiVhSsklMVIGhPgG37fWe077PO/rvJbz+ur5TTz999n7PP7919r7rL1+vL+/v6N4CPvbDXxX1BgBNUZAjRFQYwTUGAE1RiDCxUWenp5svbq6CkBXV5fVKioqAKirq7NaQ0ODi6/+MjQxAj9cPPmurKzYurGx0XPcfEVKSorVBgYGAGhra7NaZGTkZ1txhiZGQI0RcDL5Hh8fe7T29nZb39zcALC9vW21np4eAIqKiqyWk5Pjoh0naGIEnCQmNTXVo93d3dl6fX0dgP39fasVFxcDUFVVZbWWlhYAhoeHXbT1KTQxAmqMgJOh9Pb2ZmvzzOL7eBQeHg5AQUGB1dbW1gDo7Oy02sjICACFhYVWq66udtFi0GhiBJwkxncCHRoaAmBra8tqh4eHAGRlZVmttLQUgKSkJKuZCdvc3v8mmhgBNUbAyVDKzMy09cbGBgBlZWVWy83NBWBubs5qTU1NAExOTlrNnHN2duairU+hiRFwkhhfTDpmZmasZpYWWltbrba8vAxAfn6+5xpHR0eu2woaTYyAGiPgZAXvd5glCN/J91c0NzfbemFh4Sta+i2aGAHnk28gpqenPdrs7Kz4+e+wAUMTI6DGCIRkKIWF/eu/efEGv56Il5aWPNrY2Jitk5OTHXYXGE2MQEgSYzg9PQ36HPOEnJaWZrX+/n4AEhIS3DQWAE2MgBojEJKh9Pr6CsD9/b3nWHp6uq3NOrBZkoCfSxCjo6NWy8vLA6C2ttZ9s/+hiREISWKurq4A2NnZ8RyrqamxdXZ2NgAHBwdW6+7uBvxv4R0dHQC8vLxYzfV+G02MgBojEJKhZLaf+Q6RjIwMAAYHB60WFRXl9xdgfHwcgNjYWKuZ1UHfFUFz3NULOk2MQEgWqqampgDo6+uz2uPjIwC9vb1WM7smzOQKEBcXB8D19bXVzDrx7e2t59yLiwurRUT8+YDQxAioMQIhGUoGs4EIoL6+XvxcTEyMrc168ebmptUuLy8955h/Y3d312olJSV/3KsmRiCkifHdxTAxMQHA+fm553O+t/VAr2vNotXJyYnV5ufnAf/d54uLi4D/rf6jaGIE1BiBkA6lj/Lw8BCwNsTHxwP+Q668vBz4+UMUYG9vD4Do6Oige9DECHzLxHyU5+dnW1dWVgL+k7XZNZGYmBj0tTUxAmqMwP96KH0lmhgBNUZAjRFQYwTUGAE1RkCNEVBjBNQYATVGQI0R+Ac+BxGeTArZDwAAAABJRU5ErkJggg==\" y=\"-126.933887\"/>\n",
       "   </g>\n",
       "   <g id=\"matplotlib.axis_17\"/>\n",
       "   <g id=\"matplotlib.axis_18\"/>\n",
       "   <g id=\"patch_43\">\n",
       "    <path d=\"M 263.42 196.933887 \n",
       "L 263.42 126.993887 \n",
       "\" style=\"fill:none;stroke:#000000;stroke-linecap:square;stroke-linejoin:miter;stroke-width:0.8;\"/>\n",
       "   </g>\n",
       "   <g id=\"patch_44\">\n",
       "    <path d=\"M 333.36 196.933887 \n",
       "L 333.36 126.993887 \n",
       "\" style=\"fill:none;stroke:#000000;stroke-linecap:square;stroke-linejoin:miter;stroke-width:0.8;\"/>\n",
       "   </g>\n",
       "   <g id=\"patch_45\">\n",
       "    <path d=\"M 263.42 196.933887 \n",
       "L 333.36 196.933887 \n",
       "\" style=\"fill:none;stroke:#000000;stroke-linecap:square;stroke-linejoin:miter;stroke-width:0.8;\"/>\n",
       "   </g>\n",
       "   <g id=\"patch_46\">\n",
       "    <path d=\"M 263.42 126.993887 \n",
       "L 333.36 126.993887 \n",
       "\" style=\"fill:none;stroke:#000000;stroke-linecap:square;stroke-linejoin:miter;stroke-width:0.8;\"/>\n",
       "   </g>\n",
       "  </g>\n",
       "  <g id=\"axes_10\">\n",
       "   <g id=\"patch_47\">\n",
       "    <path d=\"M 347.66 196.933887 \n",
       "L 417.6 196.933887 \n",
       "L 417.6 126.993887 \n",
       "L 347.66 126.993887 \n",
       "z\n",
       "\" style=\"fill:#ffffff;\"/>\n",
       "   </g>\n",
       "   <g clip-path=\"url(#pbdebf594cf)\">\n",
       "    <image height=\"70\" id=\"image8b307fb6b1\" transform=\"scale(1 -1)translate(0 -70)\" width=\"70\" x=\"347.66\" xlink:href=\"data:image/png;base64,\n",
       "iVBORw0KGgoAAAANSUhEUgAAAEYAAABGCAYAAABxLuKEAAAABHNCSVQICAgIfAhkiAAAA49JREFUeJztmksodGEYx3/jno2sXMqdlSzIws7CwtalUCIUKSsrOxsWlhLFRlIK2VlQkizkupEFZaMQEguXUC7f4vvOMzPNPF+++c44s3h+q6f/zJzz9J//+573vOf4vr6+vjBCiPO6gVjFjFFI8LqBcLy9vUk9MjICwNDQkGiXl5cAZGRkRK0HS4xCTCXGSUpnZ6doi4uLAHR3d4uWnp4e9V4sMQpmjIIvltYx6+vrANTW1opWX18PwPj4uGjRnHQdLDEKMZWYsrIyAI6Pj0U7PT0FoKCg4Ed7scQomDEKng+lq6srqbOzswGIi/P/X4+PjwCkpqb+aF+WGAXPV757e3tSO0nx+XxetSNYYhTMGAXPh1JhYaHXLYTFEqPg+eU6kPj4eCB48n14eADsch0zmDEKnk++R0dHXrcQFkuMgueJSUlJkfrz8xMIvldaWVkBoLGx8Uf7ssQomDEKrgyls7MzqauqqgC4vb0VrbS0FIC2tjbR2tvbAcjKyhKtrq4OgOXlZdFOTk7caPGfscQo/NfK9/X1FYDi4mLRrq+vAQg87N+2EXJzc6V2fnN+fi5aZmYmABcXF5G2GRGWGAUzRuG/htLz8zMAaWlpIZ/d3d1JnZDwe45fWloSbWFhAYDt7W3RnBvGwKHn1Lu7u6JVVFRE2vK3scQouDL5FhUViXZzcwP4L8cA09PT6jHu7++lbm5uBmBjYyPkez09PVKPjo4CkJSUFEnb38ISo2DGKLiygzc5OSl1X18fAMnJyaK1tLQAMDU1JVpiYmLIcd7f3wE4PDwUrbq6GoCXlxfRxsbGgs4VDSwxCq7v+Tr/Zn9/v/8kfy65g4ODog0MDADByQpHeXk5EH5Da2dnR+rKysoIOw6PJUbBjFGI2uMT57UxCH51zMFZswSuccINq83NTQBqampCPsvLy5PaGWpuPWaxxChELTHO/i34N7IC73Genp4A/+YUwPDwMAAlJSWifXx8ANDV1SXa/Pw8ELy1MTs7C0Bra6sr/VtiFMwYhR99dr21tSV1U1MT4L/pBP/QaGhoEM3ZzTs4OAg5XmDrvb29AExMTLjSqyVGwbO3HZwJeWZmRrTV1VUA9vf3Q74/NzcndU5ODgBra2uidXR0AJCfn+9Kf5YYBTNGIaZeHIolLDEKZoyCGaNgxiiYMQpmjIIZo2DGKJgxCmaMghmjYMYomDEKZoyCGaNgxij8AulFF+CZNZmrAAAAAElFTkSuQmCC\" y=\"-126.933887\"/>\n",
       "   </g>\n",
       "   <g id=\"matplotlib.axis_19\"/>\n",
       "   <g id=\"matplotlib.axis_20\"/>\n",
       "   <g id=\"patch_48\">\n",
       "    <path d=\"M 347.66 196.933887 \n",
       "L 347.66 126.993887 \n",
       "\" style=\"fill:none;stroke:#000000;stroke-linecap:square;stroke-linejoin:miter;stroke-width:0.8;\"/>\n",
       "   </g>\n",
       "   <g id=\"patch_49\">\n",
       "    <path d=\"M 417.6 196.933887 \n",
       "L 417.6 126.993887 \n",
       "\" style=\"fill:none;stroke:#000000;stroke-linecap:square;stroke-linejoin:miter;stroke-width:0.8;\"/>\n",
       "   </g>\n",
       "   <g id=\"patch_50\">\n",
       "    <path d=\"M 347.66 196.933887 \n",
       "L 417.6 196.933887 \n",
       "\" style=\"fill:none;stroke:#000000;stroke-linecap:square;stroke-linejoin:miter;stroke-width:0.8;\"/>\n",
       "   </g>\n",
       "   <g id=\"patch_51\">\n",
       "    <path d=\"M 347.66 126.993887 \n",
       "L 417.6 126.993887 \n",
       "\" style=\"fill:none;stroke:#000000;stroke-linecap:square;stroke-linejoin:miter;stroke-width:0.8;\"/>\n",
       "   </g>\n",
       "  </g>\n",
       " </g>\n",
       " <defs>\n",
       "  <clipPath id=\"pbbc77702a5\">\n",
       "   <rect height=\"69.94\" width=\"69.94\" x=\"10.7\" y=\"7.2\"/>\n",
       "  </clipPath>\n",
       "  <clipPath id=\"p487cc44104\">\n",
       "   <rect height=\"69.94\" width=\"69.94\" x=\"94.94\" y=\"7.2\"/>\n",
       "  </clipPath>\n",
       "  <clipPath id=\"p2ba36affee\">\n",
       "   <rect height=\"69.94\" width=\"69.94\" x=\"179.18\" y=\"7.2\"/>\n",
       "  </clipPath>\n",
       "  <clipPath id=\"pd8986c6e28\">\n",
       "   <rect height=\"69.94\" width=\"69.94\" x=\"263.42\" y=\"7.2\"/>\n",
       "  </clipPath>\n",
       "  <clipPath id=\"p09cbdc362a\">\n",
       "   <rect height=\"69.94\" width=\"69.94\" x=\"347.66\" y=\"7.2\"/>\n",
       "  </clipPath>\n",
       "  <clipPath id=\"p2da77616fc\">\n",
       "   <rect height=\"69.94\" width=\"69.94\" x=\"10.7\" y=\"126.993887\"/>\n",
       "  </clipPath>\n",
       "  <clipPath id=\"p40a0e33fbc\">\n",
       "   <rect height=\"69.94\" width=\"69.94\" x=\"94.94\" y=\"126.993887\"/>\n",
       "  </clipPath>\n",
       "  <clipPath id=\"pfcc72ba24b\">\n",
       "   <rect height=\"69.94\" width=\"69.94\" x=\"179.18\" y=\"126.993887\"/>\n",
       "  </clipPath>\n",
       "  <clipPath id=\"pb57280741c\">\n",
       "   <rect height=\"69.94\" width=\"69.94\" x=\"263.42\" y=\"126.993887\"/>\n",
       "  </clipPath>\n",
       "  <clipPath id=\"pbdebf594cf\">\n",
       "   <rect height=\"69.94\" width=\"69.94\" x=\"347.66\" y=\"126.993887\"/>\n",
       "  </clipPath>\n",
       " </defs>\n",
       "</svg>\n"
      ],
      "text/plain": [
       "<Figure size 432x288 with 10 Axes>"
      ]
     },
     "metadata": {},
     "output_type": "display_data"
    }
   ],
   "source": [
    "import matplotlib.pyplot as plt\n",
    "fig, ax = plt.subplots(\n",
    "    nrows= 2,\n",
    "    ncols= 5,\n",
    "    sharex=True,\n",
    "    sharey=True,\n",
    ")\n",
    "ax = ax.flatten()\n",
    "\n",
    "for i in range(10):\n",
    "    img = x_train[y_train == i][0].reshape(28,28)\n",
    "    ax[i].imshow(img,cmap = 'Greys',interpolation = 'nearest')\n",
    "ax[0].set_xticks([])\n",
    "ax[0].set_yticks([])\n",
    "plt.tight_layout()\n",
    "plt.show()"
   ]
  },
  {
   "cell_type": "code",
   "execution_count": 26,
   "metadata": {},
   "outputs": [],
   "source": [
    "# add a channels dimension\n",
    "x_train = x_train[..., tf.newaxis]\n",
    "x_test = x_test[..., tf.newaxis]"
   ]
  },
  {
   "cell_type": "code",
   "execution_count": 27,
   "metadata": {},
   "outputs": [],
   "source": [
    "train_ds = tf.data.Dataset.from_tensor_slices((x_train, y_train)).shuffle(10000).batch(32)"
   ]
  },
  {
   "cell_type": "code",
   "execution_count": 28,
   "metadata": {},
   "outputs": [],
   "source": [
    "test_ds = tf.data.Dataset.from_tensor_slices((x_test, y_test)).batch(32)"
   ]
  },
  {
   "cell_type": "code",
   "execution_count": 29,
   "metadata": {},
   "outputs": [],
   "source": [
    "# 定义模型\n",
    "class MyModel(Model):\n",
    "    def __init__(self):\n",
    "        super(MyModel,self).__init__()\n",
    "        self.conv1 = Conv2D(32,3,activation= 'relu')\n",
    "        self.flatten = Flatten()\n",
    "        self.d1 = Dense(128, activation= 'relu')\n",
    "        self.d2 = Dense(10, activation='softmax')\n",
    "\n",
    "    def call(self, x):\n",
    "        x = self.conv1(x)\n",
    "        x = self.flatten(x)\n",
    "        x = self.d1(x)\n",
    "\n",
    "        return self.d2(x)"
   ]
  },
  {
   "cell_type": "code",
   "execution_count": 30,
   "metadata": {},
   "outputs": [],
   "source": [
    "# 定义评估指标,返回的是一个正确的个数\n",
    "class CatgoricalTruePositives(tf.keras.metrics.Metric):\n",
    "    def __init__(self, name = 'categorical_true_positives', **kwargs):\n",
    "        super(CatgoricalTruePositives,self).__init__(name = name, **kwargs)\n",
    "        self.true_positives = self.add_weight(name = 'tp', initializer = 'zeros')\n",
    "\n",
    "    def update_state(self, y_true, y_pred, sample_weight = None):\n",
    "        y_pred = tf.argmax(y_pred, axis = -1)\n",
    "        values = tf.equal(tf.cast(y_true, 'int32'),tf.cast(y_pred, 'int32'))\n",
    "        values = tf.cast(values, 'float32')\n",
    "        if sample_weight is not None:\n",
    "            sample_weight = tf.cast(sample_weight, 'float32')\n",
    "            values = tf.multiply(values, sample_weight)\n",
    "        self.true_positives.assign_add(tf.reduce_sum(values))\n",
    "    \n",
    "    def result(self):\n",
    "        return self.true_positives\n",
    "    \n",
    "    def reset_states(self):\n",
    "        self.true_positives.assign(0.)\n"
   ]
  },
  {
   "cell_type": "code",
   "execution_count": 31,
   "metadata": {},
   "outputs": [],
   "source": [
    "# 定义损失函数和优化器\n",
    "model = MyModel()\n",
    "loss_object = tf.keras.losses.SparseCategoricalCrossentropy()\n",
    "optimizer = tf.keras.optimizers.Adam()"
   ]
  },
  {
   "cell_type": "code",
   "execution_count": 32,
   "metadata": {},
   "outputs": [],
   "source": [
    "# 定义损失函数，返回平均损失\n",
    "train_loss = tf.keras.metrics.Mean(name = 'train_loss')\n",
    "train_accuracy = tf.keras.metrics.SparseCategoricalAccuracy(name = 'train_accuracy')\n",
    "train_tp = CatgoricalTruePositives(name = 'train_tp')\n",
    "test_loss = tf.keras.metrics.Mean(name = 'test_loss')\n",
    "test_accuracy = tf.keras.metrics.SparseCategoricalAccuracy(name = 'test_accuracy')\n",
    "test_tp = CatgoricalTruePositives(name = 'test_tp')"
   ]
  },
  {
   "cell_type": "code",
   "execution_count": 33,
   "metadata": {},
   "outputs": [],
   "source": [
    "@tf.function\n",
    "def train_step(images, labels):\n",
    "    with tf.GradientTape() as tape:\n",
    "        predictions = model(images)\n",
    "        loss = loss_object(labels, predictions)\n",
    "    gradients = tape.gradient(loss, model.trainable_variables)\n",
    "    optimizer.apply_gradients(zip(gradients, model.trainable_variables))\n",
    "\n",
    "    train_loss(loss)\n",
    "    train_accuracy(labels, predictions)\n",
    "\n",
    "    train_tp(labels, predictions)"
   ]
  },
  {
   "cell_type": "code",
   "execution_count": 34,
   "metadata": {},
   "outputs": [],
   "source": [
    "@tf.function\n",
    "def test_step(images, labels):\n",
    "    predictions = model(images)\n",
    "    t_loss = loss_object(labels, predictions)\n",
    "\n",
    "    test_loss(t_loss)\n",
    "    test_accuracy(labels, predictions)\n",
    "    test_tp(labels, predictions)"
   ]
  },
  {
   "cell_type": "code",
   "execution_count": 35,
   "metadata": {
    "tags": []
   },
   "outputs": [
    {
     "name": "stdout",
     "output_type": "stream",
     "text": [
      "WARNING:tensorflow:Layer my_model is casting an input tensor from dtype float64 to the layer's dtype of float32, which is new behavior in TensorFlow 2.  The layer has dtype float32 because it's dtype defaults to floatx.\n",
      "\n",
      "If you intended to run this layer in float32, you can safely ignore this warning. If in doubt, this warning is likely only an issue if you are porting a TensorFlow 1.X model to TensorFlow 2.\n",
      "\n",
      "To change all layers to have dtype float64 by default, call `tf.keras.backend.set_floatx('float64')`. To change just this layer, pass dtype='float64' to the layer constructor. If you are the author of this layer, you can disable autocasting by passing autocast=False to the base Layer constructor.\n",
      "\n",
      "Epoch1, Loss:0.13811112940311432, Accuracy95.88333129882812, TP:57530.0, Test Loss :0.06151113286614418, Test Accuracy:97.97999572753906, Test TP:9798.0\n",
      "Epoch2, Loss:0.04476012662053108, Accuracy98.60333251953125, TP:59162.0, Test Loss :0.056782469153404236, Test Accuracy:98.22000122070312, Test TP:9822.0\n",
      "Epoch3, Loss:0.024272838607430458, Accuracy99.20166778564453, TP:59521.0, Test Loss :0.048788703978061676, Test Accuracy:98.3499984741211, Test TP:9835.0\n",
      "Epoch4, Loss:0.014422932639718056, Accuracy99.51000213623047, TP:59706.0, Test Loss :0.05600345507264137, Test Accuracy:98.2699966430664, Test TP:9827.0\n",
      "Epoch5, Loss:0.010048581287264824, Accuracy99.67166900634766, TP:59803.0, Test Loss :0.061282020062208176, Test Accuracy:98.2699966430664, Test TP:9827.0\n"
     ]
    }
   ],
   "source": [
    "# 开始训练\n",
    "EPOCHS = 5\n",
    "for epoch in range(EPOCHS):\n",
    "    # 在下一个epoch开始的时候，重置评估指标\n",
    "    train_loss.reset_states()\n",
    "    train_accuracy.reset_states()\n",
    "    train_tp.reset_states()\n",
    "    test_loss.reset_states()\n",
    "    test_accuracy.reset_states()\n",
    "    test_tp.reset_states()\n",
    "\n",
    "\n",
    "    for images, labels in train_ds:\n",
    "        train_step(images, labels)\n",
    "\n",
    "    for test_images, test_labels in test_ds:\n",
    "        test_step(test_images, test_labels)\n",
    "\n",
    "    template = 'Epoch{}, Loss:{}, Accuracy{}, TP:{}, Test Loss :{}, Test Accuracy:{}, Test TP:{}'\n",
    "    print(template.format(epoch + 1,\n",
    "        train_loss.result(),\n",
    "        train_accuracy.result() * 100,\n",
    "        train_tp.result(),\n",
    "        test_loss.result(),\n",
    "        test_accuracy.result() * 100,\n",
    "        test_tp.result()\n",
    "    )) "
   ]
  },
  {
   "cell_type": "markdown",
   "metadata": {},
   "source": [
    "29分钟"
   ]
  },
  {
   "cell_type": "markdown",
   "metadata": {},
   "source": [
    "#### keras 版本的模型训练，使用model.fit实现上述步骤的方法"
   ]
  },
  {
   "cell_type": "code",
   "execution_count": 36,
   "metadata": {},
   "outputs": [],
   "source": [
    "\n",
    "# 定义数据的本地导入\n",
    "path_tmp = '/home/hp/.local/lib/python3.8/site-packages/tensorflow/keras/datasets/'\n",
    "mnist = np.load(path_tmp+'mnist.npz')\n",
    "x_train, y_train, x_test, y_test = mnist['x_train'],mnist['y_train'],mnist['x_test'],mnist['y_test']\n",
    "\n",
    "x_train, x_test = x_train/255.0, x_test/255.0"
   ]
  },
  {
   "cell_type": "code",
   "execution_count": 37,
   "metadata": {},
   "outputs": [
    {
     "data": {
      "image/png": "[encoded data removed]",
      "image/svg+xml": [
       "<?xml version=\"1.0\" encoding=\"utf-8\" standalone=\"no\"?>\n",
       "<!DOCTYPE svg PUBLIC \"-//W3C//DTD SVG 1.1//EN\"\n",
       "  \"http://www.w3.org/Graphics/SVG/1.1/DTD/svg11.dtd\">\n",
       "<!-- Created with matplotlib (https://matplotlib.org/) -->\n",
       "<svg height=\"207.633887pt\" version=\"1.1\" viewBox=\"0 0 424.8 207.633887\" width=\"424.8pt\" xmlns=\"http://www.w3.org/2000/svg\" xmlns:xlink=\"http://www.w3.org/1999/xlink\">\n",
       " <defs>\n",
       "  <style type=\"text/css\">\n",
       "*{stroke-linecap:butt;stroke-linejoin:round;}\n",
       "  </style>\n",
       " </defs>\n",
       " <g id=\"figure_1\">\n",
       "  <g id=\"patch_1\">\n",
       "   <path d=\"M 0 207.633887 \n",
       "L 424.8 207.633887 \n",
       "L 424.8 0 \n",
       "L 0 0 \n",
       "z\n",
       "\" style=\"fill:none;\"/>\n",
       "  </g>\n",
       "  <g id=\"axes_1\">\n",
       "   <g id=\"patch_2\">\n",
       "    <path d=\"M 10.7 77.14 \n",
       "L 80.64 77.14 \n",
       "L 80.64 7.2 \n",
       "L 10.7 7.2 \n",
       "z\n",
       "\" style=\"fill:#ffffff;\"/>\n",
       "   </g>\n",
       "   <g clip-path=\"url(#pa5d5dfd86e)\">\n",
       "    <image height=\"70\" id=\"image97640475ae\" transform=\"scale(1 -1)translate(0 -70)\" width=\"70\" x=\"10.7\" xlink:href=\"data:image/png;base64,\n",
       "iVBORw0KGgoAAAANSUhEUgAAAEYAAABGCAYAAABxLuKEAAAABHNCSVQICAgIfAhkiAAABBFJREFUeJztmksodl0Ux39eolxDmcg1mUkGysBtxlTKJQZKBuSSZIQyYCAkIWQmMjBgpmQixUQM5JJS7gMGJAMivtFezhPL+3rOeb362r/R6u84Z7ee/95nrb1PwOvr6yuWd/z61wP4qdjEKNjEKNjEKNjEKNjEKNjEKNjEKNjEKAR5cZP7+3uJp6enAWhubhbNFNcBAQGi9fT0AFBXVydabGysF8PxBOsYBZsYhQA3TeTd3R0AZWVloq2srLy77qOpZIiLi5O4vr4egK6uLn+H5BnWMQquHLOxsQFAXl7ep9fFx8cDEBMTI9rOzo56fXFx8bu4sbHR32H6hXWMgk2Mgid1jJPAwEAAOjo6RKutrQUgIiJCtN3dXQAmJydFW1tbA2BpaUm0w8NDAA4ODkRra2sDICUlxdOxO7GOUXC1+K6vrwO+i29ycjIAR0dHfg9qbm5O4qamJgBubm5EM1X10NCQ38/4HdYxCjYxCq4WX1PJOivampoaVwMCqKyslDg/Px+Avr4+0UZGRgDf5nVqasr1c51Yxyh4XvmmpqYCb69Zr3h+fpZ4fHwcgNbWVtGSkpIAWFxcFC0jI8Pv51nHKNjEKHhe+T48PAC+C2N4eLjr+wYFvQ3VbE88PT2J1t7eDkBvb69oZjcxODj4y8+zjlFwtfhub28DkJubK9rj4yMAs7OzopWXl/v7iD/G9GjO0qGzsxOA7u7uL9/POkbBJkbB1eKblZUFvFWnAMvLywDMz8+L9h1T6eXlBYBfv95+683NTb/vZx2j4MnremxsTOL09HTAtwI1VbD529/AOMW5+H50KvHH93M9ov8pNjEKnkylxMREiaurqwGYmZkRLScnB4DV1VXR0tLSAN/qNTIy0ovheIJ1jIInjnH2MQMDA4Dvr28W56KiItHMDv/g4KBoxlle4eYUwTpGwSZGwVUT+RkXFxcSZ2ZmAnB7e/vuuqqqKonNvu3e3p5oW1tbAFRUVIgWGhr67j6miQwLCxPNHOolJCR8efzWMQp/zTFOzs7OgLfeCnwP0AwlJSUAlJaWimZe/85f3Rz0XV5eipadnQ1AQ0ODaM6K/KtYxyjYxCh4vuf7EWYamGkBMDo6+u4603guLCyIZhrB8/Nz0fb39wGYmJgQ7aMm0g3WMQrf4hhDf3+/xObTMednZcfHx+r/FhQUSGxeyU5nGZwLvBusYxRsYhS+pY75jJOTE4kLCwsBOD09Fc0splFRUaKFhIQAcHV1JZrZJTRn2PBWDfuDdYzCP3eME9Nfmd4KPu6vDNHR0RJfX197OhbrGAWbGIUfNZUMpukEGB4eBny/0DQfDLW0tIjmz9bCZ1jHKPxIx/wErGMUbGIUbGIUbGIUbGIUbGIUbGIUbGIUbGIU/gOBxCZf39zyKwAAAABJRU5ErkJggg==\" y=\"-7.14\"/>\n",
       "   </g>\n",
       "   <g id=\"matplotlib.axis_1\"/>\n",
       "   <g id=\"matplotlib.axis_2\"/>\n",
       "   <g id=\"patch_3\">\n",
       "    <path d=\"M 10.7 77.14 \n",
       "L 10.7 7.2 \n",
       "\" style=\"fill:none;stroke:#000000;stroke-linecap:square;stroke-linejoin:miter;stroke-width:0.8;\"/>\n",
       "   </g>\n",
       "   <g id=\"patch_4\">\n",
       "    <path d=\"M 80.64 77.14 \n",
       "L 80.64 7.2 \n",
       "\" style=\"fill:none;stroke:#000000;stroke-linecap:square;stroke-linejoin:miter;stroke-width:0.8;\"/>\n",
       "   </g>\n",
       "   <g id=\"patch_5\">\n",
       "    <path d=\"M 10.7 77.14 \n",
       "L 80.64 77.14 \n",
       "\" style=\"fill:none;stroke:#000000;stroke-linecap:square;stroke-linejoin:miter;stroke-width:0.8;\"/>\n",
       "   </g>\n",
       "   <g id=\"patch_6\">\n",
       "    <path d=\"M 10.7 7.2 \n",
       "L 80.64 7.2 \n",
       "\" style=\"fill:none;stroke:#000000;stroke-linecap:square;stroke-linejoin:miter;stroke-width:0.8;\"/>\n",
       "   </g>\n",
       "  </g>\n",
       "  <g id=\"axes_2\">\n",
       "   <g id=\"patch_7\">\n",
       "    <path d=\"M 94.94 77.14 \n",
       "L 164.88 77.14 \n",
       "L 164.88 7.2 \n",
       "L 94.94 7.2 \n",
       "z\n",
       "\" style=\"fill:#ffffff;\"/>\n",
       "   </g>\n",
       "   <g clip-path=\"url(#p631f324e86)\">\n",
       "    <image height=\"70\" id=\"imagecb13d95e0e\" transform=\"scale(1 -1)translate(0 -70)\" width=\"70\" x=\"94.94\" xlink:href=\"data:image/png;base64,\n",
       "iVBORw0KGgoAAAANSUhEUgAAAEYAAABGCAYAAABxLuKEAAAABHNCSVQICAgIfAhkiAAAAsNJREFUeJztmr9LemEUxp9+EEFKQTREc+rs7hAEjUFLi4ubkxA6uLQn6uQgFPQPBC3R0hAODv4FkuAgRE4RQT9oyqb3fG/YQ9+v3/veDJ7PdDj3cu/h8Tkvr+e+M6PRaAQxxuxPFzCtSBiChCFIGIKEIUgYgoQhzIf9wOfnZwBANpu13MXFBQAgmUxartvthv3qUJFjCKE75u7uDgBweXkZ9qMjRY4hSBiChCFIGELoi28sFgMAbGxsWO729hYAMBgMLFepVAAAxWLxTzHzoZczMXIMQcIQZnxN8EqlksX1eh0AMDs7/js8PDxYvLy87KOUiZBjCN4cE2Rubg7A1465vr62OJPJ+C7lr5FjCBKGEEkrra+vAwDu7+/Hru3s7Fh8fn4OAFhYWPBd0rfIMYRIHONGEdvb25br9/tj9+VyOQDA8fGx75K+RY4hSBhCJK3kODw8tPjo6IjeNxwOLV5bW/NaE0OOIUTqmMfHR4tXV1fpfQcHBxbXajWvNTHkGIKEIUQ6MltZWbG40+kA+LzzfXp6AvB5j/Py8gIAWFpaiqJEQ44hRLr4foX7fAsAe3t7AID393fL7e/vAwBOT08tt7i46L0uOYYgYQg/3krBvc3u7i4AoN1uW85N/RqNhuXy+bz3uuQYwo87Jsjr6ysAIB6PW845JrhTbrVaAIBUKuWtFjmGIGEIU9VKjnK5bHG1Wh277vY7Z2dn3mqQYwhT6ZjgfyU3J3Zz4yBXV1cWb21thVqDHEOQMISpbKUg7jxwsFXcCYl0Om0511bB8cT/HESSYwhT7xhHs9m0uFAojF13o4qbmxvLbW5uTvw+OYYgYQjTc0zyGxKJhMVugvf29ubtfXIM4dcsvkFOTk4AfB5YucW31+tZLuiyf0WOIUgYwq9spSiQYwgShiBhCBKGIGEIEoYgYQgShiBhCBKGIGEIH+7ozA+FNlQgAAAAAElFTkSuQmCC\" y=\"-7.14\"/>\n",
       "   </g>\n",
       "   <g id=\"matplotlib.axis_3\"/>\n",
       "   <g id=\"matplotlib.axis_4\"/>\n",
       "   <g id=\"patch_8\">\n",
       "    <path d=\"M 94.94 77.14 \n",
       "L 94.94 7.2 \n",
       "\" style=\"fill:none;stroke:#000000;stroke-linecap:square;stroke-linejoin:miter;stroke-width:0.8;\"/>\n",
       "   </g>\n",
       "   <g id=\"patch_9\">\n",
       "    <path d=\"M 164.88 77.14 \n",
       "L 164.88 7.2 \n",
       "\" style=\"fill:none;stroke:#000000;stroke-linecap:square;stroke-linejoin:miter;stroke-width:0.8;\"/>\n",
       "   </g>\n",
       "   <g id=\"patch_10\">\n",
       "    <path d=\"M 94.94 77.14 \n",
       "L 164.88 77.14 \n",
       "\" style=\"fill:none;stroke:#000000;stroke-linecap:square;stroke-linejoin:miter;stroke-width:0.8;\"/>\n",
       "   </g>\n",
       "   <g id=\"patch_11\">\n",
       "    <path d=\"M 94.94 7.2 \n",
       "L 164.88 7.2 \n",
       "\" style=\"fill:none;stroke:#000000;stroke-linecap:square;stroke-linejoin:miter;stroke-width:0.8;\"/>\n",
       "   </g>\n",
       "  </g>\n",
       "  <g id=\"axes_3\">\n",
       "   <g id=\"patch_12\">\n",
       "    <path d=\"M 179.18 77.14 \n",
       "L 249.12 77.14 \n",
       "L 249.12 7.2 \n",
       "L 179.18 7.2 \n",
       "z\n",
       "\" style=\"fill:#ffffff;\"/>\n",
       "   </g>\n",
       "   <g clip-path=\"url(#p4fa130a1b6)\">\n",
       "    <image height=\"70\" id=\"imaged8e64e6153\" transform=\"scale(1 -1)translate(0 -70)\" width=\"70\" x=\"179.18\" xlink:href=\"data:image/png;base64,\n",
       "iVBORw0KGgoAAAANSUhEUgAAAEYAAABGCAYAAABxLuKEAAAABHNCSVQICAgIfAhkiAAAA/1JREFUeJztmssrbWEYxn8ORe6RWzFwSZKZgYmBXEKMDCgpA5n4A5gZkYGQEqJcQgyUkiklhAEZGGAml5SUWy65ndH3Ws7en2Ofs9l78P5Gb89ee6+vZz/vWt/6vhXw9vb2huLCL18PwF9RYyyoMRbUGAtqjAU1xoIaY0GNsaDGWFBjLKgxFtQYC0GefuHx8VHq9fV1ANbW1kRLSkoCoKamRrSQkBAAAgMD/22UPkATYyHA02WH/Px8qTc2Nr70nbq6OgBKSkpEKy8vByA6Olq0X7/853/yn5H4GWqMBY9bKTk5WeqzszPg/eIKkJubC8DV1ZVou7u71t8bGBiQuqGhAfCPlvL9CPwUjxMzPz8vdVVVFQDh4eGiLSwsAO/JATg4OABgcHBQtMnJSQDu7+9F6+vrA6C2tla0yMhIT4bHysqK1MPDwy6f9/T0ABAbG/vp72hiLKgxFjxupdfXV6lNLFtaWkSLiIgAYGxsTLTS0lLg40X68PAQgMbGRtGWlpYAyMnJEW1mZgaArKws0czse39/X7SRkREAxsfHRbu5uXEZf1paGvDe3jY0MRY8ToyTl5cXAHp7e0Vrbm52Oc5cTIeGhkQz6bm7uxOtsrISgOXlZdGCg4MB6OzsFG1nZweA0dFRl3NVV1dL3draCny8ORic0w53aGIsqDEW/quVDKal4D3meXl5Lsf19/dLXVRUBEB6erpoZk5TXFws2ubm5pfGYNrPed6gII9XVQRNjAWvJMaJSc/x8bFoBQUFABwdHYkWGhoKQExMjGhmKWJ6elq029tbl3MkJiYC0NHRIZq5wHtrMUwTY0GNseD1VnLH09MTAKenp6KZOYZ5mHTinF27W4JISUkBYHt7WzRnS3oDTYyFH0nMZ8zOzkp9fX0NgHNIAQEBAExNTYlmbs0VFRWizc3NAd5b5NLEWFBjLPi8lb6K8+G0u7vb5fO9vT0AMjIyvHI+TYyFf3+Y+AvORaKJiQkAysrKREtISAAgLCzsS79XWFgotbvEeBtNjAU1xsK3tVJTU5PUzodCQ2ZmJvCxRdrb2wGIiopyOT4+Pt7bQ/wUTYyFb7tdLy4uSm12Cf5GdnY2AKurq6KZDbeLiwvRzIXbid6ufwg1xsK3tdLDw4PUbW1twMc3G5xvQ/yJc8PNPDA+Pz+Lpq3kQ370Wen8/Fxqs0nn3KwzuwTOIaWmpgIf307Y2toCPibH7E7ExcV5ZayaGAtqjAWfLztcXl5K3dXVBby/9QCfb7iZdeM/a2+gibHg88S4w/n2udlhcM6GT05OAKivrxftf7Zj3aGJsaDGWPDLVvIHNDEW1BgLaowFNcaCGmNBjbGgxlhQYyyoMRbUGAtqjIXfSBNPJtQzwQ4AAAAASUVORK5CYII=\" y=\"-7.14\"/>\n",
       "   </g>\n",
       "   <g id=\"matplotlib.axis_5\"/>\n",
       "   <g id=\"matplotlib.axis_6\"/>\n",
       "   <g id=\"patch_13\">\n",
       "    <path d=\"M 179.18 77.14 \n",
       "L 179.18 7.2 \n",
       "\" style=\"fill:none;stroke:#000000;stroke-linecap:square;stroke-linejoin:miter;stroke-width:0.8;\"/>\n",
       "   </g>\n",
       "   <g id=\"patch_14\">\n",
       "    <path d=\"M 249.12 77.14 \n",
       "L 249.12 7.2 \n",
       "\" style=\"fill:none;stroke:#000000;stroke-linecap:square;stroke-linejoin:miter;stroke-width:0.8;\"/>\n",
       "   </g>\n",
       "   <g id=\"patch_15\">\n",
       "    <path d=\"M 179.18 77.14 \n",
       "L 249.12 77.14 \n",
       "\" style=\"fill:none;stroke:#000000;stroke-linecap:square;stroke-linejoin:miter;stroke-width:0.8;\"/>\n",
       "   </g>\n",
       "   <g id=\"patch_16\">\n",
       "    <path d=\"M 179.18 7.2 \n",
       "L 249.12 7.2 \n",
       "\" style=\"fill:none;stroke:#000000;stroke-linecap:square;stroke-linejoin:miter;stroke-width:0.8;\"/>\n",
       "   </g>\n",
       "  </g>\n",
       "  <g id=\"axes_4\">\n",
       "   <g id=\"patch_17\">\n",
       "    <path d=\"M 263.42 77.14 \n",
       "L 333.36 77.14 \n",
       "L 333.36 7.2 \n",
       "L 263.42 7.2 \n",
       "z\n",
       "\" style=\"fill:#ffffff;\"/>\n",
       "   </g>\n",
       "   <g clip-path=\"url(#p85317e9803)\">\n",
       "    <image height=\"70\" id=\"image6677c4ce1d\" transform=\"scale(1 -1)translate(0 -70)\" width=\"70\" x=\"263.42\" xlink:href=\"data:image/png;base64,\n",
       "iVBORw0KGgoAAAANSUhEUgAAAEYAAABGCAYAAABxLuKEAAAABHNCSVQICAgIfAhkiAAAA4BJREFUeJztm8srfVEUxz/XsyQZmHjMTMREJgaeI0NKyciA+AM8hhQzUooZZWKGZKDkMfJIkZkMJBOJiUR5lHB/o7Mc3buOc++5x72/Wp/Rat29z95973efu886+0ai0WgUI4asdE8gUzFhFEwYBRNGwYRRMGEUTBiFnCCdPz4+ANja2pJcf38/APf395Lr6+sDoL29XXKtra0AFBYWBplCaJhjFCKJ7nxvbm4knpubA2BmZibhgaurqwEoKiqSXFtbGwADAwOSKy0tTfjaqcAco2DCKCS8lBoaGiQ+Pj5O6WScqZSXl0uup6cHgImJCcnl5AT6zfCFOUYh5dKPjY0BP2+qXmxsbEi8t7cHwO3treSmpqYAuLy8lNzw8DAA9fX1wSbrgTlGwYRRSPjm67b0+Pg4AMvLy5J7eHgA/C+lt7c3iU9OTgDo7OyU3NPTU0yfgoKCH+0BqqqqfI3nF3OMQsKOcfP5+QnA2dmZ5GpqagDIzc1NelK7u7sSd3V1AfD8/BzT7vT0VOLa2tqkx4uHOUbBhFEItJT+gqOjIwCam5tjPrOllAbCf+gISF1dXVrGNccomDAKoS0l9451dXUV+K7QAeTl5fm6zuLiYmon5hNzjELKHXN3dwdAS0uL5K6urnz1/fr6AiArK/3fV/pnkKGYMAqh3XwjkUjc2AtnCf3W3qkDp3q3+2MuoV35Pye0Z6XHx0eJV1ZWANjc3PTs49R/f3NMcXExAEtLS5JrbGwE/BfIfsMco2DCKGRU2WF/fx/4fj0CcH5+DsD7+7tn36amJgB2dnYkF6SKaI5RyCjHxOPw8BCA2dlZya2vr6vtX15eJM7Pz096XHOMggmjkPEVPGd/kp2dLbnt7W0AXl9fY9pPT09LPDo6mvS45hiF0BzjlBAg/ssy57nI7+FEd+23pKQEgOvr65h27pxzeDKZ8zTmGAUTRiG0fcza2prE3d3dMZ+XlZUBMDIyIjmvCt7BwYHEXvsYNxcXFwBUVlb6au/GHKMQ2s3XfYQsHs5xsqGhIck55vVb2AoTc4yCCaMQ2lKanJyU2Dkev7CwIDnnRhtvLxKEwcFBiSsqKpK+jjlG4U/LDu6/6ji7UvcBw46ODiC5F269vb0AzM/PS879fJUo5hgFE0Yh4yt46cIco2DCKJgwCiaMggmjYMIomDAKJoyCCaNgwiiYMAr/AAVEAnqgyEysAAAAAElFTkSuQmCC\" y=\"-7.14\"/>\n",
       "   </g>\n",
       "   <g id=\"matplotlib.axis_7\"/>\n",
       "   <g id=\"matplotlib.axis_8\"/>\n",
       "   <g id=\"patch_18\">\n",
       "    <path d=\"M 263.42 77.14 \n",
       "L 263.42 7.2 \n",
       "\" style=\"fill:none;stroke:#000000;stroke-linecap:square;stroke-linejoin:miter;stroke-width:0.8;\"/>\n",
       "   </g>\n",
       "   <g id=\"patch_19\">\n",
       "    <path d=\"M 333.36 77.14 \n",
       "L 333.36 7.2 \n",
       "\" style=\"fill:none;stroke:#000000;stroke-linecap:square;stroke-linejoin:miter;stroke-width:0.8;\"/>\n",
       "   </g>\n",
       "   <g id=\"patch_20\">\n",
       "    <path d=\"M 263.42 77.14 \n",
       "L 333.36 77.14 \n",
       "\" style=\"fill:none;stroke:#000000;stroke-linecap:square;stroke-linejoin:miter;stroke-width:0.8;\"/>\n",
       "   </g>\n",
       "   <g id=\"patch_21\">\n",
       "    <path d=\"M 263.42 7.2 \n",
       "L 333.36 7.2 \n",
       "\" style=\"fill:none;stroke:#000000;stroke-linecap:square;stroke-linejoin:miter;stroke-width:0.8;\"/>\n",
       "   </g>\n",
       "  </g>\n",
       "  <g id=\"axes_5\">\n",
       "   <g id=\"patch_22\">\n",
       "    <path d=\"M 347.66 77.14 \n",
       "L 417.6 77.14 \n",
       "L 417.6 7.2 \n",
       "L 347.66 7.2 \n",
       "z\n",
       "\" style=\"fill:#ffffff;\"/>\n",
       "   </g>\n",
       "   <g clip-path=\"url(#p9d2c25db34)\">\n",
       "    <image height=\"70\" id=\"image981005a2b2\" transform=\"scale(1 -1)translate(0 -70)\" width=\"70\" x=\"347.66\" xlink:href=\"data:image/png;base64,\n",
       "iVBORw0KGgoAAAANSUhEUgAAAEYAAABGCAYAAABxLuKEAAAABHNCSVQICAgIfAhkiAAAAwpJREFUeJztmr0vbFEUxX+DhCAiEg0RkRAkJKIRQuOr8hfQK1UajUKikKhUolNpUCg0IqFCIREFOoVEg9ZXYV519sxE9s29Y+7z5mX9mtlZMedsa9a598yZm8lms1nENyp+u4F/FRnjIGMcZIyDjHGQMQ4yxqHqtxuIy/HxsdVTU1MALC0tmba6ulrS+ZQYh7JJzN7entV/Y7OuxDjIGIeyWUr5ZDKZ1OdQYhzKMjGB8fHx1MZWYhxkjENZLqWwj6moSO9zVWIcyjIx4Xbd3t6e2hxKjIOMcZAxDjLGoSwvvoH9/X2rFxcXSzq2EuMgYxwycX+73t7eBuDk5CTxJLOzswB0dnaa1tHRkWiMw8NDq2dmZgDo6ekx7ebmJnFfUSgxDpGJWV5etjqcwjc1NZnW3d3tDnx2dmZ1mKKqKnetr6+vB2BoaMi00dFRAMbGxkwbGBgAoK6uzrS2tjYAnp+fTfv8/HR7KQYlxkHGOETuY15fX60Oy+Hg4MC04eFh972Pj49Wf319AXB6emra/f09ULgE1tfXAVhbWzMtLKHp6WnT3t7eCsYFeHp6AqC5uTnqX4qNEuOQeOfb2NgY6+9aWlq+aXNzc5HvWVlZAeDj48O0y8tLALa2tkx7f38HChNze3sLKDGpI2McEi+li4sLq3t7e0vaTKC6utrqkZGRglfILeeNjQ3TFhYWADg/Pzetpqam6B6UGIfIxPT19X3Trq6uUmsmLmEXvru7a9r19TVQePtXYlJAxjhELqX83WZtbW3qzcQl7Ib7+/tNCzvtl5cX0xoaGoqeQ4lxiExM/u61tbU19WaSkn8EEjg6OrJ6fn6+6LGVGAcZ4xB751tZWZlmH0Wxublp9c7ODpD7MvlTlBiH2IkJ30Xu7u5SayYp4dwYck+J5z9B/pPDKyXGQcY4xF5KExMTAAwODqbWTFLyn/ft6uoC4OHhoSRjKzEOsX+i/dcJt+nJyUnTwhGJLr4lRMY4/DdLqdQoMQ4yxkHGOMgYBxnjIGMcZIyDjHGQMQ4yxkHGOPwBwM636qLDffYAAAAASUVORK5CYII=\" y=\"-7.14\"/>\n",
       "   </g>\n",
       "   <g id=\"matplotlib.axis_9\"/>\n",
       "   <g id=\"matplotlib.axis_10\"/>\n",
       "   <g id=\"patch_23\">\n",
       "    <path d=\"M 347.66 77.14 \n",
       "L 347.66 7.2 \n",
       "\" style=\"fill:none;stroke:#000000;stroke-linecap:square;stroke-linejoin:miter;stroke-width:0.8;\"/>\n",
       "   </g>\n",
       "   <g id=\"patch_24\">\n",
       "    <path d=\"M 417.6 77.14 \n",
       "L 417.6 7.2 \n",
       "\" style=\"fill:none;stroke:#000000;stroke-linecap:square;stroke-linejoin:miter;stroke-width:0.8;\"/>\n",
       "   </g>\n",
       "   <g id=\"patch_25\">\n",
       "    <path d=\"M 347.66 77.14 \n",
       "L 417.6 77.14 \n",
       "\" style=\"fill:none;stroke:#000000;stroke-linecap:square;stroke-linejoin:miter;stroke-width:0.8;\"/>\n",
       "   </g>\n",
       "   <g id=\"patch_26\">\n",
       "    <path d=\"M 347.66 7.2 \n",
       "L 417.6 7.2 \n",
       "\" style=\"fill:none;stroke:#000000;stroke-linecap:square;stroke-linejoin:miter;stroke-width:0.8;\"/>\n",
       "   </g>\n",
       "  </g>\n",
       "  <g id=\"axes_6\">\n",
       "   <g id=\"patch_27\">\n",
       "    <path d=\"M 10.7 196.933887 \n",
       "L 80.64 196.933887 \n",
       "L 80.64 126.993887 \n",
       "L 10.7 126.993887 \n",
       "z\n",
       "\" style=\"fill:#ffffff;\"/>\n",
       "   </g>\n",
       "   <g clip-path=\"url(#p5c57f36a99)\">\n",
       "    <image height=\"70\" id=\"image6d5d84e054\" transform=\"scale(1 -1)translate(0 -70)\" width=\"70\" x=\"10.7\" xlink:href=\"data:image/png;base64,\n",
       "iVBORw0KGgoAAAANSUhEUgAAAEYAAABGCAYAAABxLuKEAAAABHNCSVQICAgIfAhkiAAAA7FJREFUeJztm00ofWsUxn+Hv8+YEGNlYMBAPgbChJKMSCllrBiIAQNKoTCgKCYKKQNFDMwwo4iBGEhGRCjlK/KRjzu47YXOWe52bee43fUbrZ7es9/Vc5532+fdL9/r6+srhh9hoW7gt2LGKJgxCmaMghmjYMYomDEKf9wO7O/vB6ClpeXTcVlZWQBUV1e/TfLn72lqa2tFi46Odt9lCLDEKPjcPvnu7+8D0N3dLdrS0hIABwcHriaLjY2VuqurC4D6+nrRIiMjXV0nGFhiFMwYBddLKRB3d3cANDY2iraysgLA7u6uq2uUlZVJ3d7eDkBmZqZoERER/7a9b2GJUfhWYgJxe3sLwOHhoWg1NTUAbG5uurpGSUmJ1B0dHQDk5uaK5vP5vt3nP2GJUTBjFDxfSoG4ubkBYH5+XrTOzk4A9vb2XF2jqKhI6t7eXgCys7O9atEPS4xCUBITiLOzMwCGh4dFGx8fB+Do6OjTz4aHhwNQVVUl2uTkpKf9WWIUzBiFkC2lQBwfHwMwOzsr2urqKgBTU1N+4/Py8qReXl4GvHvGscQo/KrEfEZUVJTUT09PwNsGGMD29jYAaWlpnsxniVEwYxRc7/kGk/v7e6nX1tYAeH5+9htXXl4utVdLyMESo/CrEnNycgJAU1OTaNPT037j2traAGhubv6xXiwxCmaMQsiX0vr6utSlpaUAXF1d+Y0bGxuTurKyEoC4uLgf68sSoxCyJ9/z83MAUlNTRUtISAA+/hnOz88HoKKiQjTb8w0hZoxCUG++j4+PUjsnH66vr0Vztg4yMjKC2VZALDEKQU3MwMCA1HNzc8DHm2p6enow2/kUS4yCGaPwY0vp4eFBaudA0MXFhd+4hoYGqYPxfOIWS4yC50++GxsbAMzMzIjm7OY7v3HeU1BQIPXi4iLw8cjZ6ekpAIODg6L19PR42HFgLDEKZoyCJ0vJOXIGkJOTA7g/avYe58BQYmKiaM7Lt/evTwLdxL3GEqPgSWLen05wDhZ6/a2Ghb19h85NOiYmxm9ccnKy1M5GVlJS0tfn+/In/ieYMQqeP8c4+7XvX5BtbW0BsLCwINrl5SUAIyMjX54jJSUFgOLiYtFGR0cBiI+PF62wsBCAvr4+0dy+mLPEKIRsz/fl5QX4+JsqEBMTE8Db+WGAnZ0d4OM2RmtrKwBDQ0OiOTdn51+KAOrq6lz1Z4lRMGMU/jMHh4KNJUbBjFEwYxTMGAUzRsGMUTBjFMwYBTNGwYxRMGMU/gLdTBXf4klRuAAAAABJRU5ErkJggg==\" y=\"-126.933887\"/>\n",
       "   </g>\n",
       "   <g id=\"matplotlib.axis_11\"/>\n",
       "   <g id=\"matplotlib.axis_12\"/>\n",
       "   <g id=\"patch_28\">\n",
       "    <path d=\"M 10.7 196.933887 \n",
       "L 10.7 126.993887 \n",
       "\" style=\"fill:none;stroke:#000000;stroke-linecap:square;stroke-linejoin:miter;stroke-width:0.8;\"/>\n",
       "   </g>\n",
       "   <g id=\"patch_29\">\n",
       "    <path d=\"M 80.64 196.933887 \n",
       "L 80.64 126.993887 \n",
       "\" style=\"fill:none;stroke:#000000;stroke-linecap:square;stroke-linejoin:miter;stroke-width:0.8;\"/>\n",
       "   </g>\n",
       "   <g id=\"patch_30\">\n",
       "    <path d=\"M 10.7 196.933887 \n",
       "L 80.64 196.933887 \n",
       "\" style=\"fill:none;stroke:#000000;stroke-linecap:square;stroke-linejoin:miter;stroke-width:0.8;\"/>\n",
       "   </g>\n",
       "   <g id=\"patch_31\">\n",
       "    <path d=\"M 10.7 126.993887 \n",
       "L 80.64 126.993887 \n",
       "\" style=\"fill:none;stroke:#000000;stroke-linecap:square;stroke-linejoin:miter;stroke-width:0.8;\"/>\n",
       "   </g>\n",
       "  </g>\n",
       "  <g id=\"axes_7\">\n",
       "   <g id=\"patch_32\">\n",
       "    <path d=\"M 94.94 196.933887 \n",
       "L 164.88 196.933887 \n",
       "L 164.88 126.993887 \n",
       "L 94.94 126.993887 \n",
       "z\n",
       "\" style=\"fill:#ffffff;\"/>\n",
       "   </g>\n",
       "   <g clip-path=\"url(#pa09b0ef54a)\">\n",
       "    <image height=\"70\" id=\"imageef96b41baf\" transform=\"scale(1 -1)translate(0 -70)\" width=\"70\" x=\"94.94\" xlink:href=\"data:image/png;base64,\n",
       "iVBORw0KGgoAAAANSUhEUgAAAEYAAABGCAYAAABxLuKEAAAABHNCSVQICAgIfAhkiAAAA/RJREFUeJztmksodW0Ux3+HL5dyK8lECSUGQm4DGcmAueQSyUSRIjJRLmVkiDISJTIgAylSxEBGGDAQIhkxkktKfJP3WWf79n5efLbDYP1Gq//Zzl5n+T/PWevZJ/D6+vqK4iLspxP4rWhhLGhhLGhhLGhhLGhhLGhhLGhhLGhhLGhhLGhhLGhhLGhhLGhhLPzj9xvu7+8DMDw8LNri4iIAgUDAdX1XV5fEBQUFAOTn54uWmZnpd4ofQh1jQQtjIeDHCd7l5aXEOTk5ANzd3YlmbuG1lLyIi4uTuKOjA4CBgYGvpvkp1DEWfHHM2dmZxF6b5fHxMQCHh4eiNTU1AXB7e+u63plScnIyACsrK6Ll5eV9MeP3UcdY0MJY8KWPWVpacmnNzc0Sp6enAxAZGSlafHw88HYpdXZ2ArCwsCDa4+MjAD09PaKZvsj5fhEREf//A3igjrHge+drNs739vSXlxfXdYWFhQCMjIyIdnNzA0BpaaloCQkJAMzOzopWU1PzlbRdqGMsaGEs+NLHTE9PS9zS0uJ6/fn52aVVVVUBsLa25nrt6OhIYtMXvdcrmaG1t7f3o2n/FXWMBV8cc3BwILE5OnAyNjYGQGtrq2j39/cAtLW1iTYzMwN4z0p9fX2imQ25srJStIuLizfXw9fmK3WMBS2MBV+W0tPTk8TLy8vA274iJSUFgO7ubtHa29uB4LIAGBoaAmB8fFw0M0RWV1eLZrrgh4cH0bKzswHIzc0VbWNjAwh22Z9BHWPBF8c42dvbA6CoqEg0c4uMjAzRdnZ2AEhMTBTt6uoKgP7+ftGmpqZc94iJiQGCMxgEvwAqKipEm5+fB9QxvqKFseD7UjIbcV1dnWjmmCAsLPh/ODk5ASAtLc31HnNzc8EE/5wTO5eX+VsnZih1HmPExsZ+/gP8QR1j4duOHYqLi0UzB1nOpwTb29uAt2Nqa2tdWnh4uMTOucng14xkUMdY0MJY8H0pRUVFAVBeXv7X60zH69wsncPjf3F2vqFAHWPB969rL8zxwNbWlmipqalAcBOGt13wT6OOsaCFsRCSpWQYHR2V2Dxcq6+vF82c9H2lY/ULdYyFkDrGeShlHqB5zT27u7sSm4dwoUYdY0ELYyGkS8mJGQS9Hp45U9rc3ASgrKwsJHkZ1DEWfJ+VPoqZixoaGkQzD9ycnJ+fA5CUlCRaVlbW9yaHOsaKFsbCj22+BvMMG4JHC6urq6KZU7+SkhLR1tfXAYiOjv62vNQxFn7cMV4MDg5KPDExAcD19bVojY2NAExOTn5bDuoYC1oYC79yKTnx+tWm+ena6enpt91XHWPh1zvmp1DHWNDCWNDCWNDCWPgX2QxNOHKsDdEAAAAASUVORK5CYII=\" y=\"-126.933887\"/>\n",
       "   </g>\n",
       "   <g id=\"matplotlib.axis_13\"/>\n",
       "   <g id=\"matplotlib.axis_14\"/>\n",
       "   <g id=\"patch_33\">\n",
       "    <path d=\"M 94.94 196.933887 \n",
       "L 94.94 126.993887 \n",
       "\" style=\"fill:none;stroke:#000000;stroke-linecap:square;stroke-linejoin:miter;stroke-width:0.8;\"/>\n",
       "   </g>\n",
       "   <g id=\"patch_34\">\n",
       "    <path d=\"M 164.88 196.933887 \n",
       "L 164.88 126.993887 \n",
       "\" style=\"fill:none;stroke:#000000;stroke-linecap:square;stroke-linejoin:miter;stroke-width:0.8;\"/>\n",
       "   </g>\n",
       "   <g id=\"patch_35\">\n",
       "    <path d=\"M 94.94 196.933887 \n",
       "L 164.88 196.933887 \n",
       "\" style=\"fill:none;stroke:#000000;stroke-linecap:square;stroke-linejoin:miter;stroke-width:0.8;\"/>\n",
       "   </g>\n",
       "   <g id=\"patch_36\">\n",
       "    <path d=\"M 94.94 126.993887 \n",
       "L 164.88 126.993887 \n",
       "\" style=\"fill:none;stroke:#000000;stroke-linecap:square;stroke-linejoin:miter;stroke-width:0.8;\"/>\n",
       "   </g>\n",
       "  </g>\n",
       "  <g id=\"axes_8\">\n",
       "   <g id=\"patch_37\">\n",
       "    <path d=\"M 179.18 196.933887 \n",
       "L 249.12 196.933887 \n",
       "L 249.12 126.993887 \n",
       "L 179.18 126.993887 \n",
       "z\n",
       "\" style=\"fill:#ffffff;\"/>\n",
       "   </g>\n",
       "   <g clip-path=\"url(#p88966d9f81)\">\n",
       "    <image height=\"70\" id=\"imaged4317e048d\" transform=\"scale(1 -1)translate(0 -70)\" width=\"70\" x=\"179.18\" xlink:href=\"data:image/png;base64,\n",
       "iVBORw0KGgoAAAANSUhEUgAAAEYAAABGCAYAAABxLuKEAAAABHNCSVQICAgIfAhkiAAAA4dJREFUeJztms0rfFEYxz/DT0nKSsmChRV5SdhZWAqhLKSQlR0LC/kDJAs2rJQkIcVKUbIQKyTlJUqRHZEUFl6S3+o8M9P1MC93xiyez+r0vXfOefre7zlz77k38PX19YXhIe2vC0hVzBiFf353eH5+DkBZWZlou7u7AFRXV/s9XMKwxCj4npi1tTWP1tXVBcDOzo5oubm5fg/tK5YYBTNGwfep1NnZCcDJyYloCwsLAExOTorW19cHpO6UssQo+J6YvLw8AHJycjzHRkZGpF1VVQVAS0uL3yX4giVGwYxRCCTqIfL+/l7a4+PjAIyNjYlWXl4OwNbWlmjfTb+/whKjkLDEhHJ3dwdAfn6+51hJSYm0j4+PE11KxFhiFMwYhaRMpbe3NwAGBgZEm5qa8py3tLQEQFtbm2iBQCDB1X2PJUYhKYlxfHx8SHtzcxOA5uZm0Vwp7jkKYHR0FIDMzMxklChYYhTMGIWkTqVQPj8/Aeju7hbNLb6hC+7KygoQ/rCZjAXZEqPg+7ZDpKSnpwPhbw4WFxcBSEsLXi/31317eytaMja3LDEKZozCny2+3+Gm13eL6+rqqrQbGhoSXoslRiGlEnN4eAhAbW2taO/v7wBkZGSI5v7WE7lfbIlRMGMU4ppKe3t7AAwODorm7jFmZ2dFy87OjqrfmZkZaff29nqO19TUAMEH0VjG+A1LjEJcieno6ABgeXnZc6yxsVHabuuguLg4on5fX1+lvb+/D0Bra6toT09PcY/xG5YYBTNGIa6pdHp6CoTfd7y8vHjOKyoqAmB9fd2jRUpPT4+05+fnPceHh4cBGBoaiqpfDUuMQlzbDqWlpQDU19eL5jaWQrm8vASgoqJCtLm5OSD41QNAYWGhOlZBQcGPtbj++vv7RcvKyvrxNz9hiVEwYxR8eYg8OzuTtrvfuLq6irqfm5sbIPwu1i3mDw8PojU1NQFwfX3t6aO9vV3a7hO3WLDEKPi+7eCusPu2F+Do6Mhz3uPjIwDPz8+iuVLq6upE297ejmr80AXcLfqxYIlRMGMU/mwH7+LiAghfuDc2NgCYnp4WLdLy3CsXd28FwR3BWLDEKKTUnq/DvXiD4BZE6JfmExMTnt9UVlYCcHBw4EsNlhgFM0YhJadSKmCJUTBjFMwYBTNGwYxRMGMUzBgFM0bBjFEwYxTMGAUzRsGMUTBjFMwYBTNG4T+KbBbwsyKEFAAAAABJRU5ErkJggg==\" y=\"-126.933887\"/>\n",
       "   </g>\n",
       "   <g id=\"matplotlib.axis_15\"/>\n",
       "   <g id=\"matplotlib.axis_16\"/>\n",
       "   <g id=\"patch_38\">\n",
       "    <path d=\"M 179.18 196.933887 \n",
       "L 179.18 126.993887 \n",
       "\" style=\"fill:none;stroke:#000000;stroke-linecap:square;stroke-linejoin:miter;stroke-width:0.8;\"/>\n",
       "   </g>\n",
       "   <g id=\"patch_39\">\n",
       "    <path d=\"M 249.12 196.933887 \n",
       "L 249.12 126.993887 \n",
       "\" style=\"fill:none;stroke:#000000;stroke-linecap:square;stroke-linejoin:miter;stroke-width:0.8;\"/>\n",
       "   </g>\n",
       "   <g id=\"patch_40\">\n",
       "    <path d=\"M 179.18 196.933887 \n",
       "L 249.12 196.933887 \n",
       "\" style=\"fill:none;stroke:#000000;stroke-linecap:square;stroke-linejoin:miter;stroke-width:0.8;\"/>\n",
       "   </g>\n",
       "   <g id=\"patch_41\">\n",
       "    <path d=\"M 179.18 126.993887 \n",
       "L 249.12 126.993887 \n",
       "\" style=\"fill:none;stroke:#000000;stroke-linecap:square;stroke-linejoin:miter;stroke-width:0.8;\"/>\n",
       "   </g>\n",
       "  </g>\n",
       "  <g id=\"axes_9\">\n",
       "   <g id=\"patch_42\">\n",
       "    <path d=\"M 263.42 196.933887 \n",
       "L 333.36 196.933887 \n",
       "L 333.36 126.993887 \n",
       "L 263.42 126.993887 \n",
       "z\n",
       "\" style=\"fill:#ffffff;\"/>\n",
       "   </g>\n",
       "   <g clip-path=\"url(#p6cfb3e43dc)\">\n",
       "    <image height=\"70\" id=\"imagea37fcb582f\" transform=\"scale(1 -1)translate(0 -70)\" width=\"70\" x=\"263.42\" xlink:href=\"data:image/png;base64,\n",
       "iVBORw0KGgoAAAANSUhEUgAAAEYAAABGCAYAAABxLuKEAAAABHNCSVQICAgIfAhkiAAAA8lJREFUeJztmksodV0Yx3+v+6UkkVJmykjKLUopl2KkSEQmCuU2MFAmBgxEMVBIJGLimsxlKiVhSsklMVIGhPgG37fWe077PO/rvJbz+ur5TTz999n7PP7919r7rL1+vL+/v6N4CPvbDXxX1BgBNUZAjRFQYwTUGAE1RiDCxUWenp5svbq6CkBXV5fVKioqAKirq7NaQ0ODi6/+MjQxAj9cPPmurKzYurGx0XPcfEVKSorVBgYGAGhra7NaZGTkZ1txhiZGQI0RcDL5Hh8fe7T29nZb39zcALC9vW21np4eAIqKiqyWk5Pjoh0naGIEnCQmNTXVo93d3dl6fX0dgP39fasVFxcDUFVVZbWWlhYAhoeHXbT1KTQxAmqMgJOh9Pb2ZmvzzOL7eBQeHg5AQUGB1dbW1gDo7Oy02sjICACFhYVWq66udtFi0GhiBJwkxncCHRoaAmBra8tqh4eHAGRlZVmttLQUgKSkJKuZCdvc3v8mmhgBNUbAyVDKzMy09cbGBgBlZWVWy83NBWBubs5qTU1NAExOTlrNnHN2duairU+hiRFwkhhfTDpmZmasZpYWWltbrba8vAxAfn6+5xpHR0eu2woaTYyAGiPgZAXvd5glCN/J91c0NzfbemFh4Sta+i2aGAHnk28gpqenPdrs7Kz4+e+wAUMTI6DGCIRkKIWF/eu/efEGv56Il5aWPNrY2Jitk5OTHXYXGE2MQEgSYzg9PQ36HPOEnJaWZrX+/n4AEhIS3DQWAE2MgBojEJKh9Pr6CsD9/b3nWHp6uq3NOrBZkoCfSxCjo6NWy8vLA6C2ttZ9s/+hiREISWKurq4A2NnZ8RyrqamxdXZ2NgAHBwdW6+7uBvxv4R0dHQC8vLxYzfV+G02MgBojEJKhZLaf+Q6RjIwMAAYHB60WFRXl9xdgfHwcgNjYWKuZ1UHfFUFz3NULOk2MQEgWqqampgDo6+uz2uPjIwC9vb1WM7smzOQKEBcXB8D19bXVzDrx7e2t59yLiwurRUT8+YDQxAioMQIhGUoGs4EIoL6+XvxcTEyMrc168ebmptUuLy8955h/Y3d312olJSV/3KsmRiCkifHdxTAxMQHA+fm553O+t/VAr2vNotXJyYnV5ufnAf/d54uLi4D/rf6jaGIE1BiBkA6lj/Lw8BCwNsTHxwP+Q668vBz4+UMUYG9vD4Do6Oige9DECHzLxHyU5+dnW1dWVgL+k7XZNZGYmBj0tTUxAmqMwP96KH0lmhgBNUZAjRFQYwTUGAE1RkCNEVBjBNQYATVGQI0R+Ac+BxGeTArZDwAAAABJRU5ErkJggg==\" y=\"-126.933887\"/>\n",
       "   </g>\n",
       "   <g id=\"matplotlib.axis_17\"/>\n",
       "   <g id=\"matplotlib.axis_18\"/>\n",
       "   <g id=\"patch_43\">\n",
       "    <path d=\"M 263.42 196.933887 \n",
       "L 263.42 126.993887 \n",
       "\" style=\"fill:none;stroke:#000000;stroke-linecap:square;stroke-linejoin:miter;stroke-width:0.8;\"/>\n",
       "   </g>\n",
       "   <g id=\"patch_44\">\n",
       "    <path d=\"M 333.36 196.933887 \n",
       "L 333.36 126.993887 \n",
       "\" style=\"fill:none;stroke:#000000;stroke-linecap:square;stroke-linejoin:miter;stroke-width:0.8;\"/>\n",
       "   </g>\n",
       "   <g id=\"patch_45\">\n",
       "    <path d=\"M 263.42 196.933887 \n",
       "L 333.36 196.933887 \n",
       "\" style=\"fill:none;stroke:#000000;stroke-linecap:square;stroke-linejoin:miter;stroke-width:0.8;\"/>\n",
       "   </g>\n",
       "   <g id=\"patch_46\">\n",
       "    <path d=\"M 263.42 126.993887 \n",
       "L 333.36 126.993887 \n",
       "\" style=\"fill:none;stroke:#000000;stroke-linecap:square;stroke-linejoin:miter;stroke-width:0.8;\"/>\n",
       "   </g>\n",
       "  </g>\n",
       "  <g id=\"axes_10\">\n",
       "   <g id=\"patch_47\">\n",
       "    <path d=\"M 347.66 196.933887 \n",
       "L 417.6 196.933887 \n",
       "L 417.6 126.993887 \n",
       "L 347.66 126.993887 \n",
       "z\n",
       "\" style=\"fill:#ffffff;\"/>\n",
       "   </g>\n",
       "   <g clip-path=\"url(#pf026613810)\">\n",
       "    <image height=\"70\" id=\"image25061911d5\" transform=\"scale(1 -1)translate(0 -70)\" width=\"70\" x=\"347.66\" xlink:href=\"data:image/png;base64,\n",
       "iVBORw0KGgoAAAANSUhEUgAAAEYAAABGCAYAAABxLuKEAAAABHNCSVQICAgIfAhkiAAAA49JREFUeJztmksodGEYx3/jno2sXMqdlSzIws7CwtalUCIUKSsrOxsWlhLFRlIK2VlQkizkupEFZaMQEguXUC7f4vvOMzPNPF+++c44s3h+q6f/zJzz9J//+573vOf4vr6+vjBCiPO6gVjFjFFI8LqBcLy9vUk9MjICwNDQkGiXl5cAZGRkRK0HS4xCTCXGSUpnZ6doi4uLAHR3d4uWnp4e9V4sMQpmjIIvltYx6+vrANTW1opWX18PwPj4uGjRnHQdLDEKMZWYsrIyAI6Pj0U7PT0FoKCg4Ed7scQomDEKng+lq6srqbOzswGIi/P/X4+PjwCkpqb+aF+WGAXPV757e3tSO0nx+XxetSNYYhTMGAXPh1JhYaHXLYTFEqPg+eU6kPj4eCB48n14eADsch0zmDEKnk++R0dHXrcQFkuMgueJSUlJkfrz8xMIvldaWVkBoLGx8Uf7ssQomDEKrgyls7MzqauqqgC4vb0VrbS0FIC2tjbR2tvbAcjKyhKtrq4OgOXlZdFOTk7caPGfscQo/NfK9/X1FYDi4mLRrq+vAQg87N+2EXJzc6V2fnN+fi5aZmYmABcXF5G2GRGWGAUzRuG/htLz8zMAaWlpIZ/d3d1JnZDwe45fWloSbWFhAYDt7W3RnBvGwKHn1Lu7u6JVVFRE2vK3scQouDL5FhUViXZzcwP4L8cA09PT6jHu7++lbm5uBmBjYyPkez09PVKPjo4CkJSUFEnb38ISo2DGKLiygzc5OSl1X18fAMnJyaK1tLQAMDU1JVpiYmLIcd7f3wE4PDwUrbq6GoCXlxfRxsbGgs4VDSwxCq7v+Tr/Zn9/v/8kfy65g4ODog0MDADByQpHeXk5EH5Da2dnR+rKysoIOw6PJUbBjFGI2uMT57UxCH51zMFZswSuccINq83NTQBqampCPsvLy5PaGWpuPWaxxChELTHO/i34N7IC73Genp4A/+YUwPDwMAAlJSWifXx8ANDV1SXa/Pw8ELy1MTs7C0Bra6sr/VtiFMwYhR99dr21tSV1U1MT4L/pBP/QaGhoEM3ZzTs4OAg5XmDrvb29AExMTLjSqyVGwbO3HZwJeWZmRrTV1VUA9vf3Q74/NzcndU5ODgBra2uidXR0AJCfn+9Kf5YYBTNGIaZeHIolLDEKZoyCGaNgxiiYMQpmjIIZo2DGKJgxCmaMghmjYMYomDEKZoyCGaNgxij8AulFF+CZNZmrAAAAAElFTkSuQmCC\" y=\"-126.933887\"/>\n",
       "   </g>\n",
       "   <g id=\"matplotlib.axis_19\"/>\n",
       "   <g id=\"matplotlib.axis_20\"/>\n",
       "   <g id=\"patch_48\">\n",
       "    <path d=\"M 347.66 196.933887 \n",
       "L 347.66 126.993887 \n",
       "\" style=\"fill:none;stroke:#000000;stroke-linecap:square;stroke-linejoin:miter;stroke-width:0.8;\"/>\n",
       "   </g>\n",
       "   <g id=\"patch_49\">\n",
       "    <path d=\"M 417.6 196.933887 \n",
       "L 417.6 126.993887 \n",
       "\" style=\"fill:none;stroke:#000000;stroke-linecap:square;stroke-linejoin:miter;stroke-width:0.8;\"/>\n",
       "   </g>\n",
       "   <g id=\"patch_50\">\n",
       "    <path d=\"M 347.66 196.933887 \n",
       "L 417.6 196.933887 \n",
       "\" style=\"fill:none;stroke:#000000;stroke-linecap:square;stroke-linejoin:miter;stroke-width:0.8;\"/>\n",
       "   </g>\n",
       "   <g id=\"patch_51\">\n",
       "    <path d=\"M 347.66 126.993887 \n",
       "L 417.6 126.993887 \n",
       "\" style=\"fill:none;stroke:#000000;stroke-linecap:square;stroke-linejoin:miter;stroke-width:0.8;\"/>\n",
       "   </g>\n",
       "  </g>\n",
       " </g>\n",
       " <defs>\n",
       "  <clipPath id=\"pa5d5dfd86e\">\n",
       "   <rect height=\"69.94\" width=\"69.94\" x=\"10.7\" y=\"7.2\"/>\n",
       "  </clipPath>\n",
       "  <clipPath id=\"p631f324e86\">\n",
       "   <rect height=\"69.94\" width=\"69.94\" x=\"94.94\" y=\"7.2\"/>\n",
       "  </clipPath>\n",
       "  <clipPath id=\"p4fa130a1b6\">\n",
       "   <rect height=\"69.94\" width=\"69.94\" x=\"179.18\" y=\"7.2\"/>\n",
       "  </clipPath>\n",
       "  <clipPath id=\"p85317e9803\">\n",
       "   <rect height=\"69.94\" width=\"69.94\" x=\"263.42\" y=\"7.2\"/>\n",
       "  </clipPath>\n",
       "  <clipPath id=\"p9d2c25db34\">\n",
       "   <rect height=\"69.94\" width=\"69.94\" x=\"347.66\" y=\"7.2\"/>\n",
       "  </clipPath>\n",
       "  <clipPath id=\"p5c57f36a99\">\n",
       "   <rect height=\"69.94\" width=\"69.94\" x=\"10.7\" y=\"126.993887\"/>\n",
       "  </clipPath>\n",
       "  <clipPath id=\"pa09b0ef54a\">\n",
       "   <rect height=\"69.94\" width=\"69.94\" x=\"94.94\" y=\"126.993887\"/>\n",
       "  </clipPath>\n",
       "  <clipPath id=\"p88966d9f81\">\n",
       "   <rect height=\"69.94\" width=\"69.94\" x=\"179.18\" y=\"126.993887\"/>\n",
       "  </clipPath>\n",
       "  <clipPath id=\"p6cfb3e43dc\">\n",
       "   <rect height=\"69.94\" width=\"69.94\" x=\"263.42\" y=\"126.993887\"/>\n",
       "  </clipPath>\n",
       "  <clipPath id=\"pf026613810\">\n",
       "   <rect height=\"69.94\" width=\"69.94\" x=\"347.66\" y=\"126.993887\"/>\n",
       "  </clipPath>\n",
       " </defs>\n",
       "</svg>\n"
      ],
      "text/plain": [
       "<Figure size 432x288 with 10 Axes>"
      ]
     },
     "metadata": {},
     "output_type": "display_data"
    }
   ],
   "source": [
    "import matplotlib.pyplot as plt\n",
    "fig, ax = plt.subplots(\n",
    "    nrows= 2,\n",
    "    ncols= 5,\n",
    "    sharex=True,\n",
    "    sharey=True,\n",
    ")\n",
    "ax = ax.flatten()\n",
    "\n",
    "for i in range(10):\n",
    "    img = x_train[y_train == i][0].reshape(28,28)\n",
    "    ax[i].imshow(img,cmap = 'Greys',interpolation = 'nearest')\n",
    "ax[0].set_xticks([])\n",
    "ax[0].set_yticks([])\n",
    "plt.tight_layout()\n",
    "plt.show()"
   ]
  },
  {
   "cell_type": "code",
   "execution_count": 38,
   "metadata": {},
   "outputs": [],
   "source": [
    "# 在这个地方是不太一样的，model.fit需要接收的是one_hot格式的数据\n",
    "\n",
    "# add a channels dimension\n",
    "x_train = x_train[..., tf.newaxis]\n",
    "x_test = x_test[..., tf.newaxis]\n",
    "\n",
    "# 对标签部分的数据需要处理为one_hot格式数据\n",
    "\n",
    "y_train = tf.one_hot(y_train,depth=10) \n",
    "y_test = tf.one_hot(y_test,depth=10)\n",
    "\n",
    "train_ds = tf.data.Dataset.from_tensor_slices((x_train,y_train)).shuffle(10000).batch(32)\n",
    "\n",
    "\n",
    "test_ds = tf.data.Dataset.from_tensor_slices((x_test,y_test)).shuffle(10000).batch(32)"
   ]
  },
  {
   "cell_type": "code",
   "execution_count": 39,
   "metadata": {},
   "outputs": [
    {
     "data": {
      "text/plain": [
       "(60000, 28, 28, 1)"
      ]
     },
     "execution_count": 39,
     "metadata": {},
     "output_type": "execute_result"
    }
   ],
   "source": [
    "x_train.shape"
   ]
  },
  {
   "cell_type": "code",
   "execution_count": 40,
   "metadata": {},
   "outputs": [
    {
     "data": {
      "text/plain": [
       "(10000, 28, 28, 1)"
      ]
     },
     "execution_count": 40,
     "metadata": {},
     "output_type": "execute_result"
    }
   ],
   "source": [
    "x_test.shape"
   ]
  },
  {
   "cell_type": "code",
   "execution_count": 41,
   "metadata": {},
   "outputs": [],
   "source": [
    "# 定义模型\n",
    "class MyModel(Model):\n",
    "    def __init__(self):\n",
    "        super(MyModel,self).__init__()\n",
    "        self.conv1 = Conv2D(32,3,activation= 'relu')\n",
    "        self.flatten = Flatten()\n",
    "        self.d1 = Dense(128, activation= 'relu')\n",
    "        self.d2 = Dense(10, activation='softmax')\n",
    "\n",
    "    def call(self, x):\n",
    "        x = self.conv1(x)\n",
    "        x = self.flatten(x)\n",
    "        x = self.d1(x)\n",
    "\n",
    "        return self.d2(x)"
   ]
  },
  {
   "cell_type": "code",
   "execution_count": 42,
   "metadata": {},
   "outputs": [],
   "source": [
    "# 定义评估指标,返回的是一个正确的个数\n",
    "class CatgoricalTruePositives(tf.keras.metrics.Metric):\n",
    "    def __init__(self, name = 'categorical_true_positives', **kwargs):\n",
    "        super(CatgoricalTruePositives,self).__init__(name = name, **kwargs)\n",
    "        self.true_positives = self.add_weight(name = 'tp', initializer = 'zeros')\n",
    "\n",
    "    def update_state(self, y_true, y_pred, sample_weight = None):\n",
    "        y_pred = tf.argmax(y_pred, axis = -1)\n",
    "\n",
    "        # 此处比上面新增一个y_true的处理\n",
    "        y_true = tf.argmax(y_true, axis = -1)\n",
    "\n",
    "        values = tf.equal(tf.cast(y_true, 'int32'),tf.cast(y_pred, 'int32'))\n",
    "        values = tf.cast(values, 'float32')\n",
    "        if sample_weight is not None:\n",
    "            sample_weight = tf.cast(sample_weight, 'float32')\n",
    "            values = tf.multiply(values, sample_weight)\n",
    "        self.true_positives.assign_add(tf.reduce_sum(values))\n",
    "    \n",
    "    def result(self):\n",
    "        return self.true_positives\n",
    "    \n",
    "    def reset_states(self):\n",
    "        self.true_positives.assign(0.)\n"
   ]
  },
  {
   "cell_type": "code",
   "execution_count": 55,
   "metadata": {},
   "outputs": [],
   "source": [
    "model = MyModel()\n",
    "model.compile(optimizer = tf.keras.optimizers.Adam(0.001), #优化器\n",
    "              loss =  tf.keras.losses.CategoricalCrossentropy(), #损失函数\n",
    "              metrics = [tf.keras.metrics.CategoricalAccuracy(),\n",
    "                         CatgoricalTruePositives(),\n",
    "                        ]\n",
    "             ) #评估函数"
   ]
  },
  {
   "cell_type": "code",
   "execution_count": 56,
   "metadata": {},
   "outputs": [
    {
     "data": {
      "text/plain": [
       "TensorShape([60000, 10])"
      ]
     },
     "execution_count": 56,
     "metadata": {},
     "output_type": "execute_result"
    }
   ],
   "source": [
    "y_train.shape"
   ]
  },
  {
   "cell_type": "code",
   "execution_count": 57,
   "metadata": {},
   "outputs": [
    {
     "data": {
      "text/plain": [
       "TensorShape([10000, 10])"
      ]
     },
     "execution_count": 57,
     "metadata": {},
     "output_type": "execute_result"
    }
   ],
   "source": [
    "y_test.shape"
   ]
  },
  {
   "cell_type": "code",
   "execution_count": 58,
   "metadata": {
    "tags": []
   },
   "outputs": [
    {
     "name": "stdout",
     "output_type": "stream",
     "text": [
      "Epoch 1/5\n",
      "WARNING:tensorflow:Layer my_model_4 is casting an input tensor from dtype float64 to the layer's dtype of float32, which is new behavior in TensorFlow 2.  The layer has dtype float32 because it's dtype defaults to floatx.\n",
      "\n",
      "If you intended to run this layer in float32, you can safely ignore this warning. If in doubt, this warning is likely only an issue if you are porting a TensorFlow 1.X model to TensorFlow 2.\n",
      "\n",
      "To change all layers to have dtype float64 by default, call `tf.keras.backend.set_floatx('float64')`. To change just this layer, pass dtype='float64' to the layer constructor. If you are the author of this layer, you can disable autocasting by passing autocast=False to the base Layer constructor.\n",
      "\n",
      "1875/1875 [==============================] - 9s 5ms/step - loss: 0.1409 - categorical_accuracy: 0.9578 - categorical_true_positives: 57465.0000 - val_loss: 0.0618 - val_categorical_accuracy: 0.9796 - val_categorical_true_positives: 9796.0000\n",
      "Epoch 2/5\n",
      "1875/1875 [==============================] - 9s 5ms/step - loss: 0.0445 - categorical_accuracy: 0.9865 - categorical_true_positives: 59188.0000 - val_loss: 0.0534 - val_categorical_accuracy: 0.9827 - val_categorical_true_positives: 9827.0000\n",
      "Epoch 3/5\n",
      "1875/1875 [==============================] - 9s 5ms/step - loss: 0.0233 - categorical_accuracy: 0.9922 - categorical_true_positives: 59530.0000 - val_loss: 0.0466 - val_categorical_accuracy: 0.9851 - val_categorical_true_positives: 9851.0000\n",
      "Epoch 4/5\n",
      "1875/1875 [==============================] - 9s 5ms/step - loss: 0.0139 - categorical_accuracy: 0.9954 - categorical_true_positives: 59725.0000 - val_loss: 0.0581 - val_categorical_accuracy: 0.9827 - val_categorical_true_positives: 9827.0000\n",
      "Epoch 5/5\n",
      "1875/1875 [==============================] - 9s 5ms/step - loss: 0.0098 - categorical_accuracy: 0.9970 - categorical_true_positives: 59819.0000 - val_loss: 0.0570 - val_categorical_accuracy: 0.9830 - val_categorical_true_positives: 9830.0000\n"
     ]
    },
    {
     "data": {
      "text/plain": [
       "<tensorflow.python.keras.callbacks.History at 0x7f7edb2113a0>"
      ]
     },
     "execution_count": 58,
     "metadata": {},
     "output_type": "execute_result"
    }
   ],
   "source": [
    "model.fit(train_ds, epochs=5,validation_data=test_ds)"
   ]
  },
  {
   "cell_type": "code",
   "execution_count": null,
   "metadata": {},
   "outputs": [],
   "source": []
  }
 ],
 "metadata": {
  "kernelspec": {
   "display_name": "Python 3.8.3 64-bit",
   "language": "python",
   "name": "python38364bitcb11fcd8cdb441e4bf52994f94e346da"
  },
  "language_info": {
   "codemirror_mode": {
    "name": "ipython",
    "version": 3
   },
   "file_extension": ".py",
   "mimetype": "text/x-python",
   "name": "python",
   "nbconvert_exporter": "python",
   "pygments_lexer": "ipython3",
   "version": "3.8.3"
  }
 },
 "nbformat": 4,
 "nbformat_minor": 2
}
