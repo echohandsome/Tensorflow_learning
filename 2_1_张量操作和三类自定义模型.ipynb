{
 "cells": [
  {
   "cell_type": "code",
   "execution_count": 1,
   "metadata": {
    "ExecuteTime": {
     "end_time": "2021-05-17T11:49:33.301445Z",
     "start_time": "2021-05-17T11:49:31.804143Z"
    },
    "tags": []
   },
   "outputs": [
    {
     "name": "stdout",
     "output_type": "stream",
     "text": [
      "tf版本： 2.2.0\n"
     ]
    }
   ],
   "source": [
    "import numpy as np\n",
    "import pandas as pd\n",
    "import tensorflow as tf\n",
    "print('tf版本：',tf.__version__)\n",
    "# 检查是否存在可用的GPU\n",
    "physical_devices = tf.config.experimental.list_physical_devices('GPU')\n",
    "assert len(physical_devices) > 0, \"Not enough GPU hardware devices available\"\n",
    "# 仅在需要的时候申请显存\n",
    "tf.config.experimental.set_memory_growth(physical_devices[0], True)"
   ]
  },
  {
   "cell_type": "code",
   "execution_count": 2,
   "metadata": {
    "ExecuteTime": {
     "end_time": "2021-05-17T11:49:36.044947Z",
     "start_time": "2021-05-17T11:49:35.858745Z"
    }
   },
   "outputs": [
    {
     "name": "stdout",
     "output_type": "stream",
     "text": [
      "Mon May 17 19:49:35 2021       \r\n",
      "+-----------------------------------------------------------------------------+\r\n",
      "| NVIDIA-SMI 440.64.00    Driver Version: 440.64.00    CUDA Version: 10.2     |\r\n",
      "|-------------------------------+----------------------+----------------------+\r\n",
      "| GPU  Name        Persistence-M| Bus-Id        Disp.A | Volatile Uncorr. ECC |\r\n",
      "| Fan  Temp  Perf  Pwr:Usage/Cap|         Memory-Usage | GPU-Util  Compute M. |\r\n",
      "|===============================+======================+======================|\r\n",
      "|   0  Tesla V100-PCIE...  Off  | 00000000:AF:00.0 Off |                    0 |\r\n",
      "| N/A   36C    P0    34W / 250W |    455MiB / 32510MiB |      0%      Default |\r\n",
      "+-------------------------------+----------------------+----------------------+\r\n",
      "                                                                               \r\n",
      "+-----------------------------------------------------------------------------+\r\n",
      "| Processes:                                                       GPU Memory |\r\n",
      "|  GPU       PID   Type   Process name                             Usage      |\r\n",
      "|=============================================================================|\r\n",
      "+-----------------------------------------------------------------------------+\r\n"
     ]
    }
   ],
   "source": [
    "! nvidia-smi"
   ]
  },
  {
   "cell_type": "code",
   "execution_count": 3,
   "metadata": {
    "ExecuteTime": {
     "end_time": "2021-02-16T00:58:50.297606Z",
     "start_time": "2021-02-16T00:58:50.291239Z"
    }
   },
   "outputs": [
    {
     "name": "stdout",
     "output_type": "stream",
     "text": [
      "[PhysicalDevice(name='/physical_device:CPU:0', device_type='CPU')]\n"
     ]
    }
   ],
   "source": [
    "print(tf.config.list_physical_devices('CPU'))"
   ]
  },
  {
   "cell_type": "code",
   "execution_count": 4,
   "metadata": {
    "ExecuteTime": {
     "end_time": "2021-02-16T00:58:51.049093Z",
     "start_time": "2021-02-16T00:58:51.041971Z"
    }
   },
   "outputs": [
    {
     "name": "stdout",
     "output_type": "stream",
     "text": [
      "[PhysicalDevice(name='/physical_device:GPU:0', device_type='GPU')]\n"
     ]
    }
   ],
   "source": [
    "print(tf.config.list_physical_devices('GPU'))"
   ]
  },
  {
   "cell_type": "markdown",
   "metadata": {},
   "source": [
    "### 一、张量的操作"
   ]
  },
  {
   "cell_type": "markdown",
   "metadata": {},
   "source": [
    "- tensor定义为张量，这是最基本的数据结构。可以看成是n维array或者list。\n",
    "- 在tensorflow中的各部分流动传递的都是tensor。\n",
    "- 编写TensorFlow程序时，操作并传递的基本对象就是tf.tensor。\n",
    "- 需要定义两个内容，一是数据类型可以是float32，int32,string，二是shape维度"
   ]
  },
  {
   "cell_type": "code",
   "execution_count": 12,
   "metadata": {
    "ExecuteTime": {
     "end_time": "2021-02-16T00:58:52.383306Z",
     "start_time": "2021-02-16T00:58:52.366743Z"
    },
    "scrolled": true
   },
   "outputs": [
    {
     "name": "stdout",
     "output_type": "stream",
     "text": [
      "0\n",
      "[]\n"
     ]
    }
   ],
   "source": [
    "# 0阶张量\n",
    "mammal = tf.Variable('test',tf.string)\n",
    "tf.print(tf.rank(mammal)) # 显示阶数\n",
    "tf.print(tf.shape(mammal)) # 显示张量的结构"
   ]
  },
  {
   "cell_type": "code",
   "execution_count": 61,
   "metadata": {
    "ExecuteTime": {
     "end_time": "2021-02-16T00:58:52.555231Z",
     "start_time": "2021-02-16T00:58:52.546295Z"
    }
   },
   "outputs": [
    {
     "data": {
      "text/plain": [
       "<tf.Tensor: shape=(), dtype=int32, numpy=0>"
      ]
     },
     "execution_count": 61,
     "metadata": {},
     "output_type": "execute_result"
    }
   ],
   "source": [
    "(tf.rank(mammal))"
   ]
  },
  {
   "cell_type": "code",
   "execution_count": 17,
   "metadata": {
    "ExecuteTime": {
     "end_time": "2021-02-16T00:58:52.743224Z",
     "start_time": "2021-02-16T00:58:52.736949Z"
    }
   },
   "outputs": [],
   "source": [
    "d2_var = tf.random.uniform(shape = (2,4,3)) # 注意最后一维度是张量的最终构成维度"
   ]
  },
  {
   "cell_type": "code",
   "execution_count": 18,
   "metadata": {
    "ExecuteTime": {
     "end_time": "2021-02-16T00:58:53.097764Z",
     "start_time": "2021-02-16T00:58:53.091493Z"
    }
   },
   "outputs": [
    {
     "data": {
      "text/plain": [
       "<tf.Tensor: shape=(2, 4, 3), dtype=float32, numpy=\n",
       "array([[[0.25548053, 0.96570015, 0.834877  ],\n",
       "        [0.60000885, 0.32667875, 0.5130936 ],\n",
       "        [0.20464921, 0.95993865, 0.08188474],\n",
       "        [0.65359795, 0.0105046 , 0.54304445]],\n",
       "\n",
       "       [[0.4599303 , 0.22353292, 0.8064929 ],\n",
       "        [0.28975773, 0.8231592 , 0.12648726],\n",
       "        [0.349697  , 0.2281251 , 0.2587855 ],\n",
       "        [0.76335585, 0.867838  , 0.01459694]]], dtype=float32)>"
      ]
     },
     "execution_count": 18,
     "metadata": {},
     "output_type": "execute_result"
    }
   ],
   "source": [
    "d2_var"
   ]
  },
  {
   "cell_type": "code",
   "execution_count": 7,
   "metadata": {},
   "outputs": [
    {
     "data": {
      "text/plain": [
       "TensorShape([2, 4, 2])"
      ]
     },
     "execution_count": 7,
     "metadata": {},
     "output_type": "execute_result"
    }
   ],
   "source": [
    "d2_var.shape"
   ]
  },
  {
   "cell_type": "code",
   "execution_count": 5,
   "metadata": {
    "ExecuteTime": {
     "end_time": "2021-05-17T11:50:33.816448Z",
     "start_time": "2021-05-17T11:50:33.804996Z"
    }
   },
   "outputs": [
    {
     "name": "stdout",
     "output_type": "stream",
     "text": [
      "2\n"
     ]
    }
   ],
   "source": [
    "d3_var1 = tf.random.uniform(shape = (2,3))\n",
    "tf.print(tf.rank(d3_var1))"
   ]
  },
  {
   "cell_type": "code",
   "execution_count": 64,
   "metadata": {
    "ExecuteTime": {
     "end_time": "2021-02-16T00:58:53.293764Z",
     "start_time": "2021-02-16T00:58:53.282485Z"
    },
    "tags": []
   },
   "outputs": [
    {
     "name": "stdout",
     "output_type": "stream",
     "text": [
      "3\n",
      "[2 4 2]\n"
     ]
    }
   ],
   "source": [
    "tf.print(tf.rank(d2_var))\n",
    "tf.print(tf.shape(d2_var))"
   ]
  },
  {
   "cell_type": "code",
   "execution_count": null,
   "metadata": {},
   "outputs": [],
   "source": []
  },
  {
   "cell_type": "code",
   "execution_count": 19,
   "metadata": {
    "ExecuteTime": {
     "end_time": "2021-02-16T00:58:53.468969Z",
     "start_time": "2021-02-16T00:58:53.462272Z"
    }
   },
   "outputs": [
    {
     "name": "stdout",
     "output_type": "stream",
     "text": [
      "tf.Tensor(3, shape=(), dtype=int32)\n"
     ]
    }
   ],
   "source": [
    "print(tf.rank(d2_var)) # 第一个是rank，表示是几阶，第二个是维度，第三个是数据类型"
   ]
  },
  {
   "cell_type": "code",
   "execution_count": 66,
   "metadata": {
    "ExecuteTime": {
     "end_time": "2021-02-16T00:58:53.650588Z",
     "start_time": "2021-02-16T00:58:53.636841Z"
    }
   },
   "outputs": [
    {
     "name": "stdout",
     "output_type": "stream",
     "text": [
      "1\n",
      "[1]\n"
     ]
    }
   ],
   "source": [
    "# 1阶张量\n",
    "mystr=tf.Variable(['hello'],tf.string)\n",
    "tf.print(tf.rank(mystr))\n",
    "tf.print(tf.shape(mystr))"
   ]
  },
  {
   "cell_type": "code",
   "execution_count": 67,
   "metadata": {
    "ExecuteTime": {
     "end_time": "2021-02-16T00:58:53.834564Z",
     "start_time": "2021-02-16T00:58:53.824861Z"
    }
   },
   "outputs": [
    {
     "name": "stdout",
     "output_type": "stream",
     "text": [
      "2\n",
      "[2 1]\n"
     ]
    }
   ],
   "source": [
    "# 2阶张量\n",
    "mymat = tf.Variable([[7],[10]],tf.int16)\n",
    "tf.print(tf.rank(mymat))\n",
    "tf.print(tf.shape(mymat))"
   ]
  },
  {
   "cell_type": "code",
   "execution_count": 68,
   "metadata": {
    "ExecuteTime": {
     "end_time": "2021-02-16T00:58:54.012585Z",
     "start_time": "2021-02-16T00:58:54.004592Z"
    }
   },
   "outputs": [
    {
     "data": {
      "text/plain": [
       "TensorShape([2, 1])"
      ]
     },
     "execution_count": 68,
     "metadata": {},
     "output_type": "execute_result"
    }
   ],
   "source": [
    "mymat.get_shape()"
   ]
  },
  {
   "cell_type": "code",
   "execution_count": 69,
   "metadata": {
    "ExecuteTime": {
     "end_time": "2021-02-16T00:58:54.243256Z",
     "start_time": "2021-02-16T00:58:54.180143Z"
    }
   },
   "outputs": [
    {
     "data": {
      "text/plain": [
       "<tf.Tensor: shape=(3,), dtype=int16, numpy=array([1, 2, 3], dtype=int16)>"
      ]
     },
     "execution_count": 69,
     "metadata": {},
     "output_type": "execute_result"
    }
   ],
   "source": [
    "# 新的创建张量的方法\n",
    "tf.constant([1,2,3],dtype=tf.int16)"
   ]
  },
  {
   "cell_type": "markdown",
   "metadata": {},
   "source": [
    "![张量的基础操作](./markdown_pics/张量的基础操作.png)"
   ]
  },
  {
   "cell_type": "markdown",
   "metadata": {},
   "source": [
    "tf.random() # 随机初始化，在神经网络的迭代初始值非常常用"
   ]
  },
  {
   "cell_type": "markdown",
   "metadata": {},
   "source": [
    "tf.feature_column # 特征工程接口"
   ]
  },
  {
   "cell_type": "markdown",
   "metadata": {},
   "source": [
    "#### 张量的操作 -- tf.string"
   ]
  },
  {
   "cell_type": "code",
   "execution_count": 70,
   "metadata": {
    "ExecuteTime": {
     "end_time": "2021-02-16T00:58:55.602696Z",
     "start_time": "2021-02-16T00:58:55.463185Z"
    }
   },
   "outputs": [
    {
     "data": {
      "text/plain": [
       "<tf.Tensor: shape=(11,), dtype=string, numpy=\n",
       "array([b'h', b'e', b'l', b'l', b'o', b' ', b'w', b'o', b'r', b'l', b'd'],\n",
       "      dtype=object)>"
      ]
     },
     "execution_count": 70,
     "metadata": {},
     "output_type": "execute_result"
    }
   ],
   "source": [
    "tf.strings.bytes_split('hello world') # 切割字符串"
   ]
  },
  {
   "cell_type": "code",
   "execution_count": 71,
   "metadata": {
    "ExecuteTime": {
     "end_time": "2021-02-16T00:58:55.622701Z",
     "start_time": "2021-02-16T00:58:55.610307Z"
    }
   },
   "outputs": [
    {
     "data": {
      "text/plain": [
       "<tf.Tensor: shape=(2,), dtype=string, numpy=array([b'hello', b'world'], dtype=object)>"
      ]
     },
     "execution_count": 71,
     "metadata": {},
     "output_type": "execute_result"
    }
   ],
   "source": [
    "tf.strings.split('hello world') # 单词切割"
   ]
  },
  {
   "cell_type": "code",
   "execution_count": 72,
   "metadata": {
    "ExecuteTime": {
     "end_time": "2021-02-16T00:58:55.799470Z",
     "start_time": "2021-02-16T00:58:55.791256Z"
    }
   },
   "outputs": [
    {
     "name": "stdout",
     "output_type": "stream",
     "text": [
      "Help on function string_split_v2 in module tensorflow.python.ops.ragged.ragged_string_ops:\n",
      "\n",
      "string_split_v2(input, sep=None, maxsplit=-1, name=None)\n",
      "    Split elements of `input` based on `sep` into a `RaggedTensor`.\n",
      "    \n",
      "    Let N be the size of `input` (typically N will be the batch size). Split each\n",
      "    element of `input` based on `sep` and return a `RaggedTensor` containing the \n",
      "    split tokens. Empty tokens are ignored.\n",
      "    \n",
      "    Example:\n",
      "    \n",
      "    >>> tf.strings.split('hello world').numpy()\n",
      "     array([b'hello', b'world'], dtype=object)\n",
      "    >>> tf.strings.split(['hello world', 'a b c'])\n",
      "    <tf.RaggedTensor [[b'hello', b'world'], [b'a', b'b', b'c']]>\n",
      "    \n",
      "    If `sep` is given, consecutive delimiters are not grouped together and are\n",
      "    deemed to delimit empty strings. For example, `input` of `\"1<>2<><>3\"` and\n",
      "    `sep` of `\"<>\"` returns `[\"1\", \"2\", \"\", \"3\"]`. If `sep` is None or an empty\n",
      "    string, consecutive whitespace are regarded as a single separator, and the\n",
      "    result will contain no empty strings at the start or end if the string has\n",
      "    leading or trailing whitespace.\n",
      "    \n",
      "    Note that the above mentioned behavior matches python's str.split.\n",
      "    \n",
      "    Args:\n",
      "      input: A string `Tensor` of rank `N`, the strings to split.  If\n",
      "        `rank(input)` is not known statically, then it is assumed to be `1`.\n",
      "      sep: `0-D` string `Tensor`, the delimiter string.\n",
      "      maxsplit: An `int`. If `maxsplit > 0`, limit of the split of the result.\n",
      "      name: A name for the operation (optional).\n",
      "    \n",
      "    Raises:\n",
      "      ValueError: If sep is not a string.\n",
      "    \n",
      "    Returns:\n",
      "      A `RaggedTensor` of rank `N+1`, the strings split according to the\n",
      "      delimiter.\n",
      "\n"
     ]
    }
   ],
   "source": [
    "help(tf.strings.split) # 同样可以通过help使用文档"
   ]
  },
  {
   "cell_type": "markdown",
   "metadata": {},
   "source": [
    "与tf.string_to_hash_bucket_fast函数的作用一样,tf.string_to_hash_bucket_strong函数也是通过多个 bucket 将输入张量中的每个字符串转换为哈希模式.\n",
    "哈希函数对进程内字符串的内容是确定性的.散列函数是一个密钥散列函数,其中属性 key 定义散列函数的密钥.key 是 2 个元素的数组.\n",
    "\n",
    "当输入可能是恶意的时,强大的散列很重要,例如带有附加组件的 URL.攻击者可以尝试将他们的输入散列到同一个 bucket 中以进行拒绝服务攻击或扭曲结果.如果不是不可行的话,强大的散列通过使其难以计算散列到相同 bucket 的输入来防止这种情况.这比tf.string_to_hash_bucket_fast函数的计算时间要多出大约4倍.\n"
   ]
  },
  {
   "cell_type": "code",
   "execution_count": 73,
   "metadata": {
    "ExecuteTime": {
     "end_time": "2021-02-16T00:58:56.462564Z",
     "start_time": "2021-02-16T00:58:56.451200Z"
    }
   },
   "outputs": [
    {
     "data": {
      "text/plain": [
       "<tf.Tensor: shape=(2,), dtype=int64, numpy=array([8, 1])>"
      ]
     },
     "execution_count": 73,
     "metadata": {},
     "output_type": "execute_result"
    }
   ],
   "source": [
    "tf.strings.to_hash_bucket(['hello','world'],num_buckets = 10) # 转换为hash映射"
   ]
  },
  {
   "cell_type": "code",
   "execution_count": 74,
   "metadata": {
    "ExecuteTime": {
     "end_time": "2021-02-16T00:58:56.873070Z",
     "start_time": "2021-02-16T00:58:56.862907Z"
    }
   },
   "outputs": [
    {
     "data": {
      "text/plain": [
       "<tf.Tensor: shape=(2,), dtype=int64, numpy=array([2, 1])>"
      ]
     },
     "execution_count": 74,
     "metadata": {},
     "output_type": "execute_result"
    }
   ],
   "source": [
    "tf.strings.to_hash_bucket(['hello','world'],num_buckets = 4) # 转换为hash"
   ]
  },
  {
   "cell_type": "markdown",
   "metadata": {},
   "source": []
  },
  {
   "cell_type": "markdown",
   "metadata": {},
   "source": [
    "#### 张量的操作 -- tf.debugging"
   ]
  },
  {
   "cell_type": "code",
   "execution_count": 75,
   "metadata": {
    "ExecuteTime": {
     "end_time": "2021-02-16T00:58:58.315273Z",
     "start_time": "2021-02-16T00:58:58.306369Z"
    }
   },
   "outputs": [],
   "source": [
    "# 自带debug函数\n",
    "a = tf.random.uniform((10,10))\n",
    "tf.debugging.assert_equal(x=a.shape,y=(10,10))"
   ]
  },
  {
   "cell_type": "code",
   "execution_count": 76,
   "metadata": {
    "ExecuteTime": {
     "end_time": "2021-02-16T00:58:58.756553Z",
     "start_time": "2021-02-16T00:58:58.727665Z"
    }
   },
   "outputs": [
    {
     "ename": "InvalidArgumentError",
     "evalue": "Condition x == y did not hold.\nIndices of first 1 different values:\n[[1]]\nCorresponding x values:\n[10]\nCorresponding y values:\n[20]\nFirst 2 elements of x:\n[10 10]\nFirst 2 elements of y:\n[10 20]",
     "output_type": "error",
     "traceback": [
      "\u001b[0;31m---------------------------------------------------------------------------\u001b[0m",
      "\u001b[0;31mInvalidArgumentError\u001b[0m                      Traceback (most recent call last)",
      "\u001b[0;32m<ipython-input-76-e6ac6f73f41d>\u001b[0m in \u001b[0;36m<module>\u001b[0;34m\u001b[0m\n\u001b[1;32m      1\u001b[0m \u001b[0;31m# 可以用来断言判断是否错误\u001b[0m\u001b[0;34m\u001b[0m\u001b[0;34m\u001b[0m\u001b[0;34m\u001b[0m\u001b[0m\n\u001b[0;32m----> 2\u001b[0;31m \u001b[0mtf\u001b[0m\u001b[0;34m.\u001b[0m\u001b[0mdebugging\u001b[0m\u001b[0;34m.\u001b[0m\u001b[0massert_equal\u001b[0m\u001b[0;34m(\u001b[0m\u001b[0mx\u001b[0m\u001b[0;34m=\u001b[0m\u001b[0ma\u001b[0m\u001b[0;34m.\u001b[0m\u001b[0mshape\u001b[0m\u001b[0;34m,\u001b[0m\u001b[0my\u001b[0m\u001b[0;34m=\u001b[0m\u001b[0;34m(\u001b[0m\u001b[0;36m10\u001b[0m\u001b[0;34m,\u001b[0m\u001b[0;36m20\u001b[0m\u001b[0;34m)\u001b[0m\u001b[0;34m)\u001b[0m\u001b[0;34m\u001b[0m\u001b[0;34m\u001b[0m\u001b[0m\n\u001b[0m",
      "\u001b[0;32m~/.local/lib/python3.8/site-packages/tensorflow/python/ops/check_ops.py\u001b[0m in \u001b[0;36massert_equal_v2\u001b[0;34m(x, y, message, summarize, name)\u001b[0m\n\u001b[1;32m    646\u001b[0m       \u001b[0mexecution\u001b[0m \u001b[0;32mor\u001b[0m \u001b[0;32mif\u001b[0m\u001b[0;31m \u001b[0m\u001b[0;31m`\u001b[0m\u001b[0mx\u001b[0m\u001b[0;31m`\u001b[0m \u001b[0;32mand\u001b[0m\u001b[0;31m \u001b[0m\u001b[0;31m`\u001b[0m\u001b[0my\u001b[0m\u001b[0;31m`\u001b[0m \u001b[0mare\u001b[0m \u001b[0mstatically\u001b[0m \u001b[0mknown\u001b[0m\u001b[0;34m.\u001b[0m\u001b[0;34m\u001b[0m\u001b[0;34m\u001b[0m\u001b[0m\n\u001b[1;32m    647\u001b[0m   \"\"\"\n\u001b[0;32m--> 648\u001b[0;31m   \u001b[0;32mreturn\u001b[0m \u001b[0massert_equal\u001b[0m\u001b[0;34m(\u001b[0m\u001b[0mx\u001b[0m\u001b[0;34m=\u001b[0m\u001b[0mx\u001b[0m\u001b[0;34m,\u001b[0m \u001b[0my\u001b[0m\u001b[0;34m=\u001b[0m\u001b[0my\u001b[0m\u001b[0;34m,\u001b[0m \u001b[0msummarize\u001b[0m\u001b[0;34m=\u001b[0m\u001b[0msummarize\u001b[0m\u001b[0;34m,\u001b[0m \u001b[0mmessage\u001b[0m\u001b[0;34m=\u001b[0m\u001b[0mmessage\u001b[0m\u001b[0;34m,\u001b[0m \u001b[0mname\u001b[0m\u001b[0;34m=\u001b[0m\u001b[0mname\u001b[0m\u001b[0;34m)\u001b[0m\u001b[0;34m\u001b[0m\u001b[0;34m\u001b[0m\u001b[0m\n\u001b[0m\u001b[1;32m    649\u001b[0m \u001b[0;34m\u001b[0m\u001b[0m\n\u001b[1;32m    650\u001b[0m \u001b[0;34m\u001b[0m\u001b[0m\n",
      "\u001b[0;32m~/.local/lib/python3.8/site-packages/tensorflow/python/ops/check_ops.py\u001b[0m in \u001b[0;36massert_equal\u001b[0;34m(x, y, data, summarize, message, name)\u001b[0m\n\u001b[1;32m    656\u001b[0m     \u001b[0;32mif\u001b[0m \u001b[0mx\u001b[0m \u001b[0;32mis\u001b[0m \u001b[0my\u001b[0m\u001b[0;34m:\u001b[0m\u001b[0;34m\u001b[0m\u001b[0;34m\u001b[0m\u001b[0m\n\u001b[1;32m    657\u001b[0m       \u001b[0;32mreturn\u001b[0m \u001b[0;32mNone\u001b[0m \u001b[0;32mif\u001b[0m \u001b[0mcontext\u001b[0m\u001b[0;34m.\u001b[0m\u001b[0mexecuting_eagerly\u001b[0m\u001b[0;34m(\u001b[0m\u001b[0;34m)\u001b[0m \u001b[0;32melse\u001b[0m \u001b[0mcontrol_flow_ops\u001b[0m\u001b[0;34m.\u001b[0m\u001b[0mno_op\u001b[0m\u001b[0;34m(\u001b[0m\u001b[0;34m)\u001b[0m\u001b[0;34m\u001b[0m\u001b[0;34m\u001b[0m\u001b[0m\n\u001b[0;32m--> 658\u001b[0;31m   return _binary_assert('==', 'assert_equal', math_ops.equal, np.equal, x, y,\n\u001b[0m\u001b[1;32m    659\u001b[0m                         data, summarize, message, name)\n\u001b[1;32m    660\u001b[0m \u001b[0;34m\u001b[0m\u001b[0m\n",
      "\u001b[0;32m~/.local/lib/python3.8/site-packages/tensorflow/python/ops/check_ops.py\u001b[0m in \u001b[0;36m_binary_assert\u001b[0;34m(sym, opname, op_func, static_func, x, y, data, summarize, message, name)\u001b[0m\n\u001b[1;32m    350\u001b[0m         \u001b[0mdata\u001b[0m \u001b[0;34m=\u001b[0m \u001b[0;34m[\u001b[0m\u001b[0mmessage\u001b[0m\u001b[0;34m]\u001b[0m \u001b[0;34m+\u001b[0m \u001b[0mlist\u001b[0m\u001b[0;34m(\u001b[0m\u001b[0mdata\u001b[0m\u001b[0;34m)\u001b[0m\u001b[0;34m\u001b[0m\u001b[0;34m\u001b[0m\u001b[0m\n\u001b[1;32m    351\u001b[0m \u001b[0;34m\u001b[0m\u001b[0m\n\u001b[0;32m--> 352\u001b[0;31m       raise errors.InvalidArgumentError(\n\u001b[0m\u001b[1;32m    353\u001b[0m           \u001b[0mnode_def\u001b[0m\u001b[0;34m=\u001b[0m\u001b[0;32mNone\u001b[0m\u001b[0;34m,\u001b[0m\u001b[0;34m\u001b[0m\u001b[0;34m\u001b[0m\u001b[0m\n\u001b[1;32m    354\u001b[0m           \u001b[0mop\u001b[0m\u001b[0;34m=\u001b[0m\u001b[0;32mNone\u001b[0m\u001b[0;34m,\u001b[0m\u001b[0;34m\u001b[0m\u001b[0;34m\u001b[0m\u001b[0m\n",
      "\u001b[0;31mInvalidArgumentError\u001b[0m: Condition x == y did not hold.\nIndices of first 1 different values:\n[[1]]\nCorresponding x values:\n[10]\nCorresponding y values:\n[20]\nFirst 2 elements of x:\n[10 10]\nFirst 2 elements of y:\n[10 20]"
     ]
    }
   ],
   "source": [
    "# 可以用来断言判断是否错误\n",
    "tf.debugging.assert_equal(x=a.shape,y=(10,20))"
   ]
  },
  {
   "cell_type": "markdown",
   "metadata": {},
   "source": [
    "#### 张量的操作 -- tf.random"
   ]
  },
  {
   "cell_type": "code",
   "execution_count": 11,
   "metadata": {
    "ExecuteTime": {
     "end_time": "2021-02-16T00:59:06.979150Z",
     "start_time": "2021-02-16T00:59:06.971425Z"
    }
   },
   "outputs": [],
   "source": [
    "a = tf.random.uniform(shape=(10,5),minval=0,maxval=10, dtype=tf.float16)"
   ]
  },
  {
   "cell_type": "code",
   "execution_count": 12,
   "metadata": {
    "ExecuteTime": {
     "end_time": "2021-02-16T00:59:07.690636Z",
     "start_time": "2021-02-16T00:59:07.679981Z"
    }
   },
   "outputs": [
    {
     "data": {
      "text/plain": [
       "<tf.Tensor: shape=(10, 5), dtype=float16, numpy=\n",
       "array([[8.06   , 7.754  , 4.062  , 0.9766 , 3.193  ],\n",
       "       [9.766  , 2.88   , 6.18   , 2.05   , 0.4492 ],\n",
       "       [7.703  , 0.713  , 2.305  , 2.607  , 4.844  ],\n",
       "       [5.203  , 7.08   , 2.852  , 9.47   , 2.94   ],\n",
       "       [3.799  , 0.4688 , 0.7812 , 6.777  , 0.06836],\n",
       "       [9.38   , 0.1562 , 8.33   , 4.18   , 5.008  ],\n",
       "       [8.72   , 9.56   , 8.16   , 7.14   , 1.055  ],\n",
       "       [6.258  , 5.89   , 4.875  , 0.2148 , 6.21   ],\n",
       "       [3.447  , 1.885  , 3.574  , 5.664  , 5.617  ],\n",
       "       [9.97   , 2.568  , 7.273  , 5.46   , 7.18   ]], dtype=float16)>"
      ]
     },
     "execution_count": 12,
     "metadata": {},
     "output_type": "execute_result"
    }
   ],
   "source": [
    "a"
   ]
  },
  {
   "cell_type": "markdown",
   "metadata": {},
   "source": [
    "#### 张量的操作 -- tf.math"
   ]
  },
  {
   "cell_type": "code",
   "execution_count": 79,
   "metadata": {
    "ExecuteTime": {
     "end_time": "2021-02-16T00:59:08.956536Z",
     "start_time": "2021-02-16T00:59:08.949130Z"
    }
   },
   "outputs": [],
   "source": [
    "a = tf.constant([[1,2],[3,4]])\n",
    "b = tf.constant([[5,6],[7,8]])"
   ]
  },
  {
   "cell_type": "code",
   "execution_count": 80,
   "metadata": {
    "ExecuteTime": {
     "end_time": "2021-02-16T00:59:09.618637Z",
     "start_time": "2021-02-16T00:59:09.609630Z"
    }
   },
   "outputs": [
    {
     "name": "stdout",
     "output_type": "stream",
     "text": [
      "[[6 8]\n",
      " [10 12]]\n"
     ]
    }
   ],
   "source": [
    "tf.print(tf.math.add(a,b))"
   ]
  },
  {
   "cell_type": "code",
   "execution_count": 81,
   "metadata": {
    "ExecuteTime": {
     "end_time": "2021-02-16T00:59:10.461080Z",
     "start_time": "2021-02-16T00:59:10.363479Z"
    }
   },
   "outputs": [
    {
     "name": "stdout",
     "output_type": "stream",
     "text": [
      "[[-4 -4]\n",
      " [-4 -4]]\n"
     ]
    }
   ],
   "source": [
    "tf.print(tf.math.subtract(a,b))"
   ]
  },
  {
   "cell_type": "code",
   "execution_count": 82,
   "metadata": {
    "ExecuteTime": {
     "end_time": "2021-02-16T00:59:10.993248Z",
     "start_time": "2021-02-16T00:59:10.985103Z"
    }
   },
   "outputs": [
    {
     "name": "stdout",
     "output_type": "stream",
     "text": [
      "tf.Tensor(\n",
      "[[-4 -4]\n",
      " [-4 -4]], shape=(2, 2), dtype=int32)\n"
     ]
    }
   ],
   "source": [
    "print(tf.math.subtract(a,b)) # 注意与tf.print的区别"
   ]
  },
  {
   "cell_type": "code",
   "execution_count": 83,
   "metadata": {
    "ExecuteTime": {
     "end_time": "2021-02-16T00:59:11.993974Z",
     "start_time": "2021-02-16T00:59:11.985449Z"
    }
   },
   "outputs": [
    {
     "name": "stdout",
     "output_type": "stream",
     "text": [
      "[[5 12]\n",
      " [21 32]]\n"
     ]
    }
   ],
   "source": [
    "tf.print(tf.math.multiply(a,b))"
   ]
  },
  {
   "cell_type": "code",
   "execution_count": 84,
   "metadata": {
    "ExecuteTime": {
     "end_time": "2021-02-16T00:59:12.650743Z",
     "start_time": "2021-02-16T00:59:12.638118Z"
    }
   },
   "outputs": [
    {
     "name": "stdout",
     "output_type": "stream",
     "text": [
      "[[0.2 0.33333333333333331]\n",
      " [0.42857142857142855 0.5]]\n"
     ]
    }
   ],
   "source": [
    "tf.print(tf.math.divide(a,b))"
   ]
  },
  {
   "cell_type": "markdown",
   "metadata": {},
   "source": [
    "#### 张量的操作 -- tf.dtypes"
   ]
  },
  {
   "cell_type": "code",
   "execution_count": 85,
   "metadata": {
    "ExecuteTime": {
     "end_time": "2021-02-16T00:59:13.564905Z",
     "start_time": "2021-02-16T00:59:13.558043Z"
    }
   },
   "outputs": [],
   "source": [
    "x= tf.constant([1,8,2,2],dtype=tf.float32)"
   ]
  },
  {
   "cell_type": "code",
   "execution_count": 86,
   "metadata": {
    "ExecuteTime": {
     "end_time": "2021-02-16T00:59:14.136730Z",
     "start_time": "2021-02-16T00:59:14.128083Z"
    }
   },
   "outputs": [
    {
     "data": {
      "text/plain": [
       "<tf.Tensor: shape=(4,), dtype=float32, numpy=array([1., 8., 2., 2.], dtype=float32)>"
      ]
     },
     "execution_count": 86,
     "metadata": {},
     "output_type": "execute_result"
    }
   ],
   "source": [
    "x"
   ]
  },
  {
   "cell_type": "code",
   "execution_count": 87,
   "metadata": {
    "ExecuteTime": {
     "end_time": "2021-02-16T00:59:14.733663Z",
     "start_time": "2021-02-16T00:59:14.699661Z"
    }
   },
   "outputs": [],
   "source": [
    "x1 = tf.dtypes.cast(x,tf.int32) # 数据类型转换"
   ]
  },
  {
   "cell_type": "code",
   "execution_count": 88,
   "metadata": {
    "ExecuteTime": {
     "end_time": "2021-02-16T00:59:15.439456Z",
     "start_time": "2021-02-16T00:59:15.431372Z"
    }
   },
   "outputs": [
    {
     "data": {
      "text/plain": [
       "<tf.Tensor: shape=(4,), dtype=int32, numpy=array([1, 8, 2, 2], dtype=int32)>"
      ]
     },
     "execution_count": 88,
     "metadata": {},
     "output_type": "execute_result"
    }
   ],
   "source": [
    "x1"
   ]
  },
  {
   "cell_type": "markdown",
   "metadata": {},
   "source": [
    "### 二、常用层"
   ]
  },
  {
   "cell_type": "code",
   "execution_count": 89,
   "metadata": {
    "ExecuteTime": {
     "end_time": "2021-02-16T00:59:16.202633Z",
     "start_time": "2021-02-16T00:59:16.194822Z"
    }
   },
   "outputs": [
    {
     "data": {
      "text/plain": [
       "<module 'tensorflow.keras.layers' from '/home/hp/.local/lib/python3.8/site-packages/tensorflow/keras/layers/__init__.py'>"
      ]
     },
     "execution_count": 89,
     "metadata": {},
     "output_type": "execute_result"
    }
   ],
   "source": [
    "#常用的两个调用的函数接口一\n",
    "tf.keras.layers"
   ]
  },
  {
   "cell_type": "code",
   "execution_count": 90,
   "metadata": {
    "ExecuteTime": {
     "end_time": "2021-02-16T00:59:16.995790Z",
     "start_time": "2021-02-16T00:59:16.988194Z"
    }
   },
   "outputs": [
    {
     "data": {
      "text/plain": [
       "<module 'tensorflow._api.v2.nn' from '/home/hp/.local/lib/python3.8/site-packages/tensorflow/_api/v2/nn/__init__.py'>"
      ]
     },
     "execution_count": 90,
     "metadata": {},
     "output_type": "execute_result"
    }
   ],
   "source": [
    "#常用的两个调用的函数接口二.更加偏底层的调用\n",
    "tf.nn"
   ]
  },
  {
   "cell_type": "code",
   "execution_count": 91,
   "metadata": {
    "ExecuteTime": {
     "end_time": "2021-02-16T00:59:17.561204Z",
     "start_time": "2021-02-16T00:59:17.553080Z"
    }
   },
   "outputs": [
    {
     "data": {
      "text/plain": [
       "tensorflow.python.keras.layers.recurrent_v2.LSTM"
      ]
     },
     "execution_count": 91,
     "metadata": {},
     "output_type": "execute_result"
    }
   ],
   "source": [
    "tf.keras.layers.LSTM"
   ]
  },
  {
   "cell_type": "code",
   "execution_count": 92,
   "metadata": {
    "ExecuteTime": {
     "end_time": "2021-02-16T00:59:17.974699Z",
     "start_time": "2021-02-16T00:59:17.956140Z"
    }
   },
   "outputs": [
    {
     "data": {
      "text/plain": [
       "<tensorflow.python.keras.layers.recurrent_v2.LSTM at 0x7f5ab05d2130>"
      ]
     },
     "execution_count": 92,
     "metadata": {},
     "output_type": "execute_result"
    }
   ],
   "source": [
    "tf.keras.layers.LSTM(100)"
   ]
  },
  {
   "cell_type": "code",
   "execution_count": 93,
   "metadata": {
    "ExecuteTime": {
     "end_time": "2021-02-16T00:59:18.419189Z",
     "start_time": "2021-02-16T00:59:18.407830Z"
    }
   },
   "outputs": [
    {
     "data": {
      "text/plain": [
       "<tensorflow.python.keras.layers.core.Dense at 0x7f5ab052c2e0>"
      ]
     },
     "execution_count": 93,
     "metadata": {},
     "output_type": "execute_result"
    }
   ],
   "source": [
    "tf.keras.layers.Dense(10) # 全连接神经网络"
   ]
  },
  {
   "cell_type": "code",
   "execution_count": 94,
   "metadata": {
    "ExecuteTime": {
     "end_time": "2021-02-16T00:59:18.590655Z",
     "start_time": "2021-02-16T00:59:18.579065Z"
    }
   },
   "outputs": [
    {
     "data": {
      "text/plain": [
       "<tensorflow.python.keras.layers.core.Dense at 0x7f5ab03f13a0>"
      ]
     },
     "execution_count": 94,
     "metadata": {},
     "output_type": "execute_result"
    }
   ],
   "source": [
    "tf.keras.layers.Dense(64,kernel_regularizer=tf.keras.regularizers.l1(0.01)) # L1正则化"
   ]
  },
  {
   "cell_type": "markdown",
   "metadata": {},
   "source": [
    "- tf.nn.softmax(b) # 激活函数\n",
    "- tf.keras.layers.Dense(64,activation=tf.nn.relu)"
   ]
  },
  {
   "cell_type": "markdown",
   "metadata": {},
   "source": [
    "##### 定义一个张量\n",
    "- a = tf.random.uniform(shape=(10,100,50),minval=0.5,maxval=0.5)\n",
    "\n",
    "##### 添加一个LSTM层\n",
    "- x = tf.keras.layers.LSTM(100)(a)\n",
    "##### 添加一个全连接层\n",
    "- x = tf.keras.layers.Dense(10)(x)\n",
    "##### 激活函数激活\n",
    "- x = tf.nn.softmax(x)"
   ]
  },
  {
   "cell_type": "code",
   "execution_count": 19,
   "metadata": {},
   "outputs": [
    {
     "data": {
      "text/plain": [
       "<tf.Tensor: shape=(2, 3, 2), dtype=float16, numpy=\n",
       "array([[[ 0.291  ,  0.6455 ],\n",
       "        [-0.2448 , -0.2505 ],\n",
       "        [ 0.1952 , -0.1853 ]],\n",
       "\n",
       "       [[-0.599  ,  0.4023 ],\n",
       "        [-1.411  ,  1.978  ],\n",
       "        [ 0.06213,  0.509  ]]], dtype=float16)>"
      ]
     },
     "execution_count": 19,
     "metadata": {},
     "output_type": "execute_result"
    }
   ],
   "source": [
    "x = tf.random.normal((2,3,2),dtype=tf.float16)\n",
    "x"
   ]
  },
  {
   "cell_type": "code",
   "execution_count": 20,
   "metadata": {},
   "outputs": [
    {
     "name": "stdout",
     "output_type": "stream",
     "text": [
      "WARNING:tensorflow:Layer lstm_2 is casting an input tensor from dtype float16 to the layer's dtype of float32, which is new behavior in TensorFlow 2.  The layer has dtype float32 because it's dtype defaults to floatx.\n",
      "\n",
      "If you intended to run this layer in float32, you can safely ignore this warning. If in doubt, this warning is likely only an issue if you are porting a TensorFlow 1.X model to TensorFlow 2.\n",
      "\n",
      "To change all layers to have dtype float16 by default, call `tf.keras.backend.set_floatx('float16')`. To change just this layer, pass dtype='float16' to the layer constructor. If you are the author of this layer, you can disable autocasting by passing autocast=False to the base Layer constructor.\n",
      "\n"
     ]
    },
    {
     "data": {
      "text/plain": [
       "<tf.Tensor: shape=(2, 3), dtype=float32, numpy=\n",
       "array([[ 0.00591618, -0.01235119, -0.00232592],\n",
       "       [-0.20553596, -0.09115572,  0.1536798 ]], dtype=float32)>"
      ]
     },
     "execution_count": 20,
     "metadata": {},
     "output_type": "execute_result"
    }
   ],
   "source": [
    "tf.keras.layers.LSTM(3)(x)"
   ]
  },
  {
   "cell_type": "code",
   "execution_count": 95,
   "metadata": {
    "ExecuteTime": {
     "end_time": "2021-02-16T00:59:19.863507Z",
     "start_time": "2021-02-16T00:59:19.851677Z"
    }
   },
   "outputs": [
    {
     "data": {
      "text/plain": [
       "<tensorflow.python.keras.layers.core.Dense at 0x7f5ab03f1610>"
      ]
     },
     "execution_count": 95,
     "metadata": {},
     "output_type": "execute_result"
    }
   ],
   "source": [
    "# 层中增加激活函数\n",
    "tf.keras.layers.Dense(64,activation='relu')"
   ]
  },
  {
   "cell_type": "code",
   "execution_count": 96,
   "metadata": {
    "ExecuteTime": {
     "end_time": "2021-02-16T00:59:20.226247Z",
     "start_time": "2021-02-16T00:59:20.214562Z"
    }
   },
   "outputs": [
    {
     "data": {
      "text/plain": [
       "<tensorflow.python.keras.layers.core.Dense at 0x7f5ab03f1520>"
      ]
     },
     "execution_count": 96,
     "metadata": {},
     "output_type": "execute_result"
    }
   ],
   "source": [
    "# 添加nn的激活函数\n",
    "tf.keras.layers.Dense(64,activation=tf.nn.relu)"
   ]
  },
  {
   "cell_type": "code",
   "execution_count": 97,
   "metadata": {
    "ExecuteTime": {
     "end_time": "2021-02-16T00:59:20.424000Z",
     "start_time": "2021-02-16T00:59:20.410497Z"
    }
   },
   "outputs": [
    {
     "data": {
      "text/plain": [
       "<tensorflow.python.keras.layers.core.Dense at 0x7f5ab049d3d0>"
      ]
     },
     "execution_count": 97,
     "metadata": {},
     "output_type": "execute_result"
    }
   ],
   "source": [
    "# 将L1正则化应用于连接层\n",
    "tf.keras.layers.Dense(64,kernel_regularizer=tf.keras.regularizers.l1(0.01))\n",
    "# 将L2正则化应用于连接层\n",
    "tf.keras.layers.Dense(64,kernel_regularizer=tf.keras.regularizers.l2(0.01))"
   ]
  },
  {
   "cell_type": "code",
   "execution_count": 98,
   "metadata": {
    "ExecuteTime": {
     "end_time": "2021-02-16T00:59:20.891010Z",
     "start_time": "2021-02-16T00:59:20.879864Z"
    }
   },
   "outputs": [
    {
     "data": {
      "text/plain": [
       "<tensorflow.python.keras.layers.core.Dense at 0x7f5ab03f1040>"
      ]
     },
     "execution_count": 98,
     "metadata": {},
     "output_type": "execute_result"
    }
   ],
   "source": [
    "# 内核初始化为随机正交矩阵的线性层\n",
    "tf.keras.layers.Dense(64,kernel_initializer='orthogonal')"
   ]
  },
  {
   "cell_type": "code",
   "execution_count": 99,
   "metadata": {
    "ExecuteTime": {
     "end_time": "2021-02-16T00:59:21.386944Z",
     "start_time": "2021-02-16T00:59:21.374690Z"
    }
   },
   "outputs": [
    {
     "data": {
      "text/plain": [
       "<tensorflow.python.keras.layers.core.Dense at 0x7f5ab049dee0>"
      ]
     },
     "execution_count": 99,
     "metadata": {},
     "output_type": "execute_result"
    }
   ],
   "source": [
    "# 偏差向量初始化为2.0的线性层\n",
    "tf.keras.layers.Dense(64,bias_initializer=tf.keras.initializers.Constant(2.0))"
   ]
  },
  {
   "cell_type": "markdown",
   "metadata": {},
   "source": [
    "#### tf.nn是底层函数库，其他各种库都是基于这个底层来做的扩展\n",
    "\n",
    "#### tf.keras.layers就是基于tf.nn的高度封装"
   ]
  },
  {
   "cell_type": "markdown",
   "metadata": {},
   "source": [
    "### 三、三种建模方式"
   ]
  },
  {
   "cell_type": "markdown",
   "metadata": {},
   "source": [
    "#### 1.Sequential顺序模型（一层一层搭积木）"
   ]
  },
  {
   "cell_type": "markdown",
   "metadata": {},
   "source": [
    "#### 第一种Sequential model"
   ]
  },
  {
   "cell_type": "code",
   "execution_count": 9,
   "metadata": {
    "ExecuteTime": {
     "end_time": "2021-05-17T13:24:25.823111Z",
     "start_time": "2021-05-17T13:24:25.799495Z"
    }
   },
   "outputs": [],
   "source": [
    "from tensorflow .keras import layers\n",
    "model = tf.keras.Sequential()\n",
    "model.add(layers.Dense(64, activation='relu'))\n",
    "model.add(layers.Dense(64, activation='relu'))\n",
    "model.add(layers.Dense(10))\n",
    "\n",
    "model.compile(optimizer = tf.keras.optimizers.Adam(0.01),\n",
    "              loss = tf.keras.losses.CategoricalCrossentropy(from_logits=True),\n",
    "              metrics = ['accuracy']\n",
    "             )"
   ]
  },
  {
   "cell_type": "code",
   "execution_count": 10,
   "metadata": {
    "ExecuteTime": {
     "end_time": "2021-05-17T13:24:26.019222Z",
     "start_time": "2021-05-17T13:24:26.010609Z"
    }
   },
   "outputs": [],
   "source": [
    "inputs = tf.random.normal((1000,32))\n",
    "outputs = tf.random.normal((1000,10))"
   ]
  },
  {
   "cell_type": "code",
   "execution_count": 11,
   "metadata": {
    "ExecuteTime": {
     "end_time": "2021-05-17T13:24:27.934199Z",
     "start_time": "2021-05-17T13:24:26.380445Z"
    }
   },
   "outputs": [
    {
     "name": "stdout",
     "output_type": "stream",
     "text": [
      "Epoch 1/10\n",
      "5/5 [==============================] - 0s 46ms/step - loss: -0.3640 - accuracy: 0.0880 - val_loss: 0.1352 - val_accuracy: 0.0900\n",
      "Epoch 2/10\n",
      "5/5 [==============================] - 0s 10ms/step - loss: -1.5121 - accuracy: 0.1380 - val_loss: 0.0832 - val_accuracy: 0.0820\n",
      "Epoch 3/10\n",
      "5/5 [==============================] - 0s 10ms/step - loss: -2.7973 - accuracy: 0.1700 - val_loss: 0.0659 - val_accuracy: 0.0980\n",
      "Epoch 4/10\n",
      "5/5 [==============================] - 0s 9ms/step - loss: -4.4811 - accuracy: 0.1900 - val_loss: 0.1557 - val_accuracy: 0.1020\n",
      "Epoch 5/10\n",
      "5/5 [==============================] - 0s 10ms/step - loss: -6.2958 - accuracy: 0.2120 - val_loss: 0.0259 - val_accuracy: 0.1100\n",
      "Epoch 6/10\n",
      "5/5 [==============================] - 0s 10ms/step - loss: -8.9966 - accuracy: 0.1960 - val_loss: -0.4490 - val_accuracy: 0.1060\n",
      "Epoch 7/10\n",
      "5/5 [==============================] - 0s 10ms/step - loss: -13.2347 - accuracy: 0.2080 - val_loss: -0.5549 - val_accuracy: 0.0940\n",
      "Epoch 8/10\n",
      "5/5 [==============================] - 0s 11ms/step - loss: -18.3206 - accuracy: 0.1660 - val_loss: -0.7876 - val_accuracy: 0.0940\n",
      "Epoch 9/10\n",
      "5/5 [==============================] - 0s 34ms/step - loss: -28.5077 - accuracy: 0.1620 - val_loss: -2.2325 - val_accuracy: 0.0980\n",
      "Epoch 10/10\n",
      "5/5 [==============================] - 0s 9ms/step - loss: -39.2872 - accuracy: 0.1660 - val_loss: -3.2634 - val_accuracy: 0.1140\n"
     ]
    },
    {
     "data": {
      "text/plain": [
       "<tensorflow.python.keras.callbacks.History at 0x7f1be44ad760>"
      ]
     },
     "execution_count": 11,
     "metadata": {},
     "output_type": "execute_result"
    }
   ],
   "source": [
    "model.fit(inputs,outputs,epochs=10, batch_size=112,validation_split = 0.5)"
   ]
  },
  {
   "cell_type": "code",
   "execution_count": 11,
   "metadata": {
    "ExecuteTime": {
     "end_time": "2021-03-01T13:56:12.782854Z",
     "start_time": "2021-03-01T13:56:12.763434Z"
    }
   },
   "outputs": [
    {
     "data": {
      "text/plain": [
       "<tf.Tensor: shape=(32,), dtype=float32, numpy=\n",
       "array([ 1.3546274 ,  0.14268984, -0.82131565, -2.2490053 , -0.3050998 ,\n",
       "       -0.53242284, -1.3360333 ,  0.05588325,  0.10039943,  0.40335533,\n",
       "       -0.8351888 ,  3.0953043 ,  0.95685333, -1.4780735 ,  0.9717159 ,\n",
       "       -1.0806279 ,  0.05053141, -0.88527614, -0.04269643, -0.29269946,\n",
       "       -0.5522828 ,  0.23216873, -0.7380165 ,  1.0796785 , -1.6538912 ,\n",
       "        0.8465142 ,  0.13871059, -1.245982  ,  0.4553074 , -1.0320964 ,\n",
       "        1.4239603 , -0.01195545], dtype=float32)>"
      ]
     },
     "execution_count": 11,
     "metadata": {},
     "output_type": "execute_result"
    }
   ],
   "source": [
    "inputs[0]"
   ]
  },
  {
   "cell_type": "markdown",
   "metadata": {},
   "source": [
    "#### 第二种Sequential model"
   ]
  },
  {
   "cell_type": "code",
   "execution_count": 14,
   "metadata": {
    "ExecuteTime": {
     "end_time": "2021-02-16T02:30:02.502236Z",
     "start_time": "2021-02-16T02:30:02.467171Z"
    }
   },
   "outputs": [],
   "source": [
    "# 全连接层\n",
    "model = tf.keras.Sequential([\n",
    "    layers.Dense(64,activation='relu',input_shape=(32,)), # 第一层\n",
    "    layers.Dense(64,activation='relu'),\n",
    "    layers.Dense(10)\n",
    "])"
   ]
  },
  {
   "cell_type": "code",
   "execution_count": 15,
   "metadata": {
    "ExecuteTime": {
     "end_time": "2021-02-16T02:30:02.674202Z",
     "start_time": "2021-02-16T02:30:02.655971Z"
    }
   },
   "outputs": [],
   "source": [
    "# 编译模型,定义优化方法（如梯度下降等方法），定义损失函数，定义评估函数\n",
    "model.compile(optimizer=tf.keras.optimizers.Adam(0.01),\n",
    "    loss = tf.keras.losses.CategoricalCrossentropy(from_logits=True),\n",
    "    metrics=['accuracy']\n",
    ")"
   ]
  },
  {
   "cell_type": "code",
   "execution_count": 16,
   "metadata": {
    "ExecuteTime": {
     "end_time": "2021-02-16T02:30:03.048523Z",
     "start_time": "2021-02-16T02:30:03.040171Z"
    }
   },
   "outputs": [],
   "source": [
    "import numpy as np \n",
    "data = np.random.random((1000,32))\n",
    "labels = np.random.random((1000,10))"
   ]
  },
  {
   "cell_type": "code",
   "execution_count": 17,
   "metadata": {
    "ExecuteTime": {
     "end_time": "2021-02-16T02:30:03.494485Z",
     "start_time": "2021-02-16T02:30:03.484612Z"
    }
   },
   "outputs": [
    {
     "data": {
      "text/plain": [
       "array([[0.03406993, 0.62826506, 0.29718233, ..., 0.95847823, 0.45519122,\n",
       "        0.04929961],\n",
       "       [0.60053359, 0.29438587, 0.84084505, ..., 0.84374661, 0.74802406,\n",
       "        0.05078155],\n",
       "       [0.17961188, 0.99371134, 0.09022789, ..., 0.16485392, 0.66181138,\n",
       "        0.30368934],\n",
       "       ...,\n",
       "       [0.45523184, 0.74073013, 0.66882025, ..., 0.73657764, 0.09655415,\n",
       "        0.08958944],\n",
       "       [0.54652545, 0.8845449 , 0.55456877, ..., 0.61262058, 0.00474666,\n",
       "        0.86908224],\n",
       "       [0.9444222 , 0.41840558, 0.91330741, ..., 0.06050699, 0.93923661,\n",
       "        0.92225304]])"
      ]
     },
     "execution_count": 17,
     "metadata": {},
     "output_type": "execute_result"
    }
   ],
   "source": [
    "data"
   ]
  },
  {
   "cell_type": "code",
   "execution_count": 18,
   "metadata": {
    "ExecuteTime": {
     "end_time": "2021-02-16T02:30:03.968079Z",
     "start_time": "2021-02-16T02:30:03.959642Z"
    }
   },
   "outputs": [
    {
     "data": {
      "text/plain": [
       "array([[0.70943203, 0.98510217, 0.55678263, ..., 0.76087963, 0.19866244,\n",
       "        0.49545775],\n",
       "       [0.61153736, 0.34020389, 0.77490579, ..., 0.13970232, 0.05542107,\n",
       "        0.44067188],\n",
       "       [0.09332678, 0.27234881, 0.3837453 , ..., 0.88189108, 0.55400144,\n",
       "        0.3210031 ],\n",
       "       ...,\n",
       "       [0.31172456, 0.60827424, 0.09338189, ..., 0.36155217, 0.87420322,\n",
       "        0.89520658],\n",
       "       [0.19210531, 0.50656611, 0.80931547, ..., 0.13149716, 0.9587719 ,\n",
       "        0.17817325],\n",
       "       [0.6051731 , 0.34220196, 0.04896444, ..., 0.61074939, 0.99944288,\n",
       "        0.04132132]])"
      ]
     },
     "execution_count": 18,
     "metadata": {},
     "output_type": "execute_result"
    }
   ],
   "source": [
    "labels"
   ]
  },
  {
   "cell_type": "code",
   "execution_count": 19,
   "metadata": {
    "ExecuteTime": {
     "end_time": "2021-02-16T02:37:29.620455Z",
     "start_time": "2021-02-16T02:37:28.159291Z"
    }
   },
   "outputs": [
    {
     "name": "stdout",
     "output_type": "stream",
     "text": [
      "Epoch 1/10\n",
      "50/50 [==============================] - 0s 3ms/step - loss: 74.4995 - accuracy: 0.0980\n",
      "Epoch 2/10\n",
      "50/50 [==============================] - 0s 3ms/step - loss: 719.0380 - accuracy: 0.1010\n",
      "Epoch 3/10\n",
      "50/50 [==============================] - 0s 3ms/step - loss: 2857.6736 - accuracy: 0.0960\n",
      "Epoch 4/10\n",
      "50/50 [==============================] - 0s 2ms/step - loss: 6843.2012 - accuracy: 0.0970\n",
      "Epoch 5/10\n",
      "50/50 [==============================] - 0s 3ms/step - loss: 10762.6904 - accuracy: 0.1030\n",
      "Epoch 6/10\n",
      "50/50 [==============================] - 0s 3ms/step - loss: 21288.0820 - accuracy: 0.0890\n",
      "Epoch 7/10\n",
      "50/50 [==============================] - 0s 3ms/step - loss: 22025.1465 - accuracy: 0.0950\n",
      "Epoch 8/10\n",
      "50/50 [==============================] - 0s 3ms/step - loss: 32196.8086 - accuracy: 0.1130\n",
      "Epoch 9/10\n",
      "50/50 [==============================] - 0s 3ms/step - loss: 46300.6914 - accuracy: 0.1200\n",
      "Epoch 10/10\n",
      "50/50 [==============================] - 0s 3ms/step - loss: 65028.1211 - accuracy: 0.1010\n"
     ]
    },
    {
     "data": {
      "text/plain": [
       "<tensorflow.python.keras.callbacks.History at 0x7f9f1ee7d9a0>"
      ]
     },
     "execution_count": 19,
     "metadata": {},
     "output_type": "execute_result"
    }
   ],
   "source": [
    "model.fit(data,labels,epochs=10,batch_size=20)"
   ]
  },
  {
   "cell_type": "markdown",
   "metadata": {},
   "source": [
    "#### 2.Funcitional函数模型"
   ]
  },
  {
   "cell_type": "markdown",
   "metadata": {},
   "source": [
    "相比顺序模型，函数模型应用的更复杂的场景如下：\n",
    "\n",
    "- 多输入模型\n",
    "- 多输出模型\n",
    "- 具有共享图层（同一个图层被调用多次）的模型\n",
    "- 具有非顺序数据流的模型（如 残余连接）\n",
    "\n",
    "当然，这部分的定义以后，在训练模型阶段和tf.keras.Sequential一致"
   ]
  },
  {
   "cell_type": "code",
   "execution_count": 135,
   "metadata": {
    "ExecuteTime": {
     "end_time": "2021-02-16T02:44:17.365506Z",
     "start_time": "2021-02-16T02:44:16.661115Z"
    }
   },
   "outputs": [
    {
     "name": "stdout",
     "output_type": "stream",
     "text": [
      "Epoch 1/5\n",
      "20/20 [==============================] - 0s 3ms/step - loss: 12.5360 - accuracy: 0.1160\n",
      "Epoch 2/5\n",
      "20/20 [==============================] - 0s 3ms/step - loss: 15.1706 - accuracy: 0.0930\n",
      "Epoch 3/5\n",
      "20/20 [==============================] - 0s 3ms/step - loss: 18.5589 - accuracy: 0.1010\n",
      "Epoch 4/5\n",
      "20/20 [==============================] - 0s 3ms/step - loss: 23.8588 - accuracy: 0.0970\n",
      "Epoch 5/5\n",
      "20/20 [==============================] - 0s 3ms/step - loss: 30.6897 - accuracy: 0.0970\n"
     ]
    },
    {
     "data": {
      "text/plain": [
       "<tensorflow.python.keras.callbacks.History at 0x7f597c327eb0>"
      ]
     },
     "execution_count": 135,
     "metadata": {},
     "output_type": "execute_result"
    }
   ],
   "source": [
    "# 示例1如下，单个输入\n",
    "inputs = tf.keras.Input(shape=(32,))\n",
    "x = layers.Dense(64,activation='relu')(inputs)\n",
    "\n",
    "x = layers.Dense(64,activation='relu')(x)\n",
    "predictions =layers.Dense(10)(x)\n",
    "\n",
    "model = tf.keras.Model(inputs=inputs,outputs = predictions)\n",
    "\n",
    "\n",
    "model.compile(\n",
    "    optimizer=tf.keras.optimizers.RMSprop(0.001),\n",
    "    loss = tf.keras.losses.CategoricalCrossentropy(from_logits=True),\n",
    "    metrics = ['accuracy']\n",
    ")\n",
    "\n",
    "import numpy as np \n",
    "data = np.random.random((1000,32))\n",
    "labels = np.random.random((1000,10))\n",
    "\n",
    "model.fit(data,labels,batch_size = 50, epochs = 5) #epochs表示训练分为几个阶段 \n",
    "# batch_size 对批次进行迭代"
   ]
  },
  {
   "cell_type": "code",
   "execution_count": 136,
   "metadata": {
    "ExecuteTime": {
     "end_time": "2021-02-16T02:45:18.940658Z",
     "start_time": "2021-02-16T02:45:17.670674Z"
    }
   },
   "outputs": [
    {
     "name": "stdout",
     "output_type": "stream",
     "text": [
      "Epoch 1/5\n",
      "34/34 [==============================] - 0s 4ms/step - loss: 16.0389 - accuracy: 0.0960\n",
      "Epoch 2/5\n",
      "34/34 [==============================] - 0s 4ms/step - loss: 36.7155 - accuracy: 0.0970\n",
      "Epoch 3/5\n",
      "34/34 [==============================] - 0s 4ms/step - loss: 66.3767 - accuracy: 0.1120\n",
      "Epoch 4/5\n",
      "34/34 [==============================] - 0s 4ms/step - loss: 95.9583 - accuracy: 0.1090\n",
      "Epoch 5/5\n",
      "34/34 [==============================] - 0s 4ms/step - loss: 132.4470 - accuracy: 0.1080\n"
     ]
    },
    {
     "data": {
      "text/plain": [
       "<tensorflow.python.keras.callbacks.History at 0x7f59ec1b67c0>"
      ]
     },
     "execution_count": 136,
     "metadata": {},
     "output_type": "execute_result"
    }
   ],
   "source": [
    "# 示例2如下，多个输入\n",
    "inputs1 = tf.keras.Input(shape=(32,))\n",
    "inputs2 = tf.keras.Input(shape=(32,))\n",
    "x1 = layers.Dense(64,activation='relu')(inputs1)\n",
    "x2 = layers.Dense(64,activation='relu')(inputs2)\n",
    "\n",
    "x = tf.concat([x1,x2],axis = -1)\n",
    "x = layers.Dense(64,activation='relu')(x)\n",
    "predictions =layers.Dense(10)(x)\n",
    "\n",
    "model = tf.keras.Model(inputs=[inputs1,inputs2],outputs = predictions)\n",
    "\n",
    "\n",
    "model.compile(\n",
    "    optimizer=tf.keras.optimizers.RMSprop(0.001),\n",
    "    loss = tf.keras.losses.CategoricalCrossentropy(from_logits=True),\n",
    "    metrics = ['accuracy']\n",
    ")\n",
    "\n",
    "import numpy as np \n",
    "data1 = np.random.random((1000,32))\n",
    "data2 = np.random.random((1000,32))\n",
    "labels = np.random.random((1000,10))\n",
    "\n",
    "model.fit([data1,data2],labels,batch_size = 30, epochs = 5) #epochs表示训练分为几个阶段 \n",
    "# batch_size 对批次进行迭代\n"
   ]
  },
  {
   "cell_type": "markdown",
   "metadata": {},
   "source": [
    "\n",
    "1.batch_size\n",
    "\n",
    "深度学习的优化算法，用大白话来说其实主要就是梯度下降算法，而每次的参数权重更新主要有两种方法。\n",
    "\n",
    "（1）遍历全部数据集算一次损失函数（真实值和预测值之间的差距，预测值是根据参数向量来更新的），然后算函数对各个参数的梯度（因为参数向量变化了，所以梯度也需要重新计算），更新梯度\n",
    "\n",
    "这种方法每更新一次参数都要把数据集里的所有样本都看一遍，计算量开销大，计算速度慢，不支持在线学习，这称为Batch gradient descent，批梯度下降。\n",
    "\n",
    "（2）stochastic gradient descent\n",
    "\n",
    "每看一个数据就算一下损失函数，然后求梯度更新参数，这个称为随机梯度下降。这个方法速度比较快，但是收敛性能不太好，可能在最优点附近晃来晃去，hit不到最优点。两次参数的更新也有可能互相抵消掉，造成目标函数震荡的比较剧烈。\n",
    "\n",
    "为了克服两种方法的缺点，现在一般采用的是一种折中手段，mini-batch gradient decent，小批的梯度下降，这种方法把数据分为若干个批，按批来更新参数，这样，一个批中的一组数据共同决定了本次梯度的方向，下降起来就不容易跑偏，减少了随机性。另一方面因为批的样本数与整个数据集相比小了很多，计算量也不是很大。\n",
    "\n",
    "基本上现在的梯度下降都是基于mini-batch的，所以深度学习框架的函数中经常会出现batch_size，就是指这个意思。"
   ]
  },
  {
   "cell_type": "markdown",
   "metadata": {},
   "source": [
    "2.iterations\n",
    "\n",
    "iterations（迭代）：每一次迭代都是一次权重更新，每一次权重更新需要batch_size个数据进行Forward运算得到损失函数，再BP算法(反向传播算法)更新参数。1个iteration等于使用batchsize个样本训练一次。"
   ]
  },
  {
   "cell_type": "markdown",
   "metadata": {},
   "source": [
    "3.epochs\n",
    "\n",
    "epochs被定义为向前和向后传播中所有批次的单次训练迭代。这意味着1个周期是整个输入数据的单次向前和向后传递。简单说，epochs指的就是训练过程中数据将被“轮”多少次，就这样。\n",
    "\n",
    "接下来让我们看个例子：\n",
    "\n",
    "假设训练集有1000个样本，batchsize=10，那么： \n",
    "\n",
    "训练完整个样本集需要： 100次iteration，1次epoch。\n",
    "\n",
    "具体的计算公式为： one epoch = numbers of iterations = N = 训练样本的数量/batch_size"
   ]
  },
  {
   "cell_type": "markdown",
   "metadata": {},
   "source": [
    "#### 3.subclassing模型（通过类的继承来自定义模型）\n",
    "\n",
    "- 通过子类化tf.keras.Model和定义自己的前向传播模型来构建完全可以自定义的模型\n",
    "- 和 eager execution模型相辅相成\n",
    "- 面向对象编程"
   ]
  },
  {
   "cell_type": "code",
   "execution_count": 109,
   "metadata": {
    "ExecuteTime": {
     "end_time": "2021-02-16T00:59:35.437429Z",
     "start_time": "2021-02-16T00:59:35.424133Z"
    }
   },
   "outputs": [],
   "source": [
    "# 定义一个类\n",
    "class MyModel(tf.keras.Model):\n",
    "    \n",
    "    def __init__(self, num_classes = 10):\n",
    "        super().__init__(name = 'my_model') # 调用父类tf.keras.Model的方法\n",
    "        self.num_classes = num_classes\n",
    "        # 定义自己需要的层\n",
    "        self.dense_1 = layers.Dense(32,activation='relu')\n",
    "        self.dense_2 = layers.Dense(num_classes)\n",
    "    \n",
    "    def call(self,inputs):\n",
    "        # 定义前向传播\n",
    "        # 使用在init中已经定义的层\n",
    "        x = self.dense_1(inputs)\n",
    "        x = self.dense_2(x)\n",
    "        return x"
   ]
  },
  {
   "cell_type": "code",
   "execution_count": 111,
   "metadata": {
    "ExecuteTime": {
     "end_time": "2021-02-16T00:59:41.837531Z",
     "start_time": "2021-02-16T00:59:41.822311Z"
    }
   },
   "outputs": [],
   "source": [
    "model = MyModel(num_classes=10)"
   ]
  },
  {
   "cell_type": "code",
   "execution_count": 112,
   "metadata": {
    "ExecuteTime": {
     "end_time": "2021-02-16T00:59:43.685860Z",
     "start_time": "2021-02-16T00:59:42.781323Z"
    }
   },
   "outputs": [
    {
     "name": "stdout",
     "output_type": "stream",
     "text": [
      "Epoch 1/5\n",
      "32/32 [==============================] - 0s 3ms/step - loss: 12.1791 - accuracy: 0.1000\n",
      "Epoch 2/5\n",
      "32/32 [==============================] - 0s 3ms/step - loss: 13.2472 - accuracy: 0.1050\n",
      "Epoch 3/5\n",
      "32/32 [==============================] - 0s 3ms/step - loss: 14.8303 - accuracy: 0.1070\n",
      "Epoch 4/5\n",
      "32/32 [==============================] - 0s 3ms/step - loss: 16.5227 - accuracy: 0.0960\n",
      "Epoch 5/5\n",
      "32/32 [==============================] - 0s 3ms/step - loss: 18.3942 - accuracy: 0.0920\n"
     ]
    },
    {
     "data": {
      "text/plain": [
       "<tensorflow.python.keras.callbacks.History at 0x7f59ec5c8b50>"
      ]
     },
     "execution_count": 112,
     "metadata": {},
     "output_type": "execute_result"
    }
   ],
   "source": [
    "model.compile(\n",
    "    optimizer=tf.keras.optimizers.RMSprop(0.001),\n",
    "    loss = tf.keras.losses.CategoricalCrossentropy(from_logits=True),\n",
    "    metrics = ['accuracy']\n",
    ")\n",
    "\n",
    "import numpy as np \n",
    "data = np.random.random((1000,32))\n",
    "labels = np.random.random((1000,10))\n",
    "\n",
    "model.fit(data,labels,batch_size = 32, epochs = 5) #epochs表示训练分为几个阶段 \n",
    "# batch_size 对批次进行迭代\n"
   ]
  },
  {
   "cell_type": "code",
   "execution_count": 51,
   "metadata": {},
   "outputs": [],
   "source": [
    "#### 总结本节课"
   ]
  },
  {
   "cell_type": "markdown",
   "metadata": {},
   "source": [
    "![总结本节课](./markdown_pics/总结第二节课.png)"
   ]
  },
  {
   "cell_type": "markdown",
   "metadata": {},
   "source": [
    "#### 完结"
   ]
  },
  {
   "cell_type": "markdown",
   "metadata": {},
   "source": [
    "## 问题\n",
    "\n",
    "- 1.epoch等三个概念是如何的？\n",
    "- 2.案例中的演示中的shape和张量仍然不够直观，和实际的应用场景下不够贴合，不能够将展示的案例更好的融入场景理解。"
   ]
  },
  {
   "cell_type": "code",
   "execution_count": 8,
   "metadata": {},
   "outputs": [],
   "source": [
    "# 反向传播的案例测试"
   ]
  },
  {
   "cell_type": "code",
   "execution_count": 9,
   "metadata": {},
   "outputs": [],
   "source": [
    "def error_func(label,pred):\n",
    "    e_total = ((label - pred)**2)/2\n",
    "    return e_total"
   ]
  },
  {
   "cell_type": "code",
   "execution_count": 13,
   "metadata": {},
   "outputs": [
    {
     "data": {
      "text/plain": [
       "0.27481108350805245"
      ]
     },
     "execution_count": 13,
     "metadata": {},
     "output_type": "execute_result"
    }
   ],
   "source": [
    "error_func(0.01,0.75136507)"
   ]
  },
  {
   "cell_type": "code",
   "execution_count": 14,
   "metadata": {},
   "outputs": [
    {
     "data": {
      "text/plain": [
       "0.02356002565362811"
      ]
     },
     "execution_count": 14,
     "metadata": {},
     "output_type": "execute_result"
    }
   ],
   "source": [
    "error_func(0.99,0.772928465)"
   ]
  },
  {
   "cell_type": "markdown",
   "metadata": {},
   "source": [
    "##### super函数的作用 https://blog.csdn.net/qq_38787214/article/details/87902291"
   ]
  },
  {
   "cell_type": "code",
   "execution_count": 113,
   "metadata": {
    "ExecuteTime": {
     "end_time": "2021-02-16T01:01:28.282228Z",
     "start_time": "2021-02-16T01:01:28.266298Z"
    },
    "tags": []
   },
   "outputs": [
    {
     "name": "stdout",
     "output_type": "stream",
     "text": [
      "实例化时执行\n",
      "这是属性\n",
      "这是方法\n"
     ]
    },
    {
     "data": {
      "text/plain": [
       "'这是属性'"
      ]
     },
     "execution_count": 113,
     "metadata": {},
     "output_type": "execute_result"
    }
   ],
   "source": [
    "class Root(object):\n",
    "    def __init__(self):\n",
    "        self.x = '这是属性'\n",
    "\n",
    "    def fun(self):\n",
    "        print(self.x)\n",
    "        print('这是方法')\n",
    "\n",
    "\n",
    "class A(Root):\n",
    "    def __init__(self):\n",
    "        super().__init__()\n",
    "        print('实例化时执行')\n",
    "\n",
    "\n",
    "test = A()  # 实例化类\n",
    "test.fun()  # 调用方法\n",
    "test.x  # 调用属性a"
   ]
  },
  {
   "cell_type": "code",
   "execution_count": 14,
   "metadata": {},
   "outputs": [
    {
     "data": {
      "text/plain": [
       "0.9182958340544898"
      ]
     },
     "execution_count": 14,
     "metadata": {},
     "output_type": "execute_result"
    }
   ],
   "source": [
    "import numpy as np\n",
    "-np.log2(6/9)*6/9 -np.log2(3/9)*3/9"
   ]
  },
  {
   "cell_type": "markdown",
   "metadata": {},
   "source": [
    "##### super的调用测试，方法使用父类方法，但是属性是子类自己的属性"
   ]
  },
  {
   "cell_type": "code",
   "execution_count": 48,
   "metadata": {
    "ExecuteTime": {
     "end_time": "2021-02-16T00:32:11.918021Z",
     "start_time": "2021-02-16T00:32:11.903696Z"
    }
   },
   "outputs": [],
   "source": [
    "class A:\n",
    "    def __init__(self):\n",
    "        self.n = 2\n",
    "\n",
    "    def add(self, m):\n",
    "        print('self is {0} @A.add'.format(self))\n",
    "        print('A1:',self.n)\n",
    "        self.n += m\n",
    "        print('A2:',self.n)\n",
    "\n",
    "\n",
    "class B(A):\n",
    "    def __init__(self):\n",
    "        self.n = 3\n",
    "\n",
    "    def add(self, m):\n",
    "        print('self is {0} @B.add'.format(self))\n",
    "        print('B1:',self.n)\n",
    "        super().add(m)\n",
    "        self.n += 3\n",
    "        print('B2:',self.n)"
   ]
  },
  {
   "cell_type": "code",
   "execution_count": 51,
   "metadata": {
    "ExecuteTime": {
     "end_time": "2021-02-16T00:51:09.105105Z",
     "start_time": "2021-02-16T00:51:09.094815Z"
    }
   },
   "outputs": [
    {
     "name": "stdout",
     "output_type": "stream",
     "text": [
      "self is <__main__.B object at 0x7f5ab043c100> @B.add\n",
      "B1: 3\n",
      "self is <__main__.B object at 0x7f5ab043c100> @A.add\n",
      "A1: 3\n",
      "A2: 5\n",
      "B2: 8\n",
      "8\n"
     ]
    }
   ],
   "source": [
    "test = B()\n",
    "test.add(2)\n",
    "print(test.n)"
   ]
  },
  {
   "cell_type": "code",
   "execution_count": 63,
   "metadata": {
    "ExecuteTime": {
     "end_time": "2021-03-01T14:40:11.086856Z",
     "start_time": "2021-03-01T14:40:11.080990Z"
    }
   },
   "outputs": [],
   "source": [
    "# 面向对象编程最基本的结构就是定义属性和方法\n",
    "class Dad:\n",
    "    def __init__(self, content = 'I love my Son and Daughter.'):\n",
    "        self.content = content # 这是属性\n",
    "    def say(self):  # 这是方法\n",
    "        print(f'Dad is Say:{self.content}')"
   ]
  },
  {
   "cell_type": "code",
   "execution_count": 69,
   "metadata": {},
   "outputs": [
    {
     "name": "stdout",
     "output_type": "stream",
     "text": [
      "Dad is Say:I love my Son and Daughter.\n"
     ]
    },
    {
     "data": {
      "text/plain": [
       "'0x7f87ab868200'"
      ]
     },
     "execution_count": 69,
     "metadata": {},
     "output_type": "execute_result"
    }
   ],
   "source": [
    "hex(id(Dad().say()))"
   ]
  },
  {
   "cell_type": "code",
   "execution_count": 57,
   "metadata": {
    "ExecuteTime": {
     "end_time": "2021-03-01T14:40:02.502425Z",
     "start_time": "2021-03-01T14:40:02.496155Z"
    }
   },
   "outputs": [],
   "source": [
    "class Son(Dad):\n",
    "    def __init__(self, content = 'I love my Dad and my Sister.'):\n",
    "        self.content = content\n",
    "    def say(self):\n",
    "        super().say()  # 注意此处super会调用父类的方法，但是不会调用父类的属性，仍然会使用自己的属性"
   ]
  },
  {
   "cell_type": "code",
   "execution_count": 58,
   "metadata": {
    "ExecuteTime": {
     "end_time": "2021-03-01T14:42:15.328994Z",
     "start_time": "2021-03-01T14:42:15.323532Z"
    }
   },
   "outputs": [],
   "source": [
    "class Daughter(Dad):\n",
    "    def __init__(self, content = 'I love my Dad and my Brother.'):\n",
    "        self.content = content\n",
    "    pass  # 此处没有定义之类的say方法，那么一旦该之类需要调用say方法，会自动回溯到子类的上一级，看看父类是否有这个方法，有就调用"
   ]
  },
  {
   "cell_type": "code",
   "execution_count": 59,
   "metadata": {
    "ExecuteTime": {
     "end_time": "2021-03-01T14:42:16.509130Z",
     "start_time": "2021-03-01T14:42:16.503075Z"
    }
   },
   "outputs": [],
   "source": [
    "def say_twice(test):\n",
    "    test.say()\n",
    "    test.say()"
   ]
  },
  {
   "cell_type": "code",
   "execution_count": 60,
   "metadata": {
    "ExecuteTime": {
     "end_time": "2021-03-01T14:43:46.462430Z",
     "start_time": "2021-03-01T14:43:46.439245Z"
    }
   },
   "outputs": [
    {
     "name": "stdout",
     "output_type": "stream",
     "text": [
      "Dad is Say:I love my Dad and my Sister.\n",
      "Dad is Say:I love my Dad and my Sister.\n"
     ]
    }
   ],
   "source": [
    "# 多态的展示形式，是为了体现，当子类实例化为对象以后，函数会先去调用子类方法，如果没有，则会去调用父类的方法\n",
    "# 由于我们在super已经定义了son调用的是父类的say方法，所以这里的方法段是父类的方法，但是，属性却会使用自己的属性\n",
    "# 注意执行的内容并不是我们想要的内容，想要的内容应该是Son is say:I love my Dad and my Sister.以此来达到认识概念目的。\n",
    "son = Son()\n",
    "say_twice(son)"
   ]
  },
  {
   "cell_type": "code",
   "execution_count": 61,
   "metadata": {},
   "outputs": [
    {
     "name": "stdout",
     "output_type": "stream",
     "text": [
      "Dad is Say:I love my Dad and my Brother.\n",
      "Dad is Say:I love my Dad and my Brother.\n"
     ]
    }
   ],
   "source": [
    "# 我们没有定义子类的say方法，仍然会自动回溯调用父类方法，但是属性仍然是子类自己的属性\n",
    "# 注意执行的内容并不是我们想要的内容，想要的内容应该是Daughter is say:I love my Dad and my Brother.以此来达到认识概念目的。\n",
    "dau = Daughter()\n",
    "say_twice(dau)"
   ]
  },
  {
   "cell_type": "code",
   "execution_count": null,
   "metadata": {},
   "outputs": [],
   "source": []
  }
 ],
 "metadata": {
  "kernelspec": {
   "display_name": "Python 3.8.3 64-bit",
   "language": "python",
   "name": "python38364bitcb11fcd8cdb441e4bf52994f94e346da"
  },
  "language_info": {
   "codemirror_mode": {
    "name": "ipython",
    "version": 3
   },
   "file_extension": ".py",
   "mimetype": "text/x-python",
   "name": "python",
   "nbconvert_exporter": "python",
   "pygments_lexer": "ipython3",
   "version": "3.8.3"
  },
  "metadata": {
   "interpreter": {
    "hash": "4cd7ab41f5fca4b9b44701077e38c5ffd31fe66a6cab21e0214b68d958d0e462"
   }
  }
 },
 "nbformat": 4,
 "nbformat_minor": 2
}
