{
 "cells": [
  {
   "cell_type": "code",
   "execution_count": 1,
   "metadata": {},
   "outputs": [],
   "source": [
    "import tensorflow as tf\n",
    "import pandas as pd\n",
    "import numpy as np\n",
    "from gensim.models import Word2Vec\n",
    "import jieba  # 中文分词库，百度员工开发\n",
    "import matplotlib.pyplot as plt \n",
    "import time\n",
    "# 查询系统可用的 GPU\n",
    "physical_devices = tf.config.experimental.list_physical_devices('GPU')\n",
    "# 确保有可用的 GPU 如果没有, 则会报错\n",
    "assert len(physical_devices) > 0, \"Not enough GPU hardware devices available\"\n",
    "# 设置参数,该段务必在运行jupyter的第一段代码执行，否则会无法初始化成功\n",
    "# 仅在需要时申请显存空间（程序初始运行时消耗很少的显存，随着程序的运行而动态申请显存）\n",
    "tf.config.experimental.set_memory_growth(physical_devices[0], True)"
   ]
  },
  {
   "cell_type": "markdown",
   "metadata": {},
   "source": [
    "![文本表示的常用方法](./markdown_pics/文本表示的常用方法.png)"
   ]
  },
  {
   "cell_type": "markdown",
   "metadata": {},
   "source": [
    "![文本表示方法的优缺点](./markdown_pics/文本表示方法的优缺点.png)"
   ]
  },
  {
   "cell_type": "markdown",
   "metadata": {},
   "source": [
    "#### 1.词向量简介"
   ]
  },
  {
   "cell_type": "markdown",
   "metadata": {},
   "source": [
    "![w2c的简单介绍](./markdown_pics/w2c的简单介绍.png)"
   ]
  },
  {
   "cell_type": "code",
   "execution_count": null,
   "metadata": {},
   "outputs": [],
   "source": []
  },
  {
   "cell_type": "code",
   "execution_count": null,
   "metadata": {},
   "outputs": [],
   "source": []
  },
  {
   "cell_type": "code",
   "execution_count": null,
   "metadata": {},
   "outputs": [],
   "source": []
  },
  {
   "cell_type": "markdown",
   "metadata": {},
   "source": [
    "#### 2.文本表示方法"
   ]
  },
  {
   "cell_type": "code",
   "execution_count": null,
   "metadata": {},
   "outputs": [],
   "source": []
  },
  {
   "cell_type": "code",
   "execution_count": null,
   "metadata": {},
   "outputs": [],
   "source": []
  },
  {
   "cell_type": "code",
   "execution_count": null,
   "metadata": {},
   "outputs": [],
   "source": []
  },
  {
   "cell_type": "code",
   "execution_count": null,
   "metadata": {},
   "outputs": [],
   "source": []
  },
  {
   "cell_type": "code",
   "execution_count": null,
   "metadata": {},
   "outputs": [],
   "source": []
  },
  {
   "cell_type": "markdown",
   "metadata": {},
   "source": [
    "#### 3.Word2vec词向量"
   ]
  },
  {
   "cell_type": "code",
   "execution_count": null,
   "metadata": {},
   "outputs": [],
   "source": []
  },
  {
   "cell_type": "code",
   "execution_count": null,
   "metadata": {},
   "outputs": [],
   "source": []
  },
  {
   "cell_type": "code",
   "execution_count": null,
   "metadata": {},
   "outputs": [],
   "source": []
  },
  {
   "cell_type": "code",
   "execution_count": null,
   "metadata": {},
   "outputs": [],
   "source": []
  },
  {
   "cell_type": "code",
   "execution_count": null,
   "metadata": {},
   "outputs": [],
   "source": []
  },
  {
   "cell_type": "markdown",
   "metadata": {},
   "source": [
    "#### 4.代码演示word2vec"
   ]
  },
  {
   "cell_type": "code",
   "execution_count": 2,
   "metadata": {},
   "outputs": [],
   "source": [
    "train = pd.read_csv('/share/data/tutorial/cnews/train.tsv', sep = '\\t', header= None, names = ['label','content'])\n",
    "val = pd.read_csv('/share/data/tutorial/cnews/dev.tsv', sep = '\\t', header= None, names = ['label','content'])\n",
    "test = pd.read_csv('/share/data/tutorial/cnews/test.tsv', sep = '\\t', header= None, names = ['label','content'])"
   ]
  },
  {
   "cell_type": "code",
   "execution_count": 3,
   "metadata": {},
   "outputs": [
    {
     "data": {
      "text/html": [
       "<div>\n",
       "<style scoped>\n",
       "    .dataframe tbody tr th:only-of-type {\n",
       "        vertical-align: middle;\n",
       "    }\n",
       "\n",
       "    .dataframe tbody tr th {\n",
       "        vertical-align: top;\n",
       "    }\n",
       "\n",
       "    .dataframe thead th {\n",
       "        text-align: right;\n",
       "    }\n",
       "</style>\n",
       "<table border=\"1\" class=\"dataframe\">\n",
       "  <thead>\n",
       "    <tr style=\"text-align: right;\">\n",
       "      <th></th>\n",
       "      <th>label</th>\n",
       "      <th>content</th>\n",
       "    </tr>\n",
       "  </thead>\n",
       "  <tbody>\n",
       "    <tr>\n",
       "      <th>0</th>\n",
       "      <td>体育</td>\n",
       "      <td>马晓旭意外受伤让国奥警惕 无奈大雨格外青睐殷家军记者傅亚雨沈阳报道 来到沈阳，国奥队依然没有...</td>\n",
       "    </tr>\n",
       "    <tr>\n",
       "      <th>1</th>\n",
       "      <td>体育</td>\n",
       "      <td>商瑞华首战复仇心切 中国玫瑰要用美国方式攻克瑞典多曼来了，瑞典来了，商瑞华首战求3分的信心也...</td>\n",
       "    </tr>\n",
       "    <tr>\n",
       "      <th>2</th>\n",
       "      <td>体育</td>\n",
       "      <td>冠军球队迎新欢乐派对 黄旭获大奖张军赢下PK赛新浪体育讯12月27日晚，“冠军高尔夫球队迎新...</td>\n",
       "    </tr>\n",
       "    <tr>\n",
       "      <th>3</th>\n",
       "      <td>体育</td>\n",
       "      <td>辽足签约危机引注册难关 高层威逼利诱合同笑里藏刀新浪体育讯2月24日，辽足爆发了集体拒签风波...</td>\n",
       "    </tr>\n",
       "    <tr>\n",
       "      <th>4</th>\n",
       "      <td>体育</td>\n",
       "      <td>揭秘谢亚龙被带走：总局电话骗局 复制南杨轨迹体坛周报特约记者张锐北京报道  谢亚龙已经被公安...</td>\n",
       "    </tr>\n",
       "  </tbody>\n",
       "</table>\n",
       "</div>"
      ],
      "text/plain": [
       "  label                                            content\n",
       "0    体育  马晓旭意外受伤让国奥警惕 无奈大雨格外青睐殷家军记者傅亚雨沈阳报道 来到沈阳，国奥队依然没有...\n",
       "1    体育  商瑞华首战复仇心切 中国玫瑰要用美国方式攻克瑞典多曼来了，瑞典来了，商瑞华首战求3分的信心也...\n",
       "2    体育  冠军球队迎新欢乐派对 黄旭获大奖张军赢下PK赛新浪体育讯12月27日晚，“冠军高尔夫球队迎新...\n",
       "3    体育  辽足签约危机引注册难关 高层威逼利诱合同笑里藏刀新浪体育讯2月24日，辽足爆发了集体拒签风波...\n",
       "4    体育  揭秘谢亚龙被带走：总局电话骗局 复制南杨轨迹体坛周报特约记者张锐北京报道  谢亚龙已经被公安..."
      ]
     },
     "execution_count": 3,
     "metadata": {},
     "output_type": "execute_result"
    }
   ],
   "source": [
    "train.head()"
   ]
  },
  {
   "cell_type": "code",
   "execution_count": 4,
   "metadata": {},
   "outputs": [
    {
     "data": {
      "text/html": [
       "<div>\n",
       "<style scoped>\n",
       "    .dataframe tbody tr th:only-of-type {\n",
       "        vertical-align: middle;\n",
       "    }\n",
       "\n",
       "    .dataframe tbody tr th {\n",
       "        vertical-align: top;\n",
       "    }\n",
       "\n",
       "    .dataframe thead th {\n",
       "        text-align: right;\n",
       "    }\n",
       "</style>\n",
       "<table border=\"1\" class=\"dataframe\">\n",
       "  <thead>\n",
       "    <tr style=\"text-align: right;\">\n",
       "      <th></th>\n",
       "      <th>label</th>\n",
       "      <th>content</th>\n",
       "    </tr>\n",
       "  </thead>\n",
       "  <tbody>\n",
       "    <tr>\n",
       "      <th>49995</th>\n",
       "      <td>财经</td>\n",
       "      <td>打好投资的决胜局□国泰基金 阿邰就长期而言，资产配置占投资成功与否的决定因素高达90%以上。...</td>\n",
       "    </tr>\n",
       "    <tr>\n",
       "      <th>49996</th>\n",
       "      <td>财经</td>\n",
       "      <td>昔明星基金今年首月负收益 QDII成今年胸闷基金□晨报记者 陈重博2009年以来，所有偏股型...</td>\n",
       "    </tr>\n",
       "    <tr>\n",
       "      <th>49997</th>\n",
       "      <td>财经</td>\n",
       "      <td>沪基指全周大涨8.25% 创两个月最大周涨幅全景网2月6日讯 受到A股市场牛年高歌猛进影响，...</td>\n",
       "    </tr>\n",
       "    <tr>\n",
       "      <th>49998</th>\n",
       "      <td>财经</td>\n",
       "      <td>沪基指半日涨2.01% 两市封基近乎全线上扬全景网2月6日讯 沪深基金指数周五早盘大幅收高，...</td>\n",
       "    </tr>\n",
       "    <tr>\n",
       "      <th>49999</th>\n",
       "      <td>财经</td>\n",
       "      <td>牛年第一月 开基抬头券商集合理财掉队每经记者 于春敏在金融危机的淫威之下，2008年，全球资...</td>\n",
       "    </tr>\n",
       "  </tbody>\n",
       "</table>\n",
       "</div>"
      ],
      "text/plain": [
       "      label                                            content\n",
       "49995    财经  打好投资的决胜局□国泰基金 阿邰就长期而言，资产配置占投资成功与否的决定因素高达90%以上。...\n",
       "49996    财经  昔明星基金今年首月负收益 QDII成今年胸闷基金□晨报记者 陈重博2009年以来，所有偏股型...\n",
       "49997    财经  沪基指全周大涨8.25% 创两个月最大周涨幅全景网2月6日讯 受到A股市场牛年高歌猛进影响，...\n",
       "49998    财经  沪基指半日涨2.01% 两市封基近乎全线上扬全景网2月6日讯 沪深基金指数周五早盘大幅收高，...\n",
       "49999    财经  牛年第一月 开基抬头券商集合理财掉队每经记者 于春敏在金融危机的淫威之下，2008年，全球资..."
      ]
     },
     "execution_count": 4,
     "metadata": {},
     "output_type": "execute_result"
    }
   ],
   "source": [
    "train.tail()"
   ]
  },
  {
   "cell_type": "code",
   "execution_count": 5,
   "metadata": {
    "tags": []
   },
   "outputs": [
    {
     "name": "stdout",
     "output_type": "stream",
     "text": [
      "(50000, 2) (5000, 2) (10000, 2)\n"
     ]
    }
   ],
   "source": [
    "print(\n",
    "    train.shape,\n",
    "    val.shape,\n",
    "    test.shape\n",
    ")"
   ]
  },
  {
   "cell_type": "code",
   "execution_count": 6,
   "metadata": {},
   "outputs": [],
   "source": [
    "def content_cut(x):\n",
    "    x = jieba.lcut(x)\n",
    "    x = ' '.join(x)\n",
    "    return x"
   ]
  },
  {
   "cell_type": "code",
   "execution_count": 7,
   "metadata": {
    "tags": []
   },
   "outputs": [
    {
     "name": "stderr",
     "output_type": "stream",
     "text": [
      "Building prefix dict from the default dictionary ...\n",
      "Loading model from cache /tmp/jieba.cache\n",
      "Loading model cost 0.653 seconds.\n",
      "Prefix dict has been built successfully.\n",
      "CPU times: user 4min 17s, sys: 591 ms, total: 4min 17s\n",
      "Wall time: 4min 17s\n"
     ]
    }
   ],
   "source": [
    "%%time\n",
    "train['content'] = train['content'].map(lambda x: content_cut(x))\n",
    "val['content'] = val['content'].map(lambda x: content_cut(x))\n",
    "test['content'] = test['content'].map(lambda x: content_cut(x))\n"
   ]
  },
  {
   "cell_type": "code",
   "execution_count": 8,
   "metadata": {},
   "outputs": [],
   "source": [
    "df = pd.concat([train, val, test], axis = 0)"
   ]
  },
  {
   "cell_type": "markdown",
   "metadata": {},
   "source": [
    "##### 训练Word2Vec"
   ]
  },
  {
   "cell_type": "code",
   "execution_count": 9,
   "metadata": {},
   "outputs": [],
   "source": [
    "sentences = [document.split(' ') for document in df['content'].values]"
   ]
  },
  {
   "cell_type": "code",
   "execution_count": 10,
   "metadata": {},
   "outputs": [],
   "source": [
    "%%time\n",
    "model = Word2Vec(\n",
    "    sentences= sentences,\n",
    "    size = 200, # 维度\n",
    "    alpha= 0.025, # 默认值\n",
    "    window = 5, # 默认\n",
    "    min_count=2,\n",
    "    sample=0.001,\n",
    "    seed = 2018,\n",
    "    workers=11, # 线程\n",
    "    min_alpha= 0.0001,\n",
    "    sg = 0, # cbow\n",
    "    hs = 0, # 负采样\n",
    "    negative=5, # 负采样个数\n",
    "    ns_exponent= 0.75,\n",
    "    cbow_mean= 1, # 求和再取平均\n",
    "    iter = 10, # 10到20\n",
    "    compute_loss= True\n",
    ")"
   ]
  },
  {
   "cell_type": "code",
   "execution_count": 11,
   "metadata": {},
   "outputs": [],
   "source": [
    "# 保存模型\n",
    "model.save('./word2vec/word2vec_word_200')"
   ]
  },
  {
   "cell_type": "code",
   "execution_count": 12,
   "metadata": {},
   "outputs": [],
   "source": [
    "# 加载模型\n",
    "model = Word2Vec.load('./word2vec/word2vec_word_200')"
   ]
  },
  {
   "cell_type": "code",
   "execution_count": 13,
   "metadata": {},
   "outputs": [
    {
     "data": {
      "text/plain": [
       "at 0x7f202daebf70>,\n",
       " '合作意向': <gensim.models.keyedvectors.Vocab at 0x7f202daebfd0>,\n",
       " '鼎立': <gensim.models.keyedvectors.Vocab at 0x7f202daf0070>,\n",
       " '支持': <gensim.models.keyedvectors.Vocab at 0x7f202daf00d0>,\n",
       " '由': <gensim.models.keyedvectors.Vocab at 0x7f202daf0130>,\n",
       " '两位': <gensim.models.keyedvectors.Vocab at 0x7f202daf0190>,\n",
       " '体操': <gensim.models.keyedvectors.Vocab at 0x7f202daf01f0>,\n",
       " '担当': <gensim.models.keyedvectors.Vocab at 0x7f202daf0250>,\n",
       " '主持': <gensim.models.keyedvectors.Vocab at 0x7f202daf02b0>,\n",
       " '从始至终': <gensim.models.keyedvectors.Vocab at 0x7f202daf0310>,\n",
       " '沉浸': <gensim.models.keyedvectors.Vocab at 0x7f202daf0370>,\n",
       " '一片片': <gensim.models.keyedvectors.Vocab at 0x7f202daf03d0>,\n",
       " '欢声笑语': <gensim.models.keyedvectors.Vocab at 0x7f202daf0430>,\n",
       " '之中': <gensim.models.keyedvectors.Vocab at 0x7f202daf0490>,\n",
       " '游戏': <gensim.models.keyedvectors.Vocab at 0x7f202daf04f0>,\n",
       " '抽奖': <gensim.models.keyedvectors.Vocab at 0x7f202daf0550>,\n",
       " '环环相扣': <gensim.models.keyedvectors.Vocab at 0x7f202daf05b0>,\n",
       " '精彩': <gensim.models.keyedvectors.Vocab at 0x7f202daf0610>,\n",
       " '到场': <gensim.models.keyedvectors.Vocab at 0x7f202daf0670>,\n",
       " '根本': <gensim.models.keyedvectors.Vocab at 0x7f202daf06d0>,\n",
       " '无暇': <gensim.models.keyedvectors.Vocab at 0x7f202daf0730>,\n",
       " '享用': <gensim.models.keyedvectors.Vocab at 0x7f202daf0790>,\n",
       " '美味': <gensim.models.keyedvectors.Vocab at 0x7f202daf07f0>,\n",
       " '食品': <gensim.models.keyedvectors.Vocab at 0x7f202daf0850>,\n",
       " '长期': <gensim.models.keyedvectors.Vocab at 0x7f202daf08b0>,\n",
       " '经历': <gensim.models.keyedvectors.Vocab at 0x7f202daf0910>,\n",
       " '刻苦': <gensim.models.keyedvectors.Vocab at 0x7f202daf0970>,\n",
       " '高度': <gensim.models.keyedvectors.Vocab at 0x7f202daf09d0>,\n",
       " '紧张': <gensim.models.keyedvectors.Vocab at 0x7f202daf0a30>,\n",
       " '工作': <gensim.models.keyedvectors.Vocab at 0x7f202daf0a90>,\n",
       " '他们': <gensim.models.keyedvectors.Vocab at 0x7f202daf0af0>,\n",
       " '难得': <gensim.models.keyedvectors.Vocab at 0x7f202daf0b50>,\n",
       " '轻松': <gensim.models.keyedvectors.Vocab at 0x7f202daf0bb0>,\n",
       " '夜晚': <gensim.models.keyedvectors.Vocab at 0x7f202daf0c10>,\n",
       " '三人': <gensim.models.keyedvectors.Vocab at 0x7f202daf0c70>,\n",
       " '赛前': <gensim.models.keyedvectors.Vocab at 0x7f202daf0cd0>,\n",
       " '头筹': <gensim.models.keyedvectors.Vocab at 0x7f202daf0d30>,\n",
       " '未': <gensim.models.keyedvectors.Vocab at 0x7f202daf0d90>,\n",
       " '经不起': <gensim.models.keyedvectors.Vocab at 0x7f202daf0df0>,\n",
       " '诱惑': <gensim.models.keyedvectors.Vocab at 0x7f202daf0e50>,\n",
       " '纷纷': <gensim.models.keyedvectors.Vocab at 0x7f202daf0eb0>,\n",
       " '打位': <gensim.models.keyedvectors.Vocab at 0x7f202daf0f10>,\n",
       " '一试身手': <gensim.models.keyedvectors.Vocab at 0x7f202daf0f70>,\n",
       " '三位': <gensim.models.keyedvectors.Vocab at 0x7f202daf0fd0>,\n",
       " '先后': <gensim.models.keyedvectors.Vocab at 0x7f202daf5070>,\n",
       " '九宫格': <gensim.models.keyedvectors.Vocab at 0x7f202daf50d0>,\n",
       " '发起': <gensim.models.keyedvectors.Vocab at 0x7f202daf5130>,\n",
       " '挑战': <gensim.models.keyedvectors.Vocab at 0x7f202daf5190>,\n",
       " '见到': <gensim.models.keyedvectors.Vocab at 0x7f202daf51f0>,\n",
       " '如此': <gensim.models.keyedvectors.Vocab at 0x7f202daf5250>,\n",
       " '热情': <gensim.models.keyedvectors.Vocab at 0x7f202daf52b0>,\n",
       " '一旁': <gensim.models.keyedvectors.Vocab at 0x7f202daf5310>,\n",
       " '外籍': <gensim.models.keyedvectors.Vocab at 0x7f202daf5370>,\n",
       " '赶忙': <gensim.models.keyedvectors.Vocab at 0x7f202daf53d0>,\n",
       " '上前': <gensim.models.keyedvectors.Vocab at 0x7f202daf5430>,\n",
       " '稍加': <gensim.models.keyedvectors.Vocab at 0x7f202daf5490>,\n",
       " '指导': <gensim.models.keyedvectors.Vocab at 0x7f202daf54f0>,\n",
       " '调整': <gensim.models.keyedvectors.Vocab at 0x7f202daf5550>,\n",
       " '瞄准': <gensim.models.keyedvectors.Vocab at 0x7f202daf55b0>,\n",
       " '方向': <gensim.models.keyedvectors.Vocab at 0x7f202daf5610>,\n",
       " '挥杆': <gensim.models.keyedvectors.Vocab at 0x7f202daf5670>,\n",
       " '节奏': <gensim.models.keyedvectors.Vocab at 0x7f202daf56d0>,\n",
       " '手腕': <gensim.models.keyedvectors.Vocab at 0x7f202daf5730>,\n",
       " '姿态': <gensim.models.keyedvectors.Vocab at 0x7f202daf5790>,\n",
       " '效果': <gensim.models.keyedvectors.Vocab at 0x7f202daf57f0>,\n",
       " '立竿见影': <gensim.models.keyedvectors.Vocab at 0x7f202daf5850>,\n",
       " '赛中': <gensim.models.keyedvectors.Vocab at 0x7f202daf58b0>,\n",
       " '三次': <gensim.models.keyedvectors.Vocab at 0x7f202daf5910>,\n",
       " '机会': <gensim.models.keyedvectors.Vocab at 0x7f202daf5970>,\n",
       " '击中目标': <gensim.models.keyedvectors.Vocab at 0x7f202daf59d0>,\n",
       " '区域': <gensim.models.keyedvectors.Vocab at 0x7f202daf5a30>,\n",
       " '将球': <gensim.models.keyedvectors.Vocab at 0x7f202daf5a90>,\n",
       " '击中': <gensim.models.keyedvectors.Vocab at 0x7f202daf5af0>,\n",
       " '抽到': <gensim.models.keyedvectors.Vocab at 0x7f202daf5b50>,\n",
       " '难度': <gensim.models.keyedvectors.Vocab at 0x7f202daf5bb0>,\n",
       " '极大': <gensim.models.keyedvectors.Vocab at 0x7f202daf5c10>,\n",
       " '最终': <gensim.models.keyedvectors.Vocab at 0x7f202daf5c70>,\n",
       " '排名': <gensim.models.keyedvectors.Vocab at 0x7f202daf5cd0>,\n",
       " '成': <gensim.models.keyedvectors.Vocab at 0x7f202daf5d30>,\n",
       " '寻宝': <gensim.models.keyedvectors.Vocab at 0x7f202daf5d90>,\n",
       " '之王': <gensim.models.keyedvectors.Vocab at 0x7f202daf5df0>,\n",
       " '小女儿': <gensim.models.keyedvectors.Vocab at 0x7f202daf5e50>,\n",
       " '无辜': <gensim.models.keyedvectors.Vocab at 0x7f202daf5eb0>,\n",
       " '挨': <gensim.models.keyedvectors.Vocab at 0x7f202daf5f10>,\n",
       " '抓': <gensim.models.keyedvectors.Vocab at 0x7f202daf5f70>,\n",
       " '虽然': <gensim.models.keyedvectors.Vocab at 0x7f202daf5fd0>,\n",
       " '惜败': <gensim.models.keyedvectors.Vocab at 0x7f202dafc070>,\n",
       " '但是': <gensim.models.keyedvectors.Vocab at 0x7f202dafc0d0>,\n",
       " '随后': <gensim.models.keyedvectors.Vocab at 0x7f202dafc130>,\n",
       " '环节': <gensim.models.keyedvectors.Vocab at 0x7f202dafc190>,\n",
       " '大展身手': <gensim.models.keyedvectors.Vocab at 0x7f202dafc1f0>,\n",
       " '主持人': <gensim.models.keyedvectors.Vocab at 0x7f202dafc250>,\n",
       " '请': <gensim.models.keyedvectors.Vocab at 0x7f202dafc2b0>,\n",
       " '提出': <gensim.models.keyedvectors.Vocab at 0x7f202dafc310>,\n",
       " '第一件': <gensim.models.keyedvectors.Vocab at 0x7f202dafc370>,\n",
       " '宝贝': <gensim.models.keyedvectors.Vocab at 0x7f202dafc3d0>,\n",
       " '--': <gensim.models.keyedvectors.Vocab at 0x7f202dafc430>,\n",
       " '眼镜': <gensim.models.keyedvectors.Vocab at 0x7f202dafc490>,\n",
       " '五人': <gensim.models.keyedvectors.Vocab at 0x7f202dafc4f0>,\n",
       " '立刻': <gensim.models.keyedvectors.Vocab at 0x7f202dafc550>,\n",
       " '冲向': <gensim.models.keyedvectors.Vocab at 0x7f202dafc5b0>,\n",
       " '在场': <gensim.models.keyedvectors.Vocab at 0x7f202dafc610>,\n",
       " '戴着': <gensim.models.keyedvectors.Vocab at 0x7f202dafc670>,\n",
       " '人士': <gensim.models.keyedvectors.Vocab at 0x7f202dafc6d0>,\n",
       " '一声不响': <gensim.models.keyedvectors.Vocab at 0x7f202dafc730>,\n",
       " '直接': <gensim.models.keyedvectors.Vocab at 0x7f202dafc790>,\n",
       " '摘下': <gensim.models.keyedvectors.Vocab at 0x7f202dafc7f0>,\n",
       " '嘴里': <gensim.models.keyedvectors.Vocab at 0x7f202dafc850>,\n",
       " '要求': <gensim.models.keyedvectors.Vocab at 0x7f202dafc8b0>,\n",
       " '翻看': <gensim.models.keyedvectors.Vocab at 0x7f202dafc910>,\n",
       " '包': <gensim.models.keyedvectors.Vocab at 0x7f202dafc970>,\n",
       " '是否': <gensim.models.keyedvectors.Vocab at 0x7f202dafc9d0>,\n",
       " '墨镜': <gensim.models.keyedvectors.Vocab at 0x7f202dafca30>,\n",
       " '眼看': <gensim.models.keyedvectors.Vocab at 0x7f202dafca90>,\n",
       " '截止': <gensim.models.keyedvectors.Vocab at 0x7f202dafcaf0>,\n",
       " '刮': <gensim.models.keyedvectors.Vocab at 0x7f202dafcb50>,\n",
       " '两把': <gensim.models.keyedvectors.Vocab at 0x7f202dafcbb0>,\n",
       " '走向': <gensim.models.keyedvectors.Vocab at 0x7f202dafcc10>,\n",
       " '前台': <gensim.models.keyedvectors.Vocab at 0x7f202dafcc70>,\n",
       " '见状': <gensim.models.keyedvectors.Vocab at 0x7f202dafccd0>,\n",
       " '其余': <gensim.models.keyedvectors.Vocab at 0x7f202dafcd30>,\n",
       " '参赛选手': <gensim.models.keyedvectors.Vocab at 0x7f202dafcd90>,\n",
       " '战利品': <gensim.models.keyedvectors.Vocab at 0x7f202dafcdf0>,\n",
       " '收归': <gensim.models.keyedvectors.Vocab at 0x7f202dafce50>,\n",
       " '自己': <gensim.models.keyedvectors.Vocab at 0x7f202dafceb0>,\n",
       " '一举': <gensim.models.keyedvectors.Vocab at 0x7f202dafcf10>,\n",
       " '反超': <gensim.models.keyedvectors.Vocab at 0x7f202dafcf70>,\n",
       " '拿到': <gensim.models.keyedvectors.Vocab at 0x7f202dafcfd0>,\n",
       " '第一次': <gensim.models.keyedvectors.Vocab at 0x7f202db02070>,\n",
       " '优胜': <gensim.models.keyedvectors.Vocab at 0x7f202db020d0>,\n",
       " '第二次': <gensim.models.keyedvectors.Vocab at 0x7f202db02130>,\n",
       " '皮筋': <gensim.models.keyedvectors.Vocab at 0x7f202db02190>,\n",
       " '二字': <gensim.models.keyedvectors.Vocab at 0x7f202db021f0>,\n",
       " '没': <gensim.models.keyedvectors.Vocab at 0x7f202db02250>,\n",
       " '落定': <gensim.models.keyedvectors.Vocab at 0x7f202db022b0>,\n",
       " '只见': <gensim.models.keyedvectors.Vocab at 0x7f202db02310>,\n",
       " '迅速': <gensim.models.keyedvectors.Vocab at 0x7f202db02370>,\n",
       " '女士': <gensim.models.keyedvectors.Vocab at 0x7f202db023d0>,\n",
       " '一把抓': <gensim.models.keyedvectors.Vocab at 0x7f202db02430>,\n",
       " '张': <gensim.models.keyedvectors.Vocab at 0x7f202db02490>,\n",
       " '璇': <gensim.models.keyedvectors.Vocab at 0x7f202db024f0>,\n",
       " '鞭子': <gensim.models.keyedvectors.Vocab at 0x7f202db02550>,\n",
       " '面对': <gensim.models.keyedvectors.Vocab at 0x7f202db025b0>,\n",
       " '突如其来': <gensim.models.keyedvectors.Vocab at 0x7f202db02610>,\n",
       " '一': <gensim.models.keyedvectors.Vocab at 0x7f202db02670>,\n",
       " '小姑娘': <gensim.models.keyedvectors.Vocab at 0x7f202db026d0>,\n",
       " '不知所措': <gensim.models.keyedvectors.Vocab at 0x7f202db02730>,\n",
       " '放声大哭': <gensim.models.keyedvectors.Vocab at 0x7f202db02790>,\n",
       " '一脸': <gensim.models.keyedvectors.Vocab at 0x7f202db027f0>,\n",
       " '尴尬': <gensim.models.keyedvectors.Vocab at 0x7f202db02850>,\n",
       " '人缘': <gensim.models.keyedvectors.Vocab at 0x7f202db028b0>,\n",
       " '几位': <gensim.models.keyedvectors.Vocab at 0x7f202db02910>,\n",
       " '头上': <gensim.models.keyedvectors.Vocab at 0x7f202db02970>,\n",
       " '包内': <gensim.models.keyedvectors.Vocab at 0x7f202db029d0>,\n",
       " '贡献': <gensim.models.keyedvectors.Vocab at 0x7f202db02a30>,\n",
       " '经过': <gensim.models.keyedvectors.Vocab at 0x7f202db02a90>,\n",
       " '一翻': <gensim.models.keyedvectors.Vocab at 0x7f202db02af0>,\n",
       " '艰苦': <gensim.models.keyedvectors.Vocab at 0x7f202db02b50>,\n",
       " '搜寻': <gensim.models.keyedvectors.Vocab at 0x7f202db02bb0>,\n",
       " '颇': <gensim.models.keyedvectors.Vocab at 0x7f202db02c10>,\n",
       " '成绩': <gensim.models.keyedvectors.Vocab at 0x7f202db02c70>,\n",
       " '未能': <gensim.models.keyedvectors.Vocab at 0x7f202db02cd0>,\n",
       " '战胜': <gensim.models.keyedvectors.Vocab at 0x7f202db02d30>,\n",
       " '凭借着': <gensim.models.keyedvectors.Vocab at 0x7f202db02d90>,\n",
       " '两个': <gensim.models.keyedvectors.Vocab at 0x7f202db02df0>,\n",
       " '绝对优势': <gensim.models.keyedvectors.Vocab at 0x7f202db02e50>,\n",
       " '初体验': <gensim.models.keyedvectors.Vocab at 0x7f202db02eb0>,\n",
       " '老虎': <gensim.models.keyedvectors.Vocab at 0x7f202db02f10>,\n",
       " '-': <gensim.models.keyedvectors.Vocab at 0x7f202db02f70>,\n",
       " '伍兹': <gensim.models.keyedvectors.Vocab at 0x7f202db02fd0>,\n",
       " '此前': <gensim.models.keyedvectors.Vocab at 0x7f202db08070>,\n",
       " '接触': <gensim.models.keyedvectors.Vocab at 0x7f202db080d0>,\n",
       " '过': <gensim.models.keyedvectors.Vocab at 0x7f202db08130>,\n",
       " '气氛': <gensim.models.keyedvectors.Vocab at 0x7f202db08190>,\n",
       " '感染': <gensim.models.keyedvectors.Vocab at 0x7f202db081f0>,\n",
       " '她们': <gensim.models.keyedvectors.Vocab at 0x7f202db08250>,\n",
       " '杆': <gensim.models.keyedvectors.Vocab at 0x7f202db082b0>,\n",
       " '乒乓球': <gensim.models.keyedvectors.Vocab at 0x7f202db08310>,\n",
       " '朋友': <gensim.models.keyedvectors.Vocab at 0x7f202db08370>,\n",
       " '聊天': <gensim.models.keyedvectors.Vocab at 0x7f202db083d0>,\n",
       " '看到': <gensim.models.keyedvectors.Vocab at 0x7f202db08430>,\n",
       " '正兴': <gensim.models.keyedvectors.Vocab at 0x7f202db08490>,\n",
       " '绅士': <gensim.models.keyedvectors.Vocab at 0x7f202db084f0>,\n",
       " '让出': <gensim.models.keyedvectors.Vocab at 0x7f202db08550>,\n",
       " '以前': <gensim.models.keyedvectors.Vocab at 0x7f202db085b0>,\n",
       " '打过': <gensim.models.keyedvectors.Vocab at 0x7f202db08610>,\n",
       " '于是': <gensim.models.keyedvectors.Vocab at 0x7f202db08670>,\n",
       " '耐心': <gensim.models.keyedvectors.Vocab at 0x7f202db086d0>,\n",
       " '临时': <gensim.models.keyedvectors.Vocab at 0x7f202db08730>,\n",
       " '视频': <gensim.models.keyedvectors.Vocab at 0x7f202db08790>,\n",
       " '模拟器': <gensim.models.keyedvectors.Vocab at 0x7f202db087f0>,\n",
       " '兴趣': <gensim.models.keyedvectors.Vocab at 0x7f202db08850>,\n",
       " '颇深': <gensim.models.keyedvectors.Vocab at 0x7f202db088b0>,\n",
       " '名将': <gensim.models.keyedvectors.Vocab at 0x7f202db08910>,\n",
       " '一起': <gensim.models.keyedvectors.Vocab at 0x7f202db08970>,\n",
       " '玩起': <gensim.models.keyedvectors.Vocab at 0x7f202db089d0>,\n",
       " '选用': <gensim.models.keyedvectors.Vocab at 0x7f202db08a30>,\n",
       " '对阵': <gensim.models.keyedvectors.Vocab at 0x7f202db08a90>,\n",
       " '约翰': <gensim.models.keyedvectors.Vocab at 0x7f202db08af0>,\n",
       " '达利': <gensim.models.keyedvectors.Vocab at 0x7f202db08b50>,\n",
       " '两人': <gensim.models.keyedvectors.Vocab at 0x7f202db08bb0>,\n",
       " '你': <gensim.models.keyedvectors.Vocab at 0x7f202db08c10>,\n",
       " '一杆': <gensim.models.keyedvectors.Vocab at 0x7f202db08c70>,\n",
       " '下来': <gensim.models.keyedvectors.Vocab at 0x7f202db08cd0>,\n",
       " '+': <gensim.models.keyedvectors.Vocab at 0x7f202db08d30>,\n",
       " '第三': <gensim.models.keyedvectors.Vocab at 0x7f202db08d90>,\n",
       " '洞': <gensim.models.keyedvectors.Vocab at 0x7f202db08df0>,\n",
       " '果岭': <gensim.models.keyedvectors.Vocab at 0x7f202db08e50>,\n",
       " '推': <gensim.models.keyedvectors.Vocab at 0x7f202db08eb0>,\n",
       " '三下': <gensim.models.keyedvectors.Vocab at 0x7f202db08f10>,\n",
       " '小球': <gensim.models.keyedvectors.Vocab at 0x7f202db08f70>,\n",
       " '搞': <gensim.models.keyedvectors.Vocab at 0x7f202db08fd0>,\n",
       " '第一': <gensim.models.keyedvectors.Vocab at 0x7f202db0f070>,\n",
       " '仰天长叹': <gensim.models.keyedvectors.Vocab at 0x7f202db0f0d0>,\n",
       " '看着': <gensim.models.keyedvectors.Vocab at 0x7f202db0f130>,\n",
       " '屏幕': <gensim.models.keyedvectors.Vocab at 0x7f202db0f190>,\n",
       " '表情': <gensim.models.keyedvectors.Vocab at 0x7f202db0f1f0>,\n",
       " '满脸': <gensim.models.keyedvectors.Vocab at 0x7f202db0f250>,\n",
       " '微笑': <gensim.models.keyedvectors.Vocab at 0x7f202db0f2b0>,\n",
       " '一句': <gensim.models.keyedvectors.Vocab at 0x7f202db0f310>,\n",
       " '今天': <gensim.models.keyedvectors.Vocab at 0x7f202db0f370>,\n",
       " '非常': <gensim.models.keyedvectors.Vocab at 0x7f202db0f3d0>,\n",
       " '啊': <gensim.models.keyedvectors.Vocab at 0x7f202db0f430>,\n",
       " '周围': <gensim.models.keyedvectors.Vocab at 0x7f202db0f490>,\n",
       " '一帮人': <gensim.models.keyedvectors.Vocab at 0x7f202db0f4f0>,\n",
       " '瞬时': <gensim.models.keyedvectors.Vocab at 0x7f202db0f550>,\n",
       " '爆出': <gensim.models.keyedvectors.Vocab at 0x7f202db0f5b0>,\n",
       " '会心': <gensim.models.keyedvectors.Vocab at 0x7f202db0f610>,\n",
       " '笑声': <gensim.models.keyedvectors.Vocab at 0x7f202db0f670>,\n",
       " '喜获': <gensim.models.keyedvectors.Vocab at 0x7f202db0f6d0>,\n",
       " '目标': <gensim.models.keyedvectors.Vocab at 0x7f202db0f730>,\n",
       " '冲': <gensim.models.keyedvectors.Vocab at 0x7f202db0f790>,\n",
       " '90': <gensim.models.keyedvectors.Vocab at 0x7f202db0f7f0>,\n",
       " '内': <gensim.models.keyedvectors.Vocab at 0x7f202db0f850>,\n",
       " '幸运': <gensim.models.keyedvectors.Vocab at 0x7f202db0f8b0>,\n",
       " '贯穿': <gensim.models.keyedvectors.Vocab at 0x7f202db0f910>,\n",
       " '始终': <gensim.models.keyedvectors.Vocab at 0x7f202db0f970>,\n",
       " '一个个': <gensim.models.keyedvectors.Vocab at 0x7f202db0f9d0>,\n",
       " '奖项': <gensim.models.keyedvectors.Vocab at 0x7f202db0fa30>,\n",
       " '逐渐': <gensim.models.keyedvectors.Vocab at 0x7f202db0fa90>,\n",
       " '颁出': <gensim.models.keyedvectors.Vocab at 0x7f202db0faf0>,\n",
       " '身为': <gensim.models.keyedvectors.Vocab at 0x7f202db0fb50>,\n",
       " '副': <gensim.models.keyedvectors.Vocab at 0x7f202db0fbb0>,\n",
       " '仍然': <gensim.models.keyedvectors.Vocab at 0x7f202db0fc10>,\n",
       " '坐在': <gensim.models.keyedvectors.Vocab at 0x7f202db0fc70>,\n",
       " '不时': <gensim.models.keyedvectors.Vocab at 0x7f202db0fcd0>,\n",
       " '司仪': <gensim.models.keyedvectors.Vocab at 0x7f202db0fd30>,\n",
       " '抗议': <gensim.models.keyedvectors.Vocab at 0x7f202db0fd90>,\n",
       " '一等奖': <gensim.models.keyedvectors.Vocab at 0x7f202db0fdf0>,\n",
       " '剩下': <gensim.models.keyedvectors.Vocab at 0x7f202db0fe50>,\n",
       " '特等奖': <gensim.models.keyedvectors.Vocab at 0x7f202db0feb0>,\n",
       " '嘉宾': <gensim.models.keyedvectors.Vocab at 0x7f202db0ff10>,\n",
       " '高夫': <gensim.models.keyedvectors.Vocab at 0x7f202db0ff70>,\n",
       " '莱德': <gensim.models.keyedvectors.Vocab at 0x7f202db0ffd0>,\n",
       " '公司': <gensim.models.keyedvectors.Vocab at 0x7f202db13070>,\n",
       " '总经理': <gensim.models.keyedvectors.Vocab at 0x7f202db130d0>,\n",
       " '张茜': <gensim.models.keyedvectors.Vocab at 0x7f202db13130>,\n",
       " '摇动': <gensim.models.keyedvectors.Vocab at 0x7f202db13190>,\n",
       " '箱后': <gensim.models.keyedvectors.Vocab at 0x7f202db131f0>,\n",
       " '她': <gensim.models.keyedvectors.Vocab at 0x7f202db13250>,\n",
       " '抽出': <gensim.models.keyedvectors.Vocab at 0x7f202db132b0>,\n",
       " '卡片': <gensim.models.keyedvectors.Vocab at 0x7f202db13310>,\n",
       " '赫然': <gensim.models.keyedvectors.Vocab at 0x7f202db13370>,\n",
       " '写': <gensim.models.keyedvectors.Vocab at 0x7f202db133d0>,\n",
       " '同声': <gensim.models.keyedvectors.Vocab at 0x7f202db13430>,\n",
       " '屡': <gensim.models.keyedvectors.Vocab at 0x7f202db13490>,\n",
       " '获奖': <gensim.models.keyedvectors.Vocab at 0x7f202db134f0>,\n",
       " '品': <gensim.models.keyedvectors.Vocab at 0x7f202db13550>,\n",
       " '无情': <gensim.models.keyedvectors.Vocab at 0x7f202db135b0>,\n",
       " '剥夺': <gensim.models.keyedvectors.Vocab at 0x7f202db13610>,\n",
       " '资格': <gensim.models.keyedvectors.Vocab at 0x7f202db13670>,\n",
       " '名字': <gensim.models.keyedvectors.Vocab at 0x7f202db136d0>,\n",
       " '终于': <gensim.models.keyedvectors.Vocab at 0x7f202db13730>,\n",
       " '手中': <gensim.models.keyedvectors.Vocab at 0x7f202db13790>,\n",
       " '期盼': <gensim.models.keyedvectors.Vocab at 0x7f202db137f0>,\n",
       " '已久': <gensim.models.keyedvectors.Vocab at 0x7f202db13850>,\n",
       " '兴奋': <gensim.models.keyedvectors.Vocab at 0x7f202db138b0>,\n",
       " '高举': <gensim.models.keyedvectors.Vocab at 0x7f202db13910>,\n",
       " '双臂': <gensim.models.keyedvectors.Vocab at 0x7f202db13970>,\n",
       " '一边': <gensim.models.keyedvectors.Vocab at 0x7f202db139d0>,\n",
       " '身旁': <gensim.models.keyedvectors.Vocab at 0x7f202db13a30>,\n",
       " '开玩笑': <gensim.models.keyedvectors.Vocab at 0x7f202db13a90>,\n",
       " '要分': <gensim.models.keyedvectors.Vocab at 0x7f202db13af0>,\n",
       " '一半': <gensim.models.keyedvectors.Vocab at 0x7f202db13b50>,\n",
       " '奖品': <gensim.models.keyedvectors.Vocab at 0x7f202db13bb0>,\n",
       " '走上台': <gensim.models.keyedvectors.Vocab at 0x7f202db13c10>,\n",
       " '带给': <gensim.models.keyedvectors.Vocab at 0x7f202db13c70>,\n",
       " '击掌': <gensim.models.keyedvectors.Vocab at 0x7f202db13cd0>,\n",
       " '庆贺': <gensim.models.keyedvectors.Vocab at 0x7f202db13d30>,\n",
       " '一张': <gensim.models.keyedvectors.Vocab at 0x7f202db13d90>,\n",
       " '4000': <gensim.models.keyedvectors.Vocab at 0x7f202db13df0>,\n",
       " '元': <gensim.models.keyedvectors.Vocab at 0x7f202db13e50>,\n",
       " 'VIP': <gensim.models.keyedvectors.Vocab at 0x7f202db13eb0>,\n",
       " '教程': <gensim.models.keyedvectors.Vocab at 0x7f202db13f10>,\n",
       " '卡': <gensim.models.keyedvectors.Vocab at 0x7f202db13f70>,\n",
       " '一再': <gensim.models.keyedvectors.Vocab at 0x7f202db13fd0>,\n",
       " '追问': <gensim.models.keyedvectors.Vocab at 0x7f202db19070>,\n",
       " '完': <gensim.models.keyedvectors.Vocab at 0x7f202db190d0>,\n",
       " 'V': <gensim.models.keyedvectors.Vocab at 0x7f202db19130>,\n",
       " 'IP卡': <gensim.models.keyedvectors.Vocab at 0x7f202db19190>,\n",
       " '能否': <gensim.models.keyedvectors.Vocab at 0x7f202db191f0>,\n",
       " '突破': <gensim.models.keyedvectors.Vocab at 0x7f202db19250>,\n",
       " '听到': <gensim.models.keyedvectors.Vocab at 0x7f202db192b0>,\n",
       " '雄心壮志': <gensim.models.keyedvectors.Vocab at 0x7f202db19310>,\n",
       " '交换条件': <gensim.models.keyedvectors.Vocab at 0x7f202db19370>,\n",
       " '我教': <gensim.models.keyedvectors.Vocab at 0x7f202db193d0>,\n",
       " '教': <gensim.models.keyedvectors.Vocab at 0x7f202db19430>,\n",
       " '(': <gensim.models.keyedvectors.Vocab at 0x7f202db19490>,\n",
       " ')': <gensim.models.keyedvectors.Vocab at 0x7f202db194f0>,\n",
       " '辽足': <gensim.models.keyedvectors.Vocab at 0x7f202db19550>,\n",
       " '签约': <gensim.models.keyedvectors.Vocab at 0x7f202db195b0>,\n",
       " '危机': <gensim.models.keyedvectors.Vocab at 0x7f202db19610>,\n",
       " '引': <gensim.models.keyedvectors.Vocab at 0x7f202db19670>,\n",
       " '注册': <gensim.models.keyedvectors.Vocab at 0x7f202db196d0>,\n",
       " '难关': <gensim.models.keyedvectors.Vocab at 0x7f202db19730>,\n",
       " '高层': <gensim.models.keyedvectors.Vocab at 0x7f202db19790>,\n",
       " '威逼利诱': <gensim.models.keyedvectors.Vocab at 0x7f202db197f0>,\n",
       " '合同': <gensim.models.keyedvectors.Vocab at 0x7f202db19850>,\n",
       " '笑里藏刀': <gensim.models.keyedvectors.Vocab at 0x7f202db198b0>,\n",
       " '24': <gensim.models.keyedvectors.Vocab at 0x7f202db19910>,\n",
       " '爆发': <gensim.models.keyedvectors.Vocab at 0x7f202db19970>,\n",
       " '集体': <gensim.models.keyedvectors.Vocab at 0x7f202db199d0>,\n",
       " '拒签': <gensim.models.keyedvectors.Vocab at 0x7f202db19a30>,\n",
       " '风波': <gensim.models.keyedvectors.Vocab at 0x7f202db19a90>,\n",
       " '签合同': <gensim.models.keyedvectors.Vocab at 0x7f202db19af0>,\n",
       " '问题': <gensim.models.keyedvectors.Vocab at 0x7f202db19b50>,\n",
       " '棘手': <gensim.models.keyedvectors.Vocab at 0x7f202db19bb0>,\n",
       " '往年': <gensim.models.keyedvectors.Vocab at 0x7f202db19c10>,\n",
       " ...}"
      ]
     },
     "execution_count": 13,
     "metadata": {},
     "output_type": "execute_result"
    }
   ],
   "source": [
    "model.wv.vocab"
   ]
  },
  {
   "cell_type": "code",
   "execution_count": 14,
   "metadata": {},
   "outputs": [
    {
     "data": {
      "text/plain": [
       "(200,)"
      ]
     },
     "execution_count": 14,
     "metadata": {},
     "output_type": "execute_result"
    }
   ],
   "source": [
    "# 查看任意一个单词所组成的向量的维度\n",
    "model.wv['马晓旭'].shape"
   ]
  },
  {
   "cell_type": "code",
   "execution_count": 25,
   "metadata": {},
   "outputs": [
    {
     "data": {
      "text/plain": [
       "array([-0.06560241,  0.00522172,  0.0441779 ,  0.02515583,  0.0065921 ,\n",
       "       -0.00730217,  0.03604506,  0.01510331, -0.01108309, -0.03223479,\n",
       "       -0.01468674,  0.11473027,  0.0091569 , -0.00713132,  0.07934288,\n",
       "        0.07460576, -0.00985484, -0.00334083, -0.04284011,  0.01923379,\n",
       "        0.0571684 ,  0.0776251 , -0.03577761,  0.01488583,  0.0044518 ,\n",
       "       -0.07562221, -0.06494214,  0.00182385,  0.02360422, -0.03593749,\n",
       "       -0.03949061, -0.02161311, -0.02560075, -0.02082567,  0.00655347,\n",
       "       -0.02798013, -0.02101228, -0.02174476,  0.0133086 , -0.05627292,\n",
       "       -0.06726563,  0.09481727,  0.0265637 ,  0.06044094,  0.06348162,\n",
       "       -0.04999593,  0.04731578, -0.00211182, -0.02821376,  0.00978439,\n",
       "       -0.00904767, -0.02803068,  0.00072595,  0.03980813, -0.07645328,\n",
       "        0.00227302,  0.05218007,  0.01640033, -0.03961417, -0.0719063 ,\n",
       "       -0.00873944, -0.07298563,  0.0542248 , -0.03318928, -0.04048835,\n",
       "        0.00567577,  0.02233607,  0.00823338, -0.06511728,  0.03133903,\n",
       "       -0.04603145,  0.00612435,  0.02550814, -0.0103645 ,  0.05215104,\n",
       "       -0.02456174,  0.01445553,  0.01337678, -0.04844463, -0.05229828,\n",
       "        0.02667768, -0.03101113, -0.01150259, -0.01034943,  0.0134458 ,\n",
       "        0.06240378, -0.004118  ,  0.03816922, -0.00461168,  0.01543417,\n",
       "       -0.03761156,  0.01440489, -0.02412707,  0.04622545,  0.01031888,\n",
       "       -0.00848549,  0.00336532, -0.09749609,  0.07266571, -0.02376592,\n",
       "        0.0558915 ,  0.03695145,  0.02100972, -0.02794265,  0.01316093,\n",
       "        0.01849511, -0.0758282 ,  0.01552869, -0.05834256, -0.02823713,\n",
       "       -0.01865283, -0.00861827, -0.02820373,  0.05296785,  0.01971842,\n",
       "       -0.03737095,  0.00773513,  0.05846741,  0.02328551,  0.00617626,\n",
       "       -0.02097034,  0.02337475,  0.03160595,  0.04603792,  0.0044239 ,\n",
       "        0.02975434, -0.04458243, -0.01587397, -0.02897175,  0.03528645,\n",
       "        0.02345701,  0.00140055, -0.02564677,  0.08965749, -0.02557635,\n",
       "        0.02233785,  0.01807502, -0.06419905, -0.00434433,  0.00160139,\n",
       "       -0.00442765,  0.00789139, -0.01534281, -0.01314559, -0.01518205,\n",
       "        0.01393157, -0.00363476, -0.0082615 ,  0.03948811, -0.02752944,\n",
       "       -0.03464146, -0.02633769,  0.07602429, -0.00786528,  0.04067922,\n",
       "        0.0539024 , -0.02879926,  0.0227936 , -0.01139928, -0.04219964,\n",
       "       -0.03286418, -0.01114796, -0.02483419, -0.045859  ,  0.05084039,\n",
       "       -0.03200207, -0.02448508,  0.03722016, -0.02269555, -0.000891  ,\n",
       "       -0.03990301, -0.02365659,  0.04876685,  0.03139033,  0.05420296,\n",
       "       -0.05003965, -0.03883009, -0.02682955, -0.03955792,  0.00972025,\n",
       "        0.0668354 ,  0.01745105, -0.0338604 ,  0.01577085, -0.00831639,\n",
       "       -0.00425234,  0.05635637, -0.04203604, -0.03863114,  0.04513819,\n",
       "       -0.04473862, -0.00055828,  0.00903061,  0.03473962, -0.01745284,\n",
       "       -0.03242161, -0.00483803,  0.00454301,  0.02735765,  0.04692395],\n",
       "      dtype=float32)"
      ]
     },
     "execution_count": 25,
     "metadata": {},
     "output_type": "execute_result"
    }
   ],
   "source": [
    "model.wv['马晓旭']"
   ]
  },
  {
   "cell_type": "code",
   "execution_count": 15,
   "metadata": {},
   "outputs": [
    {
     "data": {
      "text/plain": [
       "[('打骂', 0.4971315264701843),\n",
       " ('拜纳姆爱', 0.4586630165576935),\n",
       " ('狂训', 0.45029789209365845),\n",
       " ('挂彩', 0.431384801864624),\n",
       " ('国奥队', 0.40510937571525574),\n",
       " ('堕马', 0.4019997715950012),\n",
       " ('机组', 0.39724889397621155),\n",
       " ('女足', 0.3963756561279297),\n",
       " ('推挤', 0.3960060179233551),\n",
       " ('国家队', 0.3954906463623047),\n",
       " ('女篮', 0.3940105438232422),\n",
       " ('游览车', 0.3902229964733124),\n",
       " ('季前赛', 0.38945093750953674),\n",
       " ('三名', 0.38825157284736633),\n",
       " ('八强战', 0.3875080347061157),\n",
       " ('示威者', 0.3869211971759796),\n",
       " ('右腿', 0.38623011112213135),\n",
       " ('WCBA', 0.38533639907836914),\n",
       " ('助威声', 0.3849644064903259),\n",
       " ('足球队', 0.38406991958618164)]"
      ]
     },
     "execution_count": 15,
     "metadata": {},
     "output_type": "execute_result"
    }
   ],
   "source": [
    "# 和上述单词语义相似的单词查看\n",
    "model.most_similar('马晓旭',topn = 20)"
   ]
  },
  {
   "cell_type": "code",
   "execution_count": 21,
   "metadata": {},
   "outputs": [
    {
     "data": {
      "text/plain": [
       "0.40510938"
      ]
     },
     "execution_count": 21,
     "metadata": {},
     "output_type": "execute_result"
    }
   ],
   "source": [
    "# 计算两个单词之间的相似性\n",
    "model.wv.similarity('马晓旭','国奥队')"
   ]
  },
  {
   "cell_type": "code",
   "execution_count": 17,
   "metadata": {},
   "outputs": [
    {
     "data": {
      "text/plain": [
       "essorize', 'juicy', 'couture', 'NineWest', '嫩女', 'Szohr', '风令', '熟辣女', '领小露', 'ECMall', 'Benoy', 'Astor', 'SEPHORA', '肴', '萨莉亚', '探网', '必瘦', 'BESTSELLER', '新辣道', '潮江春', '汇由', '丹棱', '街甲', '82483388', 'ecmall', '芭穿', '吉尼芬', '潮尚汇', '我爱宅', '欢爱', '或丝', '太大起', '有紧', '前味', '师所想', '中味', '体香', '后味', '黑眼珠', 'MiiA', '热裤装', '胸大腰', '靓妞', 'Annabelle', 'Neilson', 'cargo', 'Daman', '绞花', 'soso', '穿扮', '软雕塑', '佳影', 'CLUTCH', '锁边', '净色型', 'Dellal', 'PRES', '斗衣品', 'Sansone', 'Viviana', 'Volpicella', '而红袜', '打斜', '贺阳', 'Manel', 'Fabrican', 'Ebejer', '莫斯姐', '胸扮', '形衣', 'Agy', '无胸', '配及', '款日系', '上缘', 'Mulligan', '史丹', '特热', '浮夸风', '天冷些', 'versace', '王翠平', 'Zellweger', '这组街', '酷鞋', 'Donts', '胸距', '以裙', '最热露', '锐增', 'Allard', '刘心', 'Foursquare', '半长款', '宝中', '简或繁', '相展', '例牌', '无袜', 'Yurklevich', '扣长款', '战秀场', '耐冻型', '唇印', '超受', '换真', '驻邮办', '精多', '半透衫', '巧装', '手探', '贾蓓', '仿貂毛', '簇绒', '精裁', '少奶', '眼冬美人', 'hathaway', '臀腹', '充绒量', '克诺', 'Mariacarla', 'Boscono', 'Paves', '及花案', '柒牌', '藏肉', '裤爱', '徐红', 'Letizia', 'Ortiz', 'Wittstock', '拖尼带', '蔡依珊', 'fin', 'Salute', '奢魅', '之影', '谢杏芳', 'Gaia', 'Repossi', 'Eugenie', 'Niarchos', 'Stavros', 'Sauvage', 'Frockwriter', '雅凡蒂', 'AVANTI', 'Kranias', 'Leiber', '艾施', '急冷', '显瘦法', '丽秋', '狄波娅', '中香界', '普莱丝', '或留', '露到', '哥程', '狐狸皮', '龚雯', '抓得实', '陈慧游', 'CX831', '缉查', '分输', '田齐', '省会市', '李思愚', '测量体温', '陈超英', '白智立', '金斯克', '中人道', '茨克', '杜航伟', '车辆管理', '话题一转', '反拐', '公设辩护', '对任', '采血', '王伟杰', '28.68', '增粮', '支渠', '谋共赢', '孙希有', '韩永文', 'BR171', '入常', '冻薪', '世运会', '客社', '六局', '登检', '5202.9', '折款', '崔世安以', '崔世安为', '药特敏福', '贵区', '周喜安', '陈菊以', '吹哨子', '雄哥', '陈菊说', '黄玉斌', '88928', '119.5', 'KE607', '陈菊到', '台设', '多雨区', '滩区', '黄昭星', '看害', '涉煤', '张英学', '矿业经济', '朝中社', '李相', '禁烧', '昂颖', '项磊', '禁烧期', '圩镇', '杨珍英', '打捆机', '张老汉', '昂山', '核试', '尼帕尔', '邓姓', '内帕尔', '黄显辉', '巴基斯坦人民党', '康艳兵', '机铁', '钟伟雄', '萨国', '庆生日', '化暗', '刘云耕', '马中飞', '资电', '被释', '回后', '肛肠', '重马', '汇基', '摇醒', '访团', '朱宗庆', '打击乐器', '天帮', '铭感', '受援', '美防长', 'CO099', 'SQ1', '文振富', '长吉图', '蒙东', '七台河', '胡春惠', '黄圆晴', '马正忾', '丰正', '建国大纲', '刘焕兴', '傅元', '肯尼亚共和国', '邓洪波', '博茨瓦纳共和国', '李水林', '海贸会', '剑阁县', '成舍', '天后宫', '吴德刚', '新疆师范大学', '65964087', 'AF447', '不传证', '曾德荣', '刘启玲', '访荷', '金门马祖', '编阶', '东引', '编现', '三大外', '守备队', '防部', '黄标车', '单辆', '洪国', '奥尔特加', '1.2009', '3.2011', '敲入', '保密室', '郑远长', '中马要', '令尊', '通译', '管理制', '流出地', '买烟', '公款消费', '采科', '莱方', '对外贸易经济合作部', '局不出', '石门乡', '张政雄', '张志军', '郭月兰', '经团联', '质控', '伯公', '同额', '魏建国', '尹红章', '古伟牧', '奶路', '傅元聪', '监定', '斯洛伐克共和国', '加什帕', '纳金', '捷康', 'ITC', '吴贵辉', '跨国性', '识正', '亚欧大陆桥', '边疆民族', '轻车简从', '吴志刚', '王配', '书同文', '军师职', '警心', '披实', '何乃麒', '任谦', '前滨', '改划', '别科夫', '手扣', '建筑署', '纪燕林', '伏尸', '肠脏', '邓琴', '李海滔', '蒋晓云', '微霭', '承东启', '选党', '帕什卡', '拉佐夫', 'BRICs', '冯敏', '佐沃', '涅斯捷', '据涅斯捷', '同江', '斯阔', '罚娼', '公娼', '娼', '社维法', '杨黄', '抵俄', '反毒', '苏庆黎', '连署', '6569.47', '张加宁', '土耳其共和国', '宜兰县长', '从娼', '高小晴', '反性', '洪裕平', '许履中', '高振宁', '唐祯祺频', '庄硕汉', '晨检', '曾光', '售粮', '特权车', '危困', '格方', '惠博阳', '中间品', '海洛英', '小而强', '联训', '性挑逗', '金正云', '神经管', '两癌', '改炉', '晨午', '回班', '佳里', '例在院', '石春平', 'Dlamini', '林金斌', '回营', '后勤处', '陈镇', '戴卓贤', '论政', '节俭办', '193.43', '8.63', '张思鉴', '张诗', '周蜜蜜', '吴志良', '李观', '廖子馨', '澳优才', '李彦亮', '金迷', '薮', '谢营', '庆阳', '漫山', '12309', 'www.12309', '树定', '订单数', '久谊', '吴东进', '休会期间', '梁云祥', '李秀石', '郭定', '郭定平', '别所浩郎', 'Antero', 'Toivainen', '陈埙', '起付线', '减停', '博思沃斯', '禁发', '因滥', '委经同', '呼入', '崇高品德', '鄂豫', '豫鄂', '中原军区', '收扁', '年特', '分试', '学券', 'ITO', 'KPO', '杰瓦讷', '罗方', '徐千惠问', '202.13', '黄碧端', '集装箱船', '服现役', '武装部', '复学', '主谈', '风雹', '挤迫', '曾翠卿', '蕊', '寒喧', '抓扣', '中斯是', '斯政府', '黄祖跃', '渔业部', '商洛', '应明', '阿姆河', '天九会', '控烟办', '试烟房', '王秋菊', '株式', '迟国敬', '芬方愿', '刘昌欣', 'Corry', '名器', '夏振贵', '郭铠纹', '审检辩', '媳陈致', '斯劳特', '饭田', '知先', '余宗卷', '赵建铭时', '辅导会', '徐小元', '对轻症', '对甲流', '病疫苗', '项数', '李忠杰', '求救信', '顺妻', '总支部', '女党员', '发展党员', '密级', '东港区', '长鳍', '检院', '史明兰', '谢巧元', '孙秀敏', '2219', '氨氮', '若认', '与那国岛', '虐儿', '评量', '简慧娟', '曹润亭', '控美案', '程派', '射阳县', '新洋', '岳麓区', '先予执行', '扶残助残', '季莫申科', '赵自林', '进网吧', '防触电', '张东生', '除恶务尽', '新疆自治区', '意方愿', '傅梦孜', '十职', '费尔哈亨', '遭疆独', '钱忠明', '基佐沃', '黄胜炫', '条法', '密方', '程绍志', '二分院', '闫晓东', '立佳', '福清市', '陈秋官', '李序军', '助听', 'C5', '迁延', '应贴', '五国要', '财预', '对县', '留解', '侯汉敏', '逾千宗', '韦于', '市遭', '0049', '促贸', '无放', '高雄医学', '崔涌', '放扁', '伯雄', '苏迪罗', '爱土', '血同缘', '除不去', '门晓伟', '验身', '外佣来', '2825', '请示报告', '致贫', '海贸', '乌特奥卢', '苏和说', '舟状骨', '附骨', '附生', '阿克苏地区', '王海波', '中华全国归国华侨联合会', '张玉卓', '罗益锋', '郑守仪', '郭孔辉', '南田', '彭隆荣', '赖爱光', '颜鸣皋', '赤星庆治', '提抗', '暖化白', '全国侨联', '释扁', '再聘', '认一认', '向承审', '姚宏', '空炮', '任继愈', '李书田', '译写', '通名', '范振宗', '陈金德', '朱汝瑾', '李静贞', '徐耘', '框里', '科普性', '应成', '44.39', '林军', '同化政策', '库尔德人', '库尔德', '顾云仙', '命令状', '晋衔', '马新岚', '书记员', '马锡五', '孙华璞', '钱锋', '李少平', '崔巍', '2007.3', '2007.5', '西偏', '凌激', '王瑞璋', '吴仕民', '扯起', '冈部', '万立江', '田义功', '郑卫平', '透透', '政见发表', '冻蒜', '巩固国防', '而海', '蔡明照', '边疆地区', '耶伊', '个人独资', '行不得也', '陈塘', '鸭溪', '陶德田', '商洛市', '胡启恒', '书续', '万因', '零阻件', '臧家宜', '林淑如', '何安琪', '郑方贤', '龙根', '城约', '划票', '票箱', '猛撼', '暂准', '攀枝花市', '米易县', '许两', '任家村', '梁玉霞', '一哄而起', '行道树', '特勤队', '通信班', '通信站', '侦察队', '上诉期', '二票', '胡马', '93.87%', '研一说', '萧乃祺', '罗亚蒙', '蔡顺礼', '王茂敏', '何卿华', '退清', '普安', '十局', '贾铭', '反应炉', '原能会', '6736', '张海超', '防治所', '性用品', '强讨', '恶要', '不愿入', '涵洞', '游览区', '民发', '警务室', '聚众闹事', '财社', '可轮候', '打公', '收托', '郝建玲', '传散', '陈健仁', '陈洪辉', '大瓶', '恶犬', '魔书', 'HP3000', 'EXP100', 'EXP500', 'MON300', '绯翼', '灰羽', '凝雨', '冰洁', '阿健', '神露', 'MON50', 'HP4000', 'MON80', 'EXP1000', 'HP8000', 'EXP800', 'MON500', 'EXP600', 'MON400', '593131', '武当掌', '张松溪', '遇真宫', '剑亡', '空三大', '历为', '乔巴', '拟题', '一砚寒', '桃熟', '流丹', '李熟', '技残', '树人难', '飞香', '诗满', '搜神账', '酷爆', '板图', '群游', '此功', '深字辈', '少林和尚', '硬功', '软功', '堂院', '般若', '比武场', '霸龙', '指舞', '笔舞', '玉露', '落园', '蓬元帅', '偷采', 'wap.9520520', '符纹', '塔露币', '蛋屋', '蛋人', '蛋锤', '多备些', '15M', '里瓦', '卡吕普索', '乌吉哩', '索伦塔', '321146201', '淬火', '装过', '双龙传', '圣邪', '世子', 'EXP2000', 'HP3500', 'HP5000', 'EXP3500', 'MON200', 'HP13000', 'EXP4000', 'HP6000', 'HP12', 'MON5000', 'HP20000', 'EXP5000', '之键', '开风', '关水', '关天', '地之键', '水之键', '天之键', '火之键', '风之键', '梭金', '数年如一日', '占卜术', '每档', 'lemonquest', 'Lemonquest', '13910861927Lemonquest', '天克地', '地克人', '人克天', '水晶之恋', '下知', 'gc73', '波克', 'gamehao', '拉阔通', '1009151', '棒班', '太白金星', '那石', '残花', '左拿真', '云光', '赤月', '人众', '夹谷空', '苍梧', '临武', '季胤辉', '谷空', '鬼众', '太叔玉', '兽众', '赤衡', '赫连', '幻林', '花祖', '穆章', '暖香', '神众', '左丘逸', '穆归君', '宗政', '陆景', '全真教', '艾娅', '半鱼', '亲事', '宠会', '昭卷', '暴装', '紫首', '钸', '夜游神', '暴宝', '一宠', '成奥元', '墨传', '火铃', '七雄', '工书', '灵圣', '紫龙血', '生灵涂炭', '聂问', '夜雄', '残心', '姚墟', '撕魂', '水莽', '白甲天', '妖狸', '搜神者', '搜神', '扬国威', '牛装', '裙袍', '四叶', '花扇', '水魔', 'HP12000', '残云花', 'EXP400', 'MON30', 'MON3000', 'EXP6000', '送浩', 'EXP900', '萌之', '母河', '精元', 'GameFriday', '青衣楼', '灵鸾神', '白玉堂', 'ぃ', '1006600', 'ˇ', 'yeaH', '3418218', '1934058', '2009.09', '掌讯', '刀职', '环职', '扇职', '弓职', '甄姬', '甄姬会', '单过', '管萨', '瑞拉', '贝廉', '墨杜齐', 'YD', '七贱', '寻夫', '龟头', '不归林', '中秋月饼', '雅哈', '腹纳', '区人族', '豆沙月饼', '捣药', '村之旅', '小狂', '速射炮', '天瀑', '不归林北', '不归林南', '日村', '竞星', '天绝', '舍神', '吸魂', '定军', '幻神', '藏头', '数丈', '我道', '神里', '反侵略', '出禁咒', '321137001', '321137002', '321137003', '白门楼', '本关', '菟', '豪光', '归林北', '衰哥', '邪霸', '巧姐', '绝心村', '老吕', '十五秒', 'Zz', '刘小谦', '燕熙', '陪你玩', '族权', '茁长', '极装', '如冰', '-_', '莫北', '残晓雪', '云星南', '不归屋', '柳莺', '邪剑', '李婶', '不停息', '无恶', '亥时', 'hp5', '好礼奖', '饼馅', '医药箱', '石包', '生油', '恒月湾', '神友', '民之魂石', '第五重', '爆奖赛', '斗神', '航迷', '妖阁', '杌', '炙炎', '禁魔', '阎罗', '孔宣', '蓬蒙', '澡票', '必填', '必传', '36000i', '18000i', '10800i', '玩后', '詹阳', '遁龙桩', '金吒', 'UNINET', '10.12', '宋抗金', '结帮', 'g365', 'G365', '我深', '一亲芳泽', '神国', '武国', '铩', '弯弯', '145602', '中奉', '拳宏', '水目', '跨骑', '石到', '请登入', '掌讯书苑', '侠迷们', '圣枪', '惊破天', '如小棒', '银块', '加耐', '三十九级', '皇杠', '龙塔', '早拉早', '87676008', '13514064124', '前爽', '好几级', '加星', 'cj.17', '圣装', '石圣', '化之拳', '琅玛', 'ganshade', '斗乐', '1113508254', '岚脚', '其护甲', '剑职', '北伦', '测后', '封票', '寻缘镜', '埋放', '内人', '野豹', '蛟族', '短息', '妙妙', '大乔', '预览版', 'imei', 'CGDA', '匿藏', '贝笛', '黑暗之刃', '没兰', '赛猪', '猪儿', '胖豆', '消魂', '鼻音', '忽地', '收菜', '有防', '菜币', '小汐', '女号', '外城', '跑墒', '师德值', '银做', '菲琳', '药蓝', '女头', '姆博玛', '潜影', '土偶', '男魔族', '女魔族', '石墓阵', '0BOSS', '竹甲', '有公', '⒎', '贡日', '震屏', '千番', '赐婚', '狂欢起来', '冥府', '迷梦', '西凉', '末小谨', '讪', '人尊', '石锥天降', '魔光', '花解语', '毒舞', '通幽', '伏牛山', '清平', '神圣不可', '马装', '找旺', '风岩', '向旺', '刷级', '唿', '灵魔护体', '进族', '雷星击', '玄王', '鄙蔑', '黑气', 'S60TaskMg', 'S60TaskMgr', '自启', '后台程序', '华军', 'Goblins', '兰斯洛特', 'Lancelot', '弩枪', '阿丑', '灵根', '动漫网', '判输', '野旷', '易界子', '刘二', '仙医', '仙岛', '孤月', '龙司', 'a090921', 'netgame', 'pih', 'gameId', '37WAP', 'a090903', 'typeid', '专贴', '之魂石', '兵之魂石', '易水', '五十种', '剑门关', '关镇', '五莲', '蓬溪', '南坝', '御宅化', '藤女', '三人为众', '按金', '之神用', '吕不韦', '找苏', '接压', '能买个', '暴个', '嘴要', '人刺', '例无', '虚发', '同乐会', 'a090929', '短靓乐', '券王', '漠城', '防高血厚', '破脑', '岭右', '限获', '韵调', '搜尽', '贝阿朵', '利切', '复土', 'TOP17', '关篇', '各图', '截得', '麦霸们', '铃声下载', '李凌风', '张俊彦', '血堂', '务器', '用行', '磊禹', '赵霏', 'OPhone', '59K', '霸者之证', '炎龙', '原第', '猎貂', 'SHE1360', '468000i', '162000i', '54000i', '暗国', '未冷', '光棍儿', '嘉灵', '采鱼', '双揽', 'ChinaJoy2009', '三下五除二', '体刺', '闪刺', '物闪', '100698', '叛', '1816919', '交朋识友', '雷伤', '冰伤', '西麓', '铁石', '猛火', '思过', '白云观', '徒儿', '水月村', '斩虎剑', '吴大友', '黑风寨', '萧若水', '萧风楼', '铁掌', '蜃', '三宵', '望沙镇', '迷心蜃龙', '文总', '礼箱', '秘门', '拜岳', '师后', '涯', '破石', '给陆', '齐欢', '斗大', '1066916083', '潘溪', '猿岭', '螟蛉', '圣蓝', '魂幽', 'wanba', '军棋', 'game2', '霍去病', '孟姜女', 'ji36', '横屏', '袁咏琳', 'jhx', '变卡', '任侠', '大盾', '众乐', '发如雪', '火东', '光明顶', '玄冥神', 'huayigame', '高无尚', '二十款', 'rexue2', '墨离', '乌霜', '杭芦', '玄洲岛', '天痕钰', '精铁小', '狂镖', '神兆中', '先卡后', '邮电大学', '必掉', '东神岛', '之座', '大耳', '之龙帝', 'Ferrari', '网来', '南瓜饼', '灵雷', '追棒', '古蓝村', '卡至', '银魔币', '仙域', 'xianyu', '15360', '回血装', '鹰爪', '2965461', '小奥奥元', 'E258NEC', 'wlan', '陈庆之', '失物', '吞吞', '莫卢', '怪区', '2076595', '＾', '八脉通', '方至', '54336', '战雕', '帮回', '方天画', '关老爷', '共八环', '绕云镇', '这牌', '星装', '精星', '我大周', '旅界', '心德', '凶配', '挖铁', '凶卖', '伴月换', '吏', '攻宠', '黄名', '打击者', '臼炮', '身管', '炮种', 'PVE', '买宝', '补红', '2009102345', '全帮', '帮战会', '凌海', '精宠', '星要', '体宠', '充了', '日官', '鱼腹', '医缘', '狼缘', '大笨', '易筋经', '威凌', '加翔', '破甲', 'jiong3', '冥灭', '世骂', '劫镖匪', '稀品', '主宠', '钻为', '乜感', '司官', '六品', '月貌', '雅柔', '因志', '弗成', '叛之', '乡勇', '兵丁', '士卒', '以乱政', '虐刑', '残贼', '贡足', '被荐', '铁杵', '之虎以', '任主事', '因貌', '性亲', '诸县', '遭事', '公聊者', '甚喜', '刑众', '中蕴', '广结良缘', '闻柔', '为妇', '无名火', '捕持', '尽残', '雅柔享', '仲冬', '同退', '月思', '老朋', '连级', '入门篇', '谢轩', '尸门', '密码锁', '舒似', '逍遥散', '韩树振', '祝欢', '于碧游宫', '蓝钊', '吕岳', '吕育', '馨儿', 'ろ', '幻幻', '紫殇', '自在焯', '恍', '开齐', '皇肛', '里线', 'act.17', '09dc', '不死虫', '巨枭', '巴罗萨', '海雷丁', '巴夏', '青龙刀', '日银', '铃儿响', '叮铛', '⑩', '每堆', '欢欢乐乐', '杀火', '鹊', '啼坡', '恰纳斯', '神战', '白袜子', '由雷泽二', '沁人心肺', '17175', '波诺', '哥姐', '战表', '力灵悟', 'MTrend', '石蕊', '奥元场', '力敏型', '旧神', '支配者', '奈亚', '提普', '仆神', '外神', 'ETgame', '鬼界', '服战', '音量控制', '摸到', '没配', '后取', '小奥斗神', 'GamePlus', '66679666', '比敏', '7598144', '凤湘', '7638617', '总教头', '雪枫', '凝沙国', 'FY', '收花', 'gyou', '先空鸽', '大剑师', '2500G', '分折', '龙牙剑', '悟净', '饮马', '贫僧', '钵盂', '乃东', '借宿一晚', '那穆', '槲寄生', 'BulletFlight', '已满时', '渡天', '银蛋', '喜金', '顺金', '次加分', '关点', '石怪', '洞花', '龙一虾', '土象', '刻苦耐劳', '思考力', '守护星', '反震', '灵子', '泉石', '三足火', '多愁', '哨卫', '李天语', '开复', '拔取', '吃书', '纳美', '红卡', '福至', '爆击率', '电功', '金锁阵', '藏宝洞', 'ee', '云凌', '晨昕', '玄冥红珠', '宁甄', '神清观', '寒凌洞', '陈府', '蓝珠', '地缚', '天诩魂', '张道陵', '石盘', '发件人', '邮件附件', '叶烁', '腥风', '日新服', '赤火元石', '寒冰元石', '元石', '洁玉晶', '暗魂', '玄金', '青岚', '佛母莲', '凝星石', '狐皮', '玄黄铁', '云散', '狮髯', '玉丝露', '赤火', '精石', '阳峻布', '极天', '幻巫水', '林将军', '幻石', '寒冰圣石', '魔精', '群狮会', '出狮', '三玩', '竹灵', '鱼兵', '雅昊', '印魂路', '固山', '龙崖', '抵抗力量', '金波港', '过金波', '对夜', '赏品', '60776', '铁罐', '进阶篇', '三娶', '甲要', '拉阔拉响', '银叶', '芙蕾雅', '王庭', '腊八', '腊日', '从先秦', '敬神', '逐疫', '治疾', '炮炮堂', '叶朔', '血掉', '该环', '大剩', 'OUTMAN', '女猫', '寻英', '加玄幻', '当立', '以匡复', 'sgyh.375520', '傻站', '寿禄', '玩爽', '袁亦荣', '岑彬', '钱旭', 'andriod', '天字', '地字牢', '地字', '大雕', '断龙石', '寇晓伟', 'IIonline', '4531576', 'n1', 'N1cky', '5weet', 'ta1k', '1s', 'ß', '66665', 'Rabbi', 'っ', '.............', '挚死', '.................', '舒鸣', '4040715', '描淡', '发礼', '耀日甲', '眼一', '眼一闭', '拿礼', '王小超', '不守夫', '刘瞬瞬', 'K300c', 'K506c', 'S700c', '小超', '青呤', '药碗', 'x55.5', 'x13.0', '机状态', 'S10EXR', 'CX2', '88MB', '开博尔', 'RIP', '源码', 'HDMAX', 'M2TS', '同轴', '480P', '576P', '720I', '50Hz', '576I', '480I', '同轴线', 'MP515', '3099', '增强器', 'STMP3710', '160G', '107H', '14169', '135IS', '67mmUV', 'HD660LE', 'HIFI', 'DLUX', 'CUE', '13034358993', '白堤路', 'A228', 'J20', '冯勃', 'J25', '10mw', 'T996', 'V1218', '五核', 'Telechips', 'TCC8901', 'V8000HDG', 'CHD', 'BDrip', '7011', 'NWD', 'A241', '处送', 'SPF1027', 'RadiantColor', '石黑', '10000K', '3456M', '挪威语', '3.000', '92.000', '屈光度', '螺孔', '工作温度', 'B276', '炫飞', 'CP760', 'SELPHY', 'T969', '键长', 'SDV568', '175g', '邓佳烁', '83829846', '6887', 'Distagon', '镜身', 'H90', 'YDP202', 'LEICA', 'PS285RM', 'u9000', '15800400711', 'MG575AC', 'PL50', '87271775', 'XR500', '最热高', '窦瑞冬', 'Wav', 'Optio', '81904326', 'Z5C', '31800', 'MRC1K', 'HDV1080i', 'CompactFlash', 'MiniDV', 'IPod', 'HD40AC', '455g', 'S1070', 'L110', 'HDV1080', '现仅售', '110.0', 'DX18', '105mmf', '200mmF3.5', '62mmUV', 'SD20', 'HD6AC', 'MG330AC', '低倍', '70.3%', 'JVCMG730', '火促', '69mm', 'VD20', 'FS10', 'ES17', 'N10', 'Z450', '82613361', 'VX585HD', 'V8000HDA', '应用环境', '交换器', 'MG530A', 'SA075', '刘迎建', '电纸', '刘迎', 'C210', '奥尼小', 'MD10000GK', '82539207', 'Miffy', '商原', '66051868', '81178', 'nano5', '安到', '影酷', 'H16', '睿丰', 'D086', '键均', '华骏', '63655377', '63655299', '13700886127', '29598', '138g', 'YDP308', '8055', 'D90KIT', 'NGE', 'Dyn', 'nge', 'DCVARIO', '雷柏杯', 'YDP609', '博明', 'C1013', 'MG130', '使极', '言过', '1033B', '82536094', '13260271652', '85510370', '15080', '2149', 'eMEX', '电博会', '京浩', '佰腾', '51784003', 'Streak', '4199', '5DII', 'PL60', 'MS120', '1200w', 'Quick', '4599', 'MPIO', 'APSC', 'F4.7', '135g', 'C300', '18050', 'T1000', 'ST45', '21.0', 'SCHNEIDER', 'KREUZNACH', 'VARIOGON', '–', '111mm', 'VX1', 'PHOTOfunSTUDIO', '七弟', '73.0', '35650', '3555', 'XD60', 'VOR', 'DTL', '闪存盘', '胜发', 'Lumix', 'AAX', 'HS9', 'HS9GK', 'SR65E', '1075mm', 'SR62E', '65E', '传输线', '鑫嘉源', '现降', 'HFS10', '变防抖', 'IrSimple', '82535028', 'intel', 'DXXX', '13240', '翻页键', 'u7000', '吉航', '3c168', 'S1000', '漏密', '防抖功', 'Prix', '双人滑', '硬盘驱动器', 'A225', 'A220', '跌百元', '959x240', 'MP5901', '87575497', '51195220', 'U7010', '82660780', '0851', '电子卡', 'Planar', 'VC0831', '高集成度', 'MLC', 'W26', 'T8HD', '声影', 'N88', '元定', '82536058', '7058', '62604368', '亿佳鑫', '13522255512', '82538252', '恒泽', '9299', 'C651A', '手控', 'classic3', '误删除', '07A', 'I9', '音王', '95mm', 'DTVP', 'DTBB', 'AES', 'SAL2875', 'HD690', '690HD', 'T10RK', '薄美', '30Mbps', 'CAM3500DX', '主卡槽', '15929965120', '18992808279', 'K8', 'Elgato', 'DTT', 'PL51', 'E80', '87574785', '普兰诺', 'DocuPe', 'X05', 'X50', 'M380', 'KLIC', '60970327', '410g', '锐志', '孙之乐', 'fatmike', '引闪', '580II', '关防', 'FS6', 'GRX', '2397', '470W', 'M320', 'FE4000', '87560217', 'MG21', 'MG21AC', 'M100HD', 'GXR', '68mm', '7599', '林盛', '23059251', '彩魔', 'T988', '4010', 'S544F', '1039', 'E1050', 'SX40E', 'SR40E', 'EXSPEED', '40fps', '薄机', 'FC150', 'Z7C', '36200', 'DUO', '15150', '2076', 'PS182RM', '镜布', 'W508c', 'SR1E', 'FS10S', 'J50', '1144', '边约', '微突', 'F008', 'PNX0102', 'PHG', '联盛', '158299667945', 'FS12', '5229', '16944', 'NXCAM', '2ch', '168g', '22001498', 'T17', '新福联', 'A1006', 'A28', 'B550', 'SDXC', '25fps', 'RealView', '13986049920', '59507035', 'HD986', '视通', '威奥', '山桥', 'SANBAKIA', '8115', '14999', '镜盖', 'GRD3', '6657093', 'INK', 'F630', '飞阅', '类纸化', '股市信息', '拜亚', 'DT990', '19886', 'Z270', '宇信', '0.000', '10880', 'X625', 'T56HD', '孰乐', 'VX343', 'u1050', 'W150', '5100HD', '959', '小竹炮', '后备军', '15.89%', '82.54%', '72.21%', '23.84%', '19.24%', '24.86%', '56.57%', '已亏', '30.95%', '伍卫有', '汇自', '投享', '115.87', '张茹称', '邓晓波', '九档', '七档', '八档', '两偏', '3050.95', '32.32', '3061.73', '3131.62', '3161.34', '3054.75', '3145.43', '43.62', '1699.3', '1.690', '5.198', '2.469', '1.642', '踏得准', '伟向', '2997.74%', '末高达', '50.6', '817.14%', '552.01%', '515.54%', '难仅', '0.7798', '1.1932', '0.4134', '23.83%', '陈宝强', '王皓雪', '吴熊氏', '富和鹏华', '施戴德', '张光成', '格莱斯', '证交会', '2.2555', '1.5475', '20.23%', '3054.96', '15.67', '1.911', '非美系', '徐剑钧', '长券', '藏券', '补买', 'PIPE', '9946.63', '潘黄斌', '吕日', '曾丽琼', '17.50%', '17.30%', '郑煜', '22555', '2842.1', '56393', '21.01%', '而景顺', '1.869', '1.675', '85.04%', '69.95%', '付浩', '22.24%', '0.369', '3110.22', '91.59', '3206.48', '104.67', '178.44', '14836.1', '王茜任', '张晓君', '熊转', '50.39%', '贵航', '真怡', '王合绪', '酒钢', '熟时', '非牛', '非熊', '26.09%', '布莱希', '42.61%', '24.34%', '7.06%', '20.59%', '39.62%', '23.10%', '69.11%', '恐高会', '10.69%', '只定', '增限售', '华微电子', '该限售', '11.85%', '达为', '从择', '及国海', '70.03%', '14.65%', '齐亮', '9.77%', '1.102', '测评师', 'cnstock', '7.53%', '29.35%', '58.52%', '陶荣辉', '28.90%', '29.82%', '赌错', '以宝胜', '600973', '手宝胜', '三爱富', '顺逆', '38.82%', '1915.42', '12.09%', '35577', '3093.98', '平衡条件', '李志磊', '5272.81', '恒复', '申俊华', '47.52', '5.177', '2.511', '1.654', '1.870', '3038.27', '3104.50', '2980.24', '3045.70', '重股', '轻债', '各股', '3.5577', '0.992', '45.80%', '2245.43', '优增', '4.96', '普债', '110002', '冯祖新', '仁寿', '33.02%', '黎颖芳', '李剑鸣', '0.996', '0.995', '获工', '绿肥红瘦', '做择', '黄小坚', '93.94', '132.18', 'BHB', '2320.79', '没踏好', '1990.66', '李明荣', '000858', '周跌', '3131.36', '3011.27', '98.95', '3232.67', '3093.76', '112.72', '200.27', '15931', '股正', 'TBM', '侯明甫', '张可兴', '日嘉实', '2296', '74.49%', '69.24%', '58.56%', '22.69%', '32.25%', '林彤彤', '绵高', '阳坝', '成较', '升仓', '27.45', '25.32%', '至建信', '斯丹利', '由史伟', '达荷', '苏国昌', '未降反升', '10.84%', '咨奔', '27.97%', '消彼涨', '阴棒', '曹冠业', '郝康', '43953', '23.54%', '2849.95', '21.46%', '这轮分', '20.89%', '5.180', '2.576', '1.696', '1.901', '92.2%', '东英', '亿泰', '伦曼', 'Kaupthing', '2564.1', '5625', '5132', '其首单', '2864.42', '2929.77', '1.809', '2.420', '1.592', '由史博', '李泽刚', '荷银新', '因可转', '兰荣', '29.22%', '26.71%', '银说', '李锦荣', 'NYSEUS100', 'LisaDallmer', 'ETN', 'ETV', 'Dallmer', '萧尤', '赵群', '投已', '69.30%', '67.86%', '招等', '1.172', '8.07', '与绩', '0.1225', '分不分', '0.644', '0.756', '0.772', '34.25%', '14.47', '42575', '绿多红少', '标识语', '诚者', '王重', '50ET', '1.671', '2796.37', '2847.79', '2964.28', '2992.96', '5.28%', 'QDII2009', '新大洲', '演逾烈', '4722.61', '4304.3', '2154.5', '45.62%', '393.6', '46.53%', '47.65%', '42.30%', '54.71%', '日德', '1575.53', '39.65', '13.37', '22.74%', '77.52', '34.89%', '14757', '10.40', '2005.14', '932.41', '601.09', '1672.23', '增仓者', '97130.89', '1164.55', '84923.40', '921.09', '287.89', '823.50', '323.79', '92.81', '11.84', '8915', '俞岱曦', '昆为', '先江', '朱从玖', '应代', '愈跌', '粤高速', '云内', '77085', '66.92%', '续油', '0.1343', '74.16%', '68.28%', '56.21%', '据国', '亿可', '期现', '二百三十八', '五好', '如掷', '36.05', '系债基', '系股', '尚雅系', '信系', '泰系', '无红分', '周丽萍', '小芳定', '投园', '曾令华向', '做优', '126.68', '海塞', '弗南兹', '怀默', '多普金', '24.59%', '钟沁', '131.25%', '73.52%', '67.32%', '廖京胜', '5.004', '21.32%', '左红', '19299', '19319', '投沪深', '韩华', '廖群', '50.27%', '77.16%', '69.75%', '38.09%', '11.68', '埃尔埃林', '邹牧', '3443.88', '3223.71', '0.0299%', '0.0331%', '0.0676%', '0.0602%', '0.1049%', '0.0907%', '0.1054%', '0.1334%', '0.4687%', '0.4196%', '3.556%', '张维义', '14435', '11595', '0.027%', '频访', '签一单', '白仲光', '华意', '赚欢', '30.72', '1863.16', '1129.6', '2008.13', '蔡锦', '19.45%', '钟晓渝', '当正股', '张卓群', '152.78', '144660', '156.5%', '4746.74', '73.23', '12545.08', '10485.44', '2854.18', '金骏', '除银华', '万银华', '优礼卡', '优礼', '互现', '反向运动', '专用网', '双利债', '基首募', '募则', '65.27%', '和增仓', '杨晓青', '亿手', '秦川发展', '367.78', '多新发', '牛性', '110003', '可利', '68.21', '0.0600', '0.0500', '0.0060', '26.35%', '胡卓文', '0.533', '0.939', '出太好', '潘琦银华', '43252', '7686', '2862.06', '唐珂', '蔡宝美', '19.93', '盈捷', '9923', '5242', '3912', '25.03%', '暂拒', '669.46', '1377.23', '广泰', '46.29', '27.76%', '29.10%', '28.44%', '31.13%', '28.83%', '26.61%', '照提', 'lipper', '9655.29', '万晓西', '胡益', '刘天君', '股者', '三及', '智诚', '造钟', '版嘉实', '新嘉实', '投管', '吴倩自', '511.7941', '321.8120', '百万户', '335.8', '帆拉得', '董承非', '有娘', '如棋', '洪枫', '看星', '周道', '有法必依', '违法必究', '李鸣', '比一星', '76.53%', '35.51', '38.34%', '列后', '25.56%', '各只', '相顾', '18.85%', '32.50%', '25.23%', 'Standish', '55.46%', '57.23%', '1.766', '5.499', '1.765', '1.982', '亿首募', '72.35', '3123.41', '3151.29', '晋亿', '5453', '万档', '95.63%', '杨宇', '贺平鸽', '基指报', '0.59835', '杨靖聊', '熊心'])"
      ]
     },
     "execution_count": 17,
     "metadata": {},
     "output_type": "execute_result"
    }
   ],
   "source": [
    "# 查看词表\n",
    "model.wv.vocab.keys()"
   ]
  },
  {
   "cell_type": "code",
   "execution_count": 22,
   "metadata": {},
   "outputs": [],
   "source": [
    "# # 迭代模型\n",
    "# sentences_next = []\n",
    "# for document in test['word_seg'].tolist():\n",
    "#     sentences_next.append(document.split(' '))"
   ]
  },
  {
   "cell_type": "code",
   "execution_count": 24,
   "metadata": {},
   "outputs": [],
   "source": [
    "# model.train(sentences = sentences_next, total_examples = model.corpus_count, epochs = model.iter)"
   ]
  },
  {
   "cell_type": "code",
   "execution_count": 23,
   "metadata": {},
   "outputs": [],
   "source": [
    "# model.save()"
   ]
  },
  {
   "cell_type": "code",
   "execution_count": null,
   "metadata": {},
   "outputs": [],
   "source": [
    "SELECT LATERAL VIEW EXPLODE(ARRAY(1, 2, 3)) AS c1;"
   ]
  },
  {
   "cell_type": "code",
   "execution_count": 2,
   "metadata": {},
   "outputs": [],
   "source": [
    "import numpy as np"
   ]
  },
  {
   "cell_type": "code",
   "execution_count": 3,
   "metadata": {},
   "outputs": [
    {
     "output_type": "stream",
     "name": "stdout",
     "text": [
      "Help on built-in function randint:\n\nrandint(...) method of numpy.random.mtrand.RandomState instance\n    randint(low, high=None, size=None, dtype=int)\n    \n    Return random integers from `low` (inclusive) to `high` (exclusive).\n    \n    Return random integers from the \"discrete uniform\" distribution of\n    the specified dtype in the \"half-open\" interval [`low`, `high`). If\n    `high` is None (the default), then results are from [0, `low`).\n    \n    .. note::\n        New code should use the ``integers`` method of a ``default_rng()``\n        instance instead; see `random-quick-start`.\n    \n    Parameters\n    ----------\n    low : int or array-like of ints\n        Lowest (signed) integers to be drawn from the distribution (unless\n        ``high=None``, in which case this parameter is one above the\n        *highest* such integer).\n    high : int or array-like of ints, optional\n        If provided, one above the largest (signed) integer to be drawn\n        from the distribution (see above for behavior if ``high=None``).\n        If array-like, must contain integer values\n    size : int or tuple of ints, optional\n        Output shape.  If the given shape is, e.g., ``(m, n, k)``, then\n        ``m * n * k`` samples are drawn.  Default is None, in which case a\n        single value is returned.\n    dtype : dtype, optional\n        Desired dtype of the result. Byteorder must be native.\n        The default value is int.\n    \n        .. versionadded:: 1.11.0\n    \n    Returns\n    -------\n    out : int or ndarray of ints\n        `size`-shaped array of random integers from the appropriate\n        distribution, or a single such random int if `size` not provided.\n    \n    See Also\n    --------\n    random_integers : similar to `randint`, only for the closed\n        interval [`low`, `high`], and 1 is the lowest value if `high` is\n        omitted.\n    Generator.integers: which should be used for new code.\n    \n    Examples\n    --------\n    >>> np.random.randint(2, size=10)\n    array([1, 0, 0, 0, 1, 1, 0, 0, 1, 0]) # random\n    >>> np.random.randint(1, size=10)\n    array([0, 0, 0, 0, 0, 0, 0, 0, 0, 0])\n    \n    Generate a 2 x 4 array of ints between 0 and 4, inclusive:\n    \n    >>> np.random.randint(5, size=(2, 4))\n    array([[4, 0, 2, 1], # random\n           [3, 2, 2, 0]])\n    \n    Generate a 1 x 3 array with 3 different upper bounds\n    \n    >>> np.random.randint(1, [3, 5, 10])\n    array([2, 2, 9]) # random\n    \n    Generate a 1 by 3 array with 3 different lower bounds\n    \n    >>> np.random.randint([1, 5, 7], 10)\n    array([9, 8, 7]) # random\n    \n    Generate a 2 by 4 array using broadcasting with dtype of uint8\n    \n    >>> np.random.randint([1, 3, 5, 7], [[10], [20]], dtype=np.uint8)\n    array([[ 8,  6,  9,  7], # random\n           [ 1, 16,  9, 12]], dtype=uint8)\n\n"
     ]
    }
   ],
   "source": [
    "help(np.random.randint)"
   ]
  },
  {
   "cell_type": "code",
   "execution_count": 11,
   "metadata": {},
   "outputs": [
    {
     "output_type": "execute_result",
     "data": {
      "text/plain": [
       "array([[ 86,  82, 107,  98,  85,  93,  88,  97,  88,  96],\n",
       "       [102,  90,  96, 107, 108, 101,  99,  94,  98,  97],\n",
       "       [ 99,  87, 106, 107,  90,  92,  80,  86, 109,  92],\n",
       "       [ 91,  99,  87,  94, 104,  99,  94,  83,  80,  86],\n",
       "       [ 94,  83,  88, 106,  86,  92, 107,  86, 100, 105],\n",
       "       [105,  83,  81, 106,  91, 105,  93,  99, 100,  94],\n",
       "       [ 84, 105, 109,  83, 106,  87,  87,  87, 109, 103],\n",
       "       [ 97,  85,  83,  87,  96, 104,  82, 103,  95,  99],\n",
       "       [ 97,  83,  83,  99,  93,  84,  86, 104,  96,  80],\n",
       "       [102,  89,  99,  84,  85,  92,  92, 102,  88, 100]])"
      ]
     },
     "metadata": {},
     "execution_count": 11
    }
   ],
   "source": [
    "np.random.randint(low = 80, high= 110,size = (10,10))"
   ]
  },
  {
   "cell_type": "code",
   "execution_count": null,
   "metadata": {},
   "outputs": [],
   "source": []
  }
 ],
 "metadata": {
  "kernelspec": {
   "display_name": "Python 3.8.3 64-bit",
   "language": "python",
   "name": "python38364bitcb11fcd8cdb441e4bf52994f94e346da"
  },
  "language_info": {
   "codemirror_mode": {
    "name": "ipython",
    "version": 3
   },
   "file_extension": ".py",
   "mimetype": "text/x-python",
   "name": "python",
   "nbconvert_exporter": "python",
   "pygments_lexer": "ipython3",
   "version": "3.8.3-final"
  }
 },
 "nbformat": 4,
 "nbformat_minor": 2
}