{
 "metadata": {
  "language_info": {
   "codemirror_mode": {
    "name": "ipython",
    "version": 3
   },
   "file_extension": ".py",
   "mimetype": "text/x-python",
   "name": "python",
   "nbconvert_exporter": "python",
   "pygments_lexer": "ipython3",
   "version": "3.8.3-final"
  },
  "orig_nbformat": 2,
  "kernelspec": {
   "name": "python38364bitcb11fcd8cdb441e4bf52994f94e346da",
   "display_name": "Python 3.8.3 64-bit"
  }
 },
 "nbformat": 4,
 "nbformat_minor": 2,
 "cells": [
  {
   "cell_type": "markdown",
   "metadata": {},
   "source": [
    "#### 一切皆对象"
   ]
  },
  {
   "cell_type": "code",
   "execution_count": 4,
   "metadata": {},
   "outputs": [
    {
     "output_type": "stream",
     "name": "stdout",
     "text": [
      "hi yasoob\n----------\nhi yasoob\n---------------\n"
     ]
    },
    {
     "output_type": "error",
     "ename": "NameError",
     "evalue": "name 'hi' is not defined",
     "traceback": [
      "\u001b[0;31m---------------------------------------------------------------------------\u001b[0m",
      "\u001b[0;31mNameError\u001b[0m                                 Traceback (most recent call last)",
      "\u001b[0;32m<ipython-input-4-f1ee9af59731>\u001b[0m in \u001b[0;36m<module>\u001b[0;34m\u001b[0m\n\u001b[1;32m     21\u001b[0m \u001b[0;31m# 如果我们删掉旧的hi函数，看看会发生什么！\u001b[0m\u001b[0;34m\u001b[0m\u001b[0;34m\u001b[0m\u001b[0;34m\u001b[0m\u001b[0m\n\u001b[1;32m     22\u001b[0m \u001b[0;32mdel\u001b[0m \u001b[0mhi\u001b[0m\u001b[0;34m\u001b[0m\u001b[0;34m\u001b[0m\u001b[0m\n\u001b[0;32m---> 23\u001b[0;31m \u001b[0mprint\u001b[0m\u001b[0;34m(\u001b[0m\u001b[0mhi\u001b[0m\u001b[0;34m(\u001b[0m\u001b[0;34m)\u001b[0m\u001b[0;34m)\u001b[0m\u001b[0;34m\u001b[0m\u001b[0;34m\u001b[0m\u001b[0m\n\u001b[0m\u001b[1;32m     24\u001b[0m \u001b[0;31m#outputs: NameError\u001b[0m\u001b[0;34m\u001b[0m\u001b[0;34m\u001b[0m\u001b[0;34m\u001b[0m\u001b[0m\n\u001b[1;32m     25\u001b[0m \u001b[0;34m\u001b[0m\u001b[0m\n",
      "\u001b[0;31mNameError\u001b[0m: name 'hi' is not defined"
     ]
    }
   ],
   "source": [
    "def hi(name=\"yasoob\"):\n",
    "    return \"hi \" + name\n",
    " \n",
    "print(hi())\n",
    "# output: 'hi yasoob'\n",
    "print('-'*10)\n",
    "\n",
    "\n",
    "\n",
    "# 我们甚至可以将一个函数赋值给一个变量，比如\n",
    "greet = hi\n",
    "# 我们这里没有在使用小括号，因为我们并不是在调用hi函数\n",
    "# 而是在将它放在greet变量里头。我们尝试运行下这个\n",
    "print(greet())\n",
    "# output: 'hi yasoob'\n",
    "print('-'*15)\n",
    "\n",
    "\n",
    "\n",
    "\n",
    "# 如果我们删掉旧的hi函数，看看会发生什么！\n",
    "del hi\n",
    "print(hi())\n",
    "#outputs: NameError\n",
    " \n"
   ]
  },
  {
   "cell_type": "code",
   "execution_count": 5,
   "metadata": {},
   "outputs": [
    {
     "output_type": "stream",
     "name": "stdout",
     "text": [
      "hi yasoob\n"
     ]
    }
   ],
   "source": [
    "print(greet())\n",
    "#outputs: 'hi yasoob'"
   ]
  },
  {
   "cell_type": "code",
   "execution_count": null,
   "metadata": {},
   "outputs": [],
   "source": []
  },
  {
   "cell_type": "code",
   "execution_count": null,
   "metadata": {},
   "outputs": [],
   "source": []
  },
  {
   "cell_type": "code",
   "execution_count": 2,
   "metadata": {},
   "outputs": [],
   "source": [
    "def hi():\n",
    "    return \"hi yasoob!\"\n",
    " \n",
    "def doSomethingBeforeHi(func):\n",
    "    print(\"I am doing some boring work before executing hi()\")\n",
    "    print(func())\n"
   ]
  },
  {
   "cell_type": "code",
   "execution_count": 3,
   "metadata": {},
   "outputs": [
    {
     "output_type": "stream",
     "name": "stdout",
     "text": [
      "I am doing some boring work before executing hi()\nhi yasoob!\n"
     ]
    }
   ],
   "source": [
    "doSomethingBeforeHi(hi)\n",
    "#outputs:I am doing some boring work before executing hi()\n",
    "#        hi yasoob!"
   ]
  },
  {
   "cell_type": "code",
   "execution_count": 7,
   "metadata": {},
   "outputs": [
    {
     "output_type": "stream",
     "name": "stdout",
     "text": [
      "tf.Tensor(1.0, shape=(), dtype=float32)\n<tf.Variable 'Variable:0' shape=() dtype=float32, numpy=1.0>\ntf.Tensor(2.0, shape=(), dtype=float32)\n<tf.Variable 'Variable:0' shape=() dtype=float32, numpy=2.0>\ntf.Tensor(3.0, shape=(), dtype=float32)\n<tf.Variable 'Variable:0' shape=() dtype=float32, numpy=3.0>\n"
     ]
    }
   ],
   "source": [
    "import tensorflow as tf\n",
    "\n",
    "a = tf.Variable(0.0)\n",
    "\n",
    "@tf.function\n",
    "def g():\n",
    "    a.assign(a + 1.0)\n",
    "    return a\n",
    "\n",
    "print(g())\n",
    "\n",
    "print(a)\n",
    "print(g())\n",
    "print(a)\n",
    "print(g())\n",
    "print(a)"
   ]
  },
  {
   "cell_type": "code",
   "execution_count": null,
   "metadata": {},
   "outputs": [],
   "source": []
  }
 ]
}