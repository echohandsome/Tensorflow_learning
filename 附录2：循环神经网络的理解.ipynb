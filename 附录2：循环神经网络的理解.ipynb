{
 "metadata": {
  "language_info": {
   "codemirror_mode": {
    "name": "ipython",
    "version": 3
   },
   "file_extension": ".py",
   "mimetype": "text/x-python",
   "name": "python",
   "nbconvert_exporter": "python",
   "pygments_lexer": "ipython3",
   "version": "3.8.3-final"
  },
  "orig_nbformat": 2,
  "kernelspec": {
   "name": "python38364bitcb11fcd8cdb441e4bf52994f94e346da",
   "display_name": "Python 3.8.3 64-bit"
  }
 },
 "nbformat": 4,
 "nbformat_minor": 2,
 "cells": [
  {
   "cell_type": "code",
   "execution_count": 4,
   "metadata": {},
   "outputs": [],
   "source": [
    "import pandas as pd\n",
    "import numpy as np\n",
    "import matplotlib.pyplot as plt \n",
    "import time"
   ]
  },
  {
   "cell_type": "markdown",
   "metadata": {},
   "source": [
    "#### 1.对list的append数组和np.stack功能进行理解"
   ]
  },
  {
   "cell_type": "code",
   "execution_count": 5,
   "metadata": {
    "tags": []
   },
   "outputs": [
    {
     "output_type": "stream",
     "name": "stdout",
     "text": "第一次添加后结果\n [array([1, 2])]\n第二次添加后结果\n [array([1, 2]), array([3, 4])]\n转换后结果\n [[1 2]\n [3 4]]\n"
    },
    {
     "output_type": "execute_result",
     "data": {
      "text/plain": "array([[1, 2],\n       [3, 4]])"
     },
     "metadata": {},
     "execution_count": 5
    }
   ],
   "source": [
    "h = []\n",
    "i = np.array([1,2])\n",
    "j = np.array([3,4])\n",
    "h.append(i)\n",
    "print('第一次添加后结果\\n',h)\n",
    "h.append(j)\n",
    "print('第二次添加后结果\\n',h)\n",
    "h = np.array(h)\n",
    "print('转换后结果\\n',h)\n",
    "h.shape\n",
    "np.stack(h, axis = 0)"
   ]
  },
  {
   "cell_type": "markdown",
   "metadata": {},
   "source": [
    "#### 2.对np.dot的矩阵相乘的各种场景进行掌握\n",
    "- **特别注意的一点是，矩阵的这种相乘能够起到降维的效果**"
   ]
  },
  {
   "cell_type": "code",
   "execution_count": 6,
   "metadata": {},
   "outputs": [],
   "source": [
    "a = np.array([[1, 0], [0, 1]])\n",
    "b = np.array([[4, 1], [2, 2]])\n",
    "c = np.array([[1, 0], [0, 1],[3,3]])\n",
    "d = np.array([[1, 0, 3], [0, 1, 5]])\n",
    "e = np.array([1, 0, 3])\n",
    "f = np.array([[1, 0, 3]])\n",
    "g = np.array([[1], [0], [3]])\n",
    "h = np.zeros((3,))"
   ]
  },
  {
   "cell_type": "code",
   "execution_count": 8,
   "metadata": {
    "tags": []
   },
   "outputs": [
    {
     "output_type": "stream",
     "name": "stdout",
     "text": "注意区分e和f的形状不同\n(3,) (1, 3)\n"
    }
   ],
   "source": [
    "print('注意区分e和f的形状不同')\n",
    "print(e.shape,f.shape)"
   ]
  },
  {
   "cell_type": "code",
   "execution_count": 9,
   "metadata": {
    "tags": []
   },
   "outputs": [
    {
     "output_type": "stream",
     "name": "stdout",
     "text": "矩阵相乘，要求a矩阵的列数必须等于b矩阵的行数，新生成的矩阵大小为(a的行数，b的列数）\n"
    },
    {
     "output_type": "execute_result",
     "data": {
      "text/plain": "array([[4, 1],\n       [2, 2]])"
     },
     "metadata": {},
     "execution_count": 9
    }
   ],
   "source": [
    "print('矩阵相乘，要求a矩阵的列数必须等于b矩阵的行数，新生成的矩阵大小为(a的行数，b的列数）')\n",
    "np.dot(a, b)"
   ]
  },
  {
   "cell_type": "code",
   "execution_count": 11,
   "metadata": {},
   "outputs": [
    {
     "output_type": "error",
     "ename": "ValueError",
     "evalue": "shapes (2,2) and (3,2) not aligned: 2 (dim 1) != 3 (dim 0)",
     "traceback": [
      "\u001b[0;31m---------------------------------------------------------------------------\u001b[0m",
      "\u001b[0;31mValueError\u001b[0m                                Traceback (most recent call last)",
      "\u001b[0;32m<ipython-input-11-67cfbc735ce5>\u001b[0m in \u001b[0;36m<module>\u001b[0;34m\u001b[0m\n\u001b[1;32m      1\u001b[0m \u001b[0;31m# 不服从该规则将会报错\u001b[0m\u001b[0;34m\u001b[0m\u001b[0;34m\u001b[0m\u001b[0;34m\u001b[0m\u001b[0m\n\u001b[0;32m----> 2\u001b[0;31m \u001b[0mnp\u001b[0m\u001b[0;34m.\u001b[0m\u001b[0mdot\u001b[0m\u001b[0;34m(\u001b[0m\u001b[0ma\u001b[0m\u001b[0;34m,\u001b[0m \u001b[0mc\u001b[0m\u001b[0;34m)\u001b[0m\u001b[0;34m\u001b[0m\u001b[0;34m\u001b[0m\u001b[0m\n\u001b[0m",
      "\u001b[0;32m<__array_function__ internals>\u001b[0m in \u001b[0;36mdot\u001b[0;34m(*args, **kwargs)\u001b[0m\n",
      "\u001b[0;31mValueError\u001b[0m: shapes (2,2) and (3,2) not aligned: 2 (dim 1) != 3 (dim 0)"
     ]
    }
   ],
   "source": [
    "# 不服从该规则将会报错\n",
    "np.dot(a, c)"
   ]
  },
  {
   "cell_type": "code",
   "execution_count": 12,
   "metadata": {},
   "outputs": [
    {
     "output_type": "execute_result",
     "data": {
      "text/plain": "array([[1, 0, 3],\n       [0, 1, 5]])"
     },
     "metadata": {},
     "execution_count": 12
    }
   ],
   "source": [
    "np.dot(a,d)"
   ]
  },
  {
   "cell_type": "code",
   "execution_count": 13,
   "metadata": {},
   "outputs": [
    {
     "output_type": "execute_result",
     "data": {
      "text/plain": "array([[ 1,  0,  3],\n       [ 0,  1,  5],\n       [ 3,  3, 24]])"
     },
     "metadata": {},
     "execution_count": 13
    }
   ],
   "source": [
    "np.dot(c,d)"
   ]
  },
  {
   "cell_type": "code",
   "execution_count": 14,
   "metadata": {},
   "outputs": [
    {
     "output_type": "execute_result",
     "data": {
      "text/plain": "array([[10,  9],\n       [15, 16]])"
     },
     "metadata": {},
     "execution_count": 14
    }
   ],
   "source": [
    "np.dot(d,c)"
   ]
  },
  {
   "cell_type": "code",
   "execution_count": 15,
   "metadata": {},
   "outputs": [
    {
     "output_type": "error",
     "ename": "ValueError",
     "evalue": "shapes (3,2) and (3,) not aligned: 2 (dim 1) != 3 (dim 0)",
     "traceback": [
      "\u001b[0;31m---------------------------------------------------------------------------\u001b[0m",
      "\u001b[0;31mValueError\u001b[0m                                Traceback (most recent call last)",
      "\u001b[0;32m<ipython-input-15-8324758e28d6>\u001b[0m in \u001b[0;36m<module>\u001b[0;34m\u001b[0m\n\u001b[0;32m----> 1\u001b[0;31m \u001b[0mnp\u001b[0m\u001b[0;34m.\u001b[0m\u001b[0mdot\u001b[0m\u001b[0;34m(\u001b[0m\u001b[0mc\u001b[0m\u001b[0;34m,\u001b[0m \u001b[0me\u001b[0m\u001b[0;34m)\u001b[0m\u001b[0;34m\u001b[0m\u001b[0;34m\u001b[0m\u001b[0m\n\u001b[0m",
      "\u001b[0;32m<__array_function__ internals>\u001b[0m in \u001b[0;36mdot\u001b[0;34m(*args, **kwargs)\u001b[0m\n",
      "\u001b[0;31mValueError\u001b[0m: shapes (3,2) and (3,) not aligned: 2 (dim 1) != 3 (dim 0)"
     ]
    }
   ],
   "source": [
    "np.dot(c, e)"
   ]
  },
  {
   "cell_type": "code",
   "execution_count": 19,
   "metadata": {
    "tags": []
   },
   "outputs": [
    {
     "output_type": "stream",
     "name": "stdout",
     "text": "一个2D张量和一个1D张量相乘仍然遵守该规则\nd的形状 (2, 3) \te的形状 (3,)\n相乘后的结果 (2,)\n"
    }
   ],
   "source": [
    "print('一个2D张量和一个1D张量相乘仍然遵守该规则')\n",
    "np.dot(d, e)\n",
    "\n",
    "print('d的形状',d.shape,'\\te的形状',e.shape)\n",
    "print('相乘后的结果',np.dot(d, e).shape)"
   ]
  },
  {
   "cell_type": "code",
   "execution_count": 20,
   "metadata": {},
   "outputs": [
    {
     "output_type": "error",
     "ename": "ValueError",
     "evalue": "shapes (2,3) and (1,3) not aligned: 3 (dim 1) != 1 (dim 0)",
     "traceback": [
      "\u001b[0;31m---------------------------------------------------------------------------\u001b[0m",
      "\u001b[0;31mValueError\u001b[0m                                Traceback (most recent call last)",
      "\u001b[0;32m<ipython-input-20-9e0b8d9b78dc>\u001b[0m in \u001b[0;36m<module>\u001b[0;34m\u001b[0m\n\u001b[0;32m----> 1\u001b[0;31m \u001b[0mnp\u001b[0m\u001b[0;34m.\u001b[0m\u001b[0mdot\u001b[0m\u001b[0;34m(\u001b[0m\u001b[0md\u001b[0m\u001b[0;34m,\u001b[0m \u001b[0mf\u001b[0m\u001b[0;34m)\u001b[0m\u001b[0;34m\u001b[0m\u001b[0;34m\u001b[0m\u001b[0m\n\u001b[0m",
      "\u001b[0;32m<__array_function__ internals>\u001b[0m in \u001b[0;36mdot\u001b[0;34m(*args, **kwargs)\u001b[0m\n",
      "\u001b[0;31mValueError\u001b[0m: shapes (2,3) and (1,3) not aligned: 3 (dim 1) != 1 (dim 0)"
     ]
    }
   ],
   "source": [
    "np.dot(d, f)"
   ]
  },
  {
   "cell_type": "code",
   "execution_count": 24,
   "metadata": {
    "tags": []
   },
   "outputs": [
    {
     "output_type": "stream",
     "name": "stdout",
     "text": "[[10]\n [15]] \n\nd的形状 (2, 3) \te的形状 (3, 1)\n相乘后的结果 (2, 1)\n"
    }
   ],
   "source": [
    "print(np.dot(d, g),'\\n')\n",
    "print('d的形状',d.shape,'\\tg的形状',g.shape)\n",
    "print('相乘后的结果',np.dot(d, g).shape)"
   ]
  },
  {
   "cell_type": "code",
   "execution_count": 26,
   "metadata": {
    "tags": []
   },
   "outputs": [
    {
     "output_type": "stream",
     "name": "stdout",
     "text": "[0. 0.]\nd的形状 (2, 3) \th的形状 (3,)\n"
    }
   ],
   "source": [
    "# h 是一个全零向量\n",
    "print(np.dot(d, h))\n",
    "\n",
    "print('d的形状',d.shape,'\\th的形状',h.shape)"
   ]
  },
  {
   "cell_type": "code",
   "execution_count": 28,
   "metadata": {
    "tags": []
   },
   "outputs": [
    {
     "output_type": "stream",
     "name": "stdout",
     "text": "[1 0 3]\n[0. 0. 0.]\n相加的结果 [1. 0. 3.]\n"
    }
   ],
   "source": [
    "print(e)\n",
    "print(h)\n",
    "print('相加的结果',e+h)"
   ]
  },
  {
   "cell_type": "code",
   "execution_count": 43,
   "metadata": {},
   "outputs": [
    {
     "output_type": "execute_result",
     "data": {
      "text/plain": "array([[0.88, 0.  ],\n       [0.  , 0.88]])"
     },
     "metadata": {},
     "execution_count": 43
    }
   ],
   "source": [
    "# 矩阵乘以一个数\n",
    "a * 0.88"
   ]
  },
  {
   "source": [
    "#### 3.np.tanh的理解：对张量的每个元素都执行(-1,1)区间的值转换"
   ],
   "cell_type": "markdown",
   "metadata": {}
  },
  {
   "cell_type": "code",
   "execution_count": 30,
   "metadata": {
    "tags": []
   },
   "outputs": [
    {
     "output_type": "stream",
     "name": "stdout",
     "text": "[1 0 3]\n[0.76159416 0.         0.99505475]\n"
    }
   ],
   "source": [
    "print(e)\n",
    "print(np.tanh(e))"
   ]
  },
  {
   "source": [
    "#### 4.一个简单的循环神经网络结构"
   ],
   "cell_type": "markdown",
   "metadata": {}
  },
  {
   "cell_type": "code",
   "execution_count": 31,
   "metadata": {},
   "outputs": [],
   "source": [
    "timesteps = 100 # 定义输入序列的时间步数\n",
    "\n",
    "input_features = 32 # 输入空间的特征维度\n",
    "\n",
    "output_features = 64 # 输出空间的特征维度"
   ]
  },
  {
   "cell_type": "code",
   "execution_count": 32,
   "metadata": {},
   "outputs": [],
   "source": [
    "inputs = np.random.random((timesteps, input_features)) #输入数据示例"
   ]
  },
  {
   "cell_type": "code",
   "execution_count": 33,
   "metadata": {},
   "outputs": [
    {
     "output_type": "execute_result",
     "data": {
      "text/plain": "(100, 32)"
     },
     "metadata": {},
     "execution_count": 33
    }
   ],
   "source": [
    "inputs.shape"
   ]
  },
  {
   "cell_type": "code",
   "execution_count": 34,
   "metadata": {},
   "outputs": [
    {
     "output_type": "execute_result",
     "data": {
      "text/plain": "array([7.76540238e-01, 6.03832627e-01, 5.57550213e-01, 1.18614793e-01,\n       3.36323764e-02, 2.10216296e-01, 7.62642330e-02, 4.11604751e-04,\n       3.91109452e-01, 3.87863468e-01, 7.04299231e-01, 8.81656938e-01,\n       7.94264455e-01, 3.47134170e-01, 4.64626636e-01, 8.49172072e-01,\n       2.81441461e-01, 1.89813652e-01, 4.79152566e-01, 8.82966069e-01,\n       7.61673264e-01, 4.62764820e-01, 4.93057672e-01, 6.29697345e-01,\n       2.69109300e-01, 5.82154651e-01, 6.70245962e-02, 9.29995278e-01,\n       3.73652740e-01, 7.16194441e-01, 3.64521672e-01, 4.84751142e-01])"
     },
     "metadata": {},
     "execution_count": 34
    }
   ],
   "source": [
    "inputs[0]"
   ]
  },
  {
   "cell_type": "code",
   "execution_count": 35,
   "metadata": {},
   "outputs": [],
   "source": [
    "state_t = np.zeros((output_features,)) # 初始状态是一个全零向量"
   ]
  },
  {
   "cell_type": "code",
   "execution_count": 36,
   "metadata": {},
   "outputs": [
    {
     "output_type": "execute_result",
     "data": {
      "text/plain": "(64,)"
     },
     "metadata": {},
     "execution_count": 36
    }
   ],
   "source": [
    "state_t.shape"
   ]
  },
  {
   "cell_type": "code",
   "execution_count": 37,
   "metadata": {},
   "outputs": [],
   "source": [
    "# 创建随机的权重矩阵\n",
    "W = np.random.random((output_features,input_features))\n",
    "U = np.random.random((output_features, output_features))\n",
    "b = np.random.random((output_features,))"
   ]
  },
  {
   "cell_type": "code",
   "execution_count": 38,
   "metadata": {},
   "outputs": [],
   "source": [
    "# 对每一个输入样本，输出的结果是  输入数据和当前时刻的上一个时刻的状态\n",
    "successive_outputs = []\n",
    "\n",
    "for input_t in inputs:\n",
    "    output_t = np.tanh(np.dot(W, input_t) + np.dot(U, state_t) + b) \n",
    "\n",
    "    successive_outputs.append(output_t)\n",
    "\n",
    "    state_t = output_t"
   ]
  },
  {
   "cell_type": "code",
   "execution_count": 39,
   "metadata": {},
   "outputs": [],
   "source": [
    "final_output_sequence = np.stack(successive_outputs, axis = 0)"
   ]
  },
  {
   "cell_type": "code",
   "execution_count": 40,
   "metadata": {},
   "outputs": [
    {
     "output_type": "execute_result",
     "data": {
      "text/plain": "(100, 64)"
     },
     "metadata": {},
     "execution_count": 40
    }
   ],
   "source": [
    "final_output_sequence.shape"
   ]
  },
  {
   "source": [
    "##### 总结步骤"
   ],
   "cell_type": "markdown",
   "metadata": {}
  },
  {
   "cell_type": "code",
   "execution_count": 41,
   "metadata": {
    "tags": []
   },
   "outputs": [
    {
     "output_type": "stream",
     "name": "stdout",
     "text": "(64, 32) (32,)\nnp.dot(W, input_t) 的结果是 (64,)\n"
    }
   ],
   "source": [
    "print(W.shape, inputs[0].shape)\n",
    "print('np.dot(W, input_t) 的结果是',np.dot(W, inputs[0]).shape)"
   ]
  },
  {
   "cell_type": "code",
   "execution_count": 42,
   "metadata": {
    "tags": []
   },
   "outputs": [
    {
     "output_type": "stream",
     "name": "stdout",
     "text": "(64, 64) (64,)\nnp.dot(U, state_t) 的结果是一个全零向量，形状为 (64,)\n"
    }
   ],
   "source": [
    "print(U.shape,state_t.shape)\n",
    "print('np.dot(U, state_t) 的结果是一个全零向量，形状为',np.dot(U, state_t).shape)"
   ]
  }
 ]
}