{
 "cells": [
  {
   "cell_type": "code",
   "execution_count": 1,
   "metadata": {},
   "outputs": [],
   "source": [
    "import tensorflow as tf\n",
    "import numpy as np\n",
    "import matplotlib.pyplot as plt \n",
    "import time\n",
    "# 查询系统可用的 GPU\n",
    "physical_devices = tf.config.experimental.list_physical_devices('GPU')\n",
    "# 确保有可用的 GPU 如果没有, 则会报错\n",
    "assert len(physical_devices) > 0, \"Not enough GPU hardware devices available\"\n",
    "# 设置参数,该段务必在运行jupyter的第一段代码执行，否则会无法初始化成功\n",
    "# 仅在需要时申请显存空间（程序初始运行时消耗很少的显存，随着程序的运行而动态申请显存）\n",
    "tf.config.experimental.set_memory_growth(physical_devices[0], True)"
   ]
  },
  {
   "cell_type": "code",
   "execution_count": null,
   "metadata": {},
   "outputs": [],
   "source": [
    "![赛题评估指标](./markdown_pics/赛题评估指标.png)"
   ]
  },
  {
   "cell_type": "markdown",
   "metadata": {},
   "source": [
    "#### 1.赛题背景"
   ]
  },
  {
   "cell_type": "markdown",
   "metadata": {},
   "source": [
    "![赛题背景--涂鸦图像识别](./markdown_pics/赛题背景--涂鸦图像识别.png)"
   ]
  },
  {
   "cell_type": "markdown",
   "metadata": {},
   "source": [
    "![赛题评估指标](./markdown_pics/赛题评估指标.png)"
   ]
  },
  {
   "cell_type": "markdown",
   "metadata": {},
   "source": [
    "##### 1.这个公式的第一部分就是求平均值，也就是M代表的是Mean，那么主要需要研究AP（Average Precision）的计算方式\n",
    "\n",
    "- 由于预测的结果在本图中需要预测三个结果，如果模型仅仅预测出了两个结果，那么 min(2,3) = 2, 如果模型预测了4个，那么就是min(4,3) =3 ,也就是说，只取最多3个结果\n",
    "- 那么第二部分如果min(n,3) = 3,那么ΣP(k) = P(1) + P(2) + P(3)"
   ]
  },
  {
   "cell_type": "markdown",
   "metadata": {},
   "source": [
    "##### 用代码实现一下这个公式，方便加深理解"
   ]
  },
  {
   "cell_type": "code",
   "execution_count": 2,
   "metadata": {},
   "outputs": [],
   "source": [
    "def apk(actual, predicted, k = 10):\n",
    "    # 这里在求min函数部分\n",
    "    if len(predicted) > k :\n",
    "        predicted = predicted[:k]\n",
    "\n",
    "    # 初始化\n",
    "    score = 0.0\n",
    "    num_hits = 0.0\n",
    "\n",
    "    # 对预测值的结果分别将序号和预测值做键值对\n",
    "    # 遍历预测值的顺序和值\n",
    "    for i,p in enumerate(predicted):\n",
    "        if p in actual and p not in predicted[:i]:\n",
    "            num_hits += 1.0\n",
    "            score += num_hits / ( i + 1.0)\n",
    "\n",
    "    if not actual:\n",
    "        return 0.0\n",
    "\n",
    "    return score / min(len(actual), k)\n"
   ]
  },
  {
   "cell_type": "markdown",
   "metadata": {},
   "source": [
    "##### 真实值 1\n",
    "##### 预测值 1,2,3,4,5\n",
    "\n",
    "##### 取 k = 3 \n",
    "##### 预测值截断取 1,2,3\n",
    "\n",
    "##### k = 1, 则 真实值1 == 预测值1，P(1) = 1\n",
    "##### k = 2, 则 真实值1 != 预测值2，P(2) = 0, 若真实值1 != 预测值1，那么P(2) = 1/(1+1) = 0.5\n",
    "##### k = 3, 则 真实值1 != 预测值3，P(3) = 0\n",
    "##### 因此，总分 =P(1) + P(2) + P(3) =  1 + 0 + 0 = 1\n",
    "##### 然后取平均值= 0.33333"
   ]
  },
  {
   "cell_type": "code",
   "execution_count": 3,
   "metadata": {
    "tags": []
   },
   "outputs": [
    {
     "name": "stdout",
     "output_type": "stream",
     "text": [
      "Answer =  [1] predicted =  [1, 2, 3, 4, 5]\n",
      "AP@5 =  1.0\n"
     ]
    }
   ],
   "source": [
    "actual = [1]\n",
    "predicted = [1,2,3,4,5]\n",
    "\n",
    "print('Answer = ', actual, 'predicted = ', predicted)\n",
    "print('AP@5 = ', apk(actual, predicted, 5) )"
   ]
  },
  {
   "cell_type": "code",
   "execution_count": 4,
   "metadata": {
    "tags": []
   },
   "outputs": [
    {
     "name": "stdout",
     "output_type": "stream",
     "text": [
      "Answer =  [1] predicted =  [2, 1, 3, 4, 5]\n",
      "AP@5 =  0.5\n"
     ]
    }
   ],
   "source": [
    "predicted = [2,1,3,4,5]\n",
    "　\n",
    "print('Answer = ', actual, 'predicted = ', predicted)\n",
    "print('AP@5 = ', apk(actual, predicted, 5) )"
   ]
  },
  {
   "cell_type": "code",
   "execution_count": 5,
   "metadata": {
    "tags": []
   },
   "outputs": [
    {
     "name": "stdout",
     "output_type": "stream",
     "text": [
      "Answer =  [1] predicted =  [3, 2, 1, 4, 5]\n",
      "AP@5 =  0.3333333333333333\n"
     ]
    }
   ],
   "source": [
    "predicted = [3,2,1,4,5]\n",
    "\n",
    "print('Answer = ', actual, 'predicted = ', predicted)\n",
    "print('AP@5 = ', apk(actual, predicted, 5) )"
   ]
  },
  {
   "cell_type": "code",
   "execution_count": 6,
   "metadata": {
    "tags": []
   },
   "outputs": [
    {
     "name": "stdout",
     "output_type": "stream",
     "text": [
      "Answer =  [1] predicted =  [4, 2, 3, 1, 5]\n",
      "AP@5 =  0.25\n"
     ]
    }
   ],
   "source": [
    "predicted = [4,2,3,1,5]\n",
    "\n",
    "print('Answer = ', actual, 'predicted = ', predicted)\n",
    "print('AP@5 = ', apk(actual, predicted, 5) )"
   ]
  },
  {
   "cell_type": "code",
   "execution_count": 7,
   "metadata": {
    "tags": []
   },
   "outputs": [
    {
     "name": "stdout",
     "output_type": "stream",
     "text": [
      "Answer =  [1] predicted =  [4, 2, 3, 5, 1]\n",
      "AP@5 =  0.2\n"
     ]
    }
   ],
   "source": [
    "predicted = [4,2,3,5,1]\n",
    "\n",
    "print('Answer = ', actual, 'predicted = ', predicted)\n",
    "print('AP@5 = ', apk(actual, predicted, 5) )"
   ]
  },
  {
   "cell_type": "code",
   "execution_count": 10,
   "metadata": {
    "tags": []
   },
   "outputs": [
    {
     "name": "stdout",
     "output_type": "stream",
     "text": [
      "Answer =  [1, 2, 3] predicted =  [4, 2, 3, 5, 1]\n",
      "AP@5 =  0.5888888888888889\n"
     ]
    }
   ],
   "source": [
    "actual = [1,2,3]\n",
    "predicted = [4,2,3,5,1]\n",
    "\n",
    "print('Answer = ', actual, 'predicted = ', predicted)\n",
    "print('AP@5 = ', apk(actual, predicted, 5) )"
   ]
  },
  {
   "cell_type": "markdown",
   "metadata": {},
   "source": [
    "由此来看，这个序列中，真实值和预测值的序列越接近，那么分数越高"
   ]
  },
  {
   "cell_type": "markdown",
   "metadata": {},
   "source": [
    "#### 2.数据解读"
   ]
  },
  {
   "cell_type": "markdown",
   "metadata": {},
   "source": [
    "![draw数据格式解读](./markdown_pics/draw数据格式解读.png)"
   ]
  },
  {
   "cell_type": "markdown",
   "metadata": {},
   "source": [
    "![draw数据读取示例](./markdown_pics/draw数据读取示例.png)"
   ]
  },
  {
   "cell_type": "markdown",
   "metadata": {},
   "source": [
    "##### 原始数据集和简化版数据集在drawing上的数据存储不一致"
   ]
  },
  {
   "cell_type": "markdown",
   "metadata": {},
   "source": [
    "![draw数据读取示例2](./markdown_pics/draw数据读取示例2.png)"
   ]
  },
  {
   "cell_type": "markdown",
   "metadata": {},
   "source": [
    "![draw数据字段说明](./markdown_pics/draw数据字段说明.png)"
   ]
  },
  {
   "cell_type": "markdown",
   "metadata": {},
   "source": [
    "![draw一行包含一个图形](./markdown_pics/draw一行包含一个图形.png)"
   ]
  },
  {
   "cell_type": "markdown",
   "metadata": {},
   "source": [
    "##### 下图的解释\n",
    "- 第一笔，x,y表示绘画的坐标，t表示毫秒单位，比如第一个像素的坐标[[x0,y0]]，时间为t0，以此类推\n",
    "- 第二笔，同上理解"
   ]
  },
  {
   "cell_type": "markdown",
   "metadata": {},
   "source": [
    "![对一个draw图进行数据拆分](./markdown_pics/对一个draw图进行数据拆分.png)"
   ]
  },
  {
   "cell_type": "markdown",
   "metadata": {},
   "source": [
    "![原始数据和简化版数据的区别](./markdown_pics/原始数据和简化版数据的区别.png)"
   ]
  },
  {
   "cell_type": "markdown",
   "metadata": {},
   "source": [
    "![draw数据EDA](./markdown_pics/draw数据EDA.png)\n"
   ]
  },
  {
   "cell_type": "markdown",
   "metadata": {},
   "source": [
    "![draw数据EDA2](./markdown_pics/draw数据EDA2.png)"
   ]
  },
  {
   "cell_type": "markdown",
   "metadata": {},
   "source": [
    "##### 下图的可视化，一种可视化为了黑白图片，另外可视化成了RGB彩色图片"
   ]
  },
  {
   "cell_type": "markdown",
   "metadata": {},
   "source": [
    "![draw可视化预览一下图形](./markdown_pics/draw可视化预览一下图形.png)\n"
   ]
  },
  {
   "cell_type": "markdown",
   "metadata": {},
   "source": [
    "#### 3.思路分析"
   ]
  },
  {
   "cell_type": "markdown",
   "metadata": {},
   "source": [
    "![draw建模思路分析](./markdown_pics/draw建模思路分析.png)"
   ]
  },
  {
   "cell_type": "markdown",
   "metadata": {},
   "source": [
    "#### 4.模型构建"
   ]
  },
  {
   "cell_type": "markdown",
   "metadata": {},
   "source": [
    "![draw模型构建思路](./markdown_pics/draw模型构建思路.png)"
   ]
  },
  {
   "cell_type": "markdown",
   "metadata": {},
   "source": [
    "![预训练模型选择](./markdown_pics/预训练模型选择.png)"
   ]
  }
 ],
 "metadata": {
  "kernelspec": {
   "display_name": "Python 3.8.3 64-bit",
   "language": "python",
   "name": "python38364bitcb11fcd8cdb441e4bf52994f94e346da"
  },
  "language_info": {
   "codemirror_mode": {
    "name": "ipython",
    "version": 3
   },
   "file_extension": ".py",
   "mimetype": "text/x-python",
   "name": "python",
   "nbconvert_exporter": "python",
   "pygments_lexer": "ipython3",
   "version": "3.8.3"
  }
 },
 "nbformat": 4,
 "nbformat_minor": 2
}
