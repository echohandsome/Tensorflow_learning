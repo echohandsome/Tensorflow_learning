{
 "cells": [
  {
   "cell_type": "code",
   "execution_count": 1,
   "metadata": {
    "ExecuteTime": {
     "end_time": "2021-02-19T02:38:25.538763Z",
     "start_time": "2021-02-19T02:38:24.024026Z"
    }
   },
   "outputs": [],
   "source": [
    "import tensorflow as tf\n",
    "import numpy as np\n",
    "from tensorflow.keras import Model\n",
    "from tensorflow.keras.layers import Dense, Flatten, Conv2D\n",
    "# 查询系统可用的 GPU\n",
    "physical_devices = tf.config.experimental.list_physical_devices('GPU')\n",
    "# 确保有可用的 GPU 如果没有, 则会报错\n",
    "assert len(physical_devices) > 0, \"Not enough GPU hardware devices available\"\n",
    "# 设置参数,该段务必在运行jupyter的第一段代码执行，否则会无法初始化成功\n",
    "# 仅在需要时申请显存空间（程序初始运行时消耗很少的显存，随着程序的运行而动态申请显存）\n",
    "tf.config.experimental.set_memory_growth(physical_devices[0], True)"
   ]
  },
  {
   "cell_type": "markdown",
   "metadata": {},
   "source": [
    " ### 一、常用损失函数\n",
    " - 回归\n",
    " - 分类"
   ]
  },
  {
   "cell_type": "markdown",
   "metadata": {},
   "source": [
    "tf.keras.losses\n",
    "\n",
    "参考网站：可以查看tensorflow下面的keras/losses的官方文档"
   ]
  },
  {
   "cell_type": "markdown",
   "metadata": {},
   "source": [
    "- mean_squared_error (平方差误差损失，用于回归，简写为mse,类实现形式为MeanSquaredError和MSE)\n",
    "- binary_crossentropy(二元交叉熵，用于二分类，类实现形式为BinaryCrossentropy)\n",
    "- categorical_crossentropy(类别交叉熵，用于多分类，要求label为onehot编码，类实现形式为CategoricalCrossentropy)\n",
    "- sparse_categorical_crossentropy(稀疏类别交叉熵，用于多分类，要求label为序号编码形式，类实现形式为SparseCategoricalCrossentropy)\n",
    "\n",
    "更多的可以参考官方文档关于损失函数的描述"
   ]
  },
  {
   "cell_type": "markdown",
   "metadata": {},
   "source": [
    "#### BinaryCrossentropy和binary_crossentropy有什么区别\n",
    "- 前者是类的实现形式\n",
    "- 后者是函数的实现形式"
   ]
  },
  {
   "cell_type": "markdown",
   "metadata": {},
   "source": [
    "def binary_crossentropy(target, output, from_logits= False):"
   ]
  },
  {
   "cell_type": "markdown",
   "metadata": {},
   "source": [
    "tf版本"
   ]
  },
  {
   "cell_type": "code",
   "execution_count": 5,
   "metadata": {
    "tags": []
   },
   "outputs": [
    {
     "name": "stdout",
     "output_type": "stream",
     "text": [
      "loss: 0.09458993\n"
     ]
    }
   ],
   "source": [
    "cce = tf.keras.losses.CategoricalCrossentropy()\n",
    "label = [[1,0,0],[0,1,0],[0,0,1]]\n",
    "y_pred =[[0.9,0.05,0.05],[0.05,0.89,0.06],[0.05,0.01,0.94]] \n",
    "loss = cce(label,y_pred)\n",
    "print('loss:',loss.numpy())"
   ]
  },
  {
   "cell_type": "code",
   "execution_count": 12,
   "metadata": {
    "ExecuteTime": {
     "end_time": "2021-02-19T02:41:26.280487Z",
     "start_time": "2021-02-19T02:41:26.264040Z"
    }
   },
   "outputs": [
    {
     "name": "stdout",
     "output_type": "stream",
     "text": [
      "loss: 0.09458993\n"
     ]
    }
   ],
   "source": [
    "cce = tf.keras.losses.CategoricalCrossentropy()\n",
    "label = [[1,0,0],[0,1,0],[0,0,1]]\n",
    "y_pred =[[0.9,0.05,0.05],[0.05,0.89,0.06],[0.05,0.01,0.94]]\n",
    "label = tf.cast(label, dtype = 'float32')\n",
    "y_pred = tf.cast(y_pred, dtype = 'float32')\n",
    "loss = cce(label,y_pred)\n",
    "print('loss:',loss.numpy())"
   ]
  },
  {
   "cell_type": "markdown",
   "metadata": {},
   "source": [
    "numpy版本"
   ]
  },
  {
   "cell_type": "code",
   "execution_count": 6,
   "metadata": {
    "tags": []
   },
   "outputs": [
    {
     "name": "stdout",
     "output_type": "stream",
     "text": [
      "loss: 0.09458991187728844\n"
     ]
    }
   ],
   "source": [
    "label = np.array([[1,0,0],[0,1,0],[0,0,1]])\n",
    "y_pred = np.array([[0.9,0.05,0.05],[0.05,0.89,0.06],[0.05,0.01,0.94]])\n",
    "loss = np.average(-np.sum(label*np.log(y_pred),axis = 1)) # 交叉熵损失函数的定义公式\n",
    "print('loss:',loss)"
   ]
  },
  {
   "cell_type": "code",
   "execution_count": 7,
   "metadata": {},
   "outputs": [
    {
     "data": {
      "text/plain": [
       "array([[-0.10536052, -2.99573227, -2.99573227],\n",
       "       [-2.99573227, -0.11653382, -2.81341072],\n",
       "       [-2.99573227, -4.60517019, -0.0618754 ]])"
      ]
     },
     "execution_count": 7,
     "metadata": {},
     "output_type": "execute_result"
    }
   ],
   "source": [
    "# 先对所有预测值做对数转换\n",
    "np.log(y_pred)"
   ]
  },
  {
   "cell_type": "code",
   "execution_count": 8,
   "metadata": {},
   "outputs": [
    {
     "data": {
      "text/plain": [
       "array([[-0.10536052, -0.        , -0.        ],\n",
       "       [-0.        , -0.11653382, -0.        ],\n",
       "       [-0.        , -0.        , -0.0618754 ]])"
      ]
     },
     "execution_count": 8,
     "metadata": {},
     "output_type": "execute_result"
    }
   ],
   "source": [
    "# 然后让原始标签乘以对数值，这时候就可以看到如果为0的部分其损失全部为0\n",
    "label*np.log(y_pred)"
   ]
  },
  {
   "cell_type": "code",
   "execution_count": 9,
   "metadata": {},
   "outputs": [
    {
     "data": {
      "text/plain": [
       "array([0.10536052, 0.11653382, 0.0618754 ])"
      ]
     },
     "execution_count": 9,
     "metadata": {},
     "output_type": "execute_result"
    }
   ],
   "source": [
    "# 然后按照纵轴对损失进行求和，因为其他地方的损失都被处理为0了，那么只有其中样本预测的部分还有值作为损失值\n",
    "-np.sum(label*np.log(y_pred),axis = 1)"
   ]
  },
  {
   "cell_type": "code",
   "execution_count": 10,
   "metadata": {},
   "outputs": [
    {
     "data": {
      "text/plain": [
       "0.09458991333333333"
      ]
     },
     "execution_count": 10,
     "metadata": {},
     "output_type": "execute_result"
    }
   ],
   "source": [
    "# 对所有的损失值求平均就为最终的损失评估\n",
    "np.average([0.10536052, 0.11653382, 0.0618754 ])"
   ]
  },
  {
   "cell_type": "markdown",
   "metadata": {},
   "source": [
    " ### 二、自定义损失函数\n",
    " - 函数\n",
    " - 类实现"
   ]
  },
  {
   "cell_type": "markdown",
   "metadata": {},
   "source": [
    "#### MSE 的实现形式"
   ]
  },
  {
   "cell_type": "code",
   "execution_count": 11,
   "metadata": {},
   "outputs": [],
   "source": [
    "# 类的实现方式\n",
    "class MeanSquaredError(tf.keras.losses.Loss):\n",
    "    def call(self, y_true, y_pred):\n",
    "        return tf.reduce_mean(tf.square(y_pred - y_true))"
   ]
  },
  {
   "cell_type": "code",
   "execution_count": 12,
   "metadata": {},
   "outputs": [],
   "source": [
    "# 函数的实现方式\n",
    "def MeanSquaredError(y_true, y_pred):\n",
    "    return tf.reduce_mean(tf.square(y_pred - y_true))"
   ]
  },
  {
   "cell_type": "markdown",
   "metadata": {},
   "source": [
    "#### Focal loss损失函数的实现形式"
   ]
  },
  {
   "cell_type": "code",
   "execution_count": 13,
   "metadata": {
    "ExecuteTime": {
     "end_time": "2021-02-19T02:59:06.223717Z",
     "start_time": "2021-02-19T02:59:06.208374Z"
    }
   },
   "outputs": [],
   "source": [
    "# 多分类的损失函数focal loss\n",
    "class SparseFocalLoss(tf.keras.losses.Loss):\n",
    "    '''\n",
    "    class_num:定义类别数\n",
    "    '''\n",
    "    def __init__(self,gamma = 2.0, alpha = 0.25, class_num = 10):\n",
    "        self.gamma = gamma\n",
    "        self.alpha = alpha\n",
    "        self.class_num = class_num\n",
    "        super().__init__()\n",
    "\n",
    "    def call(self, y_true, y_pred):\n",
    "        y_pred = tf.nn.softmax(y_pred,axis = -1)\n",
    "        epsilon = tf.keras.backend.epsilon()\n",
    "        y_pred = tf.clip_by_value(y_pred, epsilon, 1.0)\n",
    "\n",
    "        y_true = tf.one_hot(y_true, depth = self.class_num)\n",
    "        y_true = tf.cast(y_true, tf.float32)\n",
    "\n",
    "        loss = - y_true * tf.math.pow(1-y_pred, self.gamma) * tf.math.log(y_pred)\n",
    "\n",
    "        loss = tf.math.reduce_sum(loss,axis = 1)\n",
    "\n",
    "        return loss"
   ]
  },
  {
   "cell_type": "code",
   "execution_count": 14,
   "metadata": {},
   "outputs": [],
   "source": [
    "# 函数的实现\n",
    "def focal_loss(gamma = 2.0, alpha = 0.25):\n",
    "    def focal_loss_fixed(y_ture, y_pred):\n",
    "        y_pred = tf.nn.softmax(y_pred,axis=-1)\n",
    "        epsilon = tf.keras.backend.epsilon()\n",
    "        y_pred = tf.clip_by_value(y_pred,epsilon,1.0)\n",
    "\n",
    "        y_true = tf.cast(y_true,tf.float32)\n",
    "        loss = - y_true * tf.math.pow(1-y_pred,gamma)*tf.math.log(y_pred)\n",
    "        loss = tf.math.reduce_sum(loss,axis = 1)\n",
    "\n",
    "        return loss\n",
    "    return focal_loss_fixed"
   ]
  },
  {
   "cell_type": "markdown",
   "metadata": {},
   "source": [
    " ### 三、案例讲解\n",
    " - 以MNIST为例"
   ]
  },
  {
   "cell_type": "code",
   "execution_count": 37,
   "metadata": {
    "tags": []
   },
   "outputs": [],
   "source": [
    "# # 定义数据的本地导入\n",
    "# path_tmp = '/home/hp/.local/lib/python3.8/site-packages/tensorflow/keras/datasets/'\n",
    "# (train_images,train_labels),(test_images,test_labels)=tf.keras.datasets.mnist.load_data(\n",
    "#     path= path_tmp+'mnist.npz'\n",
    "# )"
   ]
  },
  {
   "cell_type": "code",
   "execution_count": 36,
   "metadata": {},
   "outputs": [],
   "source": [
    "mnist = np.load(path_tmp+'mnist.npz')"
   ]
  },
  {
   "cell_type": "code",
   "execution_count": 40,
   "metadata": {},
   "outputs": [],
   "source": [
    "x_train, y_train, x_test, y_test = mnist['x_train'],mnist['y_train'],mnist['x_test'],mnist['y_test']"
   ]
  },
  {
   "cell_type": "code",
   "execution_count": 41,
   "metadata": {},
   "outputs": [
    {
     "data": {
      "text/plain": [
       "(60000, 28, 28)"
      ]
     },
     "execution_count": 41,
     "metadata": {},
     "output_type": "execute_result"
    }
   ],
   "source": [
    "x_train.shape"
   ]
  },
  {
   "cell_type": "code",
   "execution_count": 42,
   "metadata": {},
   "outputs": [
    {
     "data": {
      "text/plain": [
       "3"
      ]
     },
     "execution_count": 42,
     "metadata": {},
     "output_type": "execute_result"
    }
   ],
   "source": [
    "x_train.ndim"
   ]
  },
  {
   "cell_type": "code",
   "execution_count": 43,
   "metadata": {},
   "outputs": [
    {
     "data": {
      "text/plain": [
       "(128, 28, 28)"
      ]
     },
     "execution_count": 43,
     "metadata": {},
     "output_type": "execute_result"
    }
   ],
   "source": [
    "x_train[:128].shape"
   ]
  },
  {
   "cell_type": "code",
   "execution_count": 44,
   "metadata": {},
   "outputs": [],
   "source": [
    "# 对所有数值归一化，因为像素的峰值是255\n",
    "x_train = x_train/255.0\n",
    "x_test = x_test/255.0"
   ]
  },
  {
   "cell_type": "code",
   "execution_count": 45,
   "metadata": {},
   "outputs": [],
   "source": [
    "import matplotlib.pyplot as plt"
   ]
  },
  {
   "cell_type": "code",
   "execution_count": 46,
   "metadata": {},
   "outputs": [
    {
     "data": {
      "image/png": "[encoded data removed]",
      "image/svg+xml": [
       "<?xml version=\"1.0\" encoding=\"utf-8\" standalone=\"no\"?>\n",
       "<!DOCTYPE svg PUBLIC \"-//W3C//DTD SVG 1.1//EN\"\n",
       "  \"http://www.w3.org/Graphics/SVG/1.1/DTD/svg11.dtd\">\n",
       "<!-- Created with matplotlib (https://matplotlib.org/) -->\n",
       "<svg height=\"207.633887pt\" version=\"1.1\" viewBox=\"0 0 424.8 207.633887\" width=\"424.8pt\" xmlns=\"http://www.w3.org/2000/svg\" xmlns:xlink=\"http://www.w3.org/1999/xlink\">\n",
       " <defs>\n",
       "  <style type=\"text/css\">\n",
       "*{stroke-linecap:butt;stroke-linejoin:round;}\n",
       "  </style>\n",
       " </defs>\n",
       " <g id=\"figure_1\">\n",
       "  <g id=\"patch_1\">\n",
       "   <path d=\"M 0 207.633887 \n",
       "L 424.8 207.633887 \n",
       "L 424.8 0 \n",
       "L 0 0 \n",
       "z\n",
       "\" style=\"fill:none;\"/>\n",
       "  </g>\n",
       "  <g id=\"axes_1\">\n",
       "   <g id=\"patch_2\">\n",
       "    <path d=\"M 10.7 77.14 \n",
       "L 80.64 77.14 \n",
       "L 80.64 7.2 \n",
       "L 10.7 7.2 \n",
       "z\n",
       "\" style=\"fill:#ffffff;\"/>\n",
       "   </g>\n",
       "   <g clip-path=\"url(#pc8433e9d1f)\">\n",
       "    <image height=\"70\" id=\"image033b1ee672\" transform=\"scale(1 -1)translate(0 -70)\" width=\"70\" x=\"10.7\" xlink:href=\"data:image/png;base64,\n",
       "iVBORw0KGgoAAAANSUhEUgAAAEYAAABGCAYAAABxLuKEAAAABHNCSVQICAgIfAhkiAAABBFJREFUeJztmksodl0Ux39eolxDmcg1mUkGysBtxlTKJQZKBuSSZIQyYCAkIWQmMjBgpmQixUQM5JJS7gMGJAMivtFezhPL+3rOeb362r/R6u84Z7ee/95nrb1PwOvr6yuWd/z61wP4qdjEKNjEKNjEKNjEKNjEKNjEKNjEKNjEKAR5cZP7+3uJp6enAWhubhbNFNcBAQGi9fT0AFBXVydabGysF8PxBOsYBZsYhQA3TeTd3R0AZWVloq2srLy77qOpZIiLi5O4vr4egK6uLn+H5BnWMQquHLOxsQFAXl7ep9fFx8cDEBMTI9rOzo56fXFx8bu4sbHR32H6hXWMgk2Mgid1jJPAwEAAOjo6RKutrQUgIiJCtN3dXQAmJydFW1tbA2BpaUm0w8NDAA4ODkRra2sDICUlxdOxO7GOUXC1+K6vrwO+i29ycjIAR0dHfg9qbm5O4qamJgBubm5EM1X10NCQ38/4HdYxCjYxCq4WX1PJOivampoaVwMCqKyslDg/Px+Avr4+0UZGRgDf5nVqasr1c51Yxyh4XvmmpqYCb69Zr3h+fpZ4fHwcgNbWVtGSkpIAWFxcFC0jI8Pv51nHKNjEKHhe+T48PAC+C2N4eLjr+wYFvQ3VbE88PT2J1t7eDkBvb69oZjcxODj4y8+zjlFwtfhub28DkJubK9rj4yMAs7OzopWXl/v7iD/G9GjO0qGzsxOA7u7uL9/POkbBJkbB1eKblZUFvFWnAMvLywDMz8+L9h1T6eXlBYBfv95+683NTb/vZx2j4MnremxsTOL09HTAtwI1VbD529/AOMW5+H50KvHH93M9ov8pNjEKnkylxMREiaurqwGYmZkRLScnB4DV1VXR0tLSAN/qNTIy0ovheIJ1jIInjnH2MQMDA4Dvr28W56KiItHMDv/g4KBoxlle4eYUwTpGwSZGwVUT+RkXFxcSZ2ZmAnB7e/vuuqqqKonNvu3e3p5oW1tbAFRUVIgWGhr67j6miQwLCxPNHOolJCR8efzWMQp/zTFOzs7OgLfeCnwP0AwlJSUAlJaWimZe/85f3Rz0XV5eipadnQ1AQ0ODaM6K/KtYxyjYxCh4vuf7EWYamGkBMDo6+u4603guLCyIZhrB8/Nz0fb39wGYmJgQ7aMm0g3WMQrf4hhDf3+/xObTMednZcfHx+r/FhQUSGxeyU5nGZwLvBusYxRsYhS+pY75jJOTE4kLCwsBOD09Fc0splFRUaKFhIQAcHV1JZrZJTRn2PBWDfuDdYzCP3eME9Nfmd4KPu6vDNHR0RJfX197OhbrGAWbGIUfNZUMpukEGB4eBny/0DQfDLW0tIjmz9bCZ1jHKPxIx/wErGMUbGIUbGIUbGIUbGIUbGIUbGIUbGIUbGIU/gOBxCZf39zyKwAAAABJRU5ErkJggg==\" y=\"-7.14\"/>\n",
       "   </g>\n",
       "   <g id=\"matplotlib.axis_1\"/>\n",
       "   <g id=\"matplotlib.axis_2\"/>\n",
       "   <g id=\"patch_3\">\n",
       "    <path d=\"M 10.7 77.14 \n",
       "L 10.7 7.2 \n",
       "\" style=\"fill:none;stroke:#000000;stroke-linecap:square;stroke-linejoin:miter;stroke-width:0.8;\"/>\n",
       "   </g>\n",
       "   <g id=\"patch_4\">\n",
       "    <path d=\"M 80.64 77.14 \n",
       "L 80.64 7.2 \n",
       "\" style=\"fill:none;stroke:#000000;stroke-linecap:square;stroke-linejoin:miter;stroke-width:0.8;\"/>\n",
       "   </g>\n",
       "   <g id=\"patch_5\">\n",
       "    <path d=\"M 10.7 77.14 \n",
       "L 80.64 77.14 \n",
       "\" style=\"fill:none;stroke:#000000;stroke-linecap:square;stroke-linejoin:miter;stroke-width:0.8;\"/>\n",
       "   </g>\n",
       "   <g id=\"patch_6\">\n",
       "    <path d=\"M 10.7 7.2 \n",
       "L 80.64 7.2 \n",
       "\" style=\"fill:none;stroke:#000000;stroke-linecap:square;stroke-linejoin:miter;stroke-width:0.8;\"/>\n",
       "   </g>\n",
       "  </g>\n",
       "  <g id=\"axes_2\">\n",
       "   <g id=\"patch_7\">\n",
       "    <path d=\"M 94.94 77.14 \n",
       "L 164.88 77.14 \n",
       "L 164.88 7.2 \n",
       "L 94.94 7.2 \n",
       "z\n",
       "\" style=\"fill:#ffffff;\"/>\n",
       "   </g>\n",
       "   <g clip-path=\"url(#p462d7706fd)\">\n",
       "    <image height=\"70\" id=\"image0e18b0598e\" transform=\"scale(1 -1)translate(0 -70)\" width=\"70\" x=\"94.94\" xlink:href=\"data:image/png;base64,\n",
       "iVBORw0KGgoAAAANSUhEUgAAAEYAAABGCAYAAABxLuKEAAAABHNCSVQICAgIfAhkiAAAAsNJREFUeJztmr9LemEUxp9+EEFKQTREc+rs7hAEjUFLi4ubkxA6uLQn6uQgFPQPBC3R0hAODv4FkuAgRE4RQT9oyqb3fG/YQ9+v3/veDJ7PdDj3cu/h8Tkvr+e+M6PRaAQxxuxPFzCtSBiChCFIGIKEIUgYgoQhzIf9wOfnZwBANpu13MXFBQAgmUxartvthv3qUJFjCKE75u7uDgBweXkZ9qMjRY4hSBiChCFIGELoi28sFgMAbGxsWO729hYAMBgMLFepVAAAxWLxTzHzoZczMXIMQcIQZnxN8EqlksX1eh0AMDs7/js8PDxYvLy87KOUiZBjCN4cE2Rubg7A1465vr62OJPJ+C7lr5FjCBKGEEkrra+vAwDu7+/Hru3s7Fh8fn4OAFhYWPBd0rfIMYRIHONGEdvb25br9/tj9+VyOQDA8fGx75K+RY4hSBhCJK3kODw8tPjo6IjeNxwOLV5bW/NaE0OOIUTqmMfHR4tXV1fpfQcHBxbXajWvNTHkGIKEIUQ6MltZWbG40+kA+LzzfXp6AvB5j/Py8gIAWFpaiqJEQ44hRLr4foX7fAsAe3t7AID393fL7e/vAwBOT08tt7i46L0uOYYgYQg/3krBvc3u7i4AoN1uW85N/RqNhuXy+bz3uuQYwo87Jsjr6ysAIB6PW845JrhTbrVaAIBUKuWtFjmGIGEIU9VKjnK5bHG1Wh277vY7Z2dn3mqQYwhT6ZjgfyU3J3Zz4yBXV1cWb21thVqDHEOQMISpbKUg7jxwsFXcCYl0Om0511bB8cT/HESSYwhT7xhHs9m0uFAojF13o4qbmxvLbW5uTvw+OYYgYQjTc0zyGxKJhMVugvf29ubtfXIM4dcsvkFOTk4AfB5YucW31+tZLuiyf0WOIUgYwq9spSiQYwgShiBhCBKGIGEIEoYgYQgShiBhCBKGIGEIH+7ozA+FNlQgAAAAAElFTkSuQmCC\" y=\"-7.14\"/>\n",
       "   </g>\n",
       "   <g id=\"matplotlib.axis_3\"/>\n",
       "   <g id=\"matplotlib.axis_4\"/>\n",
       "   <g id=\"patch_8\">\n",
       "    <path d=\"M 94.94 77.14 \n",
       "L 94.94 7.2 \n",
       "\" style=\"fill:none;stroke:#000000;stroke-linecap:square;stroke-linejoin:miter;stroke-width:0.8;\"/>\n",
       "   </g>\n",
       "   <g id=\"patch_9\">\n",
       "    <path d=\"M 164.88 77.14 \n",
       "L 164.88 7.2 \n",
       "\" style=\"fill:none;stroke:#000000;stroke-linecap:square;stroke-linejoin:miter;stroke-width:0.8;\"/>\n",
       "   </g>\n",
       "   <g id=\"patch_10\">\n",
       "    <path d=\"M 94.94 77.14 \n",
       "L 164.88 77.14 \n",
       "\" style=\"fill:none;stroke:#000000;stroke-linecap:square;stroke-linejoin:miter;stroke-width:0.8;\"/>\n",
       "   </g>\n",
       "   <g id=\"patch_11\">\n",
       "    <path d=\"M 94.94 7.2 \n",
       "L 164.88 7.2 \n",
       "\" style=\"fill:none;stroke:#000000;stroke-linecap:square;stroke-linejoin:miter;stroke-width:0.8;\"/>\n",
       "   </g>\n",
       "  </g>\n",
       "  <g id=\"axes_3\">\n",
       "   <g id=\"patch_12\">\n",
       "    <path d=\"M 179.18 77.14 \n",
       "L 249.12 77.14 \n",
       "L 249.12 7.2 \n",
       "L 179.18 7.2 \n",
       "z\n",
       "\" style=\"fill:#ffffff;\"/>\n",
       "   </g>\n",
       "   <g clip-path=\"url(#pe41b66b92b)\">\n",
       "    <image height=\"70\" id=\"image8ccf691f1d\" transform=\"scale(1 -1)translate(0 -70)\" width=\"70\" x=\"179.18\" xlink:href=\"data:image/png;base64,\n",
       "iVBORw0KGgoAAAANSUhEUgAAAEYAAABGCAYAAABxLuKEAAAABHNCSVQICAgIfAhkiAAAA/1JREFUeJztmssrbWEYxn8ORe6RWzFwSZKZgYmBXEKMDCgpA5n4A5gZkYGQEqJcQgyUkiklhAEZGGAml5SUWy65ndH3Ws7en2Ofs9l78P5Gb89ee6+vZz/vWt/6vhXw9vb2huLCL18PwF9RYyyoMRbUGAtqjAU1xoIaY0GNsaDGWFBjLKgxFtQYC0GefuHx8VHq9fV1ANbW1kRLSkoCoKamRrSQkBAAAgMD/22UPkATYyHA02WH/Px8qTc2Nr70nbq6OgBKSkpEKy8vByA6Olq0X7/853/yn5H4GWqMBY9bKTk5WeqzszPg/eIKkJubC8DV1ZVou7u71t8bGBiQuqGhAfCPlvL9CPwUjxMzPz8vdVVVFQDh4eGiLSwsAO/JATg4OABgcHBQtMnJSQDu7+9F6+vrA6C2tla0yMhIT4bHysqK1MPDwy6f9/T0ABAbG/vp72hiLKgxFjxupdfXV6lNLFtaWkSLiIgAYGxsTLTS0lLg40X68PAQgMbGRtGWlpYAyMnJEW1mZgaArKws0czse39/X7SRkREAxsfHRbu5uXEZf1paGvDe3jY0MRY8ToyTl5cXAHp7e0Vrbm52Oc5cTIeGhkQz6bm7uxOtsrISgOXlZdGCg4MB6OzsFG1nZweA0dFRl3NVV1dL3draCny8ORic0w53aGIsqDEW/quVDKal4D3meXl5Lsf19/dLXVRUBEB6erpoZk5TXFws2ubm5pfGYNrPed6gII9XVQRNjAWvJMaJSc/x8bFoBQUFABwdHYkWGhoKQExMjGhmKWJ6elq029tbl3MkJiYC0NHRIZq5wHtrMUwTY0GNseD1VnLH09MTAKenp6KZOYZ5mHTinF27W4JISUkBYHt7WzRnS3oDTYyFH0nMZ8zOzkp9fX0NgHNIAQEBAExNTYlmbs0VFRWizc3NAd5b5NLEWFBjLPi8lb6K8+G0u7vb5fO9vT0AMjIyvHI+TYyFf3+Y+AvORaKJiQkAysrKREtISAAgLCzsS79XWFgotbvEeBtNjAU1xsK3tVJTU5PUzodCQ2ZmJvCxRdrb2wGIiopyOT4+Pt7bQ/wUTYyFb7tdLy4uSm12Cf5GdnY2AKurq6KZDbeLiwvRzIXbid6ufwg1xsK3tdLDw4PUbW1twMc3G5xvQ/yJc8PNPDA+Pz+Lpq3kQ370Wen8/Fxqs0nn3KwzuwTOIaWmpgIf307Y2toCPibH7E7ExcV5ZayaGAtqjAWfLztcXl5K3dXVBby/9QCfb7iZdeM/a2+gibHg88S4w/n2udlhcM6GT05OAKivrxftf7Zj3aGJsaDGWPDLVvIHNDEW1BgLaowFNcaCGmNBjbGgxlhQYyyoMRbUGAtqjIXfSBNPJtQzwQ4AAAAASUVORK5CYII=\" y=\"-7.14\"/>\n",
       "   </g>\n",
       "   <g id=\"matplotlib.axis_5\"/>\n",
       "   <g id=\"matplotlib.axis_6\"/>\n",
       "   <g id=\"patch_13\">\n",
       "    <path d=\"M 179.18 77.14 \n",
       "L 179.18 7.2 \n",
       "\" style=\"fill:none;stroke:#000000;stroke-linecap:square;stroke-linejoin:miter;stroke-width:0.8;\"/>\n",
       "   </g>\n",
       "   <g id=\"patch_14\">\n",
       "    <path d=\"M 249.12 77.14 \n",
       "L 249.12 7.2 \n",
       "\" style=\"fill:none;stroke:#000000;stroke-linecap:square;stroke-linejoin:miter;stroke-width:0.8;\"/>\n",
       "   </g>\n",
       "   <g id=\"patch_15\">\n",
       "    <path d=\"M 179.18 77.14 \n",
       "L 249.12 77.14 \n",
       "\" style=\"fill:none;stroke:#000000;stroke-linecap:square;stroke-linejoin:miter;stroke-width:0.8;\"/>\n",
       "   </g>\n",
       "   <g id=\"patch_16\">\n",
       "    <path d=\"M 179.18 7.2 \n",
       "L 249.12 7.2 \n",
       "\" style=\"fill:none;stroke:#000000;stroke-linecap:square;stroke-linejoin:miter;stroke-width:0.8;\"/>\n",
       "   </g>\n",
       "  </g>\n",
       "  <g id=\"axes_4\">\n",
       "   <g id=\"patch_17\">\n",
       "    <path d=\"M 263.42 77.14 \n",
       "L 333.36 77.14 \n",
       "L 333.36 7.2 \n",
       "L 263.42 7.2 \n",
       "z\n",
       "\" style=\"fill:#ffffff;\"/>\n",
       "   </g>\n",
       "   <g clip-path=\"url(#p87e5072f58)\">\n",
       "    <image height=\"70\" id=\"image26e4ff457a\" transform=\"scale(1 -1)translate(0 -70)\" width=\"70\" x=\"263.42\" xlink:href=\"data:image/png;base64,\n",
       "iVBORw0KGgoAAAANSUhEUgAAAEYAAABGCAYAAABxLuKEAAAABHNCSVQICAgIfAhkiAAAA4BJREFUeJztm8srfVEUxz/XsyQZmHjMTMREJgaeI0NKyciA+AM8hhQzUooZZWKGZKDkMfJIkZkMJBOJiUR5lHB/o7Mc3buOc++5x72/Wp/Rat29z95973efu886+0ai0WgUI4asdE8gUzFhFEwYBRNGwYRRMGEUTBiFnCCdPz4+ANja2pJcf38/APf395Lr6+sDoL29XXKtra0AFBYWBplCaJhjFCKJ7nxvbm4knpubA2BmZibhgaurqwEoKiqSXFtbGwADAwOSKy0tTfjaqcAco2DCKCS8lBoaGiQ+Pj5O6WScqZSXl0uup6cHgImJCcnl5AT6zfCFOUYh5dKPjY0BP2+qXmxsbEi8t7cHwO3treSmpqYAuLy8lNzw8DAA9fX1wSbrgTlGwYRRSPjm67b0+Pg4AMvLy5J7eHgA/C+lt7c3iU9OTgDo7OyU3NPTU0yfgoKCH+0BqqqqfI3nF3OMQsKOcfP5+QnA2dmZ5GpqagDIzc1NelK7u7sSd3V1AfD8/BzT7vT0VOLa2tqkx4uHOUbBhFEItJT+gqOjIwCam5tjPrOllAbCf+gISF1dXVrGNccomDAKoS0l9451dXUV+K7QAeTl5fm6zuLiYmon5hNzjELKHXN3dwdAS0uL5K6urnz1/fr6AiArK/3fV/pnkKGYMAqh3XwjkUjc2AtnCf3W3qkDp3q3+2MuoV35Pye0Z6XHx0eJV1ZWANjc3PTs49R/f3NMcXExAEtLS5JrbGwE/BfIfsMco2DCKGRU2WF/fx/4fj0CcH5+DsD7+7tn36amJgB2dnYkF6SKaI5RyCjHxOPw8BCA2dlZya2vr6vtX15eJM7Pz096XHOMggmjkPEVPGd/kp2dLbnt7W0AXl9fY9pPT09LPDo6mvS45hiF0BzjlBAg/ssy57nI7+FEd+23pKQEgOvr65h27pxzeDKZ8zTmGAUTRiG0fcza2prE3d3dMZ+XlZUBMDIyIjmvCt7BwYHEXvsYNxcXFwBUVlb6au/GHKMQ2s3XfYQsHs5xsqGhIck55vVb2AoTc4yCCaMQ2lKanJyU2Dkev7CwIDnnRhtvLxKEwcFBiSsqKpK+jjlG4U/LDu6/6ji7UvcBw46ODiC5F269vb0AzM/PS879fJUo5hgFE0Yh4yt46cIco2DCKJgwCiaMggmjYMIomDAKJoyCCaNgwiiYMAr/AAVEAnqgyEysAAAAAElFTkSuQmCC\" y=\"-7.14\"/>\n",
       "   </g>\n",
       "   <g id=\"matplotlib.axis_7\"/>\n",
       "   <g id=\"matplotlib.axis_8\"/>\n",
       "   <g id=\"patch_18\">\n",
       "    <path d=\"M 263.42 77.14 \n",
       "L 263.42 7.2 \n",
       "\" style=\"fill:none;stroke:#000000;stroke-linecap:square;stroke-linejoin:miter;stroke-width:0.8;\"/>\n",
       "   </g>\n",
       "   <g id=\"patch_19\">\n",
       "    <path d=\"M 333.36 77.14 \n",
       "L 333.36 7.2 \n",
       "\" style=\"fill:none;stroke:#000000;stroke-linecap:square;stroke-linejoin:miter;stroke-width:0.8;\"/>\n",
       "   </g>\n",
       "   <g id=\"patch_20\">\n",
       "    <path d=\"M 263.42 77.14 \n",
       "L 333.36 77.14 \n",
       "\" style=\"fill:none;stroke:#000000;stroke-linecap:square;stroke-linejoin:miter;stroke-width:0.8;\"/>\n",
       "   </g>\n",
       "   <g id=\"patch_21\">\n",
       "    <path d=\"M 263.42 7.2 \n",
       "L 333.36 7.2 \n",
       "\" style=\"fill:none;stroke:#000000;stroke-linecap:square;stroke-linejoin:miter;stroke-width:0.8;\"/>\n",
       "   </g>\n",
       "  </g>\n",
       "  <g id=\"axes_5\">\n",
       "   <g id=\"patch_22\">\n",
       "    <path d=\"M 347.66 77.14 \n",
       "L 417.6 77.14 \n",
       "L 417.6 7.2 \n",
       "L 347.66 7.2 \n",
       "z\n",
       "\" style=\"fill:#ffffff;\"/>\n",
       "   </g>\n",
       "   <g clip-path=\"url(#p6646305c94)\">\n",
       "    <image height=\"70\" id=\"imagedcb6d2f939\" transform=\"scale(1 -1)translate(0 -70)\" width=\"70\" x=\"347.66\" xlink:href=\"data:image/png;base64,\n",
       "iVBORw0KGgoAAAANSUhEUgAAAEYAAABGCAYAAABxLuKEAAAABHNCSVQICAgIfAhkiAAAAwpJREFUeJztmr0vbFEUxX+DhCAiEg0RkRAkJKIRQuOr8hfQK1UajUKikKhUolNpUCg0IqFCIREFOoVEg9ZXYV519sxE9s29Y+7z5mX9mtlZMedsa9a598yZm8lms1nENyp+u4F/FRnjIGMcZIyDjHGQMQ4yxqHqtxuIy/HxsdVTU1MALC0tmba6ulrS+ZQYh7JJzN7entV/Y7OuxDjIGIeyWUr5ZDKZ1OdQYhzKMjGB8fHx1MZWYhxkjENZLqWwj6moSO9zVWIcyjIx4Xbd3t6e2hxKjIOMcZAxDjLGoSwvvoH9/X2rFxcXSzq2EuMgYxwycX+73t7eBuDk5CTxJLOzswB0dnaa1tHRkWiMw8NDq2dmZgDo6ekx7ebmJnFfUSgxDpGJWV5etjqcwjc1NZnW3d3tDnx2dmZ1mKKqKnetr6+vB2BoaMi00dFRAMbGxkwbGBgAoK6uzrS2tjYAnp+fTfv8/HR7KQYlxkHGOETuY15fX60Oy+Hg4MC04eFh972Pj49Wf319AXB6emra/f09ULgE1tfXAVhbWzMtLKHp6WnT3t7eCsYFeHp6AqC5uTnqX4qNEuOQeOfb2NgY6+9aWlq+aXNzc5HvWVlZAeDj48O0y8tLALa2tkx7f38HChNze3sLKDGpI2McEi+li4sLq3t7e0vaTKC6utrqkZGRglfILeeNjQ3TFhYWADg/Pzetpqam6B6UGIfIxPT19X3Trq6uUmsmLmEXvru7a9r19TVQePtXYlJAxjhELqX83WZtbW3qzcQl7Ib7+/tNCzvtl5cX0xoaGoqeQ4lxiExM/u61tbU19WaSkn8EEjg6OrJ6fn6+6LGVGAcZ4xB751tZWZlmH0Wxublp9c7ODpD7MvlTlBiH2IkJ30Xu7u5SayYp4dwYck+J5z9B/pPDKyXGQcY4xF5KExMTAAwODqbWTFLyn/ft6uoC4OHhoSRjKzEOsX+i/dcJt+nJyUnTwhGJLr4lRMY4/DdLqdQoMQ4yxkHGOMgYBxnjIGMcZIyDjHGQMQ4yxkHGOPwBwM636qLDffYAAAAASUVORK5CYII=\" y=\"-7.14\"/>\n",
       "   </g>\n",
       "   <g id=\"matplotlib.axis_9\"/>\n",
       "   <g id=\"matplotlib.axis_10\"/>\n",
       "   <g id=\"patch_23\">\n",
       "    <path d=\"M 347.66 77.14 \n",
       "L 347.66 7.2 \n",
       "\" style=\"fill:none;stroke:#000000;stroke-linecap:square;stroke-linejoin:miter;stroke-width:0.8;\"/>\n",
       "   </g>\n",
       "   <g id=\"patch_24\">\n",
       "    <path d=\"M 417.6 77.14 \n",
       "L 417.6 7.2 \n",
       "\" style=\"fill:none;stroke:#000000;stroke-linecap:square;stroke-linejoin:miter;stroke-width:0.8;\"/>\n",
       "   </g>\n",
       "   <g id=\"patch_25\">\n",
       "    <path d=\"M 347.66 77.14 \n",
       "L 417.6 77.14 \n",
       "\" style=\"fill:none;stroke:#000000;stroke-linecap:square;stroke-linejoin:miter;stroke-width:0.8;\"/>\n",
       "   </g>\n",
       "   <g id=\"patch_26\">\n",
       "    <path d=\"M 347.66 7.2 \n",
       "L 417.6 7.2 \n",
       "\" style=\"fill:none;stroke:#000000;stroke-linecap:square;stroke-linejoin:miter;stroke-width:0.8;\"/>\n",
       "   </g>\n",
       "  </g>\n",
       "  <g id=\"axes_6\">\n",
       "   <g id=\"patch_27\">\n",
       "    <path d=\"M 10.7 196.933887 \n",
       "L 80.64 196.933887 \n",
       "L 80.64 126.993887 \n",
       "L 10.7 126.993887 \n",
       "z\n",
       "\" style=\"fill:#ffffff;\"/>\n",
       "   </g>\n",
       "   <g clip-path=\"url(#pbdc494bf76)\">\n",
       "    <image height=\"70\" id=\"imagee17fa6e4e1\" transform=\"scale(1 -1)translate(0 -70)\" width=\"70\" x=\"10.7\" xlink:href=\"data:image/png;base64,\n",
       "iVBORw0KGgoAAAANSUhEUgAAAEYAAABGCAYAAABxLuKEAAAABHNCSVQICAgIfAhkiAAAA7FJREFUeJztm00ofWsUxn+Hv8+YEGNlYMBAPgbChJKMSCllrBiIAQNKoTCgKCYKKQNFDMwwo4iBGEhGRCjlK/KRjzu47YXOWe52bee43fUbrZ7es9/Vc5532+fdL9/r6+srhh9hoW7gt2LGKJgxCmaMghmjYMYomDEKf9wO7O/vB6ClpeXTcVlZWQBUV1e/TfLn72lqa2tFi46Odt9lCLDEKPjcPvnu7+8D0N3dLdrS0hIABwcHriaLjY2VuqurC4D6+nrRIiMjXV0nGFhiFMwYBddLKRB3d3cANDY2iraysgLA7u6uq2uUlZVJ3d7eDkBmZqZoERER/7a9b2GJUfhWYgJxe3sLwOHhoWg1NTUAbG5uurpGSUmJ1B0dHQDk5uaK5vP5vt3nP2GJUTBjFDxfSoG4ubkBYH5+XrTOzk4A9vb2XF2jqKhI6t7eXgCys7O9atEPS4xCUBITiLOzMwCGh4dFGx8fB+Do6OjTz4aHhwNQVVUl2uTkpKf9WWIUzBiFkC2lQBwfHwMwOzsr2urqKgBTU1N+4/Py8qReXl4GvHvGscQo/KrEfEZUVJTUT09PwNsGGMD29jYAaWlpnsxniVEwYxRc7/kGk/v7e6nX1tYAeH5+9htXXl4utVdLyMESo/CrEnNycgJAU1OTaNPT037j2traAGhubv6xXiwxCmaMQsiX0vr6utSlpaUAXF1d+Y0bGxuTurKyEoC4uLgf68sSoxCyJ9/z83MAUlNTRUtISAA+/hnOz88HoKKiQjTb8w0hZoxCUG++j4+PUjsnH66vr0Vztg4yMjKC2VZALDEKQU3MwMCA1HNzc8DHm2p6enow2/kUS4yCGaPwY0vp4eFBaudA0MXFhd+4hoYGqYPxfOIWS4yC50++GxsbAMzMzIjm7OY7v3HeU1BQIPXi4iLw8cjZ6ekpAIODg6L19PR42HFgLDEKZoyCJ0vJOXIGkJOTA7g/avYe58BQYmKiaM7Lt/evTwLdxL3GEqPgSWLen05wDhZ6/a2Ghb19h85NOiYmxm9ccnKy1M5GVlJS0tfn+/In/ieYMQqeP8c4+7XvX5BtbW0BsLCwINrl5SUAIyMjX54jJSUFgOLiYtFGR0cBiI+PF62wsBCAvr4+0dy+mLPEKIRsz/fl5QX4+JsqEBMTE8Db+WGAnZ0d4OM2RmtrKwBDQ0OiOTdn51+KAOrq6lz1Z4lRMGMU/jMHh4KNJUbBjFEwYxTMGAUzRsGMUTBjFMwYBTNGwYxRMGMU/gLdTBXf4klRuAAAAABJRU5ErkJggg==\" y=\"-126.933887\"/>\n",
       "   </g>\n",
       "   <g id=\"matplotlib.axis_11\"/>\n",
       "   <g id=\"matplotlib.axis_12\"/>\n",
       "   <g id=\"patch_28\">\n",
       "    <path d=\"M 10.7 196.933887 \n",
       "L 10.7 126.993887 \n",
       "\" style=\"fill:none;stroke:#000000;stroke-linecap:square;stroke-linejoin:miter;stroke-width:0.8;\"/>\n",
       "   </g>\n",
       "   <g id=\"patch_29\">\n",
       "    <path d=\"M 80.64 196.933887 \n",
       "L 80.64 126.993887 \n",
       "\" style=\"fill:none;stroke:#000000;stroke-linecap:square;stroke-linejoin:miter;stroke-width:0.8;\"/>\n",
       "   </g>\n",
       "   <g id=\"patch_30\">\n",
       "    <path d=\"M 10.7 196.933887 \n",
       "L 80.64 196.933887 \n",
       "\" style=\"fill:none;stroke:#000000;stroke-linecap:square;stroke-linejoin:miter;stroke-width:0.8;\"/>\n",
       "   </g>\n",
       "   <g id=\"patch_31\">\n",
       "    <path d=\"M 10.7 126.993887 \n",
       "L 80.64 126.993887 \n",
       "\" style=\"fill:none;stroke:#000000;stroke-linecap:square;stroke-linejoin:miter;stroke-width:0.8;\"/>\n",
       "   </g>\n",
       "  </g>\n",
       "  <g id=\"axes_7\">\n",
       "   <g id=\"patch_32\">\n",
       "    <path d=\"M 94.94 196.933887 \n",
       "L 164.88 196.933887 \n",
       "L 164.88 126.993887 \n",
       "L 94.94 126.993887 \n",
       "z\n",
       "\" style=\"fill:#ffffff;\"/>\n",
       "   </g>\n",
       "   <g clip-path=\"url(#p645487e21b)\">\n",
       "    <image height=\"70\" id=\"imagea9dd920ebf\" transform=\"scale(1 -1)translate(0 -70)\" width=\"70\" x=\"94.94\" xlink:href=\"data:image/png;base64,\n",
       "iVBORw0KGgoAAAANSUhEUgAAAEYAAABGCAYAAABxLuKEAAAABHNCSVQICAgIfAhkiAAAA/RJREFUeJztmksodW0Ux3+HL5dyK8lECSUGQm4DGcmAueQSyUSRIjJRLmVkiDISJTIgAylSxEBGGDAQIhkxkktKfJP3WWf79n5efLbDYP1Gq//Zzl5n+T/PWevZJ/D6+vqK4iLspxP4rWhhLGhhLGhhLGhhLGhhLGhhLGhhLGhhLGhhLGhhLGhhLGhhLGhhLPzj9xvu7+8DMDw8LNri4iIAgUDAdX1XV5fEBQUFAOTn54uWmZnpd4ofQh1jQQtjIeDHCd7l5aXEOTk5ANzd3YlmbuG1lLyIi4uTuKOjA4CBgYGvpvkp1DEWfHHM2dmZxF6b5fHxMQCHh4eiNTU1AXB7e+u63plScnIyACsrK6Ll5eV9MeP3UcdY0MJY8KWPWVpacmnNzc0Sp6enAxAZGSlafHw88HYpdXZ2ArCwsCDa4+MjAD09PaKZvsj5fhEREf//A3igjrHge+drNs739vSXlxfXdYWFhQCMjIyIdnNzA0BpaaloCQkJAMzOzopWU1PzlbRdqGMsaGEs+NLHTE9PS9zS0uJ6/fn52aVVVVUBsLa25nrt6OhIYtMXvdcrmaG1t7f3o2n/FXWMBV8cc3BwILE5OnAyNjYGQGtrq2j39/cAtLW1iTYzMwN4z0p9fX2imQ25srJStIuLizfXw9fmK3WMBS2MBV+W0tPTk8TLy8vA274iJSUFgO7ubtHa29uB4LIAGBoaAmB8fFw0M0RWV1eLZrrgh4cH0bKzswHIzc0VbWNjAwh22Z9BHWPBF8c42dvbA6CoqEg0c4uMjAzRdnZ2AEhMTBTt6uoKgP7+ftGmpqZc94iJiQGCMxgEvwAqKipEm5+fB9QxvqKFseD7UjIbcV1dnWjmmCAsLPh/ODk5ASAtLc31HnNzc8EE/5wTO5eX+VsnZih1HmPExsZ+/gP8QR1j4duOHYqLi0UzB1nOpwTb29uAt2Nqa2tdWnh4uMTOucng14xkUMdY0MJY8H0pRUVFAVBeXv7X60zH69wsncPjf3F2vqFAHWPB969rL8zxwNbWlmipqalAcBOGt13wT6OOsaCFsRCSpWQYHR2V2Dxcq6+vF82c9H2lY/ULdYyFkDrGeShlHqB5zT27u7sSm4dwoUYdY0ELYyGkS8mJGQS9Hp45U9rc3ASgrKwsJHkZ1DEWfJ+VPoqZixoaGkQzD9ycnJ+fA5CUlCRaVlbW9yaHOsaKFsbCj22+BvMMG4JHC6urq6KZU7+SkhLR1tfXAYiOjv62vNQxFn7cMV4MDg5KPDExAcD19bVojY2NAExOTn5bDuoYC1oYC79yKTnx+tWm+ena6enpt91XHWPh1zvmp1DHWNDCWNDCWNDCWPgX2QxNOHKsDdEAAAAASUVORK5CYII=\" y=\"-126.933887\"/>\n",
       "   </g>\n",
       "   <g id=\"matplotlib.axis_13\"/>\n",
       "   <g id=\"matplotlib.axis_14\"/>\n",
       "   <g id=\"patch_33\">\n",
       "    <path d=\"M 94.94 196.933887 \n",
       "L 94.94 126.993887 \n",
       "\" style=\"fill:none;stroke:#000000;stroke-linecap:square;stroke-linejoin:miter;stroke-width:0.8;\"/>\n",
       "   </g>\n",
       "   <g id=\"patch_34\">\n",
       "    <path d=\"M 164.88 196.933887 \n",
       "L 164.88 126.993887 \n",
       "\" style=\"fill:none;stroke:#000000;stroke-linecap:square;stroke-linejoin:miter;stroke-width:0.8;\"/>\n",
       "   </g>\n",
       "   <g id=\"patch_35\">\n",
       "    <path d=\"M 94.94 196.933887 \n",
       "L 164.88 196.933887 \n",
       "\" style=\"fill:none;stroke:#000000;stroke-linecap:square;stroke-linejoin:miter;stroke-width:0.8;\"/>\n",
       "   </g>\n",
       "   <g id=\"patch_36\">\n",
       "    <path d=\"M 94.94 126.993887 \n",
       "L 164.88 126.993887 \n",
       "\" style=\"fill:none;stroke:#000000;stroke-linecap:square;stroke-linejoin:miter;stroke-width:0.8;\"/>\n",
       "   </g>\n",
       "  </g>\n",
       "  <g id=\"axes_8\">\n",
       "   <g id=\"patch_37\">\n",
       "    <path d=\"M 179.18 196.933887 \n",
       "L 249.12 196.933887 \n",
       "L 249.12 126.993887 \n",
       "L 179.18 126.993887 \n",
       "z\n",
       "\" style=\"fill:#ffffff;\"/>\n",
       "   </g>\n",
       "   <g clip-path=\"url(#p3105560c5f)\">\n",
       "    <image height=\"70\" id=\"image0c9ae1c395\" transform=\"scale(1 -1)translate(0 -70)\" width=\"70\" x=\"179.18\" xlink:href=\"data:image/png;base64,\n",
       "iVBORw0KGgoAAAANSUhEUgAAAEYAAABGCAYAAABxLuKEAAAABHNCSVQICAgIfAhkiAAAA4dJREFUeJztms0rfFEYxz/DT0nKSsmChRV5SdhZWAqhLKSQlR0LC/kDJAs2rJQkIcVKUbIQKyTlJUqRHZEUFl6S3+o8M9P1MC93xiyez+r0vXfOefre7zlz77k38PX19YXhIe2vC0hVzBiFf353eH5+DkBZWZlou7u7AFRXV/s9XMKwxCj4npi1tTWP1tXVBcDOzo5oubm5fg/tK5YYBTNGwfep1NnZCcDJyYloCwsLAExOTorW19cHpO6UssQo+J6YvLw8AHJycjzHRkZGpF1VVQVAS0uL3yX4giVGwYxRCCTqIfL+/l7a4+PjAIyNjYlWXl4OwNbWlmjfTb+/whKjkLDEhHJ3dwdAfn6+51hJSYm0j4+PE11KxFhiFMwYhaRMpbe3NwAGBgZEm5qa8py3tLQEQFtbm2iBQCDB1X2PJUYhKYlxfHx8SHtzcxOA5uZm0Vwp7jkKYHR0FIDMzMxklChYYhTMGIWkTqVQPj8/Aeju7hbNLb6hC+7KygoQ/rCZjAXZEqPg+7ZDpKSnpwPhbw4WFxcBSEsLXi/31317eytaMja3LDEKZozCny2+3+Gm13eL6+rqqrQbGhoSXoslRiGlEnN4eAhAbW2taO/v7wBkZGSI5v7WE7lfbIlRMGMU4ppKe3t7AAwODorm7jFmZ2dFy87OjqrfmZkZaff29nqO19TUAMEH0VjG+A1LjEJcieno6ABgeXnZc6yxsVHabuuguLg4on5fX1+lvb+/D0Bra6toT09PcY/xG5YYBTNGIa6pdHp6CoTfd7y8vHjOKyoqAmB9fd2jRUpPT4+05+fnPceHh4cBGBoaiqpfDUuMQlzbDqWlpQDU19eL5jaWQrm8vASgoqJCtLm5OSD41QNAYWGhOlZBQcGPtbj++vv7RcvKyvrxNz9hiVEwYxR8eYg8OzuTtrvfuLq6irqfm5sbIPwu1i3mDw8PojU1NQFwfX3t6aO9vV3a7hO3WLDEKPi+7eCusPu2F+Do6Mhz3uPjIwDPz8+iuVLq6upE297ejmr80AXcLfqxYIlRMGMU/mwH7+LiAghfuDc2NgCYnp4WLdLy3CsXd28FwR3BWLDEKKTUnq/DvXiD4BZE6JfmExMTnt9UVlYCcHBw4EsNlhgFM0YhJadSKmCJUTBjFMwYBTNGwYxRMGMUzBgFM0bBjFEwYxTMGAUzRsGMUTBjFMwYBTNG4T+KbBbwsyKEFAAAAABJRU5ErkJggg==\" y=\"-126.933887\"/>\n",
       "   </g>\n",
       "   <g id=\"matplotlib.axis_15\"/>\n",
       "   <g id=\"matplotlib.axis_16\"/>\n",
       "   <g id=\"patch_38\">\n",
       "    <path d=\"M 179.18 196.933887 \n",
       "L 179.18 126.993887 \n",
       "\" style=\"fill:none;stroke:#000000;stroke-linecap:square;stroke-linejoin:miter;stroke-width:0.8;\"/>\n",
       "   </g>\n",
       "   <g id=\"patch_39\">\n",
       "    <path d=\"M 249.12 196.933887 \n",
       "L 249.12 126.993887 \n",
       "\" style=\"fill:none;stroke:#000000;stroke-linecap:square;stroke-linejoin:miter;stroke-width:0.8;\"/>\n",
       "   </g>\n",
       "   <g id=\"patch_40\">\n",
       "    <path d=\"M 179.18 196.933887 \n",
       "L 249.12 196.933887 \n",
       "\" style=\"fill:none;stroke:#000000;stroke-linecap:square;stroke-linejoin:miter;stroke-width:0.8;\"/>\n",
       "   </g>\n",
       "   <g id=\"patch_41\">\n",
       "    <path d=\"M 179.18 126.993887 \n",
       "L 249.12 126.993887 \n",
       "\" style=\"fill:none;stroke:#000000;stroke-linecap:square;stroke-linejoin:miter;stroke-width:0.8;\"/>\n",
       "   </g>\n",
       "  </g>\n",
       "  <g id=\"axes_9\">\n",
       "   <g id=\"patch_42\">\n",
       "    <path d=\"M 263.42 196.933887 \n",
       "L 333.36 196.933887 \n",
       "L 333.36 126.993887 \n",
       "L 263.42 126.993887 \n",
       "z\n",
       "\" style=\"fill:#ffffff;\"/>\n",
       "   </g>\n",
       "   <g clip-path=\"url(#p8d6ecd6ce9)\">\n",
       "    <image height=\"70\" id=\"imaged9d981fd00\" transform=\"scale(1 -1)translate(0 -70)\" width=\"70\" x=\"263.42\" xlink:href=\"data:image/png;base64,\n",
       "iVBORw0KGgoAAAANSUhEUgAAAEYAAABGCAYAAABxLuKEAAAABHNCSVQICAgIfAhkiAAAA8lJREFUeJztmksodV0Yx3+v+6UkkVJmykjKLUopl2KkSEQmCuU2MFAmBgxEMVBIJGLimsxlKiVhSsklMVIGhPgG37fWe077PO/rvJbz+ur5TTz999n7PP7919r7rL1+vL+/v6N4CPvbDXxX1BgBNUZAjRFQYwTUGAE1RiDCxUWenp5svbq6CkBXV5fVKioqAKirq7NaQ0ODi6/+MjQxAj9cPPmurKzYurGx0XPcfEVKSorVBgYGAGhra7NaZGTkZ1txhiZGQI0RcDL5Hh8fe7T29nZb39zcALC9vW21np4eAIqKiqyWk5Pjoh0naGIEnCQmNTXVo93d3dl6fX0dgP39fasVFxcDUFVVZbWWlhYAhoeHXbT1KTQxAmqMgJOh9Pb2ZmvzzOL7eBQeHg5AQUGB1dbW1gDo7Oy02sjICACFhYVWq66udtFi0GhiBJwkxncCHRoaAmBra8tqh4eHAGRlZVmttLQUgKSkJKuZCdvc3v8mmhgBNUbAyVDKzMy09cbGBgBlZWVWy83NBWBubs5qTU1NAExOTlrNnHN2duairU+hiRFwkhhfTDpmZmasZpYWWltbrba8vAxAfn6+5xpHR0eu2woaTYyAGiPgZAXvd5glCN/J91c0NzfbemFh4Sta+i2aGAHnk28gpqenPdrs7Kz4+e+wAUMTI6DGCIRkKIWF/eu/efEGv56Il5aWPNrY2Jitk5OTHXYXGE2MQEgSYzg9PQ36HPOEnJaWZrX+/n4AEhIS3DQWAE2MgBojEJKh9Pr6CsD9/b3nWHp6uq3NOrBZkoCfSxCjo6NWy8vLA6C2ttZ9s/+hiREISWKurq4A2NnZ8RyrqamxdXZ2NgAHBwdW6+7uBvxv4R0dHQC8vLxYzfV+G02MgBojEJKhZLaf+Q6RjIwMAAYHB60WFRXl9xdgfHwcgNjYWKuZ1UHfFUFz3NULOk2MQEgWqqampgDo6+uz2uPjIwC9vb1WM7smzOQKEBcXB8D19bXVzDrx7e2t59yLiwurRUT8+YDQxAioMQIhGUoGs4EIoL6+XvxcTEyMrc168ebmptUuLy8955h/Y3d312olJSV/3KsmRiCkifHdxTAxMQHA+fm553O+t/VAr2vNotXJyYnV5ufnAf/d54uLi4D/rf6jaGIE1BiBkA6lj/Lw8BCwNsTHxwP+Q668vBz4+UMUYG9vD4Do6Oige9DECHzLxHyU5+dnW1dWVgL+k7XZNZGYmBj0tTUxAmqMwP96KH0lmhgBNUZAjRFQYwTUGAE1RkCNEVBjBNQYATVGQI0R+Ac+BxGeTArZDwAAAABJRU5ErkJggg==\" y=\"-126.933887\"/>\n",
       "   </g>\n",
       "   <g id=\"matplotlib.axis_17\"/>\n",
       "   <g id=\"matplotlib.axis_18\"/>\n",
       "   <g id=\"patch_43\">\n",
       "    <path d=\"M 263.42 196.933887 \n",
       "L 263.42 126.993887 \n",
       "\" style=\"fill:none;stroke:#000000;stroke-linecap:square;stroke-linejoin:miter;stroke-width:0.8;\"/>\n",
       "   </g>\n",
       "   <g id=\"patch_44\">\n",
       "    <path d=\"M 333.36 196.933887 \n",
       "L 333.36 126.993887 \n",
       "\" style=\"fill:none;stroke:#000000;stroke-linecap:square;stroke-linejoin:miter;stroke-width:0.8;\"/>\n",
       "   </g>\n",
       "   <g id=\"patch_45\">\n",
       "    <path d=\"M 263.42 196.933887 \n",
       "L 333.36 196.933887 \n",
       "\" style=\"fill:none;stroke:#000000;stroke-linecap:square;stroke-linejoin:miter;stroke-width:0.8;\"/>\n",
       "   </g>\n",
       "   <g id=\"patch_46\">\n",
       "    <path d=\"M 263.42 126.993887 \n",
       "L 333.36 126.993887 \n",
       "\" style=\"fill:none;stroke:#000000;stroke-linecap:square;stroke-linejoin:miter;stroke-width:0.8;\"/>\n",
       "   </g>\n",
       "  </g>\n",
       "  <g id=\"axes_10\">\n",
       "   <g id=\"patch_47\">\n",
       "    <path d=\"M 347.66 196.933887 \n",
       "L 417.6 196.933887 \n",
       "L 417.6 126.993887 \n",
       "L 347.66 126.993887 \n",
       "z\n",
       "\" style=\"fill:#ffffff;\"/>\n",
       "   </g>\n",
       "   <g clip-path=\"url(#p6e1ed7ece3)\">\n",
       "    <image height=\"70\" id=\"image971e117689\" transform=\"scale(1 -1)translate(0 -70)\" width=\"70\" x=\"347.66\" xlink:href=\"data:image/png;base64,\n",
       "iVBORw0KGgoAAAANSUhEUgAAAEYAAABGCAYAAABxLuKEAAAABHNCSVQICAgIfAhkiAAAA49JREFUeJztmksodGEYx3/jno2sXMqdlSzIws7CwtalUCIUKSsrOxsWlhLFRlIK2VlQkizkupEFZaMQEguXUC7f4vvOMzPNPF+++c44s3h+q6f/zJzz9J//+573vOf4vr6+vjBCiPO6gVjFjFFI8LqBcLy9vUk9MjICwNDQkGiXl5cAZGRkRK0HS4xCTCXGSUpnZ6doi4uLAHR3d4uWnp4e9V4sMQpmjIIvltYx6+vrANTW1opWX18PwPj4uGjRnHQdLDEKMZWYsrIyAI6Pj0U7PT0FoKCg4Ed7scQomDEKng+lq6srqbOzswGIi/P/X4+PjwCkpqb+aF+WGAXPV757e3tSO0nx+XxetSNYYhTMGAXPh1JhYaHXLYTFEqPg+eU6kPj4eCB48n14eADsch0zmDEKnk++R0dHXrcQFkuMgueJSUlJkfrz8xMIvldaWVkBoLGx8Uf7ssQomDEKrgyls7MzqauqqgC4vb0VrbS0FIC2tjbR2tvbAcjKyhKtrq4OgOXlZdFOTk7caPGfscQo/NfK9/X1FYDi4mLRrq+vAQg87N+2EXJzc6V2fnN+fi5aZmYmABcXF5G2GRGWGAUzRuG/htLz8zMAaWlpIZ/d3d1JnZDwe45fWloSbWFhAYDt7W3RnBvGwKHn1Lu7u6JVVFRE2vK3scQouDL5FhUViXZzcwP4L8cA09PT6jHu7++lbm5uBmBjYyPkez09PVKPjo4CkJSUFEnb38ISo2DGKLiygzc5OSl1X18fAMnJyaK1tLQAMDU1JVpiYmLIcd7f3wE4PDwUrbq6GoCXlxfRxsbGgs4VDSwxCq7v+Tr/Zn9/v/8kfy65g4ODog0MDADByQpHeXk5EH5Da2dnR+rKysoIOw6PJUbBjFGI2uMT57UxCH51zMFZswSuccINq83NTQBqampCPsvLy5PaGWpuPWaxxChELTHO/i34N7IC73Genp4A/+YUwPDwMAAlJSWifXx8ANDV1SXa/Pw8ELy1MTs7C0Bra6sr/VtiFMwYhR99dr21tSV1U1MT4L/pBP/QaGhoEM3ZzTs4OAg5XmDrvb29AExMTLjSqyVGwbO3HZwJeWZmRrTV1VUA9vf3Q74/NzcndU5ODgBra2uidXR0AJCfn+9Kf5YYBTNGIaZeHIolLDEKZoyCGaNgxiiYMQpmjIIZo2DGKJgxCmaMghmjYMYomDEKZoyCGaNgxij8AulFF+CZNZmrAAAAAElFTkSuQmCC\" y=\"-126.933887\"/>\n",
       "   </g>\n",
       "   <g id=\"matplotlib.axis_19\"/>\n",
       "   <g id=\"matplotlib.axis_20\"/>\n",
       "   <g id=\"patch_48\">\n",
       "    <path d=\"M 347.66 196.933887 \n",
       "L 347.66 126.993887 \n",
       "\" style=\"fill:none;stroke:#000000;stroke-linecap:square;stroke-linejoin:miter;stroke-width:0.8;\"/>\n",
       "   </g>\n",
       "   <g id=\"patch_49\">\n",
       "    <path d=\"M 417.6 196.933887 \n",
       "L 417.6 126.993887 \n",
       "\" style=\"fill:none;stroke:#000000;stroke-linecap:square;stroke-linejoin:miter;stroke-width:0.8;\"/>\n",
       "   </g>\n",
       "   <g id=\"patch_50\">\n",
       "    <path d=\"M 347.66 196.933887 \n",
       "L 417.6 196.933887 \n",
       "\" style=\"fill:none;stroke:#000000;stroke-linecap:square;stroke-linejoin:miter;stroke-width:0.8;\"/>\n",
       "   </g>\n",
       "   <g id=\"patch_51\">\n",
       "    <path d=\"M 347.66 126.993887 \n",
       "L 417.6 126.993887 \n",
       "\" style=\"fill:none;stroke:#000000;stroke-linecap:square;stroke-linejoin:miter;stroke-width:0.8;\"/>\n",
       "   </g>\n",
       "  </g>\n",
       " </g>\n",
       " <defs>\n",
       "  <clipPath id=\"pc8433e9d1f\">\n",
       "   <rect height=\"69.94\" width=\"69.94\" x=\"10.7\" y=\"7.2\"/>\n",
       "  </clipPath>\n",
       "  <clipPath id=\"p462d7706fd\">\n",
       "   <rect height=\"69.94\" width=\"69.94\" x=\"94.94\" y=\"7.2\"/>\n",
       "  </clipPath>\n",
       "  <clipPath id=\"pe41b66b92b\">\n",
       "   <rect height=\"69.94\" width=\"69.94\" x=\"179.18\" y=\"7.2\"/>\n",
       "  </clipPath>\n",
       "  <clipPath id=\"p87e5072f58\">\n",
       "   <rect height=\"69.94\" width=\"69.94\" x=\"263.42\" y=\"7.2\"/>\n",
       "  </clipPath>\n",
       "  <clipPath id=\"p6646305c94\">\n",
       "   <rect height=\"69.94\" width=\"69.94\" x=\"347.66\" y=\"7.2\"/>\n",
       "  </clipPath>\n",
       "  <clipPath id=\"pbdc494bf76\">\n",
       "   <rect height=\"69.94\" width=\"69.94\" x=\"10.7\" y=\"126.993887\"/>\n",
       "  </clipPath>\n",
       "  <clipPath id=\"p645487e21b\">\n",
       "   <rect height=\"69.94\" width=\"69.94\" x=\"94.94\" y=\"126.993887\"/>\n",
       "  </clipPath>\n",
       "  <clipPath id=\"p3105560c5f\">\n",
       "   <rect height=\"69.94\" width=\"69.94\" x=\"179.18\" y=\"126.993887\"/>\n",
       "  </clipPath>\n",
       "  <clipPath id=\"p8d6ecd6ce9\">\n",
       "   <rect height=\"69.94\" width=\"69.94\" x=\"263.42\" y=\"126.993887\"/>\n",
       "  </clipPath>\n",
       "  <clipPath id=\"p6e1ed7ece3\">\n",
       "   <rect height=\"69.94\" width=\"69.94\" x=\"347.66\" y=\"126.993887\"/>\n",
       "  </clipPath>\n",
       " </defs>\n",
       "</svg>\n"
      ],
      "text/plain": [
       "<Figure size 432x288 with 10 Axes>"
      ]
     },
     "metadata": {},
     "output_type": "display_data"
    }
   ],
   "source": [
    "fig,ax = plt.subplots(nrows=2,ncols=5,sharex=True,sharey=True,)\n",
    "ax = ax.flatten()\n",
    "for i in range(10):\n",
    "    img = x_train[y_train == i][0].reshape(28,28)\n",
    "    ax[i].imshow(img,cmap = 'Greys',interpolation = 'nearest')\n",
    "\n",
    "ax[0].set_xticks([])\n",
    "ax[0].set_yticks([])\n",
    "plt.tight_layout()\n",
    "plt.show()"
   ]
  },
  {
   "cell_type": "code",
   "execution_count": 47,
   "metadata": {},
   "outputs": [],
   "source": [
    "x_train = x_train[..., tf.newaxis]\n",
    "x_test = x_test[...,tf.newaxis]\n",
    "y_train = tf.one_hot(y_train,depth = 10)\n",
    "y_test = tf.one_hot(y_test,depth = 10)\n",
    "train_ds = tf.data.Dataset.from_tensor_slices((x_train,y_train)).shuffle(10000).batch(32)\n",
    "test_ds = tf.data.Dataset.from_tensor_slices((x_test,y_test)).batch(32)"
   ]
  },
  {
   "cell_type": "code",
   "execution_count": 48,
   "metadata": {},
   "outputs": [],
   "source": [
    "class MyModel(Model):\n",
    "    def __init__(self):\n",
    "        super(MyModel,self).__init__()\n",
    "        self.conv1 = Conv2D(32,3,activation = 'relu')\n",
    "        self.flatten = Flatten()\n",
    "        self.d1 = Dense(128, activation = 'relu')\n",
    "        self.d2 = Dense(10, activation = 'softmax')\n",
    "    \n",
    "    def call(self, x):\n",
    "        x = self.conv1(x)\n",
    "        x = self.flatten(x)\n",
    "        x = self.d1(x)\n",
    "        return self.d2(x)"
   ]
  },
  {
   "cell_type": "code",
   "execution_count": 49,
   "metadata": {},
   "outputs": [],
   "source": [
    "class FocalLoss(tf.keras.losses.Loss):\n",
    "    def __init__(self,gamma = 2.0, alpha = 0.25):\n",
    "        self.gamma = gamma\n",
    "        self.alpha = alpha\n",
    "        super(FocalLoss,self).__init__()\n",
    "\n",
    "    def call(self, y_true, y_pred):\n",
    "        y_pred = tf.nn.softmax(y_pred,axis = -1)\n",
    "        epsilon = tf.keras.backend.epsilon()\n",
    "        y_pred = tf.clip_by_value(y_pred, epsilon, 1.0)\n",
    "\n",
    "        y_true = tf.one_hot(y_true, depth = self.class_num)\n",
    "        y_true = tf.cast(y_true, tf.float32)\n",
    "\n",
    "        loss = - y_true * tf.math.pow(1-y_pred, self.gamma) * tf.math.log(y_pred)\n",
    "\n",
    "        loss = tf.math.reduce_sum(loss,axis = 1)\n",
    "\n",
    "        return loss"
   ]
  },
  {
   "cell_type": "code",
   "execution_count": 50,
   "metadata": {},
   "outputs": [],
   "source": [
    "# # 函数的实现\n",
    "# def focal_loss(gamma = 2.0, alpha = 0.25):\n",
    "#     def focal_loss_fixed(y_ture, y_pred):\n",
    "#         y_pred = tf.nn.softmax(y_pred,axis=-1)\n",
    "#         epsilon = tf.keras.backend.epsilon()\n",
    "#         y_pred = tf.clip_by_value(y_pred,epsilon,1.0)\n",
    "\n",
    "#         y_true = tf.cast(y_true,tf.float32)\n",
    "#         loss = - y_true * tf.math.pow(1-y_pred,gamma)*tf.math.log(y_pred)\n",
    "#         loss = tf.math.reduce_sum(loss,axis = 1)\n",
    "\n",
    "#         return loss\n",
    "#     return focal_loss_fixed"
   ]
  },
  {
   "cell_type": "code",
   "execution_count": 51,
   "metadata": {},
   "outputs": [],
   "source": [
    "# model = MyModel()\n",
    "\n",
    "# #### 定义损失函数\n",
    "# # 类的调用方法\n",
    "# loss_object = tf.keras.losses.CategoricalCrossentropy()\n",
    "# # # 函数的调用方法\n",
    "# # loss_object = FocalLoss(gamma = 0.2, alpha = 0.25)\n",
    "\n",
    "\n",
    "# # 定义优化方法\n",
    "# optimizer = tf.keras.optimizers.Adam()\n",
    "\n",
    "# train_loss = tf.keras.metrics.Mean(name='train_loss')\n",
    "# train_accuracy = tf.keras.metrics.SparseCategoricalAccuracy(name = 'train_accruracy')\n",
    "\n",
    "# test_loss = tf.keras.metrics.Mean(name='test_loss')\n",
    "# test_accuracy = tf.keras.metrics.SparseCategoricalAccuracy(name = 'train_accruracy')"
   ]
  },
  {
   "cell_type": "code",
   "execution_count": 52,
   "metadata": {},
   "outputs": [],
   "source": [
    "\n",
    "model = MyModel()\n",
    "\n",
    "loss_object = tf.keras.losses.CategoricalCrossentropy()\n",
    "# loss_object = FocalLoss(gamma=2.0,alpha=0.25)\n",
    "\n",
    "optimizer = tf.keras.optimizers.Adam()\n",
    "\n",
    "train_loss = tf.keras.metrics.Mean(name='train_loss')\n",
    "train_accuracy = tf.keras.metrics.CategoricalAccuracy(name='train_accuracy')\n",
    "\n",
    "test_loss = tf.keras.metrics.Mean(name='test_loss')\n",
    "test_accuracy = tf.keras.metrics.CategoricalAccuracy(name='test_accuracy')\n",
    "\n",
    "\n",
    "@tf.function\n",
    "def train_step(images, labels):\n",
    "    with tf.GradientTape() as tape:\n",
    "        predictions = model(images)\n",
    "        loss = loss_object(labels, predictions)\n",
    "    gradients = tape.gradient(loss, model.trainable_variables)\n",
    "    optimizer.apply_gradients(zip(gradients, model.trainable_variables))\n",
    "\n",
    "    train_loss(loss)\n",
    "    train_accuracy(labels, predictions)\n",
    "\n",
    "\n",
    "@tf.function\n",
    "def test_step(images, labels):\n",
    "    predictions = model(images)\n",
    "    t_loss = loss_object(labels, predictions)\n",
    "\n",
    "    test_loss(t_loss)\n",
    "    test_accuracy(labels, predictions)"
   ]
  },
  {
   "cell_type": "code",
   "execution_count": 53,
   "metadata": {},
   "outputs": [],
   "source": [
    "# @tf.function\n",
    "# def train_step(images,labels):\n",
    "#     with tf.GradientTape() as tape:\n",
    "#         predictions = model(images)\n",
    "#         loss = loss_object(labels, predictions)\n",
    "#     gradients = tape.gradient(loss,model.trainable_variables)\n",
    "#     optimizer.apply_gradients(zip(gradients,model.trainable_variables))\n",
    "\n",
    "#     train_loss(loss)\n",
    "#     train_accuracy(labels,predictions)\n",
    "\n",
    "# @tf.function\n",
    "# def test_step(images,labels):\n",
    "#     predictions = model(images)\n",
    "#     t_loss = loss_object(labels,predictions)\n",
    "\n",
    "#     test_loss(t_loss)\n",
    "#     test_accuracy(labels, predictions)\n"
   ]
  },
  {
   "cell_type": "code",
   "execution_count": 54,
   "metadata": {
    "tags": []
   },
   "outputs": [
    {
     "name": "stdout",
     "output_type": "stream",
     "text": [
      "WARNING:tensorflow:Layer my_model_1 is casting an input tensor from dtype float64 to the layer's dtype of float32, which is new behavior in TensorFlow 2.  The layer has dtype float32 because it's dtype defaults to floatx.\n",
      "\n",
      "If you intended to run this layer in float32, you can safely ignore this warning. If in doubt, this warning is likely only an issue if you are porting a TensorFlow 1.X model to TensorFlow 2.\n",
      "\n",
      "To change all layers to have dtype float64 by default, call `tf.keras.backend.set_floatx('float64')`. To change just this layer, pass dtype='float64' to the layer constructor. If you are the author of this layer, you can disable autocasting by passing autocast=False to the base Layer constructor.\n",
      "\n",
      "Epoch 1, Loss: 0.13798075914382935, Accuracy: 95.84000396728516, Test Loss: 0.05814583972096443, Test Accuracy: 98.00999450683594\n",
      "Epoch 2, Loss: 0.04299129545688629, Accuracy: 98.67333221435547, Test Loss: 0.055113330483436584, Test Accuracy: 98.11000061035156\n",
      "Epoch 3, Loss: 0.022458693012595177, Accuracy: 99.28500366210938, Test Loss: 0.05428687855601311, Test Accuracy: 98.25999450683594\n",
      "Epoch 4, Loss: 0.015039860270917416, Accuracy: 99.5, Test Loss: 0.06332526355981827, Test Accuracy: 98.27999877929688\n",
      "Epoch 5, Loss: 0.009736606851220131, Accuracy: 99.66666412353516, Test Loss: 0.05946587771177292, Test Accuracy: 98.40999603271484\n"
     ]
    }
   ],
   "source": [
    "EPOCHS = 5\n",
    "for epoch in range(EPOCHS):\n",
    "    # 在下一个epoch开始时，重置评估指标\n",
    "    train_loss.reset_states()\n",
    "    train_accuracy.reset_states()\n",
    "    test_loss.reset_states()\n",
    "    test_accuracy.reset_states()\n",
    "\n",
    "    for images, labels in train_ds:\n",
    "        train_step(images, labels)\n",
    "\n",
    "    for test_images, test_labels in test_ds:\n",
    "        test_step(test_images, test_labels)\n",
    "\n",
    "    template = 'Epoch {}, Loss: {}, Accuracy: {}, Test Loss: {}, Test Accuracy: {}'\n",
    "    print(template.format(epoch + 1,\n",
    "                          train_loss.result(),\n",
    "                          train_accuracy.result() * 100,\n",
    "                          test_loss.result(),\n",
    "                          test_accuracy.result() * 100))"
   ]
  },
  {
   "cell_type": "markdown",
   "metadata": {},
   "source": [
    "# kereas 实现模型自定义损失函数"
   ]
  },
  {
   "cell_type": "code",
   "execution_count": 55,
   "metadata": {},
   "outputs": [],
   "source": [
    "path_tmp = '/home/hp/.local/lib/python3.8/site-packages/tensorflow/keras/datasets/'\n",
    "mnist = np.load(path_tmp + \"mnist.npz\")\n",
    "x_train, y_train, x_test, y_test = mnist['x_train'],mnist['y_train'],mnist['x_test'],mnist['y_test']\n",
    "\n",
    "x_train, x_test = x_train / 255.0, x_test / 255.0\n",
    "y_train = np.int32(y_train)\n",
    "y_test = np.int32(y_test)\n",
    "# Add a channels dimension\n",
    "x_train = x_train[..., tf.newaxis]\n",
    "x_test = x_test[..., tf.newaxis]\n",
    "y_train = tf.one_hot(y_train,depth=10)\n",
    "y_test = tf.one_hot(y_test,depth=10)\n",
    "train_ds = tf.data.Dataset.from_tensor_slices((x_train, y_train)).shuffle(10000).batch(32)\n",
    "test_ds = tf.data.Dataset.from_tensor_slices((x_test, y_test)).shuffle(100).batch(32)"
   ]
  },
  {
   "cell_type": "code",
   "execution_count": 56,
   "metadata": {},
   "outputs": [],
   "source": [
    "# 函数定义模型\n",
    "def MyModel():\n",
    "    inputs = tf.keras.Input(shape=(28,28,1), name='digits')\n",
    "    x = tf.keras.layers.Conv2D(32, 3, activation='relu')(inputs)\n",
    "    x = tf.keras.layers.Flatten()(x)\n",
    "    x = tf.keras.layers.Dense(128, activation='relu')(x)\n",
    "    outputs = tf.keras.layers.Dense(10,activation='softmax', name='predictions')(x)\n",
    "    model = tf.keras.Model(inputs=inputs, outputs=outputs)\n",
    "    return model"
   ]
  },
  {
   "cell_type": "code",
   "execution_count": 57,
   "metadata": {},
   "outputs": [],
   "source": [
    "def FocalLoss(gamma=2.0,alpha=0.25):\n",
    "    def focal_loss_fixed(y_true, y_pred):\n",
    "        y_pred = tf.nn.softmax(y_pred,axis=-1)\n",
    "        epsilon = tf.keras.backend.epsilon()\n",
    "        y_pred = tf.clip_by_value(y_pred, epsilon, 1.0)\n",
    "\n",
    "        y_true = tf.cast(y_true,tf.float32)\n",
    "\n",
    "        loss = -  y_true * tf.math.pow(1 - y_pred, gamma) * tf.math.log(y_pred)\n",
    "\n",
    "        loss = tf.math.reduce_sum(loss,axis=1)\n",
    "        return  loss\n",
    "    return focal_loss_fixed"
   ]
  },
  {
   "cell_type": "code",
   "execution_count": 58,
   "metadata": {},
   "outputs": [],
   "source": [
    "model = MyModel()\n",
    "model.compile(optimizer = tf.keras.optimizers.Adam(0.001), #优化器\n",
    "              loss =  FocalLoss(gamma=2.0,alpha=0.25), #损失函数\n",
    "              metrics = [tf.keras.metrics.CategoricalAccuracy()]\n",
    "             ) #评估函数"
   ]
  },
  {
   "cell_type": "code",
   "execution_count": 59,
   "metadata": {
    "tags": []
   },
   "outputs": [
    {
     "name": "stdout",
     "output_type": "stream",
     "text": [
      "Epoch 1/5\n",
      "1875/1875 [==============================] - 10s 5ms/step - loss: 0.9414 - categorical_accuracy: 0.9370 - val_loss: 0.8967 - val_categorical_accuracy: 0.9721\n",
      "Epoch 2/5\n",
      "1875/1875 [==============================] - 10s 5ms/step - loss: 0.8901 - categorical_accuracy: 0.9779 - val_loss: 0.8952 - val_categorical_accuracy: 0.9730\n",
      "Epoch 3/5\n",
      "1875/1875 [==============================] - 10s 5ms/step - loss: 0.8830 - categorical_accuracy: 0.9831 - val_loss: 0.8843 - val_categorical_accuracy: 0.9818\n",
      "Epoch 4/5\n",
      "1875/1875 [==============================] - 10s 5ms/step - loss: 0.8787 - categorical_accuracy: 0.9862 - val_loss: 0.8828 - val_categorical_accuracy: 0.9828\n",
      "Epoch 5/5\n",
      "1875/1875 [==============================] - 10s 5ms/step - loss: 0.8755 - categorical_accuracy: 0.9890 - val_loss: 0.8855 - val_categorical_accuracy: 0.9808\n"
     ]
    },
    {
     "data": {
      "text/plain": [
       "<tensorflow.python.keras.callbacks.History at 0x7fb3b96fc6d0>"
      ]
     },
     "execution_count": 59,
     "metadata": {},
     "output_type": "execute_result"
    }
   ],
   "source": [
    "model.fit(train_ds, epochs=5,validation_data=test_ds)"
   ]
  },
  {
   "cell_type": "code",
   "execution_count": null,
   "metadata": {},
   "outputs": [],
   "source": []
  },
  {
   "cell_type": "code",
   "execution_count": null,
   "metadata": {},
   "outputs": [],
   "source": []
  }
 ],
 "metadata": {
  "kernelspec": {
   "display_name": "Python 3.8.3 64-bit",
   "language": "python",
   "name": "python38364bitcb11fcd8cdb441e4bf52994f94e346da"
  },
  "language_info": {
   "codemirror_mode": {
    "name": "ipython",
    "version": 3
   },
   "file_extension": ".py",
   "mimetype": "text/x-python",
   "name": "python",
   "nbconvert_exporter": "python",
   "pygments_lexer": "ipython3",
   "version": "3.8.3"
  }
 },
 "nbformat": 4,
 "nbformat_minor": 2
}
