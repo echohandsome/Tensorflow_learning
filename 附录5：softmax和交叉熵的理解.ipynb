{
 "metadata": {
  "orig_nbformat": 2,
  "kernelspec": {
   "name": "python3",
   "display_name": "Python 3"
  }
 },
 "nbformat": 4,
 "nbformat_minor": 2,
 "cells": [
  {
   "cell_type": "code",
   "execution_count": 2,
   "metadata": {},
   "outputs": [],
   "source": [
    "import tensorflow as tf\n",
    "import pandas as pd\n",
    "import numpy as np\n",
    "from gensim.models import Word2Vec\n",
    "import jieba  # 中文分词库，百度员工开发\n",
    "import matplotlib.pyplot as plt \n",
    "import time\n",
    "# 查询系统可用的 GPU\n",
    "physical_devices = tf.config.experimental.list_physical_devices('GPU')\n",
    "# 确保有可用的 GPU 如果没有, 则会报错\n",
    "assert len(physical_devices) > 0, \"Not enough GPU hardware devices available\"\n",
    "# 设置参数,该段务必在运行jupyter的第一段代码执行，否则会无法初始化成功\n",
    "# 仅在需要时申请显存空间（程序初始运行时消耗很少的显存，随着程序的运行而动态申请显存）\n",
    "tf.config.experimental.set_memory_growth(physical_devices[0], True)"
   ]
  },
  {
   "cell_type": "code",
   "execution_count": 3,
   "metadata": {},
   "outputs": [
    {
     "output_type": "stream",
     "name": "stdout",
     "text": [
      "2.2.0\n"
     ]
    }
   ],
   "source": [
    "print(tf.__version__)"
   ]
  },
  {
   "cell_type": "code",
   "execution_count": 4,
   "metadata": {},
   "outputs": [
    {
     "output_type": "stream",
     "name": "stdout",
     "text": [
      "初始化一个常数张量,此处的Z表示分别三个神经元输出的最终结果，纵向排列分别为4，-4，3\n",
      "[4 -4 3]\n",
      "对z做softmax转换\n",
      "[0.730879366 0.000245182717 0.26887551]\n",
      "定义类别的one_hot转换\n",
      "[0 0 1]\n",
      "计算交叉熵损失\n",
      "交叉熵损失: 1.31350684\n"
     ]
    }
   ],
   "source": [
    "print('初始化一个常数张量,此处的Z表示分别三个神经元输出的最终结果，纵向排列分别为4，-4，3')\n",
    "z = tf.constant([4,-4,3], dtype = tf.float32)\n",
    "tf.print(z)\n",
    "\n",
    "\n",
    "\n",
    "print('对z做softmax转换')\n",
    "y_hat = tf.nn.softmax(z)\n",
    "tf.print(y_hat)\n",
    "\n",
    "\n",
    "print('定义类别的one_hot转换')\n",
    "y = tf.one_hot(2,depth=3)\n",
    "tf.print(y)\n",
    "\n",
    "\n",
    "print('计算交叉熵损失')\n",
    "\n",
    "CE = tf.keras.losses.categorical_crossentropy(y, z,  from_logits= True)\n",
    "tf.print('交叉熵损失:',CE)"
   ]
  },
  {
   "cell_type": "code",
   "execution_count": 5,
   "metadata": {},
   "outputs": [
    {
     "output_type": "stream",
     "name": "stdout",
     "text": [
      "1.3135067946038521\n"
     ]
    }
   ],
   "source": [
    "print(np.log(0.26887551) * -1)"
   ]
  },
  {
   "cell_type": "markdown",
   "metadata": {},
   "source": [
    "#### 计算梯度"
   ]
  },
  {
   "cell_type": "code",
   "execution_count": 6,
   "metadata": {},
   "outputs": [
    {
     "output_type": "stream",
     "name": "stdout",
     "text": [
      "求导结果： [0.730879366 0.000245182717 -0.73112452]\n"
     ]
    }
   ],
   "source": [
    "with tf.GradientTape(persistent= True) as tape:\n",
    "    tape.watch([z])\n",
    "    # 定义前向传播\n",
    "    y = tf.one_hot(2,depth=3)\n",
    "    CE = tf.keras.losses.categorical_crossentropy(y, z, from_logits=True)\n",
    "    CE = tf.reduce_mean(CE)\n",
    "\n",
    "# 求导\n",
    "dCE_dz = tape.gradient(CE, [z])[0]\n",
    "tf.print('求导结果：', dCE_dz)"
   ]
  },
  {
   "cell_type": "code",
   "execution_count": 7,
   "metadata": {},
   "outputs": [],
   "source": [
    "p = 1"
   ]
  },
  {
   "cell_type": "code",
   "execution_count": 10,
   "metadata": {},
   "outputs": [
    {
     "output_type": "stream",
     "name": "stdout",
     "text": [
      "[3.26912069 -4.00024509 3.7311244]\n"
     ]
    }
   ],
   "source": [
    "iter_z1 = z - p * dCE_dz\n",
    "tf.print(iter_z1)"
   ]
  },
  {
   "cell_type": "code",
   "execution_count": 13,
   "metadata": {},
   "outputs": [
    {
     "output_type": "stream",
     "name": "stdout",
     "text": [
      "[0.386406571 0.000269152893 0.613324285]\n"
     ]
    }
   ],
   "source": [
    "iter_y1 = tf.nn.softmax(iter_z1)\n",
    "tf.print(iter_y1)"
   ]
  },
  {
   "cell_type": "code",
   "execution_count": 16,
   "metadata": {},
   "outputs": [
    {
     "output_type": "stream",
     "name": "stdout",
     "text": [
      "计算交叉熵损失\n迭代以后的第二轮交叉熵损失: 0.488861471\n"
     ]
    }
   ],
   "source": [
    "print('计算交叉熵损失')\n",
    "\n",
    "iter_CE1 = tf.keras.losses.categorical_crossentropy(y, iter_z1,  from_logits= True)\n",
    "tf.print('迭代以后的第二轮交叉熵损失:',iter_CE1)"
   ]
  },
  {
   "cell_type": "code",
   "execution_count": null,
   "metadata": {},
   "outputs": [],
   "source": []
  }
 ]
}