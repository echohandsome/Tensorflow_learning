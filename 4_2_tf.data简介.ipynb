{
 "cells": [
  {
   "cell_type": "code",
   "execution_count": 1,
   "metadata": {
    "ExecuteTime": {
     "end_time": "2021-05-18T12:27:45.874403Z",
     "start_time": "2021-05-18T12:27:44.203909Z"
    }
   },
   "outputs": [],
   "source": [
    "import tensorflow as tf\n",
    "import numpy as np\n",
    "import matplotlib.pyplot as plt \n",
    "import time\n",
    "# 查询系统可用的 GPU\n",
    "physical_devices = tf.config.experimental.list_physical_devices('GPU')\n",
    "# 确保有可用的 GPU 如果没有, 则会报错\n",
    "assert len(physical_devices) > 0, \"Not enough GPU hardware devices available\"\n",
    "# 设置参数,该段务必在运行jupyter的第一段代码执行，否则会无法初始化成功\n",
    "# 仅在需要时申请显存空间（程序初始运行时消耗很少的显存，随着程序的运行而动态申请显存）\n",
    "tf.config.experimental.set_memory_growth(physical_devices[0], True)"
   ]
  },
  {
   "cell_type": "markdown",
   "metadata": {},
   "source": [
    "#### 1.Dataset类相关操作"
   ]
  },
  {
   "cell_type": "markdown",
   "metadata": {},
   "source": [
    " Dataset包含了非常丰富的数据转换功能：\n",
    " - map(f):对数据集中的每个元素应用函数f，得到一个新的数据集（这部分往往结合进行读写和解码文件，tf.image进行图像处理）\n",
    " - shuffle（buffer_size）：将数据集打乱（设定一个固定大小的缓冲区（Buffer),取buffer_size个元素放入，并从缓冲区中随机采样，采样后的数据用后续数据替换）\n",
    " - repeat(count):数据集重复次数\n",
    " - batch(batch_size)：将数据集分成批次，即对每batch_size个元素，使用tf.stack()在第0维合并，成为一个元素。\n"
   ]
  },
  {
   "cell_type": "code",
   "execution_count": 3,
   "metadata": {
    "ExecuteTime": {
     "end_time": "2021-05-18T12:28:24.156033Z",
     "start_time": "2021-05-18T12:28:24.146375Z"
    }
   },
   "outputs": [
    {
     "name": "stdout",
     "output_type": "stream",
     "text": [
      "Help on function resize_images_v2 in module tensorflow.python.ops.image_ops_impl:\n",
      "\n",
      "resize_images_v2(images, size, method='bilinear', preserve_aspect_ratio=False, antialias=False, name=None)\n",
      "    Resize `images` to `size` using the specified `method`.\n",
      "    \n",
      "    Resized images will be distorted if their original aspect ratio is not\n",
      "    the same as `size`.  To avoid distortions see\n",
      "    `tf.image.resize_with_pad`.\n",
      "    \n",
      "    >>> image = tf.constant([\n",
      "    ...  [1,0,0,0,0],\n",
      "    ...  [0,1,0,0,0],\n",
      "    ...  [0,0,1,0,0],\n",
      "    ...  [0,0,0,1,0],\n",
      "    ...  [0,0,0,0,1],\n",
      "    ... ])\n",
      "    >>> # Add \"batch\" and \"channels\" dimensions\n",
      "    >>> image = image[tf.newaxis, ..., tf.newaxis]\n",
      "    >>> image.shape.as_list()  # [batch, height, width, channels]\n",
      "    [1, 5, 5, 1]\n",
      "    >>> tf.image.resize(image, [3,5])[0,...,0].numpy()\n",
      "    array([[0.6666667, 0.3333333, 0.       , 0.       , 0.       ],\n",
      "           [0.       , 0.       , 1.       , 0.       , 0.       ],\n",
      "           [0.       , 0.       , 0.       , 0.3333335, 0.6666665]],\n",
      "          dtype=float32)\n",
      "    \n",
      "    It works equally well with a single image instead of a batch of images:\n",
      "    \n",
      "    >>> tf.image.resize(image[0], [3,5]).shape.as_list()\n",
      "    [3, 5, 1]\n",
      "    \n",
      "    When 'antialias' is true, the sampling filter will anti-alias the input image\n",
      "    as well as interpolate.  When downsampling an image with [anti-aliasing](\n",
      "    https://en.wikipedia.org/wiki/Spatial_anti-aliasing) the sampling filter\n",
      "    kernel is scaled in order to properly anti-alias the input image signal.\n",
      "    'antialias' has no effect when upsampling an image:\n",
      "    \n",
      "    >>> a = tf.image.resize(image, [5,10])\n",
      "    >>> b = tf.image.resize(image, [5,10], antialias=True)\n",
      "    >>> tf.reduce_max(abs(a - b)).numpy()\n",
      "    0.0\n",
      "    \n",
      "    The `method` argument expects an item from the `image.ResizeMethod` enum, or\n",
      "    the string equivalent. The options are:\n",
      "    \n",
      "    *   <b>`'bilinear'`</b>: [Bilinear interpolation.](\n",
      "      https://en.wikipedia.org/wiki/Bilinear_interpolation) If 'antialias' is\n",
      "      true, becomes a hat/tent filter function with radius 1 when downsampling.\n",
      "    *   <b>`lanczos3`</b>:  [Lanczos kernel](\n",
      "      https://en.wikipedia.org/wiki/Lanczos_resampling) with radius 3.\n",
      "      High-quality practical filter but may have some ringing, especially on\n",
      "      synthetic images.\n",
      "    *   <b>`lanczos5`</b>: [Lanczos kernel] (\n",
      "      https://en.wikipedia.org/wiki/Lanczos_resampling) with radius 5.\n",
      "      Very-high-quality filter but may have stronger ringing.\n",
      "    *   <b>`bicubic`</b>: [Cubic interpolant](\n",
      "      https://en.wikipedia.org/wiki/Bicubic_interpolation) of Keys. Equivalent to\n",
      "      Catmull-Rom kernel. Reasonably good quality and faster than Lanczos3Kernel,\n",
      "      particularly when upsampling.\n",
      "    *   <b>`gaussian`</b>: [Gaussian kernel](\n",
      "      https://en.wikipedia.org/wiki/Gaussian_filter) with radius 3,\n",
      "      sigma = 1.5 / 3.0.\n",
      "    *   <b>`nearest`</b>: [Nearest neighbor interpolation.](\n",
      "      https://en.wikipedia.org/wiki/Nearest-neighbor_interpolation)\n",
      "      'antialias' has no effect when used with nearest neighbor interpolation.\n",
      "    *   <b>`area`</b>: Anti-aliased resampling with area interpolation.\n",
      "      'antialias' has no effect when used with area interpolation; it\n",
      "      always anti-aliases.\n",
      "    *   <b>`mitchellcubic`</b>: Mitchell-Netravali Cubic non-interpolating filter.\n",
      "      For synthetic images (especially those lacking proper prefiltering), less\n",
      "      ringing than Keys cubic kernel but less sharp.\n",
      "    \n",
      "    Note: Near image edges the filtering kernel may be partially outside the\n",
      "    image boundaries. For these pixels, only input pixels inside the image will be\n",
      "    included in the filter sum, and the output value will be appropriately\n",
      "    normalized.\n",
      "    \n",
      "    The return value has type `float32`, unless the `method` is\n",
      "    `ResizeMethod.NEAREST_NEIGHBOR`, then the return dtype is the dtype\n",
      "    of `images`:\n",
      "    \n",
      "    >>> nn = tf.image.resize(image, [5,7], method='nearest')\n",
      "    >>> nn[0,...,0].numpy()\n",
      "    array([[1, 0, 0, 0, 0, 0, 0],\n",
      "           [0, 1, 1, 0, 0, 0, 0],\n",
      "           [0, 0, 0, 1, 0, 0, 0],\n",
      "           [0, 0, 0, 0, 1, 1, 0],\n",
      "           [0, 0, 0, 0, 0, 0, 1]], dtype=int32)\n",
      "    \n",
      "    With `preserve_aspect_ratio=True`, the aspect ratio is preserved, so `size`\n",
      "    is the maximum for each dimension:\n",
      "    \n",
      "    >>> max_10_20 = tf.image.resize(image, [10,20], preserve_aspect_ratio=True)\n",
      "    >>> max_10_20.shape.as_list()\n",
      "    [1, 10, 10, 1]\n",
      "    \n",
      "    Args:\n",
      "      images: 4-D Tensor of shape `[batch, height, width, channels]` or 3-D Tensor\n",
      "        of shape `[height, width, channels]`.\n",
      "      size: A 1-D int32 Tensor of 2 elements: `new_height, new_width`.  The new\n",
      "        size for the images.\n",
      "      method: An `image.ResizeMethod`, or string equivalent.  Defaults to\n",
      "        `bilinear`.\n",
      "      preserve_aspect_ratio: Whether to preserve the aspect ratio. If this is set,\n",
      "        then `images` will be resized to a size that fits in `size` while\n",
      "        preserving the aspect ratio of the original image. Scales up the image if\n",
      "        `size` is bigger than the current size of the `image`. Defaults to False.\n",
      "      antialias: Whether to use an anti-aliasing filter when downsampling an\n",
      "        image.\n",
      "      name: A name for this operation (optional).\n",
      "    \n",
      "    Raises:\n",
      "      ValueError: if the shape of `images` is incompatible with the\n",
      "        shape arguments to this function\n",
      "      ValueError: if `size` has an invalid shape or type.\n",
      "      ValueError: if an unsupported resize method is specified.\n",
      "    \n",
      "    Returns:\n",
      "      If `images` was 4-D, a 4-D float Tensor of shape\n",
      "      `[batch, new_height, new_width, channels]`.\n",
      "      If `images` was 3-D, a 3-D float Tensor of shape\n",
      "      `[new_height, new_width, channels]`.\n",
      "\n"
     ]
    }
   ],
   "source": [
    "help(tf.image.resize)"
   ]
  },
  {
   "cell_type": "code",
   "execution_count": null,
   "metadata": {},
   "outputs": [],
   "source": [
    "def _decode_and_resize(filename,label):\n",
    "    image_string = tf.io.read_file(filename) #读取原始文件\n",
    "    image_decoded = tf.image.decode_jpeg(image_string) #解码JPEG图片\n",
    "    image_resized = tf.image.resize(image_decoded, [256,256]) / 255.0\n",
    "    return image_resized, label\n",
    "\n",
    "batch_size = 32\n",
    "\n",
    "train_dataset = tf.data.Dataset.from_tensor_slices((train_filenames, train_labels))\n",
    "train_dataset = train_dataset.map(\n",
    "    map_func = _decode_and_resize,\n",
    "    num_parallel_calls = tf.data.experimental.AUTOTUNE\n",
    "\n",
    ")\n",
    "\n",
    "# 取出前buffer_size个数据放入buffer，并从其中随机采样，采样后的数据用后续数据替换\n",
    "\n",
    "train_dataset = train_dataset.shuffle(buffer_size = 23000)\n",
    "train_dataset = train_dataset.repeat(count = 3)\n",
    "train_dataset = train_dataset.batch(batch_size)"
   ]
  },
  {
   "cell_type": "markdown",
   "metadata": {},
   "source": [
    "- flat_map(): 将map函数映射到数据集的每一个元素，并将嵌套的Dataset压平\n",
    "- interleave() : 效果类似flat_map,但可以将不同来源的数据夹在一起\n",
    "- take()：截取数据集中的前若干个元素"
   ]
  },
  {
   "cell_type": "markdown",
   "metadata": {},
   "source": [
    "##### flat_map()示例"
   ]
  },
  {
   "cell_type": "code",
   "execution_count": 4,
   "metadata": {},
   "outputs": [],
   "source": [
    "dataset = tf.data.Dataset.from_tensor_slices([[1,2,3],[4,5,6],[7,8,9]])\n",
    "dataset_flat = dataset.flat_map(lambda x:tf.data.Dataset.from_tensor_slices(x))"
   ]
  },
  {
   "cell_type": "code",
   "execution_count": 5,
   "metadata": {
    "tags": []
   },
   "outputs": [
    {
     "name": "stdout",
     "output_type": "stream",
     "text": [
      "tf.Tensor([1 2 3], shape=(3,), dtype=int32)\n",
      "tf.Tensor([4 5 6], shape=(3,), dtype=int32)\n",
      "tf.Tensor([7 8 9], shape=(3,), dtype=int32)\n"
     ]
    }
   ],
   "source": [
    "for line in dataset:\n",
    "    print(line)"
   ]
  },
  {
   "cell_type": "code",
   "execution_count": 6,
   "metadata": {
    "tags": []
   },
   "outputs": [
    {
     "name": "stdout",
     "output_type": "stream",
     "text": [
      "tf.Tensor(1, shape=(), dtype=int32)\n",
      "tf.Tensor(2, shape=(), dtype=int32)\n",
      "tf.Tensor(3, shape=(), dtype=int32)\n",
      "tf.Tensor(4, shape=(), dtype=int32)\n",
      "tf.Tensor(5, shape=(), dtype=int32)\n",
      "tf.Tensor(6, shape=(), dtype=int32)\n",
      "tf.Tensor(7, shape=(), dtype=int32)\n",
      "tf.Tensor(8, shape=(), dtype=int32)\n",
      "tf.Tensor(9, shape=(), dtype=int32)\n"
     ]
    }
   ],
   "source": [
    "for line in dataset_flat:\n",
    "    print(line)"
   ]
  },
  {
   "cell_type": "code",
   "execution_count": 7,
   "metadata": {
    "tags": []
   },
   "outputs": [
    {
     "name": "stdout",
     "output_type": "stream",
     "text": [
      "1,1,1,1,1,1,2,2,2,2,2,2,3,3,3,3,3,3,4,4,4,4,4,4,5,5,5,5,5,5,"
     ]
    }
   ],
   "source": [
    "a = tf.data.Dataset.range(1,6) # ==> [1,2,3,4,5]\n",
    "# NOTE:New lines indicate 'block' boundaries\n",
    "\n",
    "b = a.flat_map(lambda x :tf.data.Dataset.from_tensors(x).repeat(6))\n",
    "for item in b:\n",
    "    print(item.numpy(), end = ',')"
   ]
  },
  {
   "cell_type": "markdown",
   "metadata": {},
   "source": [
    "##### interleave()示例"
   ]
  },
  {
   "cell_type": "code",
   "execution_count": null,
   "metadata": {},
   "outputs": [],
   "source": [
    "interleave(\n",
    "    map_func, cycle_length = AUTOTUNE, block_length =1, num_parallel_calls = None,\n",
    "    deterministic = None\n",
    ")"
   ]
  },
  {
   "cell_type": "markdown",
   "metadata": {},
   "source": [
    "interleave()是Dataset的类方法，所以interleave是作用在一个Dataset上的。首先该方法会从该Dataset中取出cycle_length个element,然后对这些element apply map_func,得到cycle_length个新的Dataset对象。然后从这些新生成的Dataset对象中取数据，每个Dataset对象一次取block_length个数据。当新生成的某个Dataset的对象取尽时，从原Dataset中再取一个element,然后apply map_func，以此类推。"
   ]
  },
  {
   "cell_type": "code",
   "execution_count": null,
   "metadata": {},
   "outputs": [],
   "source": [
    "filenames = ['./interleave_data/train.csv','./interleave_data/eval.csv',\n",
    "'./interleave_data/train.csv','./interleave_data/eval.csv']\n",
    "\n",
    "dataset = tf.data.Dataset.from_tensor_slices(filenames)\n",
    "\n",
    "def data_func(line):\n",
    "    line = tf.strings.split(line, sep = ',')\n",
    "    return line\n",
    "\n",
    "\n",
    "dataset_1 = dataset.interleave(lambda x: tf.data.TextLineDataset(x).skip(1).map(data_func),\n",
    "cycle_length=4, block_length = 16\n",
    ")\n",
    "\n",
    "for line in dataset_1.take(2):\n",
    "    print(line)"
   ]
  },
  {
   "cell_type": "markdown",
   "metadata": {},
   "source": [
    "- filter: 过滤掉某些元素\n",
    "- zip：将两个长度相同的Dataset横向铰合\n",
    "- concatenate：将两个Dataset纵向连接\n",
    "- reduce:执行归并操作"
   ]
  },
  {
   "cell_type": "markdown",
   "metadata": {},
   "source": [
    "##### zip方法示例"
   ]
  },
  {
   "cell_type": "code",
   "execution_count": 9,
   "metadata": {},
   "outputs": [],
   "source": [
    "a = tf.data.Dataset.range(1,4) # ===> [1,2,3]\n",
    "b = tf.data.Dataset.range(4,7) # ===>[4,5,6]\n",
    "ds = tf.data.Dataset.zip((a,b))"
   ]
  },
  {
   "cell_type": "code",
   "execution_count": 10,
   "metadata": {
    "tags": []
   },
   "outputs": [
    {
     "name": "stdout",
     "output_type": "stream",
     "text": [
      "(<tf.Tensor: shape=(), dtype=int64, numpy=1>, <tf.Tensor: shape=(), dtype=int64, numpy=4>)\n",
      "(<tf.Tensor: shape=(), dtype=int64, numpy=2>, <tf.Tensor: shape=(), dtype=int64, numpy=5>)\n",
      "(<tf.Tensor: shape=(), dtype=int64, numpy=3>, <tf.Tensor: shape=(), dtype=int64, numpy=6>)\n"
     ]
    }
   ],
   "source": [
    "for line in ds:\n",
    "    print(line)"
   ]
  },
  {
   "cell_type": "code",
   "execution_count": 11,
   "metadata": {
    "tags": []
   },
   "outputs": [
    {
     "name": "stdout",
     "output_type": "stream",
     "text": [
      "(<tf.Tensor: shape=(), dtype=int64, numpy=4>, <tf.Tensor: shape=(), dtype=int64, numpy=1>)\n",
      "(<tf.Tensor: shape=(), dtype=int64, numpy=5>, <tf.Tensor: shape=(), dtype=int64, numpy=2>)\n",
      "(<tf.Tensor: shape=(), dtype=int64, numpy=6>, <tf.Tensor: shape=(), dtype=int64, numpy=3>)\n"
     ]
    }
   ],
   "source": [
    "ds = tf.data.Dataset.zip((b,a))\n",
    "for line in ds:\n",
    "    print(line)"
   ]
  },
  {
   "cell_type": "markdown",
   "metadata": {},
   "source": [
    "##### concatenate方法示例"
   ]
  },
  {
   "cell_type": "code",
   "execution_count": 3,
   "metadata": {
    "tags": []
   },
   "outputs": [
    {
     "name": "stdout",
     "output_type": "stream",
     "text": [
      "tf.Tensor(1, shape=(), dtype=int64)\n",
      "tf.Tensor(2, shape=(), dtype=int64)\n",
      "tf.Tensor(3, shape=(), dtype=int64)\n",
      "tf.Tensor(4, shape=(), dtype=int64)\n",
      "tf.Tensor(5, shape=(), dtype=int64)\n",
      "tf.Tensor(6, shape=(), dtype=int64)\n"
     ]
    }
   ],
   "source": [
    "a = tf.data.Dataset.range(1,4) # ===> [1,2,3]\n",
    "b = tf.data.Dataset.range(4,7) # ===>[4,5,6]\n",
    "ds = a.concatenate(b)\n",
    "for line in ds:\n",
    "    print(line)"
   ]
  },
  {
   "cell_type": "markdown",
   "metadata": {},
   "source": [
    "#### 2.如何提升Dataset读取性能"
   ]
  },
  {
   "cell_type": "markdown",
   "metadata": {},
   "source": [
    "- 训练深度学习模型常常非常耗时，模型训练的耗时主要来自于两部分，一部分来自于数据准备，另一部分来自参数迭代。\n",
    "- 参数迭代过程的耗时通常依赖于GPU来提升，而数据准备过程的耗时则可以通过构建高效的数据管道进行提升。"
   ]
  },
  {
   "cell_type": "markdown",
   "metadata": {},
   "source": [
    "以下是一些构建高效数据管道的建议:\n",
    "\n",
    "1. 使用prefetch方法让数据准备和参数迭代两个过程相互并行\n",
    "\n",
    "2. 使用interleave方法可以让数据读取过程多进程执行，并将不同来源数据夹在一起\n",
    "\n",
    "3. 使用map时设置 num_parallel_calls 让数据转换过程多进程执行\n",
    "\n",
    "4. 使用cache方法让数据在第一个epoch后缓存到内存中，仅限于数据集不大情形"
   ]
  },
  {
   "cell_type": "markdown",
   "metadata": {},
   "source": [
    "#### prefetch方法\n",
    "原始方法执行，可以看到执行训练步骤涉及：\n",
    "- 打开文件(如果尚未打开)\n",
    "- 从文件中获取数据条目\n",
    "- 使用数据进行训练"
   ]
  },
  {
   "cell_type": "markdown",
   "metadata": {},
   "source": [
    "![prefetch_1](./markdown_pics/prefetch_1.png)"
   ]
  },
  {
   "cell_type": "markdown",
   "metadata": {
    "tags": []
   },
   "source": [
    "![优化后的方法](./markdown_pics/prefetch_优化后的方法.png)"
   ]
  },
  {
   "cell_type": "markdown",
   "metadata": {},
   "source": [
    "![prefetch注意事项](./markdown_pics/prefetch注意事项.png)"
   ]
  },
  {
   "cell_type": "markdown",
   "metadata": {},
   "source": [
    "#### interleave 方法"
   ]
  },
  {
   "cell_type": "markdown",
   "metadata": {},
   "source": [
    "![interleave](./markdown_pics/interleave介绍.png)"
   ]
  },
  {
   "cell_type": "markdown",
   "metadata": {},
   "source": [
    "![interleave加载方法](./markdown_pics/interleave介绍_加载方法.png)"
   ]
  },
  {
   "cell_type": "markdown",
   "metadata": {},
   "source": [
    "#### map多进程执行"
   ]
  },
  {
   "cell_type": "markdown",
   "metadata": {},
   "source": [
    "![map多进程](./markdown_pics/map多进程执行.png)"
   ]
  },
  {
   "cell_type": "markdown",
   "metadata": {},
   "source": [
    "![map多进程](./markdown_pics/map多进程执行办法.png)"
   ]
  },
  {
   "cell_type": "markdown",
   "metadata": {},
   "source": [
    "![cache方法](./markdown_pics/cache方法.png)"
   ]
  },
  {
   "cell_type": "markdown",
   "metadata": {},
   "source": [
    "#### 3.案例讲解\n",
    "- 猫狗图片分类"
   ]
  },
  {
   "cell_type": "code",
   "execution_count": 16,
   "metadata": {},
   "outputs": [],
   "source": [
    "#### 对kaggle原始数据集执行划分训练集和验证集，执行如下两个代码\n",
    "\n",
    "# import shutil\n",
    "# os.chdir('./data/dogs-vs-cats/')\n",
    "\n",
    "# # 对文件夹中的数据执行移动\n",
    "# for i in os.listdir('./train'):\n",
    "#     if i[0:3] == 'cat':\n",
    "#         shutil.move(f'./train/{i}','./cats')\n",
    "        \n",
    "\n",
    "# for i in os.listdir('./train'):\n",
    "#     if i[0:3] == 'dog':\n",
    "#         shutil.move(f'./train/{i}','./dogs')"
   ]
  },
  {
   "cell_type": "code",
   "execution_count": 25,
   "metadata": {
    "tags": []
   },
   "outputs": [],
   "source": [
    "# import re\n",
    "# import shutil\n",
    "# # 对文件夹中的数据执行移动\n",
    "# for i in os.listdir('./dogs'):\n",
    "#     if re.search('[0-9]{5}',str(i).split('.')[-2]): # 对10000-12499的图片执行移动\n",
    "#         shutil.move(f'./dogs/{i}','./valid/dogs')\n",
    "\n",
    "\n",
    "# for i in os.listdir('./cats'):\n",
    "#     if re.search('[0-9]{5}',str(i).split('.')[-2]): # 对10000-12499的图片执行移动\n",
    "#         shutil.move(f'./cats/{i}','./valid/cats')\n",
    "\n",
    "# for i in os.listdir('./cats'):\n",
    "#     shutil.move(f'./cats/{i}','./train/cats')\n",
    "\n",
    "# for i in os.listdir('./dogs'):\n",
    "#     shutil.move(f'./dogs/{i}','./train/dogs')\n"
   ]
  },
  {
   "cell_type": "code",
   "execution_count": 17,
   "metadata": {
    "tags": []
   },
   "outputs": [
    {
     "name": "stdout",
     "output_type": "stream",
     "text": [
      "cats  dogs  sampleSubmission.csv  test1  train\tvalid\n"
     ]
    }
   ],
   "source": [
    "!ls"
   ]
  },
  {
   "cell_type": "code",
   "execution_count": 56,
   "metadata": {},
   "outputs": [],
   "source": [
    "os.chdir('/home/hp/git/learningzone/huangpei/eat_tensorflow2_in_30_days/')\n",
    "data_dir = '/share/data/tutorial/cat_dog/datasets'\n",
    "train_cats_dir = data_dir + '/train/cats/'\n",
    "train_dogs_dir = data_dir + '/train/dogs/'\n",
    "test_cats_dir = data_dir + '/valid/cats/'\n",
    "test_dogs_dir = data_dir + '/valid/dogs/'"
   ]
  },
  {
   "cell_type": "code",
   "execution_count": 57,
   "metadata": {},
   "outputs": [],
   "source": [
    "# 构建训练数据集\n",
    "train_cat_filenames = tf.constant([train_cats_dir + filename for filename in os.listdir(train_cats_dir)][:1000])\n",
    "\n",
    "train_dog_filenames = tf.constant([train_dogs_dir + filename for filename in os.listdir(train_dogs_dir)][:1000])\n",
    "\n",
    "train_filenames = tf.concat([train_cat_filenames,train_dog_filenames],axis = -1)\n",
    "\n",
    "train_labels = tf.concat([\n",
    "    tf.zeros(train_cat_filenames.shape,dtype = tf.int32),\n",
    "    tf.ones(train_dog_filenames.shape,dtype = tf.int32)],\n",
    "    axis = -1\n",
    ")"
   ]
  },
  {
   "cell_type": "code",
   "execution_count": 58,
   "metadata": {},
   "outputs": [
    {
     "data": {
      "text/plain": [
       "tensorflow.python.framework.ops.EagerTensor"
      ]
     },
     "execution_count": 58,
     "metadata": {},
     "output_type": "execute_result"
    }
   ],
   "source": [
    "type(train_cat_filenames)"
   ]
  },
  {
   "cell_type": "code",
   "execution_count": 59,
   "metadata": {},
   "outputs": [
    {
     "data": {
      "text/plain": [
       "<tf.Tensor: shape=(5,), dtype=string, numpy=\n",
       "array([b'/share/data/tutorial/cat_dog/datasets/train/cats/cat.5781.jpg',\n",
       "       b'/share/data/tutorial/cat_dog/datasets/train/cats/cat.11310.jpg',\n",
       "       b'/share/data/tutorial/cat_dog/datasets/train/cats/cat.914.jpg',\n",
       "       b'/share/data/tutorial/cat_dog/datasets/train/cats/cat.9677.jpg',\n",
       "       b'/share/data/tutorial/cat_dog/datasets/train/cats/cat.8813.jpg'],\n",
       "      dtype=object)>"
      ]
     },
     "execution_count": 59,
     "metadata": {},
     "output_type": "execute_result"
    }
   ],
   "source": [
    "train_cat_filenames[0:5]"
   ]
  },
  {
   "cell_type": "code",
   "execution_count": 60,
   "metadata": {},
   "outputs": [],
   "source": [
    "# 构建训练集\n",
    "def _decode_and_resize(filename, label):\n",
    "    image_string = tf.io.read_file(filename)   # 读取原始图片\n",
    "    image_decoded = tf.image.decode_jpeg(image_string) # 解码JPEG图片\n",
    "    image_resized = tf.image.resize(image_decoded, [256,256]) / 255.0\n",
    "    return image_resized, label"
   ]
  },
  {
   "cell_type": "code",
   "execution_count": 61,
   "metadata": {},
   "outputs": [],
   "source": [
    "batch_size = 32\n",
    "train_dataset = tf.data.Dataset.from_tensor_slices((train_filenames,train_labels))"
   ]
  },
  {
   "cell_type": "code",
   "execution_count": 62,
   "metadata": {},
   "outputs": [
    {
     "data": {
      "text/plain": [
       "<TensorSliceDataset shapes: ((), ()), types: (tf.string, tf.int32)>"
      ]
     },
     "execution_count": 62,
     "metadata": {},
     "output_type": "execute_result"
    }
   ],
   "source": [
    "train_dataset"
   ]
  },
  {
   "cell_type": "code",
   "execution_count": 63,
   "metadata": {},
   "outputs": [],
   "source": [
    "def benchmark(dataset, num_epochs = 1):\n",
    "    start_time = time.perf_counter()\n",
    "    for epoch_num in range(num_epochs):\n",
    "        for sample in dataset:\n",
    "            # 执行训练步骤\n",
    "            time.sleep(0.01)\n",
    "    tf.print('Execution time:', time.perf_counter() - start_time)\n"
   ]
  },
  {
   "cell_type": "markdown",
   "metadata": {},
   "source": [
    "#### prefetch方法"
   ]
  },
  {
   "cell_type": "code",
   "execution_count": 64,
   "metadata": {
    "tags": []
   },
   "outputs": [
    {
     "name": "stdout",
     "output_type": "stream",
     "text": [
      "Execution time: 21.48777252342552\n"
     ]
    }
   ],
   "source": [
    "benchmark(\n",
    "    train_dataset.map(\n",
    "        map_func = _decode_and_resize,\n",
    "        num_parallel_calls = tf.data.experimental.AUTOTUNE\n",
    "    ), num_epochs = 1\n",
    ")"
   ]
  },
  {
   "cell_type": "code",
   "execution_count": 65,
   "metadata": {
    "tags": []
   },
   "outputs": [
    {
     "name": "stdout",
     "output_type": "stream",
     "text": [
      "Execution time: 21.47324484307319\n"
     ]
    }
   ],
   "source": [
    "benchmark(\n",
    "    train_dataset.map(\n",
    "        map_func = _decode_and_resize,\n",
    "        num_parallel_calls = tf.data.experimental.AUTOTUNE\n",
    "    ).prefetch(tf.data.experimental.AUTOTUNE)\n",
    "    , num_epochs = 1\n",
    ")"
   ]
  },
  {
   "cell_type": "markdown",
   "metadata": {},
   "source": [
    "#### interleave 方法"
   ]
  },
  {
   "cell_type": "code",
   "execution_count": 66,
   "metadata": {
    "tags": []
   },
   "outputs": [
    {
     "name": "stdout",
     "output_type": "stream",
     "text": [
      "tf.Tensor(\n",
      "[b'0' b'male' b'22.0' b'1' b'0' b'7.25' b'Third' b'unknown' b'Southampton'\n",
      " b'n'], shape=(10,), dtype=string)\n",
      "tf.Tensor(\n",
      "[b'1' b'female' b'38.0' b'1' b'0' b'71.2833' b'First' b'C' b'Cherbourg'\n",
      " b'n'], shape=(10,), dtype=string)\n"
     ]
    }
   ],
   "source": [
    "filenames = ['./data/interleave_data/train.csv','./data/interleave_data/eval.csv',\n",
    "'./data/interleave_data/train.csv','./data/interleave_data/eval.csv']\n",
    "\n",
    "dataset = tf.data.Dataset.from_tensor_slices(filenames)\n",
    "\n",
    "def data_func(line):\n",
    "    line = tf.strings.split(line, sep = ',')\n",
    "    return line\n",
    "\n",
    "\n",
    "dataset_1 = dataset.interleave(lambda x: tf.data.TextLineDataset(x).skip(1).map(data_func),\n",
    "cycle_length=4, block_length = 16\n",
    ")\n",
    "\n",
    "for line in dataset_1.take(2):\n",
    "    print(line)"
   ]
  },
  {
   "cell_type": "code",
   "execution_count": 67,
   "metadata": {
    "tags": []
   },
   "outputs": [
    {
     "name": "stdout",
     "output_type": "stream",
     "text": [
      "Execution time: 19.670941513963044\n"
     ]
    }
   ],
   "source": [
    "benchmark(dataset_1, num_epochs = 1)"
   ]
  },
  {
   "cell_type": "code",
   "execution_count": 68,
   "metadata": {
    "tags": []
   },
   "outputs": [
    {
     "name": "stdout",
     "output_type": "stream",
     "text": [
      "WARNING:tensorflow:AutoGraph could not transform <function <lambda> at 0x7fd4b13ec310> and will run it as-is.\n",
      "Cause: could not parse the source code:\n",
      "\n",
      "    lambda x: tf.data.TextLineDataset(x).skip(1).map(data_func), num_parallel_calls = tf.data.experimental.AUTOTUNE,\n",
      "\n",
      "This error may be avoided by creating the lambda in a standalone statement.\n",
      "\n",
      "To silence this warning, decorate the function with @tf.autograph.experimental.do_not_convert\n",
      "WARNING: AutoGraph could not transform <function <lambda> at 0x7fd4b13ec310> and will run it as-is.\n",
      "Cause: could not parse the source code:\n",
      "\n",
      "    lambda x: tf.data.TextLineDataset(x).skip(1).map(data_func), num_parallel_calls = tf.data.experimental.AUTOTUNE,\n",
      "\n",
      "This error may be avoided by creating the lambda in a standalone statement.\n",
      "\n",
      "To silence this warning, decorate the function with @tf.autograph.experimental.do_not_convert\n"
     ]
    }
   ],
   "source": [
    "dataset_2 = dataset.interleave(\n",
    "    lambda x: tf.data.TextLineDataset(x).skip(1).map(data_func), num_parallel_calls = tf.data.experimental.AUTOTUNE,\n",
    "    cycle_length = 4, block_length = 16\n",
    ")"
   ]
  },
  {
   "cell_type": "code",
   "execution_count": 69,
   "metadata": {
    "tags": []
   },
   "outputs": [
    {
     "name": "stdout",
     "output_type": "stream",
     "text": [
      "Execution time: 18.92460592929274\n"
     ]
    }
   ],
   "source": [
    "benchmark(dataset_2, num_epochs = 1)\n"
   ]
  },
  {
   "cell_type": "markdown",
   "metadata": {},
   "source": [
    "#### map方法"
   ]
  },
  {
   "cell_type": "code",
   "execution_count": 70,
   "metadata": {
    "tags": []
   },
   "outputs": [
    {
     "name": "stdout",
     "output_type": "stream",
     "text": [
      "Execution time: 21.512921785004437\n"
     ]
    }
   ],
   "source": [
    "benchmark(\n",
    "    train_dataset.map(\n",
    "        map_func = _decode_and_resize,\n",
    "        num_parallel_calls= tf.data.experimental.AUTOTUNE\n",
    "    )\n",
    ")"
   ]
  },
  {
   "cell_type": "code",
   "execution_count": 71,
   "metadata": {
    "tags": []
   },
   "outputs": [
    {
     "name": "stdout",
     "output_type": "stream",
     "text": [
      "Execution time: 30.211077282205224\n"
     ]
    }
   ],
   "source": [
    "benchmark(\n",
    "    train_dataset.map(\n",
    "        map_func = _decode_and_resize\n",
    "    )\n",
    ")"
   ]
  },
  {
   "cell_type": "markdown",
   "metadata": {},
   "source": [
    "#### cache方法"
   ]
  },
  {
   "cell_type": "code",
   "execution_count": 72,
   "metadata": {
    "tags": []
   },
   "outputs": [
    {
     "name": "stdout",
     "output_type": "stream",
     "text": [
      "Execution time: 42.831294492818415\n"
     ]
    }
   ],
   "source": [
    "benchmark(\n",
    "    train_dataset.map(\n",
    "        map_func = _decode_and_resize,\n",
    "        num_parallel_calls= tf.data.experimental.AUTOTUNE\n",
    "    ),\n",
    "    num_epochs=2\n",
    ")"
   ]
  },
  {
   "cell_type": "code",
   "execution_count": 73,
   "metadata": {
    "tags": []
   },
   "outputs": [
    {
     "name": "stdout",
     "output_type": "stream",
     "text": [
      "Execution time: 42.913999947719276\n"
     ]
    }
   ],
   "source": [
    "benchmark(\n",
    "    train_dataset.map(\n",
    "        map_func = _decode_and_resize,\n",
    "        num_parallel_calls= tf.data.experimental.AUTOTUNE\n",
    "    ).cache(),\n",
    "    num_epochs=2\n",
    ")"
   ]
  },
  {
   "cell_type": "code",
   "execution_count": null,
   "metadata": {},
   "outputs": [],
   "source": []
  },
  {
   "cell_type": "markdown",
   "metadata": {},
   "source": [
    "### kaggle猫狗图像识别整合方法演示案例"
   ]
  },
  {
   "cell_type": "code",
   "execution_count": 79,
   "metadata": {},
   "outputs": [],
   "source": [
    "os.chdir('/home/hp/git/learningzone/huangpei/eat_tensorflow2_in_30_days/')\n",
    "data_dir = '/share/data/tutorial/cat_dog/datasets'\n",
    "train_cats_dir = data_dir + '/train/cats/'\n",
    "train_dogs_dir = data_dir + '/train/dogs/'\n",
    "test_cats_dir = data_dir + '/valid/cats/'\n",
    "test_dogs_dir = data_dir + '/valid/dogs/'"
   ]
  },
  {
   "cell_type": "code",
   "execution_count": 112,
   "metadata": {},
   "outputs": [],
   "source": [
    "# 构建训练数据集\n",
    "train_cat_filenames = tf.constant([train_cats_dir + filename for filename in os.listdir(train_cats_dir)])\n",
    "\n",
    "train_dog_filenames = tf.constant([train_dogs_dir + filename for filename in os.listdir(train_dogs_dir)])\n",
    "\n",
    "train_filenames = tf.concat([train_cat_filenames,train_dog_filenames],axis = -1)\n",
    "\n",
    "# 构建一个标签\n",
    "train_labels = tf.concat([\n",
    "    tf.zeros(train_cat_filenames.shape,dtype = tf.int32),\n",
    "    tf.ones(train_dog_filenames.shape,dtype = tf.int32)],\n",
    "    axis = -1\n",
    ")"
   ]
  },
  {
   "cell_type": "code",
   "execution_count": 113,
   "metadata": {},
   "outputs": [
    {
     "data": {
      "text/plain": [
       "TensorShape([11500])"
      ]
     },
     "execution_count": 113,
     "metadata": {},
     "output_type": "execute_result"
    }
   ],
   "source": [
    "train_cat_filenames.shape"
   ]
  },
  {
   "cell_type": "code",
   "execution_count": 114,
   "metadata": {},
   "outputs": [
    {
     "data": {
      "text/plain": [
       "<tf.Tensor: shape=(23000,), dtype=int32, numpy=array([0, 0, 0, ..., 1, 1, 1], dtype=int32)>"
      ]
     },
     "execution_count": 114,
     "metadata": {},
     "output_type": "execute_result"
    }
   ],
   "source": [
    "train_labels"
   ]
  },
  {
   "cell_type": "code",
   "execution_count": 118,
   "metadata": {},
   "outputs": [],
   "source": [
    "def _decode_and_resize(filename, label):\n",
    "    image_string = tf.io.read_file(filename)            # 读取原始文件\n",
    "    image_decoded = tf.image.decode_jpeg(image_string)  # 解码JPEG图片\n",
    "    image_resized = tf.image.resize(image_decoded, [256, 256]) / 255.0\n",
    "    return image_resized, label"
   ]
  },
  {
   "cell_type": "code",
   "execution_count": 119,
   "metadata": {},
   "outputs": [
    {
     "data": {
      "text/plain": [
       "<tf.Tensor: shape=(), dtype=string, numpy=b'/share/data/tutorial/cat_dog/datasets/train/cats/cat.0.jpg'>"
      ]
     },
     "execution_count": 119,
     "metadata": {},
     "output_type": "execute_result"
    }
   ],
   "source": [
    "tf.constant(data_dir + '/train/cats/cat.0.jpg')"
   ]
  },
  {
   "cell_type": "code",
   "execution_count": 120,
   "metadata": {},
   "outputs": [
    {
     "data": {
      "text/plain": [
       "(<tf.Tensor: shape=(256, 256, 3), dtype=float32, numpy=\n",
       " array([[[0.7940257 , 0.64108455, 0.3391238 ],\n",
       "         [0.80168504, 0.64874387, 0.3467831 ],\n",
       "         [0.8132659 , 0.66032475, 0.35836396],\n",
       "         ...,\n",
       "         [0.9532872 , 0.7964244 , 0.46309108],\n",
       "         [0.9428615 , 0.7938419 , 0.47619486],\n",
       "         [0.9352022 , 0.7861826 , 0.46853554]],\n",
       " \n",
       "        [[0.7940257 , 0.64108455, 0.3391238 ],\n",
       "         [0.80168504, 0.64874387, 0.3467831 ],\n",
       "         [0.8132659 , 0.66032475, 0.35836396],\n",
       "         ...,\n",
       "         [0.95611584, 0.7992531 , 0.46591976],\n",
       "         [0.9428615 , 0.7938419 , 0.47619486],\n",
       "         [0.9352022 , 0.7861826 , 0.46853554]],\n",
       " \n",
       "        [[0.7940257 , 0.64108455, 0.3391238 ],\n",
       "         [0.80168504, 0.64874387, 0.3467831 ],\n",
       "         [0.8132659 , 0.66032475, 0.35836396],\n",
       "         ...,\n",
       "         [0.95626533, 0.7985458 , 0.4725622 ],\n",
       "         [0.94678307, 0.79776347, 0.48011643],\n",
       "         [0.93912375, 0.79010415, 0.4724571 ]],\n",
       " \n",
       "        ...,\n",
       " \n",
       "        [[0.60059744, 0.4790288 , 0.2162837 ],\n",
       "         [0.60228246, 0.48071384, 0.21796875],\n",
       "         [0.6060202 , 0.4844516 , 0.2217065 ],\n",
       "         ...,\n",
       "         [0.00784314, 0.01176471, 0.        ],\n",
       "         [0.00784314, 0.01176471, 0.        ],\n",
       "         [0.00784314, 0.01176471, 0.        ]],\n",
       " \n",
       "        [[0.59486824, 0.47329962, 0.21055454],\n",
       "         [0.5987898 , 0.4772212 , 0.21447611],\n",
       "         [0.6027114 , 0.48114276, 0.21839768],\n",
       "         ...,\n",
       "         [0.00663297, 0.01055453, 0.        ],\n",
       "         [0.00663297, 0.01055453, 0.        ],\n",
       "         [0.00663297, 0.01055453, 0.        ]],\n",
       " \n",
       "        [[0.5891391 , 0.46757045, 0.20482537],\n",
       "         [0.5930607 , 0.47149202, 0.20874694],\n",
       "         [0.59698224, 0.4754136 , 0.21266851],\n",
       "         ...,\n",
       "         [0.00392157, 0.00784314, 0.        ],\n",
       "         [0.00392157, 0.00784314, 0.        ],\n",
       "         [0.00392157, 0.00784314, 0.        ]]], dtype=float32)>,\n",
       " <tf.Tensor: shape=(), dtype=int32, numpy=0>)"
      ]
     },
     "execution_count": 120,
     "metadata": {},
     "output_type": "execute_result"
    }
   ],
   "source": [
    "# 对函数的可执行做测试,查看是否可以正常将图片转换为张量\n",
    "_decode_and_resize(tf.constant(data_dir + '/train/cats/cat.0.jpg'), tf.constant(0))"
   ]
  },
  {
   "cell_type": "code",
   "execution_count": 121,
   "metadata": {},
   "outputs": [],
   "source": [
    "img,label = _decode_and_resize(tf.constant(data_dir + '/train/cats/cat.0.jpg'), tf.constant(0))"
   ]
  },
  {
   "cell_type": "code",
   "execution_count": 122,
   "metadata": {},
   "outputs": [
    {
     "data": {
      "text/plain": [
       "TensorShape([256, 256, 3])"
      ]
     },
     "execution_count": 122,
     "metadata": {},
     "output_type": "execute_result"
    }
   ],
   "source": [
    "img.shape"
   ]
  },
  {
   "cell_type": "code",
   "execution_count": 123,
   "metadata": {},
   "outputs": [
    {
     "data": {
      "text/plain": [
       "TensorShape([])"
      ]
     },
     "execution_count": 123,
     "metadata": {},
     "output_type": "execute_result"
    }
   ],
   "source": [
    "label.shape"
   ]
  },
  {
   "cell_type": "code",
   "execution_count": 124,
   "metadata": {},
   "outputs": [],
   "source": [
    "import matplotlib.pyplot as plt"
   ]
  },
  {
   "cell_type": "code",
   "execution_count": 125,
   "metadata": {},
   "outputs": [
    {
     "data": {
      "text/plain": [
       "<matplotlib.image.AxesImage at 0x7fd4b13f6160>"
      ]
     },
     "execution_count": 125,
     "metadata": {},
     "output_type": "execute_result"
    },
    {
     "data": {
      "image/png": "[encoded data removed]",
      "image/svg+xml": [
       "<?xml version=\"1.0\" encoding=\"utf-8\" standalone=\"no\"?>\n",
       "<!DOCTYPE svg PUBLIC \"-//W3C//DTD SVG 1.1//EN\"\n",
       "  \"http://www.w3.org/Graphics/SVG/1.1/DTD/svg11.dtd\">\n",
       "<!-- Created with matplotlib (https://matplotlib.org/) -->\n",
       "<svg height=\"252.891875pt\" version=\"1.1\" viewBox=\"0 0 260.556719 252.891875\" width=\"260.556719pt\" xmlns=\"http://www.w3.org/2000/svg\" xmlns:xlink=\"http://www.w3.org/1999/xlink\">\n",
       " <defs>\n",
       "  <style type=\"text/css\">\n",
       "*{stroke-linecap:butt;stroke-linejoin:round;}\n",
       "  </style>\n",
       " </defs>\n",
       " <g id=\"figure_1\">\n",
       "  <g id=\"patch_1\">\n",
       "   <path d=\"M 0 252.891875 \n",
       "L 260.556719 252.891875 \n",
       "L 260.556719 0 \n",
       "L 0 0 \n",
       "z\n",
       "\" style=\"fill:none;\"/>\n",
       "  </g>\n",
       "  <g id=\"axes_1\">\n",
       "   <g id=\"patch_2\">\n",
       "    <path d=\"M 31.792188 228.212187 \n",
       "L 249.232188 228.212187 \n",
       "L 249.232188 10.772187 \n",
       "L 31.792188 10.772187 \n",
       "z\n",
       "\" style=\"fill:#ffffff;\"/>\n",
       "   </g>\n",
       "   <g clip-path=\"url(#pc2465c8ae7)\">\n",
       "    <image height=\"218\" id=\"imaged98a7d11f6\" transform=\"scale(1 -1)translate(0 -218)\" width=\"218\" x=\"31.792188\" xlink:href=\"data:image/png;base64,\n",
       "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\" y=\"-10.212187\"/>\n",
       "   </g>\n",
       "   <g id=\"matplotlib.axis_1\">\n",
       "    <g id=\"xtick_1\">\n",
       "     <g id=\"line2d_1\">\n",
       "      <defs>\n",
       "       <path d=\"M 0 0 \n",
       "L 0 3.5 \n",
       "\" id=\"m134a780df7\" style=\"stroke:#000000;stroke-width:0.8;\"/>\n",
       "      </defs>\n",
       "      <g>\n",
       "       <use style=\"stroke:#000000;stroke-width:0.8;\" x=\"32.216875\" xlink:href=\"#m134a780df7\" y=\"228.212187\"/>\n",
       "      </g>\n",
       "     </g>\n",
       "     <g id=\"text_1\">\n",
       "      <!-- 0 -->\n",
       "      <defs>\n",
       "       <path d=\"M 4.4375 36.328125 \n",
       "Q 4.4375 56.34375 11.078125 66.625 \n",
       "Q 17.71875 76.90625 30.328125 76.90625 \n",
       "Q 54.34375 76.90625 54.34375 38.140625 \n",
       "Q 54.34375 19 47.578125 8.859375 \n",
       "Q 40.828125 -1.265625 28.609375 -1.265625 \n",
       "Q 17.09375 -1.265625 10.765625 8.34375 \n",
       "Q 4.4375 17.96875 4.4375 36.328125 \n",
       "z\n",
       "M 14.203125 36.765625 \n",
       "Q 14.203125 6.640625 29.5 6.640625 \n",
       "Q 44.53125 6.640625 44.53125 37.25 \n",
       "Q 44.53125 68.953125 29.78125 68.953125 \n",
       "Q 14.203125 68.953125 14.203125 36.765625 \n",
       "z\n",
       "\" id=\"MicrosoftYaHei-48\"/>\n",
       "      </defs>\n",
       "      <g transform=\"translate(29.284844 243.205937)scale(0.1 -0.1)\">\n",
       "       <use xlink:href=\"#MicrosoftYaHei-48\"/>\n",
       "      </g>\n",
       "     </g>\n",
       "    </g>\n",
       "    <g id=\"xtick_2\">\n",
       "     <g id=\"line2d_2\">\n",
       "      <g>\n",
       "       <use style=\"stroke:#000000;stroke-width:0.8;\" x=\"74.685625\" xlink:href=\"#m134a780df7\" y=\"228.212187\"/>\n",
       "      </g>\n",
       "     </g>\n",
       "     <g id=\"text_2\">\n",
       "      <!-- 50 -->\n",
       "      <defs>\n",
       "       <path d=\"M 8.640625 11.625 \n",
       "Q 16.265625 6.640625 24.515625 6.640625 \n",
       "Q 32.328125 6.640625 37.109375 11 \n",
       "Q 41.890625 15.375 41.890625 22.609375 \n",
       "Q 41.890625 29.890625 37.03125 33.890625 \n",
       "Q 32.171875 37.890625 22.953125 37.890625 \n",
       "Q 18.5 37.890625 10.984375 37.203125 \n",
       "L 10.984375 75.640625 \n",
       "L 48.1875 75.640625 \n",
       "L 48.1875 67.1875 \n",
       "L 19.875 67.1875 \n",
       "L 19.875 45.796875 \n",
       "Q 24.125 46.046875 26.265625 46.046875 \n",
       "Q 38.234375 46.046875 44.921875 39.984375 \n",
       "Q 51.609375 33.9375 51.609375 23.296875 \n",
       "Q 51.609375 12.3125 44.421875 5.515625 \n",
       "Q 37.25 -1.265625 24.609375 -1.265625 \n",
       "Q 14.015625 -1.265625 8.640625 1.859375 \n",
       "z\n",
       "\" id=\"MicrosoftYaHei-53\"/>\n",
       "      </defs>\n",
       "      <g transform=\"translate(68.821563 243.205937)scale(0.1 -0.1)\">\n",
       "       <use xlink:href=\"#MicrosoftYaHei-53\"/>\n",
       "       <use x=\"58.642578\" xlink:href=\"#MicrosoftYaHei-48\"/>\n",
       "      </g>\n",
       "     </g>\n",
       "    </g>\n",
       "    <g id=\"xtick_3\">\n",
       "     <g id=\"line2d_3\">\n",
       "      <g>\n",
       "       <use style=\"stroke:#000000;stroke-width:0.8;\" x=\"117.154375\" xlink:href=\"#m134a780df7\" y=\"228.212187\"/>\n",
       "      </g>\n",
       "     </g>\n",
       "     <g id=\"text_3\">\n",
       "      <!-- 100 -->\n",
       "      <defs>\n",
       "       <path d=\"M 52.59375 0 \n",
       "L 9.234375 0 \n",
       "L 9.234375 8.25 \n",
       "L 26.171875 8.25 \n",
       "L 26.171875 65.671875 \n",
       "L 8.796875 60.640625 \n",
       "L 8.796875 69.4375 \n",
       "L 35.6875 77.25 \n",
       "L 35.6875 8.25 \n",
       "L 52.59375 8.25 \n",
       "z\n",
       "\" id=\"MicrosoftYaHei-49\"/>\n",
       "      </defs>\n",
       "      <g transform=\"translate(108.358281 243.205937)scale(0.1 -0.1)\">\n",
       "       <use xlink:href=\"#MicrosoftYaHei-49\"/>\n",
       "       <use x=\"58.642578\" xlink:href=\"#MicrosoftYaHei-48\"/>\n",
       "       <use x=\"117.285156\" xlink:href=\"#MicrosoftYaHei-48\"/>\n",
       "      </g>\n",
       "     </g>\n",
       "    </g>\n",
       "    <g id=\"xtick_4\">\n",
       "     <g id=\"line2d_4\">\n",
       "      <g>\n",
       "       <use style=\"stroke:#000000;stroke-width:0.8;\" x=\"159.623125\" xlink:href=\"#m134a780df7\" y=\"228.212187\"/>\n",
       "      </g>\n",
       "     </g>\n",
       "     <g id=\"text_4\">\n",
       "      <!-- 150 -->\n",
       "      <g transform=\"translate(150.827031 243.205937)scale(0.1 -0.1)\">\n",
       "       <use xlink:href=\"#MicrosoftYaHei-49\"/>\n",
       "       <use x=\"58.642578\" xlink:href=\"#MicrosoftYaHei-53\"/>\n",
       "       <use x=\"117.285156\" xlink:href=\"#MicrosoftYaHei-48\"/>\n",
       "      </g>\n",
       "     </g>\n",
       "    </g>\n",
       "    <g id=\"xtick_5\">\n",
       "     <g id=\"line2d_5\">\n",
       "      <g>\n",
       "       <use style=\"stroke:#000000;stroke-width:0.8;\" x=\"202.091875\" xlink:href=\"#m134a780df7\" y=\"228.212187\"/>\n",
       "      </g>\n",
       "     </g>\n",
       "     <g id=\"text_5\">\n",
       "      <!-- 200 -->\n",
       "      <defs>\n",
       "       <path d=\"M 51.171875 0 \n",
       "L 5.171875 0 \n",
       "L 5.171875 8.296875 \n",
       "L 27.15625 30.21875 \n",
       "Q 36.234375 39.3125 39.3125 44.609375 \n",
       "Q 42.390625 49.90625 42.390625 55.5625 \n",
       "Q 42.390625 62.015625 38.765625 65.453125 \n",
       "Q 35.15625 68.890625 28.328125 68.890625 \n",
       "Q 18.21875 68.890625 9.03125 60.296875 \n",
       "L 9.03125 70.015625 \n",
       "Q 17.96875 76.90625 29.828125 76.90625 \n",
       "Q 40.046875 76.90625 45.953125 71.390625 \n",
       "Q 51.859375 65.875 51.859375 56.546875 \n",
       "Q 51.859375 49.515625 48.0625 42.75 \n",
       "Q 44.28125 35.984375 33.734375 25.53125 \n",
       "L 16.5 8.6875 \n",
       "L 16.5 8.5 \n",
       "L 51.171875 8.5 \n",
       "z\n",
       "\" id=\"MicrosoftYaHei-50\"/>\n",
       "      </defs>\n",
       "      <g transform=\"translate(193.295781 243.205937)scale(0.1 -0.1)\">\n",
       "       <use xlink:href=\"#MicrosoftYaHei-50\"/>\n",
       "       <use x=\"58.642578\" xlink:href=\"#MicrosoftYaHei-48\"/>\n",
       "       <use x=\"117.285156\" xlink:href=\"#MicrosoftYaHei-48\"/>\n",
       "      </g>\n",
       "     </g>\n",
       "    </g>\n",
       "    <g id=\"xtick_6\">\n",
       "     <g id=\"line2d_6\">\n",
       "      <g>\n",
       "       <use style=\"stroke:#000000;stroke-width:0.8;\" x=\"244.560625\" xlink:href=\"#m134a780df7\" y=\"228.212187\"/>\n",
       "      </g>\n",
       "     </g>\n",
       "     <g id=\"text_6\">\n",
       "      <!-- 250 -->\n",
       "      <g transform=\"translate(235.764531 243.205937)scale(0.1 -0.1)\">\n",
       "       <use xlink:href=\"#MicrosoftYaHei-50\"/>\n",
       "       <use x=\"58.642578\" xlink:href=\"#MicrosoftYaHei-53\"/>\n",
       "       <use x=\"117.285156\" xlink:href=\"#MicrosoftYaHei-48\"/>\n",
       "      </g>\n",
       "     </g>\n",
       "    </g>\n",
       "   </g>\n",
       "   <g id=\"matplotlib.axis_2\">\n",
       "    <g id=\"ytick_1\">\n",
       "     <g id=\"line2d_7\">\n",
       "      <defs>\n",
       "       <path d=\"M 0 0 \n",
       "L -3.5 0 \n",
       "\" id=\"m719c2f76e5\" style=\"stroke:#000000;stroke-width:0.8;\"/>\n",
       "      </defs>\n",
       "      <g>\n",
       "       <use style=\"stroke:#000000;stroke-width:0.8;\" x=\"31.792188\" xlink:href=\"#m719c2f76e5\" y=\"11.196875\"/>\n",
       "      </g>\n",
       "     </g>\n",
       "     <g id=\"text_7\">\n",
       "      <!-- 0 -->\n",
       "      <g transform=\"translate(18.928125 15.19375)scale(0.1 -0.1)\">\n",
       "       <use xlink:href=\"#MicrosoftYaHei-48\"/>\n",
       "      </g>\n",
       "     </g>\n",
       "    </g>\n",
       "    <g id=\"ytick_2\">\n",
       "     <g id=\"line2d_8\">\n",
       "      <g>\n",
       "       <use style=\"stroke:#000000;stroke-width:0.8;\" x=\"31.792188\" xlink:href=\"#m719c2f76e5\" y=\"53.665625\"/>\n",
       "      </g>\n",
       "     </g>\n",
       "     <g id=\"text_8\">\n",
       "      <!-- 50 -->\n",
       "      <g transform=\"translate(13.064063 57.6625)scale(0.1 -0.1)\">\n",
       "       <use xlink:href=\"#MicrosoftYaHei-53\"/>\n",
       "       <use x=\"58.642578\" xlink:href=\"#MicrosoftYaHei-48\"/>\n",
       "      </g>\n",
       "     </g>\n",
       "    </g>\n",
       "    <g id=\"ytick_3\">\n",
       "     <g id=\"line2d_9\">\n",
       "      <g>\n",
       "       <use style=\"stroke:#000000;stroke-width:0.8;\" x=\"31.792188\" xlink:href=\"#m719c2f76e5\" y=\"96.134375\"/>\n",
       "      </g>\n",
       "     </g>\n",
       "     <g id=\"text_9\">\n",
       "      <!-- 100 -->\n",
       "      <g transform=\"translate(7.2 100.13125)scale(0.1 -0.1)\">\n",
       "       <use xlink:href=\"#MicrosoftYaHei-49\"/>\n",
       "       <use x=\"58.642578\" xlink:href=\"#MicrosoftYaHei-48\"/>\n",
       "       <use x=\"117.285156\" xlink:href=\"#MicrosoftYaHei-48\"/>\n",
       "      </g>\n",
       "     </g>\n",
       "    </g>\n",
       "    <g id=\"ytick_4\">\n",
       "     <g id=\"line2d_10\">\n",
       "      <g>\n",
       "       <use style=\"stroke:#000000;stroke-width:0.8;\" x=\"31.792188\" xlink:href=\"#m719c2f76e5\" y=\"138.603125\"/>\n",
       "      </g>\n",
       "     </g>\n",
       "     <g id=\"text_10\">\n",
       "      <!-- 150 -->\n",
       "      <g transform=\"translate(7.2 142.6)scale(0.1 -0.1)\">\n",
       "       <use xlink:href=\"#MicrosoftYaHei-49\"/>\n",
       "       <use x=\"58.642578\" xlink:href=\"#MicrosoftYaHei-53\"/>\n",
       "       <use x=\"117.285156\" xlink:href=\"#MicrosoftYaHei-48\"/>\n",
       "      </g>\n",
       "     </g>\n",
       "    </g>\n",
       "    <g id=\"ytick_5\">\n",
       "     <g id=\"line2d_11\">\n",
       "      <g>\n",
       "       <use style=\"stroke:#000000;stroke-width:0.8;\" x=\"31.792188\" xlink:href=\"#m719c2f76e5\" y=\"181.071875\"/>\n",
       "      </g>\n",
       "     </g>\n",
       "     <g id=\"text_11\">\n",
       "      <!-- 200 -->\n",
       "      <g transform=\"translate(7.2 185.06875)scale(0.1 -0.1)\">\n",
       "       <use xlink:href=\"#MicrosoftYaHei-50\"/>\n",
       "       <use x=\"58.642578\" xlink:href=\"#MicrosoftYaHei-48\"/>\n",
       "       <use x=\"117.285156\" xlink:href=\"#MicrosoftYaHei-48\"/>\n",
       "      </g>\n",
       "     </g>\n",
       "    </g>\n",
       "    <g id=\"ytick_6\">\n",
       "     <g id=\"line2d_12\">\n",
       "      <g>\n",
       "       <use style=\"stroke:#000000;stroke-width:0.8;\" x=\"31.792188\" xlink:href=\"#m719c2f76e5\" y=\"223.540625\"/>\n",
       "      </g>\n",
       "     </g>\n",
       "     <g id=\"text_12\">\n",
       "      <!-- 250 -->\n",
       "      <g transform=\"translate(7.2 227.5375)scale(0.1 -0.1)\">\n",
       "       <use xlink:href=\"#MicrosoftYaHei-50\"/>\n",
       "       <use x=\"58.642578\" xlink:href=\"#MicrosoftYaHei-53\"/>\n",
       "       <use x=\"117.285156\" xlink:href=\"#MicrosoftYaHei-48\"/>\n",
       "      </g>\n",
       "     </g>\n",
       "    </g>\n",
       "   </g>\n",
       "   <g id=\"patch_3\">\n",
       "    <path d=\"M 31.792188 228.212187 \n",
       "L 31.792188 10.772187 \n",
       "\" style=\"fill:none;stroke:#000000;stroke-linecap:square;stroke-linejoin:miter;stroke-width:0.8;\"/>\n",
       "   </g>\n",
       "   <g id=\"patch_4\">\n",
       "    <path d=\"M 249.232188 228.212187 \n",
       "L 249.232188 10.772187 \n",
       "\" style=\"fill:none;stroke:#000000;stroke-linecap:square;stroke-linejoin:miter;stroke-width:0.8;\"/>\n",
       "   </g>\n",
       "   <g id=\"patch_5\">\n",
       "    <path d=\"M 31.792188 228.212187 \n",
       "L 249.232188 228.212187 \n",
       "\" style=\"fill:none;stroke:#000000;stroke-linecap:square;stroke-linejoin:miter;stroke-width:0.8;\"/>\n",
       "   </g>\n",
       "   <g id=\"patch_6\">\n",
       "    <path d=\"M 31.792188 10.772187 \n",
       "L 249.232188 10.772187 \n",
       "\" style=\"fill:none;stroke:#000000;stroke-linecap:square;stroke-linejoin:miter;stroke-width:0.8;\"/>\n",
       "   </g>\n",
       "  </g>\n",
       " </g>\n",
       " <defs>\n",
       "  <clipPath id=\"pc2465c8ae7\">\n",
       "   <rect height=\"217.44\" width=\"217.44\" x=\"31.792188\" y=\"10.772187\"/>\n",
       "  </clipPath>\n",
       " </defs>\n",
       "</svg>\n"
      ],
      "text/plain": [
       "<Figure size 432x288 with 1 Axes>"
      ]
     },
     "metadata": {
      "needs_background": "light"
     },
     "output_type": "display_data"
    }
   ],
   "source": [
    "plt.imshow(img.numpy())"
   ]
  },
  {
   "cell_type": "code",
   "execution_count": 126,
   "metadata": {
    "tags": []
   },
   "outputs": [
    {
     "data": {
      "text/plain": [
       "array([[[202., 163.,  86.],\n",
       "        [204., 165.,  88.],\n",
       "        [207., 168.,  91.],\n",
       "        ...,\n",
       "        [243., 203., 118.],\n",
       "        [240., 202., 121.],\n",
       "        [238., 200., 119.]],\n",
       "\n",
       "       [[202., 163.,  86.],\n",
       "        [204., 165.,  88.],\n",
       "        [207., 168.,  91.],\n",
       "        ...,\n",
       "        [243., 203., 118.],\n",
       "        [240., 202., 121.],\n",
       "        [238., 200., 119.]],\n",
       "\n",
       "       [[202., 163.,  86.],\n",
       "        [204., 165.,  88.],\n",
       "        [207., 168.,  91.],\n",
       "        ...,\n",
       "        [243., 203., 120.],\n",
       "        [241., 203., 122.],\n",
       "        [239., 201., 120.]],\n",
       "\n",
       "       ...,\n",
       "\n",
       "       [[153., 122.,  55.],\n",
       "        [153., 122.,  55.],\n",
       "        [154., 123.,  56.],\n",
       "        ...,\n",
       "        [  2.,   3.,   0.],\n",
       "        [  2.,   3.,   0.],\n",
       "        [  2.,   3.,   0.]],\n",
       "\n",
       "       [[151., 120.,  53.],\n",
       "        [152., 121.,  54.],\n",
       "        [153., 122.,  55.],\n",
       "        ...,\n",
       "        [  1.,   2.,   0.],\n",
       "        [  1.,   2.,   0.],\n",
       "        [  1.,   2.,   0.]],\n",
       "\n",
       "       [[150., 119.,  52.],\n",
       "        [151., 120.,  53.],\n",
       "        [152., 121.,  54.],\n",
       "        ...,\n",
       "        [  1.,   2.,   0.],\n",
       "        [  1.,   2.,   0.],\n",
       "        [  1.,   2.,   0.]]], dtype=float32)"
      ]
     },
     "execution_count": 126,
     "metadata": {},
     "output_type": "execute_result"
    }
   ],
   "source": [
    "np.trunc((img.numpy() * 255))\n",
    "# 从这里可以看出，作为3个通道的彩色图像，每一个中括号都表示一个像素点，然后再外层的中括号，表示了第一横排的256个像素表示，下一个中括号层表示了第二横排的256个像素的RGB表示，然后\n"
   ]
  },
  {
   "cell_type": "code",
   "execution_count": 127,
   "metadata": {},
   "outputs": [],
   "source": [
    "# 构建训练集\n",
    "def _decode_and_resize(filename, label):\n",
    "    image_string = tf.io.read_file(filename)   # 读取原始图片\n",
    "    image_decoded = tf.image.decode_jpeg(image_string) # 解码JPEG图片\n",
    "    image_resized = tf.image.resize(image_decoded, [256,256]) / 255.0  # 图片大小不一致，此处做处理\n",
    "    return image_resized, label\n",
    "\n",
    "\n",
    "\n",
    "batch_size = 32\n",
    "train_dataset = tf.data.Dataset.from_tensor_slices((train_filenames,train_labels))\n",
    "\n",
    "# 名字\n",
    "train_dataset = train_dataset.map(\n",
    "    map_func = _decode_and_resize,\n",
    "    num_parallel_calls = tf.data.experimental.AUTOTUNE\n",
    ") \n",
    "\n",
    "\n",
    "\n",
    "# 取出前buffer_size个数据放入buffer，并从其中随机采样，采样后的数据用后续数据替换\n",
    "\n",
    "train_dataset = train_dataset.shuffle(buffer_size = 23000)\n",
    "\n",
    "train_dataset = train_dataset.repeat(count = 3)\n",
    "\n",
    "train_dataset = train_dataset.batch(batch_size)\n",
    "\n",
    "train_dataset = train_dataset.prefetch(tf.data.experimental.AUTOTUNE)"
   ]
  },
  {
   "cell_type": "code",
   "execution_count": 128,
   "metadata": {},
   "outputs": [],
   "source": [
    "# 构建测试数据集\n",
    "test_cat_filenames = tf.constant([])"
   ]
  },
  {
   "cell_type": "code",
   "execution_count": 132,
   "metadata": {},
   "outputs": [],
   "source": [
    "# 构建训练数据集\n",
    "test_cat_filenames = tf.constant([test_cats_dir + filename for filename in os.listdir(test_cats_dir)])\n",
    "\n",
    "test_dog_filenames = tf.constant([test_dogs_dir + filename for filename in os.listdir(test_dogs_dir)])\n",
    "\n",
    "test_filenames = tf.concat([test_cat_filenames,test_dog_filenames],axis = -1)\n",
    "\n",
    "# 构建一个标签\n",
    "test_labels = tf.concat([\n",
    "    tf.zeros(test_cat_filenames.shape,dtype = tf.int32),\n",
    "    tf.ones(test_dog_filenames.shape,dtype = tf.int32)],\n",
    "    axis = -1\n",
    ")\n",
    "\n",
    "\n",
    "test_dataset = tf.data.Dataset.from_tensor_slices((test_filenames,test_labels))\n",
    "test_dataset = test_dataset.map(_decode_and_resize)\n",
    "test_dataset = test_dataset.batch(batch_size)"
   ]
  },
  {
   "cell_type": "code",
   "execution_count": 134,
   "metadata": {},
   "outputs": [],
   "source": [
    "# 设计神经网络模型,卷积和池化\n",
    "class CNNModel(tf.keras.models.Model):\n",
    "    def __init__(self):\n",
    "        super(CNNModel, self).__init__()\n",
    "        self.conv1 = tf.keras.layers.Conv2D(32,3, activation= 'relu')\n",
    "        self.maxpool1 = tf.keras.layers.MaxPooling2D()\n",
    "        self.conv2 = tf.keras.layers.Conv2D(32,5,activation='relu')\n",
    "        self.maxpool2 = tf.keras.layers.MaxPooling2D()\n",
    "        self.flatten = tf.keras.layers.Flatten()\n",
    "        self.d1 = tf.keras.layers.Dense(64,activation='relu')\n",
    "        self.d2 = tf.keras.layers.Dense(2, activation='softmax')\n",
    "\n",
    "    def call(self, x):\n",
    "        x = self.conv1(x)\n",
    "        x = self.maxpool1(x)\n",
    "        x = self.conv2(x)\n",
    "        x = self.maxpool2(x)\n",
    "        x = self.flatten(x)\n",
    "        x = self.d1(x)\n",
    "        x = self.d2(x)\n",
    "        return x"
   ]
  },
  {
   "cell_type": "code",
   "execution_count": 136,
   "metadata": {},
   "outputs": [],
   "source": [
    "learning_rate = 0.001\n",
    "model = CNNModel()\n",
    "loss_object = tf.keras.losses.SparseCategoricalCrossentropy()\n",
    "\n",
    "optimizer = tf.keras.optimizers.Adam(learning_rate= learning_rate)\n",
    "\n",
    "train_loss = tf.keras.metrics.Mean(name = 'train_loss')\n",
    "train_accuracy = tf.keras.metrics.SparseCategoricalAccuracy(name = 'train_accuracy')\n",
    "\n",
    "test_loss = tf.keras.metrics.Mean(name = 'test_loss')\n",
    "test_accuracy = tf.keras.metrics.SparseCategoricalAccuracy(name = 'test_accuracy')\n",
    "\n",
    "@tf.function\n",
    "def train_step(images, labels):\n",
    "    with tf.GradientTape() as tape:\n",
    "        predictions = model(images)\n",
    "        loss = loss_object(labels, predictions)\n",
    "\n",
    "    gradients = tape.gradient(loss, model.trainable_variables)\n",
    "    optimizer.apply_gradients(zip(gradients, model.trainable_variables))\n",
    "\n",
    "    train_loss(loss)\n",
    "    train_accuracy(labels, predictions)\n",
    "\n",
    "def test_step(images, labels):\n",
    "    predictions = model(images)\n",
    "    t_loss = loss_object(labels, predictions)\n",
    "\n",
    "    test_loss(t_loss)\n",
    "    test_accuracy(labels, predictions)"
   ]
  },
  {
   "cell_type": "code",
   "execution_count": 138,
   "metadata": {
    "tags": []
   },
   "outputs": [
    {
     "name": "stdout",
     "output_type": "stream",
     "text": [
      "Epoch 1, Loss: 0.0038154656067490578, Accuracy: 99.90869903564453, Test Loss: 0.0, Test Accuracy: 0.0\n",
      "Epoch 2, Loss: 0.0004077258345205337, Accuracy: 99.98551177978516, Test Loss: 0.0, Test Accuracy: 0.0\n",
      "Epoch 3, Loss: 0.00012602763308677822, Accuracy: 99.99565124511719, Test Loss: 0.0, Test Accuracy: 0.0\n",
      "Epoch 4, Loss: 0.00011560374696273357, Accuracy: 99.99565124511719, Test Loss: 0.0, Test Accuracy: 0.0\n",
      "Epoch 5, Loss: 0.00011036585783585906, Accuracy: 99.99565124511719, Test Loss: 0.0, Test Accuracy: 0.0\n",
      "Epoch 6, Loss: 0.00010686573659768328, Accuracy: 99.99565124511719, Test Loss: 0.0, Test Accuracy: 0.0\n",
      "Epoch 7, Loss: 0.00010447353270137683, Accuracy: 99.99565124511719, Test Loss: 0.0, Test Accuracy: 0.0\n",
      "Epoch 8, Loss: 0.0001027499747578986, Accuracy: 99.99565124511719, Test Loss: 0.0, Test Accuracy: 0.0\n",
      "Epoch 9, Loss: 0.018875831738114357, Accuracy: 99.58840942382812, Test Loss: 0.0, Test Accuracy: 0.0\n",
      "Epoch 10, Loss: 0.00605793995782733, Accuracy: 99.87826538085938, Test Loss: 0.0, Test Accuracy: 0.0\n"
     ]
    }
   ],
   "source": [
    "EPOCHS = 10\n",
    "for epoch in range(EPOCHS):\n",
    "    # 在下一个epoch开始的时候，重置评估指标\n",
    "    train_loss.reset_states()\n",
    "    train_accuracy.reset_states()\n",
    "\n",
    "    test_loss.reset_states()\n",
    "    test_accuracy.reset_states()\n",
    "    \n",
    "\n",
    "    for images, labels in train_dataset:\n",
    "        train_step(images, labels)\n",
    "\n",
    "    template = 'Epoch {}, Loss: {}, Accuracy: {}, Test Loss: {}, Test Accuracy: {}'\n",
    "    print(template.format(\n",
    "        epoch + 1,\n",
    "        train_loss.result(),\n",
    "        train_accuracy.result() * 100,\n",
    "        test_loss.result(),\n",
    "        test_accuracy.result() * 100\n",
    "    ))"
   ]
  },
  {
   "cell_type": "code",
   "execution_count": 141,
   "metadata": {},
   "outputs": [],
   "source": [
    "os.chdir('/home/hp/git/learningzone/huangpei/eat_tensorflow2_in_30_days/')"
   ]
  },
  {
   "cell_type": "markdown",
   "metadata": {},
   "source": [
    "#### 训练中显卡使用情况"
   ]
  },
  {
   "cell_type": "markdown",
   "metadata": {
    "tags": []
   },
   "source": [
    "![显存使用情况](./markdown_pics/显卡资源使用情况.png)"
   ]
  },
  {
   "cell_type": "markdown",
   "metadata": {},
   "source": [
    "#### 训练完毕显卡闲置时情况\n"
   ]
  },
  {
   "cell_type": "markdown",
   "metadata": {
    "tags": []
   },
   "source": [
    "![显存使用情况](./markdown_pics/未参与训练情况下的GPU使用情况.png)\n"
   ]
  }
 ],
 "metadata": {
  "kernelspec": {
   "display_name": "Python 3.8.3 64-bit",
   "language": "python",
   "name": "python38364bitcb11fcd8cdb441e4bf52994f94e346da"
  },
  "language_info": {
   "codemirror_mode": {
    "name": "ipython",
    "version": 3
   },
   "file_extension": ".py",
   "mimetype": "text/x-python",
   "name": "python",
   "nbconvert_exporter": "python",
   "pygments_lexer": "ipython3",
   "version": "3.8.3"
  }
 },
 "nbformat": 4,
 "nbformat_minor": 2
}
